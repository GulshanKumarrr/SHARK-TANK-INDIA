{
 "cells": [
  {
   "cell_type": "code",
   "execution_count": 1,
   "id": "c110a7ae",
   "metadata": {
    "_execution_state": "idle",
    "_uuid": "051d70d956493feee0c6d64651c6a088724dca2a",
    "execution": {
     "iopub.execute_input": "2022-06-29T08:37:03.008389Z",
     "iopub.status.busy": "2022-06-29T08:37:03.007715Z",
     "iopub.status.idle": "2022-06-29T08:37:06.268666Z",
     "shell.execute_reply": "2022-06-29T08:37:06.267108Z"
    },
    "papermill": {
     "duration": 3.283158,
     "end_time": "2022-06-29T08:37:06.271775",
     "exception": false,
     "start_time": "2022-06-29T08:37:02.988617",
     "status": "completed"
    },
    "tags": []
   },
   "outputs": [
    {
     "name": "stdout",
     "output_type": "stream",
     "text": [
      "/kaggle/input/shark-tank-india/Shark Tank India.csv\n"
     ]
    }
   ],
   "source": [
    "# This Python 3 environment comes with many helpful analytics libraries installed\n",
    "# It is defined by the kaggle/python Docker image: https://github.com/kaggle/docker-python\n",
    "# For example, here's several helpful packages to load\n",
    "\n",
    "import numpy as np # linear algebra\n",
    "import pandas as pd # data processing, CSV file I/O (e.g. pd.read_csv)\n",
    "import matplotlib.pyplot as plt\n",
    "import seaborn as sns\n",
    "from scipy.stats import norm\n",
    "from sklearn.preprocessing import StandardScaler\n",
    "from scipy import stats\n",
    "from babel.numbers import format_currency\n",
    "from wordcloud import WordCloud, STOPWORDS\n",
    "import warnings\n",
    "warnings.filterwarnings('ignore')\n",
    "%matplotlib inline\n",
    "# Input data files are available in the read-only \"../input/\" directory\n",
    "# For example, running this (by clicking run or pressing Shift+Enter) will list all files under the input directory\n",
    "import plotly.express as px\n",
    "import plotly.graph_objects as go\n",
    "import plotly.io as pio\n",
    "import plotly.express as px\n",
    "pio.templates.default = \"plotly_dark\"\n",
    "import os\n",
    "for dirname, _, filenames in os.walk('/kaggle/input'):\n",
    "    for filename in filenames:\n",
    "        print(os.path.join(dirname, filename))\n",
    "\n",
    "# You can write up to 20GB to the current directory (/kaggle/working/) that gets preserved as output when you create a version using \"Save & Run All\" \n",
    "# You can also write temporary files to /kaggle/temp/, but they won't be saved outside of the current session"
   ]
  },
  {
   "cell_type": "code",
   "execution_count": 2,
   "id": "06aee592",
   "metadata": {
    "execution": {
     "iopub.execute_input": "2022-06-29T08:37:06.306024Z",
     "iopub.status.busy": "2022-06-29T08:37:06.305608Z",
     "iopub.status.idle": "2022-06-29T08:37:06.506270Z",
     "shell.execute_reply": "2022-06-29T08:37:06.505129Z"
    },
    "papermill": {
     "duration": 0.2201,
     "end_time": "2022-06-29T08:37:06.508398",
     "exception": false,
     "start_time": "2022-06-29T08:37:06.288298",
     "status": "completed"
    },
    "tags": []
   },
   "outputs": [
    {
     "data": {
      "text/html": [
       "<div>\n",
       "<style scoped>\n",
       "    .dataframe tbody tr th:only-of-type {\n",
       "        vertical-align: middle;\n",
       "    }\n",
       "\n",
       "    .dataframe tbody tr th {\n",
       "        vertical-align: top;\n",
       "    }\n",
       "\n",
       "    .dataframe thead th {\n",
       "        text-align: right;\n",
       "    }\n",
       "</style>\n",
       "<table border=\"1\" class=\"dataframe\">\n",
       "  <thead>\n",
       "    <tr style=\"text-align: right;\">\n",
       "      <th></th>\n",
       "      <th>Season Number</th>\n",
       "      <th>Episode Number</th>\n",
       "      <th>Episode Title</th>\n",
       "      <th>Pitch Number</th>\n",
       "      <th>Startup Name</th>\n",
       "      <th>Industry</th>\n",
       "      <th>Business Description</th>\n",
       "      <th>Company Website</th>\n",
       "      <th>Number of Presenters</th>\n",
       "      <th>Male Presenters</th>\n",
       "      <th>...</th>\n",
       "      <th>Aman Investment Amount</th>\n",
       "      <th>Aman Investment Equity</th>\n",
       "      <th>Aman Debt Amount</th>\n",
       "      <th>Peyush Investment Amount</th>\n",
       "      <th>Peyush Investment Equity</th>\n",
       "      <th>Peyush Debt Amount</th>\n",
       "      <th>Ghazal Investment Amount</th>\n",
       "      <th>Ghazal Investment Equity</th>\n",
       "      <th>Ghazal Debt Amount</th>\n",
       "      <th>Number of sharks in deal</th>\n",
       "    </tr>\n",
       "  </thead>\n",
       "  <tbody>\n",
       "    <tr>\n",
       "      <th>0</th>\n",
       "      <td>1</td>\n",
       "      <td>1</td>\n",
       "      <td>Badlegi Business Ki Tasveer</td>\n",
       "      <td>1</td>\n",
       "      <td>BluePine Foods</td>\n",
       "      <td>Food</td>\n",
       "      <td>Frozen Momos</td>\n",
       "      <td>https://bluepinefoods.com/</td>\n",
       "      <td>3</td>\n",
       "      <td>2.0</td>\n",
       "      <td>...</td>\n",
       "      <td>25.0</td>\n",
       "      <td>5.33</td>\n",
       "      <td>NaN</td>\n",
       "      <td>NaN</td>\n",
       "      <td>NaN</td>\n",
       "      <td>NaN</td>\n",
       "      <td>NaN</td>\n",
       "      <td>NaN</td>\n",
       "      <td>NaN</td>\n",
       "      <td>3.0</td>\n",
       "    </tr>\n",
       "    <tr>\n",
       "      <th>1</th>\n",
       "      <td>1</td>\n",
       "      <td>1</td>\n",
       "      <td>Badlegi Business Ki Tasveer</td>\n",
       "      <td>2</td>\n",
       "      <td>Booz Scooters</td>\n",
       "      <td>Electrical Vehicles</td>\n",
       "      <td>Renting e-bike for mobility in private spaces</td>\n",
       "      <td>https://www.boozup.net/</td>\n",
       "      <td>1</td>\n",
       "      <td>1.0</td>\n",
       "      <td>...</td>\n",
       "      <td>0.0</td>\n",
       "      <td>0.00</td>\n",
       "      <td>NaN</td>\n",
       "      <td>NaN</td>\n",
       "      <td>NaN</td>\n",
       "      <td>NaN</td>\n",
       "      <td>NaN</td>\n",
       "      <td>NaN</td>\n",
       "      <td>NaN</td>\n",
       "      <td>2.0</td>\n",
       "    </tr>\n",
       "    <tr>\n",
       "      <th>2</th>\n",
       "      <td>1</td>\n",
       "      <td>1</td>\n",
       "      <td>Badlegi Business Ki Tasveer</td>\n",
       "      <td>3</td>\n",
       "      <td>Heart up my Sleeves</td>\n",
       "      <td>Beauty/Fashion</td>\n",
       "      <td>Detachable Sleeves</td>\n",
       "      <td>https://heartupmysleeves.com/</td>\n",
       "      <td>1</td>\n",
       "      <td>NaN</td>\n",
       "      <td>...</td>\n",
       "      <td>0.0</td>\n",
       "      <td>0.00</td>\n",
       "      <td>NaN</td>\n",
       "      <td>NaN</td>\n",
       "      <td>NaN</td>\n",
       "      <td>NaN</td>\n",
       "      <td>NaN</td>\n",
       "      <td>NaN</td>\n",
       "      <td>NaN</td>\n",
       "      <td>2.0</td>\n",
       "    </tr>\n",
       "    <tr>\n",
       "      <th>3</th>\n",
       "      <td>1</td>\n",
       "      <td>2</td>\n",
       "      <td>Insaan, Ideas Aur Sapne</td>\n",
       "      <td>4</td>\n",
       "      <td>Tagz Foods</td>\n",
       "      <td>Food</td>\n",
       "      <td>Healthy Potato Chips Snacks</td>\n",
       "      <td>https://tagzfoods.com/</td>\n",
       "      <td>2</td>\n",
       "      <td>2.0</td>\n",
       "      <td>...</td>\n",
       "      <td>0.0</td>\n",
       "      <td>0.00</td>\n",
       "      <td>NaN</td>\n",
       "      <td>NaN</td>\n",
       "      <td>NaN</td>\n",
       "      <td>NaN</td>\n",
       "      <td>NaN</td>\n",
       "      <td>NaN</td>\n",
       "      <td>NaN</td>\n",
       "      <td>1.0</td>\n",
       "    </tr>\n",
       "    <tr>\n",
       "      <th>4</th>\n",
       "      <td>1</td>\n",
       "      <td>2</td>\n",
       "      <td>Insaan, Ideas Aur Sapne</td>\n",
       "      <td>5</td>\n",
       "      <td>Head and Heart</td>\n",
       "      <td>Education</td>\n",
       "      <td>Brain Development Course</td>\n",
       "      <td>https://thehnh.in/</td>\n",
       "      <td>4</td>\n",
       "      <td>1.0</td>\n",
       "      <td>...</td>\n",
       "      <td>NaN</td>\n",
       "      <td>NaN</td>\n",
       "      <td>NaN</td>\n",
       "      <td>NaN</td>\n",
       "      <td>NaN</td>\n",
       "      <td>NaN</td>\n",
       "      <td>NaN</td>\n",
       "      <td>NaN</td>\n",
       "      <td>NaN</td>\n",
       "      <td>NaN</td>\n",
       "    </tr>\n",
       "    <tr>\n",
       "      <th>...</th>\n",
       "      <td>...</td>\n",
       "      <td>...</td>\n",
       "      <td>...</td>\n",
       "      <td>...</td>\n",
       "      <td>...</td>\n",
       "      <td>...</td>\n",
       "      <td>...</td>\n",
       "      <td>...</td>\n",
       "      <td>...</td>\n",
       "      <td>...</td>\n",
       "      <td>...</td>\n",
       "      <td>...</td>\n",
       "      <td>...</td>\n",
       "      <td>...</td>\n",
       "      <td>...</td>\n",
       "      <td>...</td>\n",
       "      <td>...</td>\n",
       "      <td>...</td>\n",
       "      <td>...</td>\n",
       "      <td>...</td>\n",
       "      <td>...</td>\n",
       "    </tr>\n",
       "    <tr>\n",
       "      <th>116</th>\n",
       "      <td>1</td>\n",
       "      <td>35</td>\n",
       "      <td>The Final Destination</td>\n",
       "      <td>117</td>\n",
       "      <td>Elcare India</td>\n",
       "      <td>Medical</td>\n",
       "      <td>Carenting for Elders</td>\n",
       "      <td>https://elcare.co/</td>\n",
       "      <td>3</td>\n",
       "      <td>2.0</td>\n",
       "      <td>...</td>\n",
       "      <td>NaN</td>\n",
       "      <td>NaN</td>\n",
       "      <td>NaN</td>\n",
       "      <td>NaN</td>\n",
       "      <td>NaN</td>\n",
       "      <td>NaN</td>\n",
       "      <td>NaN</td>\n",
       "      <td>NaN</td>\n",
       "      <td>NaN</td>\n",
       "      <td>NaN</td>\n",
       "    </tr>\n",
       "    <tr>\n",
       "      <th>117</th>\n",
       "      <td>1</td>\n",
       "      <td>36</td>\n",
       "      <td>Gateway To Shark Tank India</td>\n",
       "      <td>118</td>\n",
       "      <td>SneaKare</td>\n",
       "      <td>Beauty/Fashion</td>\n",
       "      <td>Shoe Sneaker kits storage crates</td>\n",
       "      <td>https://sneakare.com/</td>\n",
       "      <td>1</td>\n",
       "      <td>1.0</td>\n",
       "      <td>...</td>\n",
       "      <td>7.0</td>\n",
       "      <td>4.00</td>\n",
       "      <td>NaN</td>\n",
       "      <td>0.0</td>\n",
       "      <td>0.0</td>\n",
       "      <td>NaN</td>\n",
       "      <td>NaN</td>\n",
       "      <td>NaN</td>\n",
       "      <td>NaN</td>\n",
       "      <td>3.0</td>\n",
       "    </tr>\n",
       "    <tr>\n",
       "      <th>118</th>\n",
       "      <td>1</td>\n",
       "      <td>36</td>\n",
       "      <td>Gateway To Shark Tank India</td>\n",
       "      <td>119</td>\n",
       "      <td>French Crown</td>\n",
       "      <td>Beauty/Fashion</td>\n",
       "      <td>Clothes</td>\n",
       "      <td>https://frenchcrown.in/</td>\n",
       "      <td>2</td>\n",
       "      <td>2.0</td>\n",
       "      <td>...</td>\n",
       "      <td>NaN</td>\n",
       "      <td>NaN</td>\n",
       "      <td>NaN</td>\n",
       "      <td>NaN</td>\n",
       "      <td>NaN</td>\n",
       "      <td>NaN</td>\n",
       "      <td>NaN</td>\n",
       "      <td>NaN</td>\n",
       "      <td>NaN</td>\n",
       "      <td>NaN</td>\n",
       "    </tr>\n",
       "    <tr>\n",
       "      <th>119</th>\n",
       "      <td>1</td>\n",
       "      <td>36</td>\n",
       "      <td>Gateway To Shark Tank India</td>\n",
       "      <td>120</td>\n",
       "      <td>Store My Goods</td>\n",
       "      <td>Services</td>\n",
       "      <td>Storage solutions</td>\n",
       "      <td>https://storemygoods.in/</td>\n",
       "      <td>3</td>\n",
       "      <td>2.0</td>\n",
       "      <td>...</td>\n",
       "      <td>0.0</td>\n",
       "      <td>0.00</td>\n",
       "      <td>NaN</td>\n",
       "      <td>25.0</td>\n",
       "      <td>2.0</td>\n",
       "      <td>25.0</td>\n",
       "      <td>NaN</td>\n",
       "      <td>NaN</td>\n",
       "      <td>NaN</td>\n",
       "      <td>2.0</td>\n",
       "    </tr>\n",
       "    <tr>\n",
       "      <th>120</th>\n",
       "      <td>1</td>\n",
       "      <td>36</td>\n",
       "      <td>Gateway To Shark Tank India</td>\n",
       "      <td>121</td>\n",
       "      <td>Devnagri</td>\n",
       "      <td>Technology</td>\n",
       "      <td>Translation of language content</td>\n",
       "      <td>https://devnagri.com/</td>\n",
       "      <td>2</td>\n",
       "      <td>2.0</td>\n",
       "      <td>...</td>\n",
       "      <td>NaN</td>\n",
       "      <td>NaN</td>\n",
       "      <td>NaN</td>\n",
       "      <td>NaN</td>\n",
       "      <td>NaN</td>\n",
       "      <td>NaN</td>\n",
       "      <td>NaN</td>\n",
       "      <td>NaN</td>\n",
       "      <td>NaN</td>\n",
       "      <td>NaN</td>\n",
       "    </tr>\n",
       "  </tbody>\n",
       "</table>\n",
       "<p>121 rows × 50 columns</p>\n",
       "</div>"
      ],
      "text/plain": [
       "     Season Number  Episode Number                Episode Title  Pitch Number  \\\n",
       "0                1               1  Badlegi Business Ki Tasveer             1   \n",
       "1                1               1  Badlegi Business Ki Tasveer             2   \n",
       "2                1               1  Badlegi Business Ki Tasveer             3   \n",
       "3                1               2      Insaan, Ideas Aur Sapne             4   \n",
       "4                1               2      Insaan, Ideas Aur Sapne             5   \n",
       "..             ...             ...                          ...           ...   \n",
       "116              1              35        The Final Destination           117   \n",
       "117              1              36  Gateway To Shark Tank India           118   \n",
       "118              1              36  Gateway To Shark Tank India           119   \n",
       "119              1              36  Gateway To Shark Tank India           120   \n",
       "120              1              36  Gateway To Shark Tank India           121   \n",
       "\n",
       "            Startup Name             Industry  \\\n",
       "0         BluePine Foods                 Food   \n",
       "1          Booz Scooters  Electrical Vehicles   \n",
       "2    Heart up my Sleeves       Beauty/Fashion   \n",
       "3             Tagz Foods                 Food   \n",
       "4         Head and Heart            Education   \n",
       "..                   ...                  ...   \n",
       "116         Elcare India              Medical   \n",
       "117             SneaKare       Beauty/Fashion   \n",
       "118         French Crown       Beauty/Fashion   \n",
       "119       Store My Goods             Services   \n",
       "120             Devnagri           Technology   \n",
       "\n",
       "                              Business Description  \\\n",
       "0                                     Frozen Momos   \n",
       "1    Renting e-bike for mobility in private spaces   \n",
       "2                               Detachable Sleeves   \n",
       "3                      Healthy Potato Chips Snacks   \n",
       "4                         Brain Development Course   \n",
       "..                                             ...   \n",
       "116                           Carenting for Elders   \n",
       "117               Shoe Sneaker kits storage crates   \n",
       "118                                        Clothes   \n",
       "119                              Storage solutions   \n",
       "120                Translation of language content   \n",
       "\n",
       "                   Company Website  Number of Presenters  Male Presenters  \\\n",
       "0       https://bluepinefoods.com/                     3              2.0   \n",
       "1          https://www.boozup.net/                     1              1.0   \n",
       "2    https://heartupmysleeves.com/                     1              NaN   \n",
       "3           https://tagzfoods.com/                     2              2.0   \n",
       "4               https://thehnh.in/                     4              1.0   \n",
       "..                             ...                   ...              ...   \n",
       "116             https://elcare.co/                     3              2.0   \n",
       "117          https://sneakare.com/                     1              1.0   \n",
       "118        https://frenchcrown.in/                     2              2.0   \n",
       "119       https://storemygoods.in/                     3              2.0   \n",
       "120          https://devnagri.com/                     2              2.0   \n",
       "\n",
       "     ...  Aman Investment Amount  Aman Investment Equity Aman Debt Amount  \\\n",
       "0    ...                    25.0                    5.33              NaN   \n",
       "1    ...                     0.0                    0.00              NaN   \n",
       "2    ...                     0.0                    0.00              NaN   \n",
       "3    ...                     0.0                    0.00              NaN   \n",
       "4    ...                     NaN                     NaN              NaN   \n",
       "..   ...                     ...                     ...              ...   \n",
       "116  ...                     NaN                     NaN              NaN   \n",
       "117  ...                     7.0                    4.00              NaN   \n",
       "118  ...                     NaN                     NaN              NaN   \n",
       "119  ...                     0.0                    0.00              NaN   \n",
       "120  ...                     NaN                     NaN              NaN   \n",
       "\n",
       "     Peyush Investment Amount Peyush Investment Equity Peyush Debt Amount  \\\n",
       "0                         NaN                      NaN                NaN   \n",
       "1                         NaN                      NaN                NaN   \n",
       "2                         NaN                      NaN                NaN   \n",
       "3                         NaN                      NaN                NaN   \n",
       "4                         NaN                      NaN                NaN   \n",
       "..                        ...                      ...                ...   \n",
       "116                       NaN                      NaN                NaN   \n",
       "117                       0.0                      0.0                NaN   \n",
       "118                       NaN                      NaN                NaN   \n",
       "119                      25.0                      2.0               25.0   \n",
       "120                       NaN                      NaN                NaN   \n",
       "\n",
       "     Ghazal Investment Amount  Ghazal Investment Equity  Ghazal Debt Amount  \\\n",
       "0                         NaN                       NaN                 NaN   \n",
       "1                         NaN                       NaN                 NaN   \n",
       "2                         NaN                       NaN                 NaN   \n",
       "3                         NaN                       NaN                 NaN   \n",
       "4                         NaN                       NaN                 NaN   \n",
       "..                        ...                       ...                 ...   \n",
       "116                       NaN                       NaN                 NaN   \n",
       "117                       NaN                       NaN                 NaN   \n",
       "118                       NaN                       NaN                 NaN   \n",
       "119                       NaN                       NaN                 NaN   \n",
       "120                       NaN                       NaN                 NaN   \n",
       "\n",
       "     Number of sharks in deal  \n",
       "0                         3.0  \n",
       "1                         2.0  \n",
       "2                         2.0  \n",
       "3                         1.0  \n",
       "4                         NaN  \n",
       "..                        ...  \n",
       "116                       NaN  \n",
       "117                       3.0  \n",
       "118                       NaN  \n",
       "119                       2.0  \n",
       "120                       NaN  \n",
       "\n",
       "[121 rows x 50 columns]"
      ]
     },
     "execution_count": 2,
     "metadata": {},
     "output_type": "execute_result"
    }
   ],
   "source": [
    "shark_tank = pd.read_csv('../input/shark-tank-india/Shark Tank India.csv')\n",
    "shark_tank"
   ]
  },
  {
   "cell_type": "code",
   "execution_count": 3,
   "id": "27e981bf",
   "metadata": {
    "execution": {
     "iopub.execute_input": "2022-06-29T08:37:06.543605Z",
     "iopub.status.busy": "2022-06-29T08:37:06.543167Z",
     "iopub.status.idle": "2022-06-29T08:37:06.572790Z",
     "shell.execute_reply": "2022-06-29T08:37:06.570889Z"
    },
    "papermill": {
     "duration": 0.049833,
     "end_time": "2022-06-29T08:37:06.575005",
     "exception": false,
     "start_time": "2022-06-29T08:37:06.525172",
     "status": "completed"
    },
    "tags": []
   },
   "outputs": [
    {
     "name": "stdout",
     "output_type": "stream",
     "text": [
      "<class 'pandas.core.frame.DataFrame'>\n",
      "RangeIndex: 121 entries, 0 to 120\n",
      "Data columns (total 50 columns):\n",
      " #   Column                     Non-Null Count  Dtype  \n",
      "---  ------                     --------------  -----  \n",
      " 0   Season Number              121 non-null    int64  \n",
      " 1   Episode Number             121 non-null    int64  \n",
      " 2   Episode Title              121 non-null    object \n",
      " 3   Pitch Number               121 non-null    int64  \n",
      " 4   Startup Name               121 non-null    object \n",
      " 5   Industry                   121 non-null    object \n",
      " 6   Business Description       121 non-null    object \n",
      " 7   Company Website            112 non-null    object \n",
      " 8   Number of Presenters       121 non-null    int64  \n",
      " 9   Male Presenters            102 non-null    float64\n",
      " 10  Female Presenters          62 non-null     float64\n",
      " 11  Couple Presenters          120 non-null    float64\n",
      " 12  Pitchers Average Age       121 non-null    object \n",
      " 13  Started in                 95 non-null     float64\n",
      " 14  Pitchers City              114 non-null    object \n",
      " 15  Pitchers State             116 non-null    object \n",
      " 16  Yearly Revenue             52 non-null     float64\n",
      " 17  Monthly Sales              65 non-null     float64\n",
      " 18  Gross Margin               35 non-null     float64\n",
      " 19  Original Ask Amount        121 non-null    float64\n",
      " 20  Original Ask Equity        121 non-null    float64\n",
      " 21  Valuation Requested        121 non-null    int64  \n",
      " 22  Received Offer             121 non-null    int64  \n",
      " 23  Accepted Offer             88 non-null     float64\n",
      " 24  Total Deal Amount          67 non-null     float64\n",
      " 25  Total Deal Equity          67 non-null     float64\n",
      " 26  Total Deal Debt            9 non-null      float64\n",
      " 27  Valuation Offered          67 non-null     float64\n",
      " 28  Ashneer Investment Amount  54 non-null     float64\n",
      " 29  Ashneer Investment Equity  54 non-null     float64\n",
      " 30  Ashneer Debt Amount        2 non-null      float64\n",
      " 31  Namita Investment Amount   62 non-null     float64\n",
      " 32  Namita Investment Equity   62 non-null     float64\n",
      " 33  Namita Debt Amount         1 non-null      float64\n",
      " 34  Anupam Investment Amount   67 non-null     float64\n",
      " 35  Anupam Investment Equity   67 non-null     float64\n",
      " 36  Anupam Debt Amount         1 non-null      float64\n",
      " 37  Vineeta Investment Amount  34 non-null     float64\n",
      " 38  Vineeta Investment Equity  34 non-null     float64\n",
      " 39  Vineeta Debt Amount        1 non-null      float64\n",
      " 40  Aman Investment Amount     56 non-null     float64\n",
      " 41  Aman Investment Equity     56 non-null     float64\n",
      " 42  Aman Debt Amount           1 non-null      float64\n",
      " 43  Peyush Investment Amount   53 non-null     float64\n",
      " 44  Peyush Investment Equity   53 non-null     float64\n",
      " 45  Peyush Debt Amount         5 non-null      float64\n",
      " 46  Ghazal Investment Amount   13 non-null     float64\n",
      " 47  Ghazal Investment Equity   13 non-null     float64\n",
      " 48  Ghazal Debt Amount         0 non-null      float64\n",
      " 49  Number of sharks in deal   67 non-null     float64\n",
      "dtypes: float64(36), int64(6), object(8)\n",
      "memory usage: 47.4+ KB\n"
     ]
    }
   ],
   "source": [
    "shark_tank.info()"
   ]
  },
  {
   "cell_type": "code",
   "execution_count": 4,
   "id": "e5ede5a5",
   "metadata": {
    "execution": {
     "iopub.execute_input": "2022-06-29T08:37:06.611183Z",
     "iopub.status.busy": "2022-06-29T08:37:06.610334Z",
     "iopub.status.idle": "2022-06-29T08:37:06.619660Z",
     "shell.execute_reply": "2022-06-29T08:37:06.618781Z"
    },
    "papermill": {
     "duration": 0.029735,
     "end_time": "2022-06-29T08:37:06.621823",
     "exception": false,
     "start_time": "2022-06-29T08:37:06.592088",
     "status": "completed"
    },
    "tags": []
   },
   "outputs": [
    {
     "data": {
      "text/plain": [
       "Season Number                  0\n",
       "Episode Number                 0\n",
       "Episode Title                  0\n",
       "Pitch Number                   0\n",
       "Startup Name                   0\n",
       "Industry                       0\n",
       "Business Description           0\n",
       "Company Website                9\n",
       "Number of Presenters           0\n",
       "Male Presenters               19\n",
       "Female Presenters             59\n",
       "Couple Presenters              1\n",
       "Pitchers Average Age           0\n",
       "Started in                    26\n",
       "Pitchers City                  7\n",
       "Pitchers State                 5\n",
       "Yearly Revenue                69\n",
       "Monthly Sales                 56\n",
       "Gross Margin                  86\n",
       "Original Ask Amount            0\n",
       "Original Ask Equity            0\n",
       "Valuation Requested            0\n",
       "Received Offer                 0\n",
       "Accepted Offer                33\n",
       "Total Deal Amount             54\n",
       "Total Deal Equity             54\n",
       "Total Deal Debt              112\n",
       "Valuation Offered             54\n",
       "Ashneer Investment Amount     67\n",
       "Ashneer Investment Equity     67\n",
       "Ashneer Debt Amount          119\n",
       "Namita Investment Amount      59\n",
       "Namita Investment Equity      59\n",
       "Namita Debt Amount           120\n",
       "Anupam Investment Amount      54\n",
       "Anupam Investment Equity      54\n",
       "Anupam Debt Amount           120\n",
       "Vineeta Investment Amount     87\n",
       "Vineeta Investment Equity     87\n",
       "Vineeta Debt Amount          120\n",
       "Aman Investment Amount        65\n",
       "Aman Investment Equity        65\n",
       "Aman Debt Amount             120\n",
       "Peyush Investment Amount      68\n",
       "Peyush Investment Equity      68\n",
       "Peyush Debt Amount           116\n",
       "Ghazal Investment Amount     108\n",
       "Ghazal Investment Equity     108\n",
       "Ghazal Debt Amount           121\n",
       "Number of sharks in deal      54\n",
       "dtype: int64"
      ]
     },
     "execution_count": 4,
     "metadata": {},
     "output_type": "execute_result"
    }
   ],
   "source": [
    "shark_tank.isnull().sum()"
   ]
  },
  {
   "cell_type": "markdown",
   "id": "8f645a44",
   "metadata": {
    "papermill": {
     "duration": 0.017087,
     "end_time": "2022-06-29T08:37:06.657437",
     "exception": false,
     "start_time": "2022-06-29T08:37:06.640350",
     "status": "completed"
    },
    "tags": []
   },
   "source": [
    "## Season 1 - Shark Tank India"
   ]
  },
  {
   "cell_type": "code",
   "execution_count": 5,
   "id": "0fafaa63",
   "metadata": {
    "execution": {
     "iopub.execute_input": "2022-06-29T08:37:06.694610Z",
     "iopub.status.busy": "2022-06-29T08:37:06.694069Z",
     "iopub.status.idle": "2022-06-29T08:37:06.702809Z",
     "shell.execute_reply": "2022-06-29T08:37:06.701108Z"
    },
    "papermill": {
     "duration": 0.030747,
     "end_time": "2022-06-29T08:37:06.705997",
     "exception": false,
     "start_time": "2022-06-29T08:37:06.675250",
     "status": "completed"
    },
    "tags": []
   },
   "outputs": [
    {
     "name": "stdout",
     "output_type": "stream",
     "text": [
      "1 season \n",
      "\n",
      "36 episodes \n",
      "\n",
      "121 startup companies came for pitching \n",
      "\n",
      "[3 4] Pitches came per episodes\n"
     ]
    }
   ],
   "source": [
    "print(shark_tank['Season Number'].max(), \"season \\n\")\n",
    "print(shark_tank['Episode Number'].max(), \"episodes \\n\")\n",
    "print(shark_tank['Pitch Number'].max(), \"startup companies came for pitching \\n\")\n",
    "print(shark_tank['Episode Number'].value_counts().sort_values(ascending=True).unique(), \"Pitches came per episodes\")"
   ]
  },
  {
   "cell_type": "markdown",
   "id": "ef57da4d",
   "metadata": {
    "papermill": {
     "duration": 0.016883,
     "end_time": "2022-06-29T08:37:06.740751",
     "exception": false,
     "start_time": "2022-06-29T08:37:06.723868",
     "status": "completed"
    },
    "tags": []
   },
   "source": [
    "## Distribution of Cities from which Pitchers came\n"
   ]
  },
  {
   "cell_type": "code",
   "execution_count": 6,
   "id": "0dfbc0d6",
   "metadata": {
    "execution": {
     "iopub.execute_input": "2022-06-29T08:37:06.777197Z",
     "iopub.status.busy": "2022-06-29T08:37:06.776754Z",
     "iopub.status.idle": "2022-06-29T08:37:07.456237Z",
     "shell.execute_reply": "2022-06-29T08:37:07.454759Z"
    },
    "papermill": {
     "duration": 0.700501,
     "end_time": "2022-06-29T08:37:07.458425",
     "exception": false,
     "start_time": "2022-06-29T08:37:06.757924",
     "status": "completed"
    },
    "tags": []
   },
   "outputs": [
    {
     "name": "stdout",
     "output_type": "stream",
     "text": [
      "Mumbai                21\n",
      "Delhi                 16\n",
      "Bangalore             10\n",
      "Pune                   9\n",
      "Ahmedabad              6\n",
      "Kolkata                5\n",
      "Hyderabad              5\n",
      "Gurgaon                3\n",
      "Noida                  3\n",
      "Surat                  2\n",
      "Gandhinagar            2\n",
      "Jaipur                 2\n",
      "Jammu                  2\n",
      "Nagpur                 2\n",
      "Mangalore              1\n",
      "Mathura                1\n",
      "Varanasi               1\n",
      "Bhagalpur              1\n",
      "Lucknow                1\n",
      "Coimbatore             1\n",
      "Thane                  1\n",
      "Pune, Delhi            1\n",
      "Dehradun               1\n",
      "Malegaon               1\n",
      "Goa                    1\n",
      "Ludhiana               1\n",
      "Bangalore, Kolkata     1\n",
      "Ernakulam              1\n",
      "Panipat                1\n",
      "Valsad                 1\n",
      "Indore                 1\n",
      "Chennai                1\n",
      "Vadodara               1\n",
      "Thiruvananthapuram     1\n",
      "Nashik                 1\n",
      "Darbhanga              1\n",
      "Jalna                  1\n",
      "Mohali,Delhi           1\n",
      "Baramati               1\n",
      "Modinagar              1\n",
      "Name: Pitchers City, dtype: int64 \n",
      "\n"
     ]
    },
    {
     "data": {
      "text/plain": [
       "Text(0.5, 1.0, 'Shark Tank India')"
      ]
     },
     "execution_count": 6,
     "metadata": {},
     "output_type": "execute_result"
    },
    {
     "data": {
      "image/png": "[encoded data removed]",
      "text/plain": [
       "<Figure size 1800x720 with 1 Axes>"
      ]
     },
     "metadata": {
      "needs_background": "light"
     },
     "output_type": "display_data"
    }
   ],
   "source": [
    "print(shark_tank['Pitchers City'].value_counts(), \"\\n\")\n",
    "fig = plt.figure(figsize=(25, 10))\n",
    "ax = sns.countplot(x='Pitchers City', data=shark_tank, order=shark_tank['Pitchers City'].value_counts().index)\n",
    "ax.set_title('Shark Tank India')"
   ]
  },
  {
   "cell_type": "code",
   "execution_count": 7,
   "id": "9046bec9",
   "metadata": {
    "execution": {
     "iopub.execute_input": "2022-06-29T08:37:07.495653Z",
     "iopub.status.busy": "2022-06-29T08:37:07.495037Z",
     "iopub.status.idle": "2022-06-29T08:37:07.781746Z",
     "shell.execute_reply": "2022-06-29T08:37:07.780419Z"
    },
    "papermill": {
     "duration": 0.307821,
     "end_time": "2022-06-29T08:37:07.784153",
     "exception": false,
     "start_time": "2022-06-29T08:37:07.476332",
     "status": "completed"
    },
    "tags": []
   },
   "outputs": [
    {
     "name": "stdout",
     "output_type": "stream",
     "text": [
      "2019.0    22\n",
      "2020.0    14\n",
      "2016.0    13\n",
      "2021.0    12\n",
      "2018.0    12\n",
      "2017.0    11\n",
      "2015.0     4\n",
      "2014.0     3\n",
      "2005.0     1\n",
      "2013.0     1\n",
      "2012.0     1\n",
      "2022.0     1\n",
      "Name: Started in, dtype: int64 \n",
      "\n"
     ]
    },
    {
     "data": {
      "text/plain": [
       "Text(0.5, 1.0, 'Shark Tank India')"
      ]
     },
     "execution_count": 7,
     "metadata": {},
     "output_type": "execute_result"
    },
    {
     "data": {
      "image/png": "[encoded data removed]",
      "text/plain": [
       "<Figure size 1440x720 with 1 Axes>"
      ]
     },
     "metadata": {
      "needs_background": "light"
     },
     "output_type": "display_data"
    }
   ],
   "source": [
    "print(shark_tank['Started in'].value_counts(), \"\\n\")\n",
    "fig = plt.figure(figsize=(20, 10))\n",
    "ax = sns.countplot(x='Started in', data=shark_tank, order=shark_tank['Started in'].value_counts().index)\n",
    "ax.set_title('Shark Tank India')"
   ]
  },
  {
   "cell_type": "markdown",
   "id": "fb24455b",
   "metadata": {
    "papermill": {
     "duration": 0.01826,
     "end_time": "2022-06-29T08:37:07.821429",
     "exception": false,
     "start_time": "2022-06-29T08:37:07.803169",
     "status": "completed"
    },
    "tags": []
   },
   "source": []
  },
  {
   "cell_type": "code",
   "execution_count": 8,
   "id": "766b5f0c",
   "metadata": {
    "execution": {
     "iopub.execute_input": "2022-06-29T08:37:07.859718Z",
     "iopub.status.busy": "2022-06-29T08:37:07.858981Z",
     "iopub.status.idle": "2022-06-29T08:37:08.233111Z",
     "shell.execute_reply": "2022-06-29T08:37:08.232335Z"
    },
    "papermill": {
     "duration": 0.395454,
     "end_time": "2022-06-29T08:37:08.235192",
     "exception": false,
     "start_time": "2022-06-29T08:37:07.839738",
     "status": "completed"
    },
    "tags": []
   },
   "outputs": [
    {
     "name": "stdout",
     "output_type": "stream",
     "text": [
      "Maharashtra               37\n",
      "Delhi                     16\n",
      "Gujarat                   13\n",
      "Karnataka                 11\n",
      "Uttar Pradesh              7\n",
      "Telangana                  5\n",
      "West Bengal                5\n",
      "Haryana                    4\n",
      "Jammu & Kashmir            2\n",
      "Rajasthan                  2\n",
      "Tamil Nadu                 2\n",
      "Kerala                     2\n",
      "Bihar                      2\n",
      "Punjab                     2\n",
      "Madhya Pradesh             1\n",
      "Karnataka, West Bengal     1\n",
      "Punjab, Delhi              1\n",
      "Uttarakhand                1\n",
      "Goa                        1\n",
      "Maharashtra, Delhi         1\n",
      "Name: Pitchers State, dtype: int64 \n",
      "\n"
     ]
    },
    {
     "data": {
      "text/plain": [
       "Text(0.5, 1.0, 'Shark Tank India')"
      ]
     },
     "execution_count": 8,
     "metadata": {},
     "output_type": "execute_result"
    },
    {
     "data": {
      "image/png": "[encoded data removed]",
      "text/plain": [
       "<Figure size 1800x720 with 1 Axes>"
      ]
     },
     "metadata": {
      "needs_background": "light"
     },
     "output_type": "display_data"
    }
   ],
   "source": [
    "print(shark_tank['Pitchers State'].value_counts(), \"\\n\")\n",
    "fig = plt.figure(figsize=(25, 10))\n",
    "ax = sns.countplot(x='Pitchers State', data=shark_tank, order=shark_tank['Pitchers State'].value_counts().index)\n",
    "ax.set_title('Shark Tank India')"
   ]
  },
  {
   "cell_type": "markdown",
   "id": "f3dbb508",
   "metadata": {
    "papermill": {
     "duration": 0.020294,
     "end_time": "2022-06-29T08:37:08.280104",
     "exception": false,
     "start_time": "2022-06-29T08:37:08.259810",
     "status": "completed"
    },
    "tags": []
   },
   "source": [
    "## Distribution of different Industries that came for pitching\n"
   ]
  },
  {
   "cell_type": "code",
   "execution_count": 9,
   "id": "2f705933",
   "metadata": {
    "execution": {
     "iopub.execute_input": "2022-06-29T08:37:08.335805Z",
     "iopub.status.busy": "2022-06-29T08:37:08.334939Z",
     "iopub.status.idle": "2022-06-29T08:37:08.660527Z",
     "shell.execute_reply": "2022-06-29T08:37:08.659218Z"
    },
    "papermill": {
     "duration": 0.359836,
     "end_time": "2022-06-29T08:37:08.663851",
     "exception": false,
     "start_time": "2022-06-29T08:37:08.304015",
     "status": "completed"
    },
    "tags": []
   },
   "outputs": [
    {
     "name": "stdout",
     "output_type": "stream",
     "text": [
      "Food                   37\n",
      "Beauty/Fashion         22\n",
      "Manufacturing          17\n",
      "Technology             11\n",
      "Education               8\n",
      "Services                7\n",
      "Medical                 7\n",
      "Electrical Vehicles     4\n",
      "Animal/Pets             3\n",
      "Hardware                3\n",
      "Sports                  2\n",
      "Name: Industry, dtype: int64\n"
     ]
    },
    {
     "data": {
      "text/html": [
       "        <script type=\"text/javascript\">\n",
       "        window.PlotlyConfig = {MathJaxConfig: 'local'};\n",
       "        if (window.MathJax && window.MathJax.Hub && window.MathJax.Hub.Config) {window.MathJax.Hub.Config({SVG: {font: \"STIX-Web\"}});}\n",
       "        if (typeof require !== 'undefined') {\n",
       "        require.undef(\"plotly\");\n",
       "        requirejs.config({\n",
       "            paths: {\n",
       "                'plotly': ['https://cdn.plot.ly/plotly-2.12.1.min']\n",
       "            }\n",
       "        });\n",
       "        require(['plotly'], function(Plotly) {\n",
       "            window._Plotly = Plotly;\n",
       "        });\n",
       "        }\n",
       "        </script>\n",
       "        "
      ]
     },
     "metadata": {},
     "output_type": "display_data"
    },
    {
     "data": {
      "text/html": [
       "<div>                            <div id=\"31bca3a4-735d-4698-8b0a-9bb2189f3ac9\" class=\"plotly-graph-div\" style=\"height:525px; width:100%;\"></div>            <script type=\"text/javascript\">                require([\"plotly\"], function(Plotly) {                    window.PLOTLYENV=window.PLOTLYENV || {};                                    if (document.getElementById(\"31bca3a4-735d-4698-8b0a-9bb2189f3ac9\")) {                    Plotly.newPlot(                        \"31bca3a4-735d-4698-8b0a-9bb2189f3ac9\",                        [{\"alignmentgroup\":\"True\",\"hovertemplate\":\"Industry=%{marker.color}<br>index=%{y}<br>text=%{text}<extra></extra>\",\"legendgroup\":\"\",\"marker\":{\"color\":[2,3,3,4,7,7,8,11,17,22,37],\"coloraxis\":\"coloraxis\",\"pattern\":{\"shape\":\"\"}},\"name\":\"\",\"offsetgroup\":\"\",\"orientation\":\"h\",\"showlegend\":false,\"text\":[2.0,3.0,3.0,4.0,7.0,7.0,8.0,11.0,17.0,22.0,37.0],\"textposition\":\"auto\",\"x\":[2,3,3,4,7,7,8,11,17,22,37],\"xaxis\":\"x\",\"y\":[\"Sports\",\"Animal/Pets\",\"Hardware\",\"Electrical Vehicles\",\"Services\",\"Medical\",\"Education\",\"Technology\",\"Manufacturing\",\"Beauty/Fashion\",\"Food\"],\"yaxis\":\"y\",\"type\":\"bar\"}],                        {\"template\":{\"data\":{\"barpolar\":[{\"marker\":{\"line\":{\"color\":\"white\",\"width\":0.5},\"pattern\":{\"fillmode\":\"overlay\",\"size\":10,\"solidity\":0.2}},\"type\":\"barpolar\"}],\"bar\":[{\"error_x\":{\"color\":\"rgb(36,36,36)\"},\"error_y\":{\"color\":\"rgb(36,36,36)\"},\"marker\":{\"line\":{\"color\":\"white\",\"width\":0.5},\"pattern\":{\"fillmode\":\"overlay\",\"size\":10,\"solidity\":0.2}},\"type\":\"bar\"}],\"carpet\":[{\"aaxis\":{\"endlinecolor\":\"rgb(36,36,36)\",\"gridcolor\":\"white\",\"linecolor\":\"white\",\"minorgridcolor\":\"white\",\"startlinecolor\":\"rgb(36,36,36)\"},\"baxis\":{\"endlinecolor\":\"rgb(36,36,36)\",\"gridcolor\":\"white\",\"linecolor\":\"white\",\"minorgridcolor\":\"white\",\"startlinecolor\":\"rgb(36,36,36)\"},\"type\":\"carpet\"}],\"choropleth\":[{\"colorbar\":{\"outlinewidth\":1,\"tickcolor\":\"rgb(36,36,36)\",\"ticks\":\"outside\"},\"type\":\"choropleth\"}],\"contourcarpet\":[{\"colorbar\":{\"outlinewidth\":1,\"tickcolor\":\"rgb(36,36,36)\",\"ticks\":\"outside\"},\"type\":\"contourcarpet\"}],\"contour\":[{\"colorbar\":{\"outlinewidth\":1,\"tickcolor\":\"rgb(36,36,36)\",\"ticks\":\"outside\"},\"colorscale\":[[0.0,\"#440154\"],[0.1111111111111111,\"#482878\"],[0.2222222222222222,\"#3e4989\"],[0.3333333333333333,\"#31688e\"],[0.4444444444444444,\"#26828e\"],[0.5555555555555556,\"#1f9e89\"],[0.6666666666666666,\"#35b779\"],[0.7777777777777778,\"#6ece58\"],[0.8888888888888888,\"#b5de2b\"],[1.0,\"#fde725\"]],\"type\":\"contour\"}],\"heatmapgl\":[{\"colorbar\":{\"outlinewidth\":1,\"tickcolor\":\"rgb(36,36,36)\",\"ticks\":\"outside\"},\"colorscale\":[[0.0,\"#440154\"],[0.1111111111111111,\"#482878\"],[0.2222222222222222,\"#3e4989\"],[0.3333333333333333,\"#31688e\"],[0.4444444444444444,\"#26828e\"],[0.5555555555555556,\"#1f9e89\"],[0.6666666666666666,\"#35b779\"],[0.7777777777777778,\"#6ece58\"],[0.8888888888888888,\"#b5de2b\"],[1.0,\"#fde725\"]],\"type\":\"heatmapgl\"}],\"heatmap\":[{\"colorbar\":{\"outlinewidth\":1,\"tickcolor\":\"rgb(36,36,36)\",\"ticks\":\"outside\"},\"colorscale\":[[0.0,\"#440154\"],[0.1111111111111111,\"#482878\"],[0.2222222222222222,\"#3e4989\"],[0.3333333333333333,\"#31688e\"],[0.4444444444444444,\"#26828e\"],[0.5555555555555556,\"#1f9e89\"],[0.6666666666666666,\"#35b779\"],[0.7777777777777778,\"#6ece58\"],[0.8888888888888888,\"#b5de2b\"],[1.0,\"#fde725\"]],\"type\":\"heatmap\"}],\"histogram2dcontour\":[{\"colorbar\":{\"outlinewidth\":1,\"tickcolor\":\"rgb(36,36,36)\",\"ticks\":\"outside\"},\"colorscale\":[[0.0,\"#440154\"],[0.1111111111111111,\"#482878\"],[0.2222222222222222,\"#3e4989\"],[0.3333333333333333,\"#31688e\"],[0.4444444444444444,\"#26828e\"],[0.5555555555555556,\"#1f9e89\"],[0.6666666666666666,\"#35b779\"],[0.7777777777777778,\"#6ece58\"],[0.8888888888888888,\"#b5de2b\"],[1.0,\"#fde725\"]],\"type\":\"histogram2dcontour\"}],\"histogram2d\":[{\"colorbar\":{\"outlinewidth\":1,\"tickcolor\":\"rgb(36,36,36)\",\"ticks\":\"outside\"},\"colorscale\":[[0.0,\"#440154\"],[0.1111111111111111,\"#482878\"],[0.2222222222222222,\"#3e4989\"],[0.3333333333333333,\"#31688e\"],[0.4444444444444444,\"#26828e\"],[0.5555555555555556,\"#1f9e89\"],[0.6666666666666666,\"#35b779\"],[0.7777777777777778,\"#6ece58\"],[0.8888888888888888,\"#b5de2b\"],[1.0,\"#fde725\"]],\"type\":\"histogram2d\"}],\"histogram\":[{\"marker\":{\"line\":{\"color\":\"white\",\"width\":0.6}},\"type\":\"histogram\"}],\"mesh3d\":[{\"colorbar\":{\"outlinewidth\":1,\"tickcolor\":\"rgb(36,36,36)\",\"ticks\":\"outside\"},\"type\":\"mesh3d\"}],\"parcoords\":[{\"line\":{\"colorbar\":{\"outlinewidth\":1,\"tickcolor\":\"rgb(36,36,36)\",\"ticks\":\"outside\"}},\"type\":\"parcoords\"}],\"pie\":[{\"automargin\":true,\"type\":\"pie\"}],\"scatter3d\":[{\"line\":{\"colorbar\":{\"outlinewidth\":1,\"tickcolor\":\"rgb(36,36,36)\",\"ticks\":\"outside\"}},\"marker\":{\"colorbar\":{\"outlinewidth\":1,\"tickcolor\":\"rgb(36,36,36)\",\"ticks\":\"outside\"}},\"type\":\"scatter3d\"}],\"scattercarpet\":[{\"marker\":{\"colorbar\":{\"outlinewidth\":1,\"tickcolor\":\"rgb(36,36,36)\",\"ticks\":\"outside\"}},\"type\":\"scattercarpet\"}],\"scattergeo\":[{\"marker\":{\"colorbar\":{\"outlinewidth\":1,\"tickcolor\":\"rgb(36,36,36)\",\"ticks\":\"outside\"}},\"type\":\"scattergeo\"}],\"scattergl\":[{\"marker\":{\"colorbar\":{\"outlinewidth\":1,\"tickcolor\":\"rgb(36,36,36)\",\"ticks\":\"outside\"}},\"type\":\"scattergl\"}],\"scattermapbox\":[{\"marker\":{\"colorbar\":{\"outlinewidth\":1,\"tickcolor\":\"rgb(36,36,36)\",\"ticks\":\"outside\"}},\"type\":\"scattermapbox\"}],\"scatterpolargl\":[{\"marker\":{\"colorbar\":{\"outlinewidth\":1,\"tickcolor\":\"rgb(36,36,36)\",\"ticks\":\"outside\"}},\"type\":\"scatterpolargl\"}],\"scatterpolar\":[{\"marker\":{\"colorbar\":{\"outlinewidth\":1,\"tickcolor\":\"rgb(36,36,36)\",\"ticks\":\"outside\"}},\"type\":\"scatterpolar\"}],\"scatter\":[{\"fillpattern\":{\"fillmode\":\"overlay\",\"size\":10,\"solidity\":0.2},\"type\":\"scatter\"}],\"scatterternary\":[{\"marker\":{\"colorbar\":{\"outlinewidth\":1,\"tickcolor\":\"rgb(36,36,36)\",\"ticks\":\"outside\"}},\"type\":\"scatterternary\"}],\"surface\":[{\"colorbar\":{\"outlinewidth\":1,\"tickcolor\":\"rgb(36,36,36)\",\"ticks\":\"outside\"},\"colorscale\":[[0.0,\"#440154\"],[0.1111111111111111,\"#482878\"],[0.2222222222222222,\"#3e4989\"],[0.3333333333333333,\"#31688e\"],[0.4444444444444444,\"#26828e\"],[0.5555555555555556,\"#1f9e89\"],[0.6666666666666666,\"#35b779\"],[0.7777777777777778,\"#6ece58\"],[0.8888888888888888,\"#b5de2b\"],[1.0,\"#fde725\"]],\"type\":\"surface\"}],\"table\":[{\"cells\":{\"fill\":{\"color\":\"rgb(237,237,237)\"},\"line\":{\"color\":\"white\"}},\"header\":{\"fill\":{\"color\":\"rgb(217,217,217)\"},\"line\":{\"color\":\"white\"}},\"type\":\"table\"}]},\"layout\":{\"annotationdefaults\":{\"arrowhead\":0,\"arrowwidth\":1},\"autotypenumbers\":\"strict\",\"coloraxis\":{\"colorbar\":{\"outlinewidth\":1,\"tickcolor\":\"rgb(36,36,36)\",\"ticks\":\"outside\"}},\"colorscale\":{\"diverging\":[[0.0,\"rgb(103,0,31)\"],[0.1,\"rgb(178,24,43)\"],[0.2,\"rgb(214,96,77)\"],[0.3,\"rgb(244,165,130)\"],[0.4,\"rgb(253,219,199)\"],[0.5,\"rgb(247,247,247)\"],[0.6,\"rgb(209,229,240)\"],[0.7,\"rgb(146,197,222)\"],[0.8,\"rgb(67,147,195)\"],[0.9,\"rgb(33,102,172)\"],[1.0,\"rgb(5,48,97)\"]],\"sequential\":[[0.0,\"#440154\"],[0.1111111111111111,\"#482878\"],[0.2222222222222222,\"#3e4989\"],[0.3333333333333333,\"#31688e\"],[0.4444444444444444,\"#26828e\"],[0.5555555555555556,\"#1f9e89\"],[0.6666666666666666,\"#35b779\"],[0.7777777777777778,\"#6ece58\"],[0.8888888888888888,\"#b5de2b\"],[1.0,\"#fde725\"]],\"sequentialminus\":[[0.0,\"#440154\"],[0.1111111111111111,\"#482878\"],[0.2222222222222222,\"#3e4989\"],[0.3333333333333333,\"#31688e\"],[0.4444444444444444,\"#26828e\"],[0.5555555555555556,\"#1f9e89\"],[0.6666666666666666,\"#35b779\"],[0.7777777777777778,\"#6ece58\"],[0.8888888888888888,\"#b5de2b\"],[1.0,\"#fde725\"]]},\"colorway\":[\"#1F77B4\",\"#FF7F0E\",\"#2CA02C\",\"#D62728\",\"#9467BD\",\"#8C564B\",\"#E377C2\",\"#7F7F7F\",\"#BCBD22\",\"#17BECF\"],\"font\":{\"color\":\"rgb(36,36,36)\"},\"geo\":{\"bgcolor\":\"white\",\"lakecolor\":\"white\",\"landcolor\":\"white\",\"showlakes\":true,\"showland\":true,\"subunitcolor\":\"white\"},\"hoverlabel\":{\"align\":\"left\"},\"hovermode\":\"closest\",\"mapbox\":{\"style\":\"light\"},\"paper_bgcolor\":\"white\",\"plot_bgcolor\":\"white\",\"polar\":{\"angularaxis\":{\"gridcolor\":\"rgb(232,232,232)\",\"linecolor\":\"rgb(36,36,36)\",\"showgrid\":false,\"showline\":true,\"ticks\":\"outside\"},\"bgcolor\":\"white\",\"radialaxis\":{\"gridcolor\":\"rgb(232,232,232)\",\"linecolor\":\"rgb(36,36,36)\",\"showgrid\":false,\"showline\":true,\"ticks\":\"outside\"}},\"scene\":{\"xaxis\":{\"backgroundcolor\":\"white\",\"gridcolor\":\"rgb(232,232,232)\",\"gridwidth\":2,\"linecolor\":\"rgb(36,36,36)\",\"showbackground\":true,\"showgrid\":false,\"showline\":true,\"ticks\":\"outside\",\"zeroline\":false,\"zerolinecolor\":\"rgb(36,36,36)\"},\"yaxis\":{\"backgroundcolor\":\"white\",\"gridcolor\":\"rgb(232,232,232)\",\"gridwidth\":2,\"linecolor\":\"rgb(36,36,36)\",\"showbackground\":true,\"showgrid\":false,\"showline\":true,\"ticks\":\"outside\",\"zeroline\":false,\"zerolinecolor\":\"rgb(36,36,36)\"},\"zaxis\":{\"backgroundcolor\":\"white\",\"gridcolor\":\"rgb(232,232,232)\",\"gridwidth\":2,\"linecolor\":\"rgb(36,36,36)\",\"showbackground\":true,\"showgrid\":false,\"showline\":true,\"ticks\":\"outside\",\"zeroline\":false,\"zerolinecolor\":\"rgb(36,36,36)\"}},\"shapedefaults\":{\"fillcolor\":\"black\",\"line\":{\"width\":0},\"opacity\":0.3},\"ternary\":{\"aaxis\":{\"gridcolor\":\"rgb(232,232,232)\",\"linecolor\":\"rgb(36,36,36)\",\"showgrid\":false,\"showline\":true,\"ticks\":\"outside\"},\"baxis\":{\"gridcolor\":\"rgb(232,232,232)\",\"linecolor\":\"rgb(36,36,36)\",\"showgrid\":false,\"showline\":true,\"ticks\":\"outside\"},\"bgcolor\":\"white\",\"caxis\":{\"gridcolor\":\"rgb(232,232,232)\",\"linecolor\":\"rgb(36,36,36)\",\"showgrid\":false,\"showline\":true,\"ticks\":\"outside\"}},\"title\":{\"x\":0.05},\"xaxis\":{\"automargin\":true,\"gridcolor\":\"rgb(232,232,232)\",\"linecolor\":\"rgb(36,36,36)\",\"showgrid\":false,\"showline\":true,\"ticks\":\"outside\",\"title\":{\"standoff\":15},\"zeroline\":false,\"zerolinecolor\":\"rgb(36,36,36)\"},\"yaxis\":{\"automargin\":true,\"gridcolor\":\"rgb(232,232,232)\",\"linecolor\":\"rgb(36,36,36)\",\"showgrid\":false,\"showline\":true,\"ticks\":\"outside\",\"title\":{\"standoff\":15},\"zeroline\":false,\"zerolinecolor\":\"rgb(36,36,36)\"}}},\"xaxis\":{\"anchor\":\"y\",\"domain\":[0.0,1.0],\"title\":{\"text\":\"Industry\"}},\"yaxis\":{\"anchor\":\"x\",\"domain\":[0.0,1.0],\"title\":{\"text\":\"index\"}},\"coloraxis\":{\"colorbar\":{\"title\":{\"text\":\"Industry\"}},\"colorscale\":[[0.0,\"#440154\"],[0.1111111111111111,\"#482878\"],[0.2222222222222222,\"#3e4989\"],[0.3333333333333333,\"#31688e\"],[0.4444444444444444,\"#26828e\"],[0.5555555555555556,\"#1f9e89\"],[0.6666666666666666,\"#35b779\"],[0.7777777777777778,\"#6ece58\"],[0.8888888888888888,\"#b5de2b\"],[1.0,\"#fde725\"]]},\"legend\":{\"tracegroupgap\":0},\"title\":{\"text\":\"<b> Different Industries came in Shark Tank India </b>\"},\"barmode\":\"relative\"},                        {\"responsive\": true}                    ).then(function(){\n",
       "                            \n",
       "var gd = document.getElementById('31bca3a4-735d-4698-8b0a-9bb2189f3ac9');\n",
       "var x = new MutationObserver(function (mutations, observer) {{\n",
       "        var display = window.getComputedStyle(gd).display;\n",
       "        if (!display || display === 'none') {{\n",
       "            console.log([gd, 'removed!']);\n",
       "            Plotly.purge(gd);\n",
       "            observer.disconnect();\n",
       "        }}\n",
       "}});\n",
       "\n",
       "// Listen for the removal of the full notebook cells\n",
       "var notebookContainer = gd.closest('#notebook-container');\n",
       "if (notebookContainer) {{\n",
       "    x.observe(notebookContainer, {childList: true});\n",
       "}}\n",
       "\n",
       "// Listen for the clearing of the current output cell\n",
       "var outputEl = gd.closest('.output');\n",
       "if (outputEl) {{\n",
       "    x.observe(outputEl, {childList: true});\n",
       "}}\n",
       "\n",
       "                        })                };                });            </script>        </div>"
      ]
     },
     "metadata": {},
     "output_type": "display_data"
    }
   ],
   "source": [
    "print(shark_tank['Industry'].value_counts())\n",
    "\n",
    "tmp = shark_tank['Industry'].value_counts().sort_values(ascending=True)\n",
    "fig = px.bar(tmp, x=\"Industry\", title=\"<b> Different Industries came in Shark Tank India </b>\", color = 'Industry',template='simple_white', text=tmp)\n",
    "fig.show()"
   ]
  },
  {
   "cell_type": "markdown",
   "id": "c852c4bf",
   "metadata": {
    "papermill": {
     "duration": 0.019031,
     "end_time": "2022-06-29T08:37:08.702979",
     "exception": false,
     "start_time": "2022-06-29T08:37:08.683948",
     "status": "completed"
    },
    "tags": []
   },
   "source": [
    "## Gender Wise Entrepreneurs \n"
   ]
  },
  {
   "cell_type": "code",
   "execution_count": 10,
   "id": "c92d5eb6",
   "metadata": {
    "execution": {
     "iopub.execute_input": "2022-06-29T08:37:08.743489Z",
     "iopub.status.busy": "2022-06-29T08:37:08.742897Z",
     "iopub.status.idle": "2022-06-29T08:37:08.757133Z",
     "shell.execute_reply": "2022-06-29T08:37:08.755529Z"
    },
    "papermill": {
     "duration": 0.037335,
     "end_time": "2022-06-29T08:37:08.759630",
     "exception": false,
     "start_time": "2022-06-29T08:37:08.722295",
     "status": "completed"
    },
    "tags": []
   },
   "outputs": [
    {
     "name": "stdout",
     "output_type": "stream",
     "text": [
      "Total pitchers - 252 \n",
      "\n",
      "Total Male pitchers - 177 \n",
      "\n",
      "Total female pitchers - 75 \n",
      "\n",
      "Male entrepreneurs percentage - 70.24%\n",
      "\n",
      "Female entrepreneurs percentage - 29.76%\n",
      "\n",
      "Couple entrepreneurs percentage - 9.92% (data incomplete)\n",
      "\n"
     ]
    }
   ],
   "source": [
    "print(\"Total pitchers -\", int(shark_tank['Number of Presenters'].sum()), \"\\n\")\n",
    "\n",
    "print(\"Total Male pitchers -\", int(shark_tank['Male Presenters'].sum()), \"\\n\")\n",
    "\n",
    "print(\"Total female pitchers -\", int(shark_tank['Female Presenters'].sum()), \"\\n\")\n",
    "\n",
    "print(\"Male entrepreneurs percentage - \", round(shark_tank['Male Presenters'].sum()/shark_tank['Number of Presenters'].sum()*100,2), \"%\\n\", sep='')\n",
    "print(\"Female entrepreneurs percentage - \", round(shark_tank['Female Presenters'].sum()/shark_tank['Number of Presenters'].sum()*100,2), \"%\\n\", sep='')\n",
    "print(\"Couple entrepreneurs percentage - \", round(shark_tank.loc[shark_tank['Couple Presenters']==1]['Couple Presenters'].sum()/shark_tank['Number of Presenters'].sum()*100,2), \"% (data incomplete)\\n\", sep='')\n"
   ]
  },
  {
   "cell_type": "markdown",
   "id": "b568b5cf",
   "metadata": {
    "papermill": {
     "duration": 0.020171,
     "end_time": "2022-06-29T08:37:08.799655",
     "exception": false,
     "start_time": "2022-06-29T08:37:08.779484",
     "status": "completed"
    },
    "tags": []
   },
   "source": [
    "## Top 10 Highest Yearly Revenue of the brands"
   ]
  },
  {
   "cell_type": "code",
   "execution_count": 11,
   "id": "d8274613",
   "metadata": {
    "execution": {
     "iopub.execute_input": "2022-06-29T08:37:08.841991Z",
     "iopub.status.busy": "2022-06-29T08:37:08.841063Z",
     "iopub.status.idle": "2022-06-29T08:37:08.975381Z",
     "shell.execute_reply": "2022-06-29T08:37:08.974633Z"
    },
    "papermill": {
     "duration": 0.15774,
     "end_time": "2022-06-29T08:37:08.977458",
     "exception": false,
     "start_time": "2022-06-29T08:37:08.819718",
     "status": "completed"
    },
    "tags": []
   },
   "outputs": [
    {
     "name": "stdout",
     "output_type": "stream",
     "text": [
      "Startup Name\n",
      "French Crown          7200.0\n",
      "Guardian Gears        2500.0\n",
      "Raising Superstars    1300.0\n",
      "PlayBoxTV             1020.0\n",
      "Alpino                1000.0\n",
      "Hammer Lifestyle      1000.0\n",
      "Shades of Spring       900.0\n",
      "Tagz Foods             700.0\n",
      "Devnagri               500.0\n",
      "Moonshine              372.0\n",
      "Name: Yearly Revenue, dtype: float64\n"
     ]
    },
    {
     "data": {
      "text/html": [
       "<div>                            <div id=\"635adf3c-35b0-42ea-be21-b69faaa4cc55\" class=\"plotly-graph-div\" style=\"height:525px; width:100%;\"></div>            <script type=\"text/javascript\">                require([\"plotly\"], function(Plotly) {                    window.PLOTLYENV=window.PLOTLYENV || {};                                    if (document.getElementById(\"635adf3c-35b0-42ea-be21-b69faaa4cc55\")) {                    Plotly.newPlot(                        \"635adf3c-35b0-42ea-be21-b69faaa4cc55\",                        [{\"alignmentgroup\":\"True\",\"hovertemplate\":\"Startup Name=%{x}<br>Yearly Revenue=%{y}<br>text=%{text}<extra></extra>\",\"legendgroup\":\"French Crown\",\"marker\":{\"color\":\"#636efa\",\"pattern\":{\"shape\":\"\"}},\"name\":\"French Crown\",\"offsetgroup\":\"French Crown\",\"orientation\":\"v\",\"showlegend\":true,\"text\":[\"7200%\"],\"textposition\":\"auto\",\"x\":[\"French Crown\"],\"xaxis\":\"x\",\"y\":[7200.0],\"yaxis\":\"y\",\"type\":\"bar\"},{\"alignmentgroup\":\"True\",\"hovertemplate\":\"Startup Name=%{x}<br>Yearly Revenue=%{y}<br>text=%{text}<extra></extra>\",\"legendgroup\":\"Guardian Gears\",\"marker\":{\"color\":\"#EF553B\",\"pattern\":{\"shape\":\"\"}},\"name\":\"Guardian Gears\",\"offsetgroup\":\"Guardian Gears\",\"orientation\":\"v\",\"showlegend\":true,\"text\":[\"2500%\"],\"textposition\":\"auto\",\"x\":[\"Guardian Gears\"],\"xaxis\":\"x\",\"y\":[2500.0],\"yaxis\":\"y\",\"type\":\"bar\"},{\"alignmentgroup\":\"True\",\"hovertemplate\":\"Startup Name=%{x}<br>Yearly Revenue=%{y}<br>text=%{text}<extra></extra>\",\"legendgroup\":\"Raising Superstars\",\"marker\":{\"color\":\"#00cc96\",\"pattern\":{\"shape\":\"\"}},\"name\":\"Raising Superstars\",\"offsetgroup\":\"Raising Superstars\",\"orientation\":\"v\",\"showlegend\":true,\"text\":[\"1300%\"],\"textposition\":\"auto\",\"x\":[\"Raising Superstars\"],\"xaxis\":\"x\",\"y\":[1300.0],\"yaxis\":\"y\",\"type\":\"bar\"},{\"alignmentgroup\":\"True\",\"hovertemplate\":\"Startup Name=%{x}<br>Yearly Revenue=%{y}<br>text=%{text}<extra></extra>\",\"legendgroup\":\"PlayBoxTV\",\"marker\":{\"color\":\"#ab63fa\",\"pattern\":{\"shape\":\"\"}},\"name\":\"PlayBoxTV\",\"offsetgroup\":\"PlayBoxTV\",\"orientation\":\"v\",\"showlegend\":true,\"text\":[\"1020%\"],\"textposition\":\"auto\",\"x\":[\"PlayBoxTV\"],\"xaxis\":\"x\",\"y\":[1020.0],\"yaxis\":\"y\",\"type\":\"bar\"},{\"alignmentgroup\":\"True\",\"hovertemplate\":\"Startup Name=%{x}<br>Yearly Revenue=%{y}<br>text=%{text}<extra></extra>\",\"legendgroup\":\"Alpino\",\"marker\":{\"color\":\"#FFA15A\",\"pattern\":{\"shape\":\"\"}},\"name\":\"Alpino\",\"offsetgroup\":\"Alpino\",\"orientation\":\"v\",\"showlegend\":true,\"text\":[\"1000%\"],\"textposition\":\"auto\",\"x\":[\"Alpino\"],\"xaxis\":\"x\",\"y\":[1000.0],\"yaxis\":\"y\",\"type\":\"bar\"},{\"alignmentgroup\":\"True\",\"hovertemplate\":\"Startup Name=%{x}<br>Yearly Revenue=%{y}<br>text=%{text}<extra></extra>\",\"legendgroup\":\"Hammer Lifestyle\",\"marker\":{\"color\":\"#19d3f3\",\"pattern\":{\"shape\":\"\"}},\"name\":\"Hammer Lifestyle\",\"offsetgroup\":\"Hammer Lifestyle\",\"orientation\":\"v\",\"showlegend\":true,\"text\":[\"1000%\"],\"textposition\":\"auto\",\"x\":[\"Hammer Lifestyle\"],\"xaxis\":\"x\",\"y\":[1000.0],\"yaxis\":\"y\",\"type\":\"bar\"},{\"alignmentgroup\":\"True\",\"hovertemplate\":\"Startup Name=%{x}<br>Yearly Revenue=%{y}<br>text=%{text}<extra></extra>\",\"legendgroup\":\"Shades of Spring\",\"marker\":{\"color\":\"#FF6692\",\"pattern\":{\"shape\":\"\"}},\"name\":\"Shades of Spring\",\"offsetgroup\":\"Shades of Spring\",\"orientation\":\"v\",\"showlegend\":true,\"text\":[\"900%\"],\"textposition\":\"auto\",\"x\":[\"Shades of Spring\"],\"xaxis\":\"x\",\"y\":[900.0],\"yaxis\":\"y\",\"type\":\"bar\"},{\"alignmentgroup\":\"True\",\"hovertemplate\":\"Startup Name=%{x}<br>Yearly Revenue=%{y}<br>text=%{text}<extra></extra>\",\"legendgroup\":\"Tagz Foods\",\"marker\":{\"color\":\"#B6E880\",\"pattern\":{\"shape\":\"\"}},\"name\":\"Tagz Foods\",\"offsetgroup\":\"Tagz Foods\",\"orientation\":\"v\",\"showlegend\":true,\"text\":[\"700%\"],\"textposition\":\"auto\",\"x\":[\"Tagz Foods\"],\"xaxis\":\"x\",\"y\":[700.0],\"yaxis\":\"y\",\"type\":\"bar\"},{\"alignmentgroup\":\"True\",\"hovertemplate\":\"Startup Name=%{x}<br>Yearly Revenue=%{y}<br>text=%{text}<extra></extra>\",\"legendgroup\":\"Devnagri\",\"marker\":{\"color\":\"#FF97FF\",\"pattern\":{\"shape\":\"\"}},\"name\":\"Devnagri\",\"offsetgroup\":\"Devnagri\",\"orientation\":\"v\",\"showlegend\":true,\"text\":[\"500%\"],\"textposition\":\"auto\",\"x\":[\"Devnagri\"],\"xaxis\":\"x\",\"y\":[500.0],\"yaxis\":\"y\",\"type\":\"bar\"},{\"alignmentgroup\":\"True\",\"hovertemplate\":\"Startup Name=%{x}<br>Yearly Revenue=%{y}<br>text=%{text}<extra></extra>\",\"legendgroup\":\"Moonshine\",\"marker\":{\"color\":\"#FECB52\",\"pattern\":{\"shape\":\"\"}},\"name\":\"Moonshine\",\"offsetgroup\":\"Moonshine\",\"orientation\":\"v\",\"showlegend\":true,\"text\":[\"372%\"],\"textposition\":\"auto\",\"x\":[\"Moonshine\"],\"xaxis\":\"x\",\"y\":[372.0],\"yaxis\":\"y\",\"type\":\"bar\"}],                        {\"template\":{\"data\":{\"histogram2dcontour\":[{\"type\":\"histogram2dcontour\",\"colorbar\":{\"outlinewidth\":0,\"ticks\":\"\"},\"colorscale\":[[0.0,\"#0d0887\"],[0.1111111111111111,\"#46039f\"],[0.2222222222222222,\"#7201a8\"],[0.3333333333333333,\"#9c179e\"],[0.4444444444444444,\"#bd3786\"],[0.5555555555555556,\"#d8576b\"],[0.6666666666666666,\"#ed7953\"],[0.7777777777777778,\"#fb9f3a\"],[0.8888888888888888,\"#fdca26\"],[1.0,\"#f0f921\"]]}],\"choropleth\":[{\"type\":\"choropleth\",\"colorbar\":{\"outlinewidth\":0,\"ticks\":\"\"}}],\"histogram2d\":[{\"type\":\"histogram2d\",\"colorbar\":{\"outlinewidth\":0,\"ticks\":\"\"},\"colorscale\":[[0.0,\"#0d0887\"],[0.1111111111111111,\"#46039f\"],[0.2222222222222222,\"#7201a8\"],[0.3333333333333333,\"#9c179e\"],[0.4444444444444444,\"#bd3786\"],[0.5555555555555556,\"#d8576b\"],[0.6666666666666666,\"#ed7953\"],[0.7777777777777778,\"#fb9f3a\"],[0.8888888888888888,\"#fdca26\"],[1.0,\"#f0f921\"]]}],\"heatmap\":[{\"type\":\"heatmap\",\"colorbar\":{\"outlinewidth\":0,\"ticks\":\"\"},\"colorscale\":[[0.0,\"#0d0887\"],[0.1111111111111111,\"#46039f\"],[0.2222222222222222,\"#7201a8\"],[0.3333333333333333,\"#9c179e\"],[0.4444444444444444,\"#bd3786\"],[0.5555555555555556,\"#d8576b\"],[0.6666666666666666,\"#ed7953\"],[0.7777777777777778,\"#fb9f3a\"],[0.8888888888888888,\"#fdca26\"],[1.0,\"#f0f921\"]]}],\"heatmapgl\":[{\"type\":\"heatmapgl\",\"colorbar\":{\"outlinewidth\":0,\"ticks\":\"\"},\"colorscale\":[[0.0,\"#0d0887\"],[0.1111111111111111,\"#46039f\"],[0.2222222222222222,\"#7201a8\"],[0.3333333333333333,\"#9c179e\"],[0.4444444444444444,\"#bd3786\"],[0.5555555555555556,\"#d8576b\"],[0.6666666666666666,\"#ed7953\"],[0.7777777777777778,\"#fb9f3a\"],[0.8888888888888888,\"#fdca26\"],[1.0,\"#f0f921\"]]}],\"contourcarpet\":[{\"type\":\"contourcarpet\",\"colorbar\":{\"outlinewidth\":0,\"ticks\":\"\"}}],\"contour\":[{\"type\":\"contour\",\"colorbar\":{\"outlinewidth\":0,\"ticks\":\"\"},\"colorscale\":[[0.0,\"#0d0887\"],[0.1111111111111111,\"#46039f\"],[0.2222222222222222,\"#7201a8\"],[0.3333333333333333,\"#9c179e\"],[0.4444444444444444,\"#bd3786\"],[0.5555555555555556,\"#d8576b\"],[0.6666666666666666,\"#ed7953\"],[0.7777777777777778,\"#fb9f3a\"],[0.8888888888888888,\"#fdca26\"],[1.0,\"#f0f921\"]]}],\"surface\":[{\"type\":\"surface\",\"colorbar\":{\"outlinewidth\":0,\"ticks\":\"\"},\"colorscale\":[[0.0,\"#0d0887\"],[0.1111111111111111,\"#46039f\"],[0.2222222222222222,\"#7201a8\"],[0.3333333333333333,\"#9c179e\"],[0.4444444444444444,\"#bd3786\"],[0.5555555555555556,\"#d8576b\"],[0.6666666666666666,\"#ed7953\"],[0.7777777777777778,\"#fb9f3a\"],[0.8888888888888888,\"#fdca26\"],[1.0,\"#f0f921\"]]}],\"mesh3d\":[{\"type\":\"mesh3d\",\"colorbar\":{\"outlinewidth\":0,\"ticks\":\"\"}}],\"scatter\":[{\"marker\":{\"line\":{\"color\":\"#283442\"}},\"type\":\"scatter\"}],\"parcoords\":[{\"type\":\"parcoords\",\"line\":{\"colorbar\":{\"outlinewidth\":0,\"ticks\":\"\"}}}],\"scatterpolargl\":[{\"type\":\"scatterpolargl\",\"marker\":{\"colorbar\":{\"outlinewidth\":0,\"ticks\":\"\"}}}],\"bar\":[{\"error_x\":{\"color\":\"#f2f5fa\"},\"error_y\":{\"color\":\"#f2f5fa\"},\"marker\":{\"line\":{\"color\":\"rgb(17,17,17)\",\"width\":0.5},\"pattern\":{\"fillmode\":\"overlay\",\"size\":10,\"solidity\":0.2}},\"type\":\"bar\"}],\"scattergeo\":[{\"type\":\"scattergeo\",\"marker\":{\"colorbar\":{\"outlinewidth\":0,\"ticks\":\"\"}}}],\"scatterpolar\":[{\"type\":\"scatterpolar\",\"marker\":{\"colorbar\":{\"outlinewidth\":0,\"ticks\":\"\"}}}],\"histogram\":[{\"marker\":{\"pattern\":{\"fillmode\":\"overlay\",\"size\":10,\"solidity\":0.2}},\"type\":\"histogram\"}],\"scattergl\":[{\"marker\":{\"line\":{\"color\":\"#283442\"}},\"type\":\"scattergl\"}],\"scatter3d\":[{\"type\":\"scatter3d\",\"line\":{\"colorbar\":{\"outlinewidth\":0,\"ticks\":\"\"}},\"marker\":{\"colorbar\":{\"outlinewidth\":0,\"ticks\":\"\"}}}],\"scattermapbox\":[{\"type\":\"scattermapbox\",\"marker\":{\"colorbar\":{\"outlinewidth\":0,\"ticks\":\"\"}}}],\"scatterternary\":[{\"type\":\"scatterternary\",\"marker\":{\"colorbar\":{\"outlinewidth\":0,\"ticks\":\"\"}}}],\"scattercarpet\":[{\"type\":\"scattercarpet\",\"marker\":{\"colorbar\":{\"outlinewidth\":0,\"ticks\":\"\"}}}],\"carpet\":[{\"aaxis\":{\"endlinecolor\":\"#A2B1C6\",\"gridcolor\":\"#506784\",\"linecolor\":\"#506784\",\"minorgridcolor\":\"#506784\",\"startlinecolor\":\"#A2B1C6\"},\"baxis\":{\"endlinecolor\":\"#A2B1C6\",\"gridcolor\":\"#506784\",\"linecolor\":\"#506784\",\"minorgridcolor\":\"#506784\",\"startlinecolor\":\"#A2B1C6\"},\"type\":\"carpet\"}],\"table\":[{\"cells\":{\"fill\":{\"color\":\"#506784\"},\"line\":{\"color\":\"rgb(17,17,17)\"}},\"header\":{\"fill\":{\"color\":\"#2a3f5f\"},\"line\":{\"color\":\"rgb(17,17,17)\"}},\"type\":\"table\"}],\"barpolar\":[{\"marker\":{\"line\":{\"color\":\"rgb(17,17,17)\",\"width\":0.5},\"pattern\":{\"fillmode\":\"overlay\",\"size\":10,\"solidity\":0.2}},\"type\":\"barpolar\"}],\"pie\":[{\"automargin\":true,\"type\":\"pie\"}]},\"layout\":{\"autotypenumbers\":\"strict\",\"colorway\":[\"#636efa\",\"#EF553B\",\"#00cc96\",\"#ab63fa\",\"#FFA15A\",\"#19d3f3\",\"#FF6692\",\"#B6E880\",\"#FF97FF\",\"#FECB52\"],\"font\":{\"color\":\"#f2f5fa\"},\"hovermode\":\"closest\",\"hoverlabel\":{\"align\":\"left\"},\"paper_bgcolor\":\"rgb(17,17,17)\",\"plot_bgcolor\":\"rgb(17,17,17)\",\"polar\":{\"bgcolor\":\"rgb(17,17,17)\",\"angularaxis\":{\"gridcolor\":\"#506784\",\"linecolor\":\"#506784\",\"ticks\":\"\"},\"radialaxis\":{\"gridcolor\":\"#506784\",\"linecolor\":\"#506784\",\"ticks\":\"\"}},\"ternary\":{\"bgcolor\":\"rgb(17,17,17)\",\"aaxis\":{\"gridcolor\":\"#506784\",\"linecolor\":\"#506784\",\"ticks\":\"\"},\"baxis\":{\"gridcolor\":\"#506784\",\"linecolor\":\"#506784\",\"ticks\":\"\"},\"caxis\":{\"gridcolor\":\"#506784\",\"linecolor\":\"#506784\",\"ticks\":\"\"}},\"coloraxis\":{\"colorbar\":{\"outlinewidth\":0,\"ticks\":\"\"}},\"colorscale\":{\"sequential\":[[0.0,\"#0d0887\"],[0.1111111111111111,\"#46039f\"],[0.2222222222222222,\"#7201a8\"],[0.3333333333333333,\"#9c179e\"],[0.4444444444444444,\"#bd3786\"],[0.5555555555555556,\"#d8576b\"],[0.6666666666666666,\"#ed7953\"],[0.7777777777777778,\"#fb9f3a\"],[0.8888888888888888,\"#fdca26\"],[1.0,\"#f0f921\"]],\"sequentialminus\":[[0.0,\"#0d0887\"],[0.1111111111111111,\"#46039f\"],[0.2222222222222222,\"#7201a8\"],[0.3333333333333333,\"#9c179e\"],[0.4444444444444444,\"#bd3786\"],[0.5555555555555556,\"#d8576b\"],[0.6666666666666666,\"#ed7953\"],[0.7777777777777778,\"#fb9f3a\"],[0.8888888888888888,\"#fdca26\"],[1.0,\"#f0f921\"]],\"diverging\":[[0,\"#8e0152\"],[0.1,\"#c51b7d\"],[0.2,\"#de77ae\"],[0.3,\"#f1b6da\"],[0.4,\"#fde0ef\"],[0.5,\"#f7f7f7\"],[0.6,\"#e6f5d0\"],[0.7,\"#b8e186\"],[0.8,\"#7fbc41\"],[0.9,\"#4d9221\"],[1,\"#276419\"]]},\"xaxis\":{\"gridcolor\":\"#283442\",\"linecolor\":\"#506784\",\"ticks\":\"\",\"title\":{\"standoff\":15},\"zerolinecolor\":\"#283442\",\"automargin\":true,\"zerolinewidth\":2},\"yaxis\":{\"gridcolor\":\"#283442\",\"linecolor\":\"#506784\",\"ticks\":\"\",\"title\":{\"standoff\":15},\"zerolinecolor\":\"#283442\",\"automargin\":true,\"zerolinewidth\":2},\"scene\":{\"xaxis\":{\"backgroundcolor\":\"rgb(17,17,17)\",\"gridcolor\":\"#506784\",\"linecolor\":\"#506784\",\"showbackground\":true,\"ticks\":\"\",\"zerolinecolor\":\"#C8D4E3\",\"gridwidth\":2},\"yaxis\":{\"backgroundcolor\":\"rgb(17,17,17)\",\"gridcolor\":\"#506784\",\"linecolor\":\"#506784\",\"showbackground\":true,\"ticks\":\"\",\"zerolinecolor\":\"#C8D4E3\",\"gridwidth\":2},\"zaxis\":{\"backgroundcolor\":\"rgb(17,17,17)\",\"gridcolor\":\"#506784\",\"linecolor\":\"#506784\",\"showbackground\":true,\"ticks\":\"\",\"zerolinecolor\":\"#C8D4E3\",\"gridwidth\":2}},\"shapedefaults\":{\"line\":{\"color\":\"#f2f5fa\"}},\"annotationdefaults\":{\"arrowcolor\":\"#f2f5fa\",\"arrowhead\":0,\"arrowwidth\":1},\"geo\":{\"bgcolor\":\"rgb(17,17,17)\",\"landcolor\":\"rgb(17,17,17)\",\"subunitcolor\":\"#506784\",\"showland\":true,\"showlakes\":true,\"lakecolor\":\"rgb(17,17,17)\"},\"title\":{\"x\":0.05},\"updatemenudefaults\":{\"bgcolor\":\"#506784\",\"borderwidth\":0},\"sliderdefaults\":{\"bgcolor\":\"#C8D4E3\",\"borderwidth\":1,\"bordercolor\":\"rgb(17,17,17)\",\"tickwidth\":0},\"mapbox\":{\"style\":\"dark\"}}},\"xaxis\":{\"anchor\":\"y\",\"domain\":[0.0,1.0],\"title\":{\"text\":\"Startup Name\"},\"categoryorder\":\"array\",\"categoryarray\":[\"French Crown\",\"Guardian Gears\",\"Raising Superstars\",\"PlayBoxTV\",\"Alpino\",\"Hammer Lifestyle\",\"Shades of Spring\",\"Tagz Foods\",\"Devnagri\",\"Moonshine\"]},\"yaxis\":{\"anchor\":\"x\",\"domain\":[0.0,1.0],\"title\":{\"text\":\"Yearly Revenue\"}},\"legend\":{\"title\":{\"text\":\"Startup Name\"},\"tracegroupgap\":0},\"title\":{\"text\":\"Highest Revenue of the pitches\"},\"barmode\":\"relative\"},                        {\"responsive\": true}                    ).then(function(){\n",
       "                            \n",
       "var gd = document.getElementById('635adf3c-35b0-42ea-be21-b69faaa4cc55');\n",
       "var x = new MutationObserver(function (mutations, observer) {{\n",
       "        var display = window.getComputedStyle(gd).display;\n",
       "        if (!display || display === 'none') {{\n",
       "            console.log([gd, 'removed!']);\n",
       "            Plotly.purge(gd);\n",
       "            observer.disconnect();\n",
       "        }}\n",
       "}});\n",
       "\n",
       "// Listen for the removal of the full notebook cells\n",
       "var notebookContainer = gd.closest('#notebook-container');\n",
       "if (notebookContainer) {{\n",
       "    x.observe(notebookContainer, {childList: true});\n",
       "}}\n",
       "\n",
       "// Listen for the clearing of the current output cell\n",
       "var outputEl = gd.closest('.output');\n",
       "if (outputEl) {{\n",
       "    x.observe(outputEl, {childList: true});\n",
       "}}\n",
       "\n",
       "                        })                };                });            </script>        </div>"
      ]
     },
     "metadata": {},
     "output_type": "display_data"
    }
   ],
   "source": [
    "print(shark_tank.groupby('Startup Name')['Yearly Revenue'].max().nlargest(10))\n",
    "\n",
    "tmpdf = shark_tank.sort_values('Yearly Revenue', ascending=False)[0:10]\n",
    "fig = px.bar(tmpdf, x=\"Startup Name\", y='Yearly Revenue', color=\"Startup Name\", title=\"Highest Revenue of the pitches\", text=tmpdf['Yearly Revenue'].map(int).map(str) + \"%\")\n",
    "fig.show()"
   ]
  },
  {
   "cell_type": "markdown",
   "id": "bcf68763",
   "metadata": {
    "papermill": {
     "duration": 0.019886,
     "end_time": "2022-06-29T08:37:09.017317",
     "exception": false,
     "start_time": "2022-06-29T08:37:08.997431",
     "status": "completed"
    },
    "tags": []
   },
   "source": [
    "## How many accepted or rejected sharks offers?\n"
   ]
  },
  {
   "cell_type": "code",
   "execution_count": 12,
   "id": "19db60ff",
   "metadata": {
    "execution": {
     "iopub.execute_input": "2022-06-29T08:37:09.059396Z",
     "iopub.status.busy": "2022-06-29T08:37:09.058995Z",
     "iopub.status.idle": "2022-06-29T08:37:09.230667Z",
     "shell.execute_reply": "2022-06-29T08:37:09.229488Z"
    },
    "papermill": {
     "duration": 0.195252,
     "end_time": "2022-06-29T08:37:09.232868",
     "exception": false,
     "start_time": "2022-06-29T08:37:09.037616",
     "status": "completed"
    },
    "tags": []
   },
   "outputs": [
    {
     "name": "stdout",
     "output_type": "stream",
     "text": [
      "1    73%\n",
      "0    27%\n",
      "Name: Received Offer, dtype: object \n",
      "\n"
     ]
    },
    {
     "data": {
      "text/plain": [
       "<AxesSubplot:xlabel='Received Offer', ylabel='count'>"
      ]
     },
     "execution_count": 12,
     "metadata": {},
     "output_type": "execute_result"
    },
    {
     "data": {
      "image/png": "[encoded data removed]",
      "text/plain": [
       "<Figure size 432x288 with 1 Axes>"
      ]
     },
     "metadata": {
      "needs_background": "light"
     },
     "output_type": "display_data"
    }
   ],
   "source": [
    "print(round(shark_tank['Received Offer'].value_counts(normalize=True)*100).astype(str).str.replace('.0', '%'), \"\\n\")\n",
    "sns.countplot(x='Received Offer', data=shark_tank, palette='deep')"
   ]
  },
  {
   "cell_type": "markdown",
   "id": "770d8811",
   "metadata": {
    "papermill": {
     "duration": 0.019825,
     "end_time": "2022-06-29T08:37:09.272927",
     "exception": false,
     "start_time": "2022-06-29T08:37:09.253102",
     "status": "completed"
    },
    "tags": []
   },
   "source": [
    "73% companies accepted offer while the remaining 27% could not convince the sharks to make an offer"
   ]
  },
  {
   "cell_type": "code",
   "execution_count": 13,
   "id": "1c5ff433",
   "metadata": {
    "execution": {
     "iopub.execute_input": "2022-06-29T08:37:09.315728Z",
     "iopub.status.busy": "2022-06-29T08:37:09.315280Z",
     "iopub.status.idle": "2022-06-29T08:37:09.499778Z",
     "shell.execute_reply": "2022-06-29T08:37:09.498754Z"
    },
    "papermill": {
     "duration": 0.208248,
     "end_time": "2022-06-29T08:37:09.501912",
     "exception": false,
     "start_time": "2022-06-29T08:37:09.293664",
     "status": "completed"
    },
    "tags": []
   },
   "outputs": [
    {
     "name": "stdout",
     "output_type": "stream",
     "text": [
      "1.0    76%\n",
      "0.0    24%\n",
      "Name: Accepted Offer, dtype: object \n",
      "\n"
     ]
    },
    {
     "data": {
      "text/plain": [
       "<AxesSubplot:xlabel='Accepted Offer', ylabel='count'>"
      ]
     },
     "execution_count": 13,
     "metadata": {},
     "output_type": "execute_result"
    },
    {
     "data": {
      "image/png": "[encoded data removed]",
      "text/plain": [
       "<Figure size 432x288 with 1 Axes>"
      ]
     },
     "metadata": {
      "needs_background": "light"
     },
     "output_type": "display_data"
    }
   ],
   "source": [
    "print(round(shark_tank['Accepted Offer'].value_counts(normalize=True)*100).astype(str).str.replace('.0', '%'), \"\\n\")\n",
    "sns.countplot(x='Accepted Offer', data=shark_tank, palette=\"viridis\")"
   ]
  },
  {
   "cell_type": "markdown",
   "id": "59d8b301",
   "metadata": {
    "papermill": {
     "duration": 0.020664,
     "end_time": "2022-06-29T08:37:09.543785",
     "exception": false,
     "start_time": "2022-06-29T08:37:09.523121",
     "status": "completed"
    },
    "tags": []
   },
   "source": [
    "76% companies accepted the offer while the remaining 24% rejected sharks offer"
   ]
  },
  {
   "cell_type": "markdown",
   "id": "e5a38797",
   "metadata": {
    "papermill": {
     "duration": 0.020478,
     "end_time": "2022-06-29T08:37:09.584278",
     "exception": false,
     "start_time": "2022-06-29T08:37:09.563800",
     "status": "completed"
    },
    "tags": []
   },
   "source": [
    "## Startup Companies who rejected sharks offer"
   ]
  },
  {
   "cell_type": "code",
   "execution_count": 14,
   "id": "65355657",
   "metadata": {
    "execution": {
     "iopub.execute_input": "2022-06-29T08:37:09.627262Z",
     "iopub.status.busy": "2022-06-29T08:37:09.626401Z",
     "iopub.status.idle": "2022-06-29T08:37:09.646646Z",
     "shell.execute_reply": "2022-06-29T08:37:09.645356Z"
    },
    "papermill": {
     "duration": 0.043999,
     "end_time": "2022-06-29T08:37:09.648738",
     "exception": false,
     "start_time": "2022-06-29T08:37:09.604739",
     "status": "completed"
    },
    "tags": []
   },
   "outputs": [
    {
     "data": {
      "text/html": [
       "<div>\n",
       "<style scoped>\n",
       "    .dataframe tbody tr th:only-of-type {\n",
       "        vertical-align: middle;\n",
       "    }\n",
       "\n",
       "    .dataframe tbody tr th {\n",
       "        vertical-align: top;\n",
       "    }\n",
       "\n",
       "    .dataframe thead th {\n",
       "        text-align: right;\n",
       "    }\n",
       "</style>\n",
       "<table border=\"1\" class=\"dataframe\">\n",
       "  <thead>\n",
       "    <tr style=\"text-align: right;\">\n",
       "      <th></th>\n",
       "      <th>Startup Name</th>\n",
       "      <th>Original Ask Amount</th>\n",
       "      <th>Original Ask Equity</th>\n",
       "      <th>Valuation Requested</th>\n",
       "      <th>Valuation Offered</th>\n",
       "    </tr>\n",
       "  </thead>\n",
       "  <tbody>\n",
       "    <tr>\n",
       "      <th>6</th>\n",
       "      <td>qZense Labs</td>\n",
       "      <td>100.0</td>\n",
       "      <td>0.25</td>\n",
       "      <td>40000</td>\n",
       "      <td>NaN</td>\n",
       "    </tr>\n",
       "    <tr>\n",
       "      <th>19</th>\n",
       "      <td>Torch-it</td>\n",
       "      <td>75.0</td>\n",
       "      <td>1.00</td>\n",
       "      <td>7500</td>\n",
       "      <td>NaN</td>\n",
       "    </tr>\n",
       "    <tr>\n",
       "      <th>20</th>\n",
       "      <td>La Kheer Deli</td>\n",
       "      <td>50.0</td>\n",
       "      <td>7.50</td>\n",
       "      <td>667</td>\n",
       "      <td>NaN</td>\n",
       "    </tr>\n",
       "    <tr>\n",
       "      <th>26</th>\n",
       "      <td>Kabira Handmad</td>\n",
       "      <td>100.0</td>\n",
       "      <td>5.00</td>\n",
       "      <td>2000</td>\n",
       "      <td>NaN</td>\n",
       "    </tr>\n",
       "    <tr>\n",
       "      <th>40</th>\n",
       "      <td>Morriko Pure Foods</td>\n",
       "      <td>100.0</td>\n",
       "      <td>3.00</td>\n",
       "      <td>3333</td>\n",
       "      <td>NaN</td>\n",
       "    </tr>\n",
       "    <tr>\n",
       "      <th>54</th>\n",
       "      <td>India Hemp and Co</td>\n",
       "      <td>50.0</td>\n",
       "      <td>4.00</td>\n",
       "      <td>1250</td>\n",
       "      <td>NaN</td>\n",
       "    </tr>\n",
       "    <tr>\n",
       "      <th>59</th>\n",
       "      <td>Keto India</td>\n",
       "      <td>150.0</td>\n",
       "      <td>1.25</td>\n",
       "      <td>12000</td>\n",
       "      <td>NaN</td>\n",
       "    </tr>\n",
       "    <tr>\n",
       "      <th>69</th>\n",
       "      <td>Moonshine</td>\n",
       "      <td>80.0</td>\n",
       "      <td>0.50</td>\n",
       "      <td>16000</td>\n",
       "      <td>NaN</td>\n",
       "    </tr>\n",
       "    <tr>\n",
       "      <th>70</th>\n",
       "      <td>Falhari</td>\n",
       "      <td>50.0</td>\n",
       "      <td>2.00</td>\n",
       "      <td>2500</td>\n",
       "      <td>NaN</td>\n",
       "    </tr>\n",
       "    <tr>\n",
       "      <th>72</th>\n",
       "      <td>Urban Monkey</td>\n",
       "      <td>100.0</td>\n",
       "      <td>1.00</td>\n",
       "      <td>10000</td>\n",
       "      <td>NaN</td>\n",
       "    </tr>\n",
       "    <tr>\n",
       "      <th>73</th>\n",
       "      <td>Guardian Gears</td>\n",
       "      <td>30.0</td>\n",
       "      <td>5.00</td>\n",
       "      <td>600</td>\n",
       "      <td>NaN</td>\n",
       "    </tr>\n",
       "    <tr>\n",
       "      <th>80</th>\n",
       "      <td>Alpino</td>\n",
       "      <td>150.0</td>\n",
       "      <td>2.00</td>\n",
       "      <td>7500</td>\n",
       "      <td>NaN</td>\n",
       "    </tr>\n",
       "    <tr>\n",
       "      <th>86</th>\n",
       "      <td>Aliste Technologies</td>\n",
       "      <td>60.0</td>\n",
       "      <td>5.00</td>\n",
       "      <td>1200</td>\n",
       "      <td>NaN</td>\n",
       "    </tr>\n",
       "    <tr>\n",
       "      <th>92</th>\n",
       "      <td>PDD Falcon</td>\n",
       "      <td>75.0</td>\n",
       "      <td>3.00</td>\n",
       "      <td>2500</td>\n",
       "      <td>NaN</td>\n",
       "    </tr>\n",
       "    <tr>\n",
       "      <th>93</th>\n",
       "      <td>PlayBoxTV</td>\n",
       "      <td>100.0</td>\n",
       "      <td>3.50</td>\n",
       "      <td>2857</td>\n",
       "      <td>NaN</td>\n",
       "    </tr>\n",
       "    <tr>\n",
       "      <th>103</th>\n",
       "      <td>ExperentialEtc</td>\n",
       "      <td>200.0</td>\n",
       "      <td>4.00</td>\n",
       "      <td>5000</td>\n",
       "      <td>NaN</td>\n",
       "    </tr>\n",
       "    <tr>\n",
       "      <th>105</th>\n",
       "      <td>C3 Med-Tech</td>\n",
       "      <td>35.0</td>\n",
       "      <td>6.00</td>\n",
       "      <td>583</td>\n",
       "      <td>NaN</td>\n",
       "    </tr>\n",
       "    <tr>\n",
       "      <th>112</th>\n",
       "      <td>Green Protein</td>\n",
       "      <td>60.0</td>\n",
       "      <td>2.00</td>\n",
       "      <td>3000</td>\n",
       "      <td>NaN</td>\n",
       "    </tr>\n",
       "    <tr>\n",
       "      <th>115</th>\n",
       "      <td>Woloo</td>\n",
       "      <td>50.0</td>\n",
       "      <td>4.00</td>\n",
       "      <td>1250</td>\n",
       "      <td>NaN</td>\n",
       "    </tr>\n",
       "    <tr>\n",
       "      <th>118</th>\n",
       "      <td>French Crown</td>\n",
       "      <td>150.0</td>\n",
       "      <td>0.33</td>\n",
       "      <td>45455</td>\n",
       "      <td>NaN</td>\n",
       "    </tr>\n",
       "    <tr>\n",
       "      <th>120</th>\n",
       "      <td>Devnagri</td>\n",
       "      <td>100.0</td>\n",
       "      <td>1.00</td>\n",
       "      <td>10000</td>\n",
       "      <td>NaN</td>\n",
       "    </tr>\n",
       "  </tbody>\n",
       "</table>\n",
       "</div>"
      ],
      "text/plain": [
       "            Startup Name  Original Ask Amount  Original Ask Equity  \\\n",
       "6            qZense Labs                100.0                 0.25   \n",
       "19              Torch-it                 75.0                 1.00   \n",
       "20         La Kheer Deli                 50.0                 7.50   \n",
       "26        Kabira Handmad                100.0                 5.00   \n",
       "40    Morriko Pure Foods                100.0                 3.00   \n",
       "54     India Hemp and Co                 50.0                 4.00   \n",
       "59            Keto India                150.0                 1.25   \n",
       "69             Moonshine                 80.0                 0.50   \n",
       "70               Falhari                 50.0                 2.00   \n",
       "72          Urban Monkey                100.0                 1.00   \n",
       "73        Guardian Gears                 30.0                 5.00   \n",
       "80                Alpino                150.0                 2.00   \n",
       "86   Aliste Technologies                 60.0                 5.00   \n",
       "92            PDD Falcon                 75.0                 3.00   \n",
       "93             PlayBoxTV                100.0                 3.50   \n",
       "103       ExperentialEtc                200.0                 4.00   \n",
       "105          C3 Med-Tech                 35.0                 6.00   \n",
       "112        Green Protein                 60.0                 2.00   \n",
       "115                Woloo                 50.0                 4.00   \n",
       "118         French Crown                150.0                 0.33   \n",
       "120             Devnagri                100.0                 1.00   \n",
       "\n",
       "     Valuation Requested  Valuation Offered  \n",
       "6                  40000                NaN  \n",
       "19                  7500                NaN  \n",
       "20                   667                NaN  \n",
       "26                  2000                NaN  \n",
       "40                  3333                NaN  \n",
       "54                  1250                NaN  \n",
       "59                 12000                NaN  \n",
       "69                 16000                NaN  \n",
       "70                  2500                NaN  \n",
       "72                 10000                NaN  \n",
       "73                   600                NaN  \n",
       "80                  7500                NaN  \n",
       "86                  1200                NaN  \n",
       "92                  2500                NaN  \n",
       "93                  2857                NaN  \n",
       "103                 5000                NaN  \n",
       "105                  583                NaN  \n",
       "112                 3000                NaN  \n",
       "115                 1250                NaN  \n",
       "118                45455                NaN  \n",
       "120                10000                NaN  "
      ]
     },
     "execution_count": 14,
     "metadata": {},
     "output_type": "execute_result"
    }
   ],
   "source": [
    "shark_tank.loc[shark_tank['Accepted Offer']==0, [\"Startup Name\",\"Original Ask Amount\",\"Original Ask Equity\",\"Valuation Requested\",\"Valuation Offered\"]]"
   ]
  },
  {
   "cell_type": "markdown",
   "id": "f8292b6a",
   "metadata": {
    "papermill": {
     "duration": 0.020346,
     "end_time": "2022-06-29T08:37:09.690196",
     "exception": false,
     "start_time": "2022-06-29T08:37:09.669850",
     "status": "completed"
    },
    "tags": []
   },
   "source": [
    "## Industry wise Investments By different sharks"
   ]
  },
  {
   "cell_type": "code",
   "execution_count": 15,
   "id": "4af3c5f3",
   "metadata": {
    "execution": {
     "iopub.execute_input": "2022-06-29T08:37:09.733544Z",
     "iopub.status.busy": "2022-06-29T08:37:09.732747Z",
     "iopub.status.idle": "2022-06-29T08:37:10.128286Z",
     "shell.execute_reply": "2022-06-29T08:37:10.127073Z"
    },
    "papermill": {
     "duration": 0.419762,
     "end_time": "2022-06-29T08:37:10.130533",
     "exception": false,
     "start_time": "2022-06-29T08:37:09.710771",
     "status": "completed"
    },
    "tags": []
   },
   "outputs": [
    {
     "name": "stdout",
     "output_type": "stream",
     "text": [
      "Food                   8\n",
      "Electrical Vehicles    3\n",
      "Education              3\n",
      "Manufacturing          2\n",
      "Beauty/Fashion         2\n",
      "Animal/Pets            1\n",
      "Sports                 1\n",
      "Technology             1\n",
      "Name: Industry, dtype: int64\n"
     ]
    },
    {
     "data": {
      "image/png": "[encoded data removed]",
      "text/plain": [
       "<Figure size 432x288 with 1 Axes>"
      ]
     },
     "metadata": {},
     "output_type": "display_data"
    },
    {
     "data": {
      "text/html": [
       "<div>                            <div id=\"ede9a640-cfb8-448a-ace7-dc3eedf6980c\" class=\"plotly-graph-div\" style=\"height:525px; width:100%;\"></div>            <script type=\"text/javascript\">                require([\"plotly\"], function(Plotly) {                    window.PLOTLYENV=window.PLOTLYENV || {};                                    if (document.getElementById(\"ede9a640-cfb8-448a-ace7-dc3eedf6980c\")) {                    Plotly.newPlot(                        \"ede9a640-cfb8-448a-ace7-dc3eedf6980c\",                        [{\"alignmentgroup\":\"True\",\"hovertemplate\":\"Startup Name=Otua<br>Ashneer Investment Equity=%{x}<br>Ashneer Investment Amount=%{y}<br>text=%{text}<extra></extra>\",\"legendgroup\":\"Otua\",\"marker\":{\"color\":\"#636efa\",\"pattern\":{\"shape\":\"\"}},\"name\":\"Otua\",\"offsetgroup\":\"Otua\",\"orientation\":\"v\",\"showlegend\":true,\"text\":[\"1 lakhs\"],\"textposition\":\"auto\",\"x\":[1.0],\"xaxis\":\"x\",\"y\":[1.0],\"yaxis\":\"y\",\"type\":\"bar\"},{\"alignmentgroup\":\"True\",\"hovertemplate\":\"Startup Name=EventBeep<br>Ashneer Investment Equity=%{x}<br>Ashneer Investment Amount=%{y}<br>text=%{text}<extra></extra>\",\"legendgroup\":\"EventBeep\",\"marker\":{\"color\":\"#EF553B\",\"pattern\":{\"shape\":\"\"}},\"name\":\"EventBeep\",\"offsetgroup\":\"EventBeep\",\"orientation\":\"v\",\"showlegend\":true,\"text\":[\"10 lakhs\"],\"textposition\":\"auto\",\"x\":[1.0],\"xaxis\":\"x\",\"y\":[10.0],\"yaxis\":\"y\",\"type\":\"bar\"},{\"alignmentgroup\":\"True\",\"hovertemplate\":\"Startup Name=Beyond Snack<br>Ashneer Investment Equity=%{x}<br>Ashneer Investment Amount=%{y}<br>text=%{text}<extra></extra>\",\"legendgroup\":\"Beyond Snack\",\"marker\":{\"color\":\"#00cc96\",\"pattern\":{\"shape\":\"\"}},\"name\":\"Beyond Snack\",\"offsetgroup\":\"Beyond Snack\",\"orientation\":\"v\",\"showlegend\":true,\"text\":[\"25 lakhs\"],\"textposition\":\"auto\",\"x\":[1.25],\"xaxis\":\"x\",\"y\":[25.0],\"yaxis\":\"y\",\"type\":\"bar\"},{\"alignmentgroup\":\"True\",\"hovertemplate\":\"Startup Name=Hair Originals<br>Ashneer Investment Equity=%{x}<br>Ashneer Investment Amount=%{y}<br>text=%{text}<extra></extra>\",\"legendgroup\":\"Hair Originals\",\"marker\":{\"color\":\"#ab63fa\",\"pattern\":{\"shape\":\"\"}},\"name\":\"Hair Originals\",\"offsetgroup\":\"Hair Originals\",\"orientation\":\"v\",\"showlegend\":true,\"text\":[\"20 lakhs\"],\"textposition\":\"auto\",\"x\":[1.33],\"xaxis\":\"x\",\"y\":[20.0],\"yaxis\":\"y\",\"type\":\"bar\"},{\"alignmentgroup\":\"True\",\"hovertemplate\":\"Startup Name=Bamboo India<br>Ashneer Investment Equity=%{x}<br>Ashneer Investment Amount=%{y}<br>text=%{text}<extra></extra>\",\"legendgroup\":\"Bamboo India\",\"marker\":{\"color\":\"#FFA15A\",\"pattern\":{\"shape\":\"\"}},\"name\":\"Bamboo India\",\"offsetgroup\":\"Bamboo India\",\"orientation\":\"v\",\"showlegend\":true,\"text\":[\"25 lakhs\"],\"textposition\":\"auto\",\"x\":[1.75],\"xaxis\":\"x\",\"y\":[25.0],\"yaxis\":\"y\",\"type\":\"bar\"},{\"alignmentgroup\":\"True\",\"hovertemplate\":\"Startup Name=IN A CAN<br>Ashneer Investment Equity=%{x}<br>Ashneer Investment Amount=%{y}<br>text=%{text}<extra></extra>\",\"legendgroup\":\"IN A CAN\",\"marker\":{\"color\":\"#19d3f3\",\"pattern\":{\"shape\":\"\"}},\"name\":\"IN A CAN\",\"offsetgroup\":\"IN A CAN\",\"orientation\":\"v\",\"showlegend\":true,\"text\":[\"20 lakhs\"],\"textposition\":\"auto\",\"x\":[2.0],\"xaxis\":\"x\",\"y\":[20.0],\"yaxis\":\"y\",\"type\":\"bar\"},{\"alignmentgroup\":\"True\",\"hovertemplate\":\"Startup Name=Raising Superstars<br>Ashneer Investment Equity=%{x}<br>Ashneer Investment Amount=%{y}<br>text=%{text}<extra></extra>\",\"legendgroup\":\"Raising Superstars\",\"marker\":{\"color\":\"#FF6692\",\"pattern\":{\"shape\":\"\"}},\"name\":\"Raising Superstars\",\"offsetgroup\":\"Raising Superstars\",\"orientation\":\"v\",\"showlegend\":true,\"text\":[\"50 lakhs\"],\"textposition\":\"auto\",\"x\":[2.0],\"xaxis\":\"x\",\"y\":[50.0],\"yaxis\":\"y\",\"type\":\"bar\"},{\"alignmentgroup\":\"True\",\"hovertemplate\":\"Startup Name=WeSTOCK<br>Ashneer Investment Equity=%{x}<br>Ashneer Investment Amount=%{y}<br>text=%{text}<extra></extra>\",\"legendgroup\":\"WeSTOCK\",\"marker\":{\"color\":\"#B6E880\",\"pattern\":{\"shape\":\"\"}},\"name\":\"WeSTOCK\",\"offsetgroup\":\"WeSTOCK\",\"orientation\":\"v\",\"showlegend\":true,\"text\":[\"15 lakhs\"],\"textposition\":\"auto\",\"x\":[2.5],\"xaxis\":\"x\",\"y\":[15.0],\"yaxis\":\"y\",\"type\":\"bar\"},{\"alignmentgroup\":\"True\",\"hovertemplate\":\"Startup Name=The Yarn Bazaar<br>Ashneer Investment Equity=%{x}<br>Ashneer Investment Amount=%{y}<br>text=%{text}<extra></extra>\",\"legendgroup\":\"The Yarn Bazaar\",\"marker\":{\"color\":\"#FF97FF\",\"pattern\":{\"shape\":\"\"}},\"name\":\"The Yarn Bazaar\",\"offsetgroup\":\"The Yarn Bazaar\",\"orientation\":\"v\",\"showlegend\":true,\"text\":[\"25 lakhs\"],\"textposition\":\"auto\",\"x\":[2.5],\"xaxis\":\"x\",\"y\":[25.0],\"yaxis\":\"y\",\"type\":\"bar\"},{\"alignmentgroup\":\"True\",\"hovertemplate\":\"Startup Name=Tagz Foods<br>Ashneer Investment Equity=%{x}<br>Ashneer Investment Amount=%{y}<br>text=%{text}<extra></extra>\",\"legendgroup\":\"Tagz Foods\",\"marker\":{\"color\":\"#FECB52\",\"pattern\":{\"shape\":\"\"}},\"name\":\"Tagz Foods\",\"offsetgroup\":\"Tagz Foods\",\"orientation\":\"v\",\"showlegend\":true,\"text\":[\"70 lakhs\"],\"textposition\":\"auto\",\"x\":[2.75],\"xaxis\":\"x\",\"y\":[70.0],\"yaxis\":\"y\",\"type\":\"bar\"},{\"alignmentgroup\":\"True\",\"hovertemplate\":\"Startup Name=Skippi Ice Pops<br>Ashneer Investment Equity=%{x}<br>Ashneer Investment Amount=%{y}<br>text=%{text}<extra></extra>\",\"legendgroup\":\"Skippi Ice Pops\",\"marker\":{\"color\":\"#636efa\",\"pattern\":{\"shape\":\"\"}},\"name\":\"Skippi Ice Pops\",\"offsetgroup\":\"Skippi Ice Pops\",\"orientation\":\"v\",\"showlegend\":true,\"text\":[\"20 lakhs\"],\"textposition\":\"auto\",\"x\":[3.0],\"xaxis\":\"x\",\"y\":[20.0],\"yaxis\":\"y\",\"type\":\"bar\"},{\"alignmentgroup\":\"True\",\"hovertemplate\":\"Startup Name=Tweek Labs<br>Ashneer Investment Equity=%{x}<br>Ashneer Investment Amount=%{y}<br>text=%{text}<extra></extra>\",\"legendgroup\":\"Tweek Labs\",\"marker\":{\"color\":\"#EF553B\",\"pattern\":{\"shape\":\"\"}},\"name\":\"Tweek Labs\",\"offsetgroup\":\"Tweek Labs\",\"orientation\":\"v\",\"showlegend\":true,\"text\":[\"20 lakhs\"],\"textposition\":\"auto\",\"x\":[3.33],\"xaxis\":\"x\",\"y\":[20.0],\"yaxis\":\"y\",\"type\":\"bar\"},{\"alignmentgroup\":\"True\",\"hovertemplate\":\"Startup Name=Nomad Food Project<br>Ashneer Investment Equity=%{x}<br>Ashneer Investment Amount=%{y}<br>text=%{text}<extra></extra>\",\"legendgroup\":\"Nomad Food Project\",\"marker\":{\"color\":\"#00cc96\",\"pattern\":{\"shape\":\"\"}},\"name\":\"Nomad Food Project\",\"offsetgroup\":\"Nomad Food Project\",\"orientation\":\"v\",\"showlegend\":true,\"text\":[\"10 lakhs\"],\"textposition\":\"auto\",\"x\":[5.0],\"xaxis\":\"x\",\"y\":[10.0],\"yaxis\":\"y\",\"type\":\"bar\"},{\"alignmentgroup\":\"True\",\"hovertemplate\":\"Startup Name=Aas Vidyalaya<br>Ashneer Investment Equity=%{x}<br>Ashneer Investment Amount=%{y}<br>text=%{text}<extra></extra>\",\"legendgroup\":\"Aas Vidyalaya\",\"marker\":{\"color\":\"#ab63fa\",\"pattern\":{\"shape\":\"\"}},\"name\":\"Aas Vidyalaya\",\"offsetgroup\":\"Aas Vidyalaya\",\"orientation\":\"v\",\"showlegend\":true,\"text\":[\"50 lakhs\"],\"textposition\":\"auto\",\"x\":[5.0],\"xaxis\":\"x\",\"y\":[50.0],\"yaxis\":\"y\",\"type\":\"bar\"},{\"alignmentgroup\":\"True\",\"hovertemplate\":\"Startup Name=Proxgy<br>Ashneer Investment Equity=%{x}<br>Ashneer Investment Amount=%{y}<br>text=%{text}<extra></extra>\",\"legendgroup\":\"Proxgy\",\"marker\":{\"color\":\"#FFA15A\",\"pattern\":{\"shape\":\"\"}},\"name\":\"Proxgy\",\"offsetgroup\":\"Proxgy\",\"orientation\":\"v\",\"showlegend\":true,\"text\":[\"50 lakhs\"],\"textposition\":\"auto\",\"x\":[5.0],\"xaxis\":\"x\",\"y\":[50.0],\"yaxis\":\"y\",\"type\":\"bar\"},{\"alignmentgroup\":\"True\",\"hovertemplate\":\"Startup Name=Get-A-Whey<br>Ashneer Investment Equity=%{x}<br>Ashneer Investment Amount=%{y}<br>text=%{text}<extra></extra>\",\"legendgroup\":\"Get-A-Whey\",\"marker\":{\"color\":\"#19d3f3\",\"pattern\":{\"shape\":\"\"}},\"name\":\"Get-A-Whey\",\"offsetgroup\":\"Get-A-Whey\",\"orientation\":\"v\",\"showlegend\":true,\"text\":[\"33 lakhs\"],\"textposition\":\"auto\",\"x\":[5.0],\"xaxis\":\"x\",\"y\":[33.33],\"yaxis\":\"y\",\"type\":\"bar\"},{\"alignmentgroup\":\"True\",\"hovertemplate\":\"Startup Name=Find Your Kicks India<br>Ashneer Investment Equity=%{x}<br>Ashneer Investment Amount=%{y}<br>text=%{text}<extra></extra>\",\"legendgroup\":\"Find Your Kicks India\",\"marker\":{\"color\":\"#FF6692\",\"pattern\":{\"shape\":\"\"}},\"name\":\"Find Your Kicks India\",\"offsetgroup\":\"Find Your Kicks India\",\"orientation\":\"v\",\"showlegend\":true,\"text\":[\"10 lakhs\"],\"textposition\":\"auto\",\"x\":[5.0],\"xaxis\":\"x\",\"y\":[10.0],\"yaxis\":\"y\",\"type\":\"bar\"},{\"alignmentgroup\":\"True\",\"hovertemplate\":\"Startup Name=BluePine Foods<br>Ashneer Investment Equity=%{x}<br>Ashneer Investment Amount=%{y}<br>text=%{text}<extra></extra>\",\"legendgroup\":\"BluePine Foods\",\"marker\":{\"color\":\"#B6E880\",\"pattern\":{\"shape\":\"\"}},\"name\":\"BluePine Foods\",\"offsetgroup\":\"BluePine Foods\",\"orientation\":\"v\",\"showlegend\":true,\"text\":[\"25 lakhs\"],\"textposition\":\"auto\",\"x\":[5.33],\"xaxis\":\"x\",\"y\":[25.0],\"yaxis\":\"y\",\"type\":\"bar\"},{\"alignmentgroup\":\"True\",\"hovertemplate\":\"Startup Name=Motion Breeze<br>Ashneer Investment Equity=%{x}<br>Ashneer Investment Amount=%{y}<br>text=%{text}<extra></extra>\",\"legendgroup\":\"Motion Breeze\",\"marker\":{\"color\":\"#FF97FF\",\"pattern\":{\"shape\":\"\"}},\"name\":\"Motion Breeze\",\"offsetgroup\":\"Motion Breeze\",\"orientation\":\"v\",\"showlegend\":true,\"text\":[\"30 lakhs\"],\"textposition\":\"auto\",\"x\":[6.0],\"xaxis\":\"x\",\"y\":[30.0],\"yaxis\":\"y\",\"type\":\"bar\"},{\"alignmentgroup\":\"True\",\"hovertemplate\":\"Startup Name=Jain Shikanji<br>Ashneer Investment Equity=%{x}<br>Ashneer Investment Amount=%{y}<br>text=%{text}<extra></extra>\",\"legendgroup\":\"Jain Shikanji\",\"marker\":{\"color\":\"#FECB52\",\"pattern\":{\"shape\":\"\"}},\"name\":\"Jain Shikanji\",\"offsetgroup\":\"Jain Shikanji\",\"orientation\":\"v\",\"showlegend\":true,\"text\":[\"10 lakhs\"],\"textposition\":\"auto\",\"x\":[7.5],\"xaxis\":\"x\",\"y\":[10.0],\"yaxis\":\"y\",\"type\":\"bar\"},{\"alignmentgroup\":\"True\",\"hovertemplate\":\"Startup Name=Booz Scooters<br>Ashneer Investment Equity=%{x}<br>Ashneer Investment Amount=%{y}<br>text=%{text}<extra></extra>\",\"legendgroup\":\"Booz Scooters\",\"marker\":{\"color\":\"#636efa\",\"pattern\":{\"shape\":\"\"}},\"name\":\"Booz Scooters\",\"offsetgroup\":\"Booz Scooters\",\"orientation\":\"v\",\"showlegend\":true,\"text\":[\"20 lakhs\"],\"textposition\":\"auto\",\"x\":[25.0],\"xaxis\":\"x\",\"y\":[20.0],\"yaxis\":\"y\",\"type\":\"bar\"}],                        {\"template\":{\"data\":{\"histogram2dcontour\":[{\"type\":\"histogram2dcontour\",\"colorbar\":{\"outlinewidth\":0,\"ticks\":\"\"},\"colorscale\":[[0.0,\"#0d0887\"],[0.1111111111111111,\"#46039f\"],[0.2222222222222222,\"#7201a8\"],[0.3333333333333333,\"#9c179e\"],[0.4444444444444444,\"#bd3786\"],[0.5555555555555556,\"#d8576b\"],[0.6666666666666666,\"#ed7953\"],[0.7777777777777778,\"#fb9f3a\"],[0.8888888888888888,\"#fdca26\"],[1.0,\"#f0f921\"]]}],\"choropleth\":[{\"type\":\"choropleth\",\"colorbar\":{\"outlinewidth\":0,\"ticks\":\"\"}}],\"histogram2d\":[{\"type\":\"histogram2d\",\"colorbar\":{\"outlinewidth\":0,\"ticks\":\"\"},\"colorscale\":[[0.0,\"#0d0887\"],[0.1111111111111111,\"#46039f\"],[0.2222222222222222,\"#7201a8\"],[0.3333333333333333,\"#9c179e\"],[0.4444444444444444,\"#bd3786\"],[0.5555555555555556,\"#d8576b\"],[0.6666666666666666,\"#ed7953\"],[0.7777777777777778,\"#fb9f3a\"],[0.8888888888888888,\"#fdca26\"],[1.0,\"#f0f921\"]]}],\"heatmap\":[{\"type\":\"heatmap\",\"colorbar\":{\"outlinewidth\":0,\"ticks\":\"\"},\"colorscale\":[[0.0,\"#0d0887\"],[0.1111111111111111,\"#46039f\"],[0.2222222222222222,\"#7201a8\"],[0.3333333333333333,\"#9c179e\"],[0.4444444444444444,\"#bd3786\"],[0.5555555555555556,\"#d8576b\"],[0.6666666666666666,\"#ed7953\"],[0.7777777777777778,\"#fb9f3a\"],[0.8888888888888888,\"#fdca26\"],[1.0,\"#f0f921\"]]}],\"heatmapgl\":[{\"type\":\"heatmapgl\",\"colorbar\":{\"outlinewidth\":0,\"ticks\":\"\"},\"colorscale\":[[0.0,\"#0d0887\"],[0.1111111111111111,\"#46039f\"],[0.2222222222222222,\"#7201a8\"],[0.3333333333333333,\"#9c179e\"],[0.4444444444444444,\"#bd3786\"],[0.5555555555555556,\"#d8576b\"],[0.6666666666666666,\"#ed7953\"],[0.7777777777777778,\"#fb9f3a\"],[0.8888888888888888,\"#fdca26\"],[1.0,\"#f0f921\"]]}],\"contourcarpet\":[{\"type\":\"contourcarpet\",\"colorbar\":{\"outlinewidth\":0,\"ticks\":\"\"}}],\"contour\":[{\"type\":\"contour\",\"colorbar\":{\"outlinewidth\":0,\"ticks\":\"\"},\"colorscale\":[[0.0,\"#0d0887\"],[0.1111111111111111,\"#46039f\"],[0.2222222222222222,\"#7201a8\"],[0.3333333333333333,\"#9c179e\"],[0.4444444444444444,\"#bd3786\"],[0.5555555555555556,\"#d8576b\"],[0.6666666666666666,\"#ed7953\"],[0.7777777777777778,\"#fb9f3a\"],[0.8888888888888888,\"#fdca26\"],[1.0,\"#f0f921\"]]}],\"surface\":[{\"type\":\"surface\",\"colorbar\":{\"outlinewidth\":0,\"ticks\":\"\"},\"colorscale\":[[0.0,\"#0d0887\"],[0.1111111111111111,\"#46039f\"],[0.2222222222222222,\"#7201a8\"],[0.3333333333333333,\"#9c179e\"],[0.4444444444444444,\"#bd3786\"],[0.5555555555555556,\"#d8576b\"],[0.6666666666666666,\"#ed7953\"],[0.7777777777777778,\"#fb9f3a\"],[0.8888888888888888,\"#fdca26\"],[1.0,\"#f0f921\"]]}],\"mesh3d\":[{\"type\":\"mesh3d\",\"colorbar\":{\"outlinewidth\":0,\"ticks\":\"\"}}],\"scatter\":[{\"marker\":{\"line\":{\"color\":\"#283442\"}},\"type\":\"scatter\"}],\"parcoords\":[{\"type\":\"parcoords\",\"line\":{\"colorbar\":{\"outlinewidth\":0,\"ticks\":\"\"}}}],\"scatterpolargl\":[{\"type\":\"scatterpolargl\",\"marker\":{\"colorbar\":{\"outlinewidth\":0,\"ticks\":\"\"}}}],\"bar\":[{\"error_x\":{\"color\":\"#f2f5fa\"},\"error_y\":{\"color\":\"#f2f5fa\"},\"marker\":{\"line\":{\"color\":\"rgb(17,17,17)\",\"width\":0.5},\"pattern\":{\"fillmode\":\"overlay\",\"size\":10,\"solidity\":0.2}},\"type\":\"bar\"}],\"scattergeo\":[{\"type\":\"scattergeo\",\"marker\":{\"colorbar\":{\"outlinewidth\":0,\"ticks\":\"\"}}}],\"scatterpolar\":[{\"type\":\"scatterpolar\",\"marker\":{\"colorbar\":{\"outlinewidth\":0,\"ticks\":\"\"}}}],\"histogram\":[{\"marker\":{\"pattern\":{\"fillmode\":\"overlay\",\"size\":10,\"solidity\":0.2}},\"type\":\"histogram\"}],\"scattergl\":[{\"marker\":{\"line\":{\"color\":\"#283442\"}},\"type\":\"scattergl\"}],\"scatter3d\":[{\"type\":\"scatter3d\",\"line\":{\"colorbar\":{\"outlinewidth\":0,\"ticks\":\"\"}},\"marker\":{\"colorbar\":{\"outlinewidth\":0,\"ticks\":\"\"}}}],\"scattermapbox\":[{\"type\":\"scattermapbox\",\"marker\":{\"colorbar\":{\"outlinewidth\":0,\"ticks\":\"\"}}}],\"scatterternary\":[{\"type\":\"scatterternary\",\"marker\":{\"colorbar\":{\"outlinewidth\":0,\"ticks\":\"\"}}}],\"scattercarpet\":[{\"type\":\"scattercarpet\",\"marker\":{\"colorbar\":{\"outlinewidth\":0,\"ticks\":\"\"}}}],\"carpet\":[{\"aaxis\":{\"endlinecolor\":\"#A2B1C6\",\"gridcolor\":\"#506784\",\"linecolor\":\"#506784\",\"minorgridcolor\":\"#506784\",\"startlinecolor\":\"#A2B1C6\"},\"baxis\":{\"endlinecolor\":\"#A2B1C6\",\"gridcolor\":\"#506784\",\"linecolor\":\"#506784\",\"minorgridcolor\":\"#506784\",\"startlinecolor\":\"#A2B1C6\"},\"type\":\"carpet\"}],\"table\":[{\"cells\":{\"fill\":{\"color\":\"#506784\"},\"line\":{\"color\":\"rgb(17,17,17)\"}},\"header\":{\"fill\":{\"color\":\"#2a3f5f\"},\"line\":{\"color\":\"rgb(17,17,17)\"}},\"type\":\"table\"}],\"barpolar\":[{\"marker\":{\"line\":{\"color\":\"rgb(17,17,17)\",\"width\":0.5},\"pattern\":{\"fillmode\":\"overlay\",\"size\":10,\"solidity\":0.2}},\"type\":\"barpolar\"}],\"pie\":[{\"automargin\":true,\"type\":\"pie\"}]},\"layout\":{\"autotypenumbers\":\"strict\",\"colorway\":[\"#636efa\",\"#EF553B\",\"#00cc96\",\"#ab63fa\",\"#FFA15A\",\"#19d3f3\",\"#FF6692\",\"#B6E880\",\"#FF97FF\",\"#FECB52\"],\"font\":{\"color\":\"#f2f5fa\"},\"hovermode\":\"closest\",\"hoverlabel\":{\"align\":\"left\"},\"paper_bgcolor\":\"rgb(17,17,17)\",\"plot_bgcolor\":\"rgb(17,17,17)\",\"polar\":{\"bgcolor\":\"rgb(17,17,17)\",\"angularaxis\":{\"gridcolor\":\"#506784\",\"linecolor\":\"#506784\",\"ticks\":\"\"},\"radialaxis\":{\"gridcolor\":\"#506784\",\"linecolor\":\"#506784\",\"ticks\":\"\"}},\"ternary\":{\"bgcolor\":\"rgb(17,17,17)\",\"aaxis\":{\"gridcolor\":\"#506784\",\"linecolor\":\"#506784\",\"ticks\":\"\"},\"baxis\":{\"gridcolor\":\"#506784\",\"linecolor\":\"#506784\",\"ticks\":\"\"},\"caxis\":{\"gridcolor\":\"#506784\",\"linecolor\":\"#506784\",\"ticks\":\"\"}},\"coloraxis\":{\"colorbar\":{\"outlinewidth\":0,\"ticks\":\"\"}},\"colorscale\":{\"sequential\":[[0.0,\"#0d0887\"],[0.1111111111111111,\"#46039f\"],[0.2222222222222222,\"#7201a8\"],[0.3333333333333333,\"#9c179e\"],[0.4444444444444444,\"#bd3786\"],[0.5555555555555556,\"#d8576b\"],[0.6666666666666666,\"#ed7953\"],[0.7777777777777778,\"#fb9f3a\"],[0.8888888888888888,\"#fdca26\"],[1.0,\"#f0f921\"]],\"sequentialminus\":[[0.0,\"#0d0887\"],[0.1111111111111111,\"#46039f\"],[0.2222222222222222,\"#7201a8\"],[0.3333333333333333,\"#9c179e\"],[0.4444444444444444,\"#bd3786\"],[0.5555555555555556,\"#d8576b\"],[0.6666666666666666,\"#ed7953\"],[0.7777777777777778,\"#fb9f3a\"],[0.8888888888888888,\"#fdca26\"],[1.0,\"#f0f921\"]],\"diverging\":[[0,\"#8e0152\"],[0.1,\"#c51b7d\"],[0.2,\"#de77ae\"],[0.3,\"#f1b6da\"],[0.4,\"#fde0ef\"],[0.5,\"#f7f7f7\"],[0.6,\"#e6f5d0\"],[0.7,\"#b8e186\"],[0.8,\"#7fbc41\"],[0.9,\"#4d9221\"],[1,\"#276419\"]]},\"xaxis\":{\"gridcolor\":\"#283442\",\"linecolor\":\"#506784\",\"ticks\":\"\",\"title\":{\"standoff\":15},\"zerolinecolor\":\"#283442\",\"automargin\":true,\"zerolinewidth\":2},\"yaxis\":{\"gridcolor\":\"#283442\",\"linecolor\":\"#506784\",\"ticks\":\"\",\"title\":{\"standoff\":15},\"zerolinecolor\":\"#283442\",\"automargin\":true,\"zerolinewidth\":2},\"scene\":{\"xaxis\":{\"backgroundcolor\":\"rgb(17,17,17)\",\"gridcolor\":\"#506784\",\"linecolor\":\"#506784\",\"showbackground\":true,\"ticks\":\"\",\"zerolinecolor\":\"#C8D4E3\",\"gridwidth\":2},\"yaxis\":{\"backgroundcolor\":\"rgb(17,17,17)\",\"gridcolor\":\"#506784\",\"linecolor\":\"#506784\",\"showbackground\":true,\"ticks\":\"\",\"zerolinecolor\":\"#C8D4E3\",\"gridwidth\":2},\"zaxis\":{\"backgroundcolor\":\"rgb(17,17,17)\",\"gridcolor\":\"#506784\",\"linecolor\":\"#506784\",\"showbackground\":true,\"ticks\":\"\",\"zerolinecolor\":\"#C8D4E3\",\"gridwidth\":2}},\"shapedefaults\":{\"line\":{\"color\":\"#f2f5fa\"}},\"annotationdefaults\":{\"arrowcolor\":\"#f2f5fa\",\"arrowhead\":0,\"arrowwidth\":1},\"geo\":{\"bgcolor\":\"rgb(17,17,17)\",\"landcolor\":\"rgb(17,17,17)\",\"subunitcolor\":\"#506784\",\"showland\":true,\"showlakes\":true,\"lakecolor\":\"rgb(17,17,17)\"},\"title\":{\"x\":0.05},\"updatemenudefaults\":{\"bgcolor\":\"#506784\",\"borderwidth\":0},\"sliderdefaults\":{\"bgcolor\":\"#C8D4E3\",\"borderwidth\":1,\"bordercolor\":\"rgb(17,17,17)\",\"tickwidth\":0},\"mapbox\":{\"style\":\"dark\"}}},\"xaxis\":{\"anchor\":\"y\",\"domain\":[0.0,1.0],\"title\":{\"text\":\"Ashneer Investment Equity\"},\"type\":\"category\"},\"yaxis\":{\"anchor\":\"x\",\"domain\":[0.0,1.0],\"title\":{\"text\":\"Ashneer Investment Amount\"}},\"legend\":{\"title\":{\"text\":\"Startup Name\"},\"tracegroupgap\":0},\"title\":{\"text\":\"<b>Total equity received by Ashneer (in %) for investment (in lakhs)</b>\"},\"barmode\":\"relative\"},                        {\"responsive\": true}                    ).then(function(){\n",
       "                            \n",
       "var gd = document.getElementById('ede9a640-cfb8-448a-ace7-dc3eedf6980c');\n",
       "var x = new MutationObserver(function (mutations, observer) {{\n",
       "        var display = window.getComputedStyle(gd).display;\n",
       "        if (!display || display === 'none') {{\n",
       "            console.log([gd, 'removed!']);\n",
       "            Plotly.purge(gd);\n",
       "            observer.disconnect();\n",
       "        }}\n",
       "}});\n",
       "\n",
       "// Listen for the removal of the full notebook cells\n",
       "var notebookContainer = gd.closest('#notebook-container');\n",
       "if (notebookContainer) {{\n",
       "    x.observe(notebookContainer, {childList: true});\n",
       "}}\n",
       "\n",
       "// Listen for the clearing of the current output cell\n",
       "var outputEl = gd.closest('.output');\n",
       "if (outputEl) {{\n",
       "    x.observe(outputEl, {childList: true});\n",
       "}}\n",
       "\n",
       "                        })                };                });            </script>        </div>"
      ]
     },
     "metadata": {},
     "output_type": "display_data"
    }
   ],
   "source": [
    "print(shark_tank[shark_tank['Ashneer Investment Amount']>0]['Industry'].value_counts().sort_values(ascending=False))\n",
    "shark_tank[shark_tank['Ashneer Investment Amount']>0]['Industry'].value_counts().sort_values(ascending=False).plot.pie(autopct='%1.2f%%')\n",
    "plt.show()\n",
    "\n",
    "tmpdf = shark_tank.loc[shark_tank['Ashneer Investment Amount']>0] [[\"Startup Name\",\"Ashneer Investment Amount\",\"Ashneer Investment Equity\"]].sort_values(by=\"Ashneer Investment Equity\")\n",
    "fig = px.bar(tmpdf, x=\"Ashneer Investment Equity\", y='Ashneer Investment Amount', color=\"Startup Name\", title=\"<b>Total equity received by Ashneer (in %) for investment (in lakhs)</b>\", text=tmpdf['Ashneer Investment Amount'].map(int).map(str) + \" lakhs\")\n",
    "fig.update_layout(dict(xaxis = dict(type=\"category\")))\n",
    "fig.show()"
   ]
  },
  {
   "cell_type": "markdown",
   "id": "e74d0322",
   "metadata": {
    "papermill": {
     "duration": 0.021426,
     "end_time": "2022-06-29T08:37:10.174426",
     "exception": false,
     "start_time": "2022-06-29T08:37:10.153000",
     "status": "completed"
    },
    "tags": []
   },
   "source": [
    "Ashneer's portfolio has more food industry based startups than any other sharks.\n"
   ]
  },
  {
   "cell_type": "code",
   "execution_count": 16,
   "id": "c6902c57",
   "metadata": {
    "execution": {
     "iopub.execute_input": "2022-06-29T08:37:10.219846Z",
     "iopub.status.busy": "2022-06-29T08:37:10.219416Z",
     "iopub.status.idle": "2022-06-29T08:37:10.613927Z",
     "shell.execute_reply": "2022-06-29T08:37:10.612761Z"
    },
    "papermill": {
     "duration": 0.419865,
     "end_time": "2022-06-29T08:37:10.616241",
     "exception": false,
     "start_time": "2022-06-29T08:37:10.196376",
     "status": "completed"
    },
    "tags": []
   },
   "outputs": [
    {
     "name": "stdout",
     "output_type": "stream",
     "text": [
      "Beauty/Fashion    7\n",
      "Food              6\n",
      "Education         3\n",
      "Medical           3\n",
      "Manufacturing     2\n",
      "Animal/Pets       1\n",
      "Sports            1\n",
      "Services          1\n",
      "Name: Industry, dtype: int64\n"
     ]
    },
    {
     "data": {
      "image/png": "[encoded data removed]",
      "text/plain": [
       "<Figure size 432x288 with 1 Axes>"
      ]
     },
     "metadata": {},
     "output_type": "display_data"
    },
    {
     "data": {
      "text/html": [
       "<div>                            <div id=\"d8613f9f-4b24-458b-a471-428c989614a1\" class=\"plotly-graph-div\" style=\"height:525px; width:100%;\"></div>            <script type=\"text/javascript\">                require([\"plotly\"], function(Plotly) {                    window.PLOTLYENV=window.PLOTLYENV || {};                                    if (document.getElementById(\"d8613f9f-4b24-458b-a471-428c989614a1\")) {                    Plotly.newPlot(                        \"d8613f9f-4b24-458b-a471-428c989614a1\",                        [{\"alignmentgroup\":\"True\",\"hovertemplate\":\"Startup Name=Watt Technovations<br>Namita Investment Equity=%{x}<br>Namita Investment Amount=%{y}<br>text=%{text}<extra></extra>\",\"legendgroup\":\"Watt Technovations\",\"marker\":{\"color\":\"#636efa\",\"pattern\":{\"shape\":\"\"}},\"name\":\"Watt Technovations\",\"offsetgroup\":\"Watt Technovations\",\"orientation\":\"v\",\"showlegend\":true,\"text\":[\"0 lakhs\"],\"textposition\":\"auto\",\"x\":[1.0],\"xaxis\":\"x\",\"y\":[0.0002525],\"yaxis\":\"y\",\"type\":\"bar\"},{\"alignmentgroup\":\"True\",\"hovertemplate\":\"Startup Name=Annie<br>Namita Investment Equity=%{x}<br>Namita Investment Amount=%{y}<br>text=%{text}<extra></extra>\",\"legendgroup\":\"Annie\",\"marker\":{\"color\":\"#EF553B\",\"pattern\":{\"shape\":\"\"}},\"name\":\"Annie\",\"offsetgroup\":\"Annie\",\"orientation\":\"v\",\"showlegend\":true,\"text\":[\"35 lakhs\"],\"textposition\":\"auto\",\"x\":[1.0],\"xaxis\":\"x\",\"y\":[35.0],\"yaxis\":\"y\",\"type\":\"bar\"},{\"alignmentgroup\":\"True\",\"hovertemplate\":\"Startup Name=Sunfox Technologies<br>Namita Investment Equity=%{x}<br>Namita Investment Amount=%{y}<br>text=%{text}<extra></extra>\",\"legendgroup\":\"Sunfox Technologies\",\"marker\":{\"color\":\"#00cc96\",\"pattern\":{\"shape\":\"\"}},\"name\":\"Sunfox Technologies\",\"offsetgroup\":\"Sunfox Technologies\",\"orientation\":\"v\",\"showlegend\":true,\"text\":[\"20 lakhs\"],\"textposition\":\"auto\",\"x\":[1.2],\"xaxis\":\"x\",\"y\":[20.0],\"yaxis\":\"y\",\"type\":\"bar\"},{\"alignmentgroup\":\"True\",\"hovertemplate\":\"Startup Name=Cocofit<br>Namita Investment Equity=%{x}<br>Namita Investment Amount=%{y}<br>text=%{text}<extra></extra>\",\"legendgroup\":\"Cocofit\",\"marker\":{\"color\":\"#ab63fa\",\"pattern\":{\"shape\":\"\"}},\"name\":\"Cocofit\",\"offsetgroup\":\"Cocofit\",\"orientation\":\"v\",\"showlegend\":true,\"text\":[\"0 lakhs\"],\"textposition\":\"auto\",\"x\":[1.666],\"xaxis\":\"x\",\"y\":[0.000016],\"yaxis\":\"y\",\"type\":\"bar\"},{\"alignmentgroup\":\"True\",\"hovertemplate\":\"Startup Name=Store My Goods<br>Namita Investment Equity=%{x}<br>Namita Investment Amount=%{y}<br>text=%{text}<extra></extra>\",\"legendgroup\":\"Store My Goods\",\"marker\":{\"color\":\"#FFA15A\",\"pattern\":{\"shape\":\"\"}},\"name\":\"Store My Goods\",\"offsetgroup\":\"Store My Goods\",\"orientation\":\"v\",\"showlegend\":true,\"text\":[\"25 lakhs\"],\"textposition\":\"auto\",\"x\":[2.0],\"xaxis\":\"x\",\"y\":[25.0],\"yaxis\":\"y\",\"type\":\"bar\"},{\"alignmentgroup\":\"True\",\"hovertemplate\":\"Startup Name=IN A CAN<br>Namita Investment Equity=%{x}<br>Namita Investment Amount=%{y}<br>text=%{text}<extra></extra>\",\"legendgroup\":\"IN A CAN\",\"marker\":{\"color\":\"#19d3f3\",\"pattern\":{\"shape\":\"\"}},\"name\":\"IN A CAN\",\"offsetgroup\":\"IN A CAN\",\"orientation\":\"v\",\"showlegend\":true,\"text\":[\"20 lakhs\"],\"textposition\":\"auto\",\"x\":[2.0],\"xaxis\":\"x\",\"y\":[20.0],\"yaxis\":\"y\",\"type\":\"bar\"},{\"alignmentgroup\":\"True\",\"hovertemplate\":\"Startup Name=WeSTOCK<br>Namita Investment Equity=%{x}<br>Namita Investment Amount=%{y}<br>text=%{text}<extra></extra>\",\"legendgroup\":\"WeSTOCK\",\"marker\":{\"color\":\"#FF6692\",\"pattern\":{\"shape\":\"\"}},\"name\":\"WeSTOCK\",\"offsetgroup\":\"WeSTOCK\",\"orientation\":\"v\",\"showlegend\":true,\"text\":[\"15 lakhs\"],\"textposition\":\"auto\",\"x\":[2.5],\"xaxis\":\"x\",\"y\":[15.0],\"yaxis\":\"y\",\"type\":\"bar\"},{\"alignmentgroup\":\"True\",\"hovertemplate\":\"Startup Name=Skippi Ice Pops<br>Namita Investment Equity=%{x}<br>Namita Investment Amount=%{y}<br>text=%{text}<extra></extra>\",\"legendgroup\":\"Skippi Ice Pops\",\"marker\":{\"color\":\"#B6E880\",\"pattern\":{\"shape\":\"\"}},\"name\":\"Skippi Ice Pops\",\"offsetgroup\":\"Skippi Ice Pops\",\"orientation\":\"v\",\"showlegend\":true,\"text\":[\"20 lakhs\"],\"textposition\":\"auto\",\"x\":[3.0],\"xaxis\":\"x\",\"y\":[20.0],\"yaxis\":\"y\",\"type\":\"bar\"},{\"alignmentgroup\":\"True\",\"hovertemplate\":\"Startup Name=Kabaddi Adda<br>Namita Investment Equity=%{x}<br>Namita Investment Amount=%{y}<br>text=%{text}<extra></extra>\",\"legendgroup\":\"Kabaddi Adda\",\"marker\":{\"color\":\"#FF97FF\",\"pattern\":{\"shape\":\"\"}},\"name\":\"Kabaddi Adda\",\"offsetgroup\":\"Kabaddi Adda\",\"orientation\":\"v\",\"showlegend\":true,\"text\":[\"40 lakhs\"],\"textposition\":\"auto\",\"x\":[3.0],\"xaxis\":\"x\",\"y\":[40.0],\"yaxis\":\"y\",\"type\":\"bar\"},{\"alignmentgroup\":\"True\",\"hovertemplate\":\"Startup Name=Rare Planet<br>Namita Investment Equity=%{x}<br>Namita Investment Amount=%{y}<br>text=%{text}<extra></extra>\",\"legendgroup\":\"Rare Planet\",\"marker\":{\"color\":\"#FECB52\",\"pattern\":{\"shape\":\"\"}},\"name\":\"Rare Planet\",\"offsetgroup\":\"Rare Planet\",\"orientation\":\"v\",\"showlegend\":true,\"text\":[\"65 lakhs\"],\"textposition\":\"auto\",\"x\":[3.0],\"xaxis\":\"x\",\"y\":[65.0],\"yaxis\":\"y\",\"type\":\"bar\"},{\"alignmentgroup\":\"True\",\"hovertemplate\":\"Startup Name=The Renal Project<br>Namita Investment Equity=%{x}<br>Namita Investment Amount=%{y}<br>text=%{text}<extra></extra>\",\"legendgroup\":\"The Renal Project\",\"marker\":{\"color\":\"#636efa\",\"pattern\":{\"shape\":\"\"}},\"name\":\"The Renal Project\",\"offsetgroup\":\"The Renal Project\",\"orientation\":\"v\",\"showlegend\":true,\"text\":[\"50 lakhs\"],\"textposition\":\"auto\",\"x\":[3.0],\"xaxis\":\"x\",\"y\":[50.0],\"yaxis\":\"y\",\"type\":\"bar\"},{\"alignmentgroup\":\"True\",\"hovertemplate\":\"Startup Name=Altor<br>Namita Investment Equity=%{x}<br>Namita Investment Amount=%{y}<br>text=%{text}<extra></extra>\",\"legendgroup\":\"Altor\",\"marker\":{\"color\":\"#EF553B\",\"pattern\":{\"shape\":\"\"}},\"name\":\"Altor\",\"offsetgroup\":\"Altor\",\"orientation\":\"v\",\"showlegend\":true,\"text\":[\"25 lakhs\"],\"textposition\":\"auto\",\"x\":[3.5],\"xaxis\":\"x\",\"y\":[25.0],\"yaxis\":\"y\",\"type\":\"bar\"},{\"alignmentgroup\":\"True\",\"hovertemplate\":\"Startup Name=Bummer<br>Namita Investment Equity=%{x}<br>Namita Investment Amount=%{y}<br>text=%{text}<extra></extra>\",\"legendgroup\":\"Bummer\",\"marker\":{\"color\":\"#00cc96\",\"pattern\":{\"shape\":\"\"}},\"name\":\"Bummer\",\"offsetgroup\":\"Bummer\",\"orientation\":\"v\",\"showlegend\":true,\"text\":[\"37 lakhs\"],\"textposition\":\"auto\",\"x\":[3.75],\"xaxis\":\"x\",\"y\":[37.5],\"yaxis\":\"y\",\"type\":\"bar\"},{\"alignmentgroup\":\"True\",\"hovertemplate\":\"Startup Name=SneaKare<br>Namita Investment Equity=%{x}<br>Namita Investment Amount=%{y}<br>text=%{text}<extra></extra>\",\"legendgroup\":\"SneaKare\",\"marker\":{\"color\":\"#ab63fa\",\"pattern\":{\"shape\":\"\"}},\"name\":\"SneaKare\",\"offsetgroup\":\"SneaKare\",\"orientation\":\"v\",\"showlegend\":true,\"text\":[\"7 lakhs\"],\"textposition\":\"auto\",\"x\":[4.0],\"xaxis\":\"x\",\"y\":[7.0],\"yaxis\":\"y\",\"type\":\"bar\"},{\"alignmentgroup\":\"True\",\"hovertemplate\":\"Startup Name=Nomad Food Project<br>Namita Investment Equity=%{x}<br>Namita Investment Amount=%{y}<br>text=%{text}<extra></extra>\",\"legendgroup\":\"Nomad Food Project\",\"marker\":{\"color\":\"#FFA15A\",\"pattern\":{\"shape\":\"\"}},\"name\":\"Nomad Food Project\",\"offsetgroup\":\"Nomad Food Project\",\"orientation\":\"v\",\"showlegend\":true,\"text\":[\"10 lakhs\"],\"textposition\":\"auto\",\"x\":[5.0],\"xaxis\":\"x\",\"y\":[10.0],\"yaxis\":\"y\",\"type\":\"bar\"},{\"alignmentgroup\":\"True\",\"hovertemplate\":\"Startup Name=Aas Vidyalaya<br>Namita Investment Equity=%{x}<br>Namita Investment Amount=%{y}<br>text=%{text}<extra></extra>\",\"legendgroup\":\"Aas Vidyalaya\",\"marker\":{\"color\":\"#19d3f3\",\"pattern\":{\"shape\":\"\"}},\"name\":\"Aas Vidyalaya\",\"offsetgroup\":\"Aas Vidyalaya\",\"orientation\":\"v\",\"showlegend\":true,\"text\":[\"50 lakhs\"],\"textposition\":\"auto\",\"x\":[5.0],\"xaxis\":\"x\",\"y\":[50.0],\"yaxis\":\"y\",\"type\":\"bar\"},{\"alignmentgroup\":\"True\",\"hovertemplate\":\"Startup Name=Find Your Kicks India<br>Namita Investment Equity=%{x}<br>Namita Investment Amount=%{y}<br>text=%{text}<extra></extra>\",\"legendgroup\":\"Find Your Kicks India\",\"marker\":{\"color\":\"#FF6692\",\"pattern\":{\"shape\":\"\"}},\"name\":\"Find Your Kicks India\",\"offsetgroup\":\"Find Your Kicks India\",\"orientation\":\"v\",\"showlegend\":true,\"text\":[\"10 lakhs\"],\"textposition\":\"auto\",\"x\":[5.0],\"xaxis\":\"x\",\"y\":[10.0],\"yaxis\":\"y\",\"type\":\"bar\"},{\"alignmentgroup\":\"True\",\"hovertemplate\":\"Startup Name=Nuutjob<br>Namita Investment Equity=%{x}<br>Namita Investment Amount=%{y}<br>text=%{text}<extra></extra>\",\"legendgroup\":\"Nuutjob\",\"marker\":{\"color\":\"#B6E880\",\"pattern\":{\"shape\":\"\"}},\"name\":\"Nuutjob\",\"offsetgroup\":\"Nuutjob\",\"orientation\":\"v\",\"showlegend\":true,\"text\":[\"8 lakhs\"],\"textposition\":\"auto\",\"x\":[6.66],\"xaxis\":\"x\",\"y\":[8.33],\"yaxis\":\"y\",\"type\":\"bar\"},{\"alignmentgroup\":\"True\",\"hovertemplate\":\"Startup Name=Wakao Foods<br>Namita Investment Equity=%{x}<br>Namita Investment Amount=%{y}<br>text=%{text}<extra></extra>\",\"legendgroup\":\"Wakao Foods\",\"marker\":{\"color\":\"#FF97FF\",\"pattern\":{\"shape\":\"\"}},\"name\":\"Wakao Foods\",\"offsetgroup\":\"Wakao Foods\",\"orientation\":\"v\",\"showlegend\":true,\"text\":[\"25 lakhs\"],\"textposition\":\"auto\",\"x\":[7.0],\"xaxis\":\"x\",\"y\":[25.0],\"yaxis\":\"y\",\"type\":\"bar\"},{\"alignmentgroup\":\"True\",\"hovertemplate\":\"Startup Name=Beyond Water<br>Namita Investment Equity=%{x}<br>Namita Investment Amount=%{y}<br>text=%{text}<extra></extra>\",\"legendgroup\":\"Beyond Water\",\"marker\":{\"color\":\"#FECB52\",\"pattern\":{\"shape\":\"\"}},\"name\":\"Beyond Water\",\"offsetgroup\":\"Beyond Water\",\"orientation\":\"v\",\"showlegend\":true,\"text\":[\"37 lakhs\"],\"textposition\":\"auto\",\"x\":[7.5],\"xaxis\":\"x\",\"y\":[37.5],\"yaxis\":\"y\",\"type\":\"bar\"},{\"alignmentgroup\":\"True\",\"hovertemplate\":\"Startup Name=Farda<br>Namita Investment Equity=%{x}<br>Namita Investment Amount=%{y}<br>text=%{text}<extra></extra>\",\"legendgroup\":\"Farda\",\"marker\":{\"color\":\"#636efa\",\"pattern\":{\"shape\":\"\"}},\"name\":\"Farda\",\"offsetgroup\":\"Farda\",\"orientation\":\"v\",\"showlegend\":true,\"text\":[\"15 lakhs\"],\"textposition\":\"auto\",\"x\":[10.0],\"xaxis\":\"x\",\"y\":[15.0],\"yaxis\":\"y\",\"type\":\"bar\"},{\"alignmentgroup\":\"True\",\"hovertemplate\":\"Startup Name=Auli<br>Namita Investment Equity=%{x}<br>Namita Investment Amount=%{y}<br>text=%{text}<extra></extra>\",\"legendgroup\":\"Auli\",\"marker\":{\"color\":\"#EF553B\",\"pattern\":{\"shape\":\"\"}},\"name\":\"Auli\",\"offsetgroup\":\"Auli\",\"orientation\":\"v\",\"showlegend\":true,\"text\":[\"75 lakhs\"],\"textposition\":\"auto\",\"x\":[15.0],\"xaxis\":\"x\",\"y\":[75.0],\"yaxis\":\"y\",\"type\":\"bar\"},{\"alignmentgroup\":\"True\",\"hovertemplate\":\"Startup Name=Menstrupedia<br>Namita Investment Equity=%{x}<br>Namita Investment Amount=%{y}<br>text=%{text}<extra></extra>\",\"legendgroup\":\"Menstrupedia\",\"marker\":{\"color\":\"#00cc96\",\"pattern\":{\"shape\":\"\"}},\"name\":\"Menstrupedia\",\"offsetgroup\":\"Menstrupedia\",\"orientation\":\"v\",\"showlegend\":true,\"text\":[\"50 lakhs\"],\"textposition\":\"auto\",\"x\":[20.0],\"xaxis\":\"x\",\"y\":[50.0],\"yaxis\":\"y\",\"type\":\"bar\"},{\"alignmentgroup\":\"True\",\"hovertemplate\":\"Startup Name=Colour Me Mad - CMM<br>Namita Investment Equity=%{x}<br>Namita Investment Amount=%{y}<br>text=%{text}<extra></extra>\",\"legendgroup\":\"Colour Me Mad - CMM\",\"marker\":{\"color\":\"#ab63fa\",\"pattern\":{\"shape\":\"\"}},\"name\":\"Colour Me Mad - CMM\",\"offsetgroup\":\"Colour Me Mad - CMM\",\"orientation\":\"v\",\"showlegend\":true,\"text\":[\"40 lakhs\"],\"textposition\":\"auto\",\"x\":[25.0],\"xaxis\":\"x\",\"y\":[40.0],\"yaxis\":\"y\",\"type\":\"bar\"}],                        {\"template\":{\"data\":{\"histogram2dcontour\":[{\"type\":\"histogram2dcontour\",\"colorbar\":{\"outlinewidth\":0,\"ticks\":\"\"},\"colorscale\":[[0.0,\"#0d0887\"],[0.1111111111111111,\"#46039f\"],[0.2222222222222222,\"#7201a8\"],[0.3333333333333333,\"#9c179e\"],[0.4444444444444444,\"#bd3786\"],[0.5555555555555556,\"#d8576b\"],[0.6666666666666666,\"#ed7953\"],[0.7777777777777778,\"#fb9f3a\"],[0.8888888888888888,\"#fdca26\"],[1.0,\"#f0f921\"]]}],\"choropleth\":[{\"type\":\"choropleth\",\"colorbar\":{\"outlinewidth\":0,\"ticks\":\"\"}}],\"histogram2d\":[{\"type\":\"histogram2d\",\"colorbar\":{\"outlinewidth\":0,\"ticks\":\"\"},\"colorscale\":[[0.0,\"#0d0887\"],[0.1111111111111111,\"#46039f\"],[0.2222222222222222,\"#7201a8\"],[0.3333333333333333,\"#9c179e\"],[0.4444444444444444,\"#bd3786\"],[0.5555555555555556,\"#d8576b\"],[0.6666666666666666,\"#ed7953\"],[0.7777777777777778,\"#fb9f3a\"],[0.8888888888888888,\"#fdca26\"],[1.0,\"#f0f921\"]]}],\"heatmap\":[{\"type\":\"heatmap\",\"colorbar\":{\"outlinewidth\":0,\"ticks\":\"\"},\"colorscale\":[[0.0,\"#0d0887\"],[0.1111111111111111,\"#46039f\"],[0.2222222222222222,\"#7201a8\"],[0.3333333333333333,\"#9c179e\"],[0.4444444444444444,\"#bd3786\"],[0.5555555555555556,\"#d8576b\"],[0.6666666666666666,\"#ed7953\"],[0.7777777777777778,\"#fb9f3a\"],[0.8888888888888888,\"#fdca26\"],[1.0,\"#f0f921\"]]}],\"heatmapgl\":[{\"type\":\"heatmapgl\",\"colorbar\":{\"outlinewidth\":0,\"ticks\":\"\"},\"colorscale\":[[0.0,\"#0d0887\"],[0.1111111111111111,\"#46039f\"],[0.2222222222222222,\"#7201a8\"],[0.3333333333333333,\"#9c179e\"],[0.4444444444444444,\"#bd3786\"],[0.5555555555555556,\"#d8576b\"],[0.6666666666666666,\"#ed7953\"],[0.7777777777777778,\"#fb9f3a\"],[0.8888888888888888,\"#fdca26\"],[1.0,\"#f0f921\"]]}],\"contourcarpet\":[{\"type\":\"contourcarpet\",\"colorbar\":{\"outlinewidth\":0,\"ticks\":\"\"}}],\"contour\":[{\"type\":\"contour\",\"colorbar\":{\"outlinewidth\":0,\"ticks\":\"\"},\"colorscale\":[[0.0,\"#0d0887\"],[0.1111111111111111,\"#46039f\"],[0.2222222222222222,\"#7201a8\"],[0.3333333333333333,\"#9c179e\"],[0.4444444444444444,\"#bd3786\"],[0.5555555555555556,\"#d8576b\"],[0.6666666666666666,\"#ed7953\"],[0.7777777777777778,\"#fb9f3a\"],[0.8888888888888888,\"#fdca26\"],[1.0,\"#f0f921\"]]}],\"surface\":[{\"type\":\"surface\",\"colorbar\":{\"outlinewidth\":0,\"ticks\":\"\"},\"colorscale\":[[0.0,\"#0d0887\"],[0.1111111111111111,\"#46039f\"],[0.2222222222222222,\"#7201a8\"],[0.3333333333333333,\"#9c179e\"],[0.4444444444444444,\"#bd3786\"],[0.5555555555555556,\"#d8576b\"],[0.6666666666666666,\"#ed7953\"],[0.7777777777777778,\"#fb9f3a\"],[0.8888888888888888,\"#fdca26\"],[1.0,\"#f0f921\"]]}],\"mesh3d\":[{\"type\":\"mesh3d\",\"colorbar\":{\"outlinewidth\":0,\"ticks\":\"\"}}],\"scatter\":[{\"marker\":{\"line\":{\"color\":\"#283442\"}},\"type\":\"scatter\"}],\"parcoords\":[{\"type\":\"parcoords\",\"line\":{\"colorbar\":{\"outlinewidth\":0,\"ticks\":\"\"}}}],\"scatterpolargl\":[{\"type\":\"scatterpolargl\",\"marker\":{\"colorbar\":{\"outlinewidth\":0,\"ticks\":\"\"}}}],\"bar\":[{\"error_x\":{\"color\":\"#f2f5fa\"},\"error_y\":{\"color\":\"#f2f5fa\"},\"marker\":{\"line\":{\"color\":\"rgb(17,17,17)\",\"width\":0.5},\"pattern\":{\"fillmode\":\"overlay\",\"size\":10,\"solidity\":0.2}},\"type\":\"bar\"}],\"scattergeo\":[{\"type\":\"scattergeo\",\"marker\":{\"colorbar\":{\"outlinewidth\":0,\"ticks\":\"\"}}}],\"scatterpolar\":[{\"type\":\"scatterpolar\",\"marker\":{\"colorbar\":{\"outlinewidth\":0,\"ticks\":\"\"}}}],\"histogram\":[{\"marker\":{\"pattern\":{\"fillmode\":\"overlay\",\"size\":10,\"solidity\":0.2}},\"type\":\"histogram\"}],\"scattergl\":[{\"marker\":{\"line\":{\"color\":\"#283442\"}},\"type\":\"scattergl\"}],\"scatter3d\":[{\"type\":\"scatter3d\",\"line\":{\"colorbar\":{\"outlinewidth\":0,\"ticks\":\"\"}},\"marker\":{\"colorbar\":{\"outlinewidth\":0,\"ticks\":\"\"}}}],\"scattermapbox\":[{\"type\":\"scattermapbox\",\"marker\":{\"colorbar\":{\"outlinewidth\":0,\"ticks\":\"\"}}}],\"scatterternary\":[{\"type\":\"scatterternary\",\"marker\":{\"colorbar\":{\"outlinewidth\":0,\"ticks\":\"\"}}}],\"scattercarpet\":[{\"type\":\"scattercarpet\",\"marker\":{\"colorbar\":{\"outlinewidth\":0,\"ticks\":\"\"}}}],\"carpet\":[{\"aaxis\":{\"endlinecolor\":\"#A2B1C6\",\"gridcolor\":\"#506784\",\"linecolor\":\"#506784\",\"minorgridcolor\":\"#506784\",\"startlinecolor\":\"#A2B1C6\"},\"baxis\":{\"endlinecolor\":\"#A2B1C6\",\"gridcolor\":\"#506784\",\"linecolor\":\"#506784\",\"minorgridcolor\":\"#506784\",\"startlinecolor\":\"#A2B1C6\"},\"type\":\"carpet\"}],\"table\":[{\"cells\":{\"fill\":{\"color\":\"#506784\"},\"line\":{\"color\":\"rgb(17,17,17)\"}},\"header\":{\"fill\":{\"color\":\"#2a3f5f\"},\"line\":{\"color\":\"rgb(17,17,17)\"}},\"type\":\"table\"}],\"barpolar\":[{\"marker\":{\"line\":{\"color\":\"rgb(17,17,17)\",\"width\":0.5},\"pattern\":{\"fillmode\":\"overlay\",\"size\":10,\"solidity\":0.2}},\"type\":\"barpolar\"}],\"pie\":[{\"automargin\":true,\"type\":\"pie\"}]},\"layout\":{\"autotypenumbers\":\"strict\",\"colorway\":[\"#636efa\",\"#EF553B\",\"#00cc96\",\"#ab63fa\",\"#FFA15A\",\"#19d3f3\",\"#FF6692\",\"#B6E880\",\"#FF97FF\",\"#FECB52\"],\"font\":{\"color\":\"#f2f5fa\"},\"hovermode\":\"closest\",\"hoverlabel\":{\"align\":\"left\"},\"paper_bgcolor\":\"rgb(17,17,17)\",\"plot_bgcolor\":\"rgb(17,17,17)\",\"polar\":{\"bgcolor\":\"rgb(17,17,17)\",\"angularaxis\":{\"gridcolor\":\"#506784\",\"linecolor\":\"#506784\",\"ticks\":\"\"},\"radialaxis\":{\"gridcolor\":\"#506784\",\"linecolor\":\"#506784\",\"ticks\":\"\"}},\"ternary\":{\"bgcolor\":\"rgb(17,17,17)\",\"aaxis\":{\"gridcolor\":\"#506784\",\"linecolor\":\"#506784\",\"ticks\":\"\"},\"baxis\":{\"gridcolor\":\"#506784\",\"linecolor\":\"#506784\",\"ticks\":\"\"},\"caxis\":{\"gridcolor\":\"#506784\",\"linecolor\":\"#506784\",\"ticks\":\"\"}},\"coloraxis\":{\"colorbar\":{\"outlinewidth\":0,\"ticks\":\"\"}},\"colorscale\":{\"sequential\":[[0.0,\"#0d0887\"],[0.1111111111111111,\"#46039f\"],[0.2222222222222222,\"#7201a8\"],[0.3333333333333333,\"#9c179e\"],[0.4444444444444444,\"#bd3786\"],[0.5555555555555556,\"#d8576b\"],[0.6666666666666666,\"#ed7953\"],[0.7777777777777778,\"#fb9f3a\"],[0.8888888888888888,\"#fdca26\"],[1.0,\"#f0f921\"]],\"sequentialminus\":[[0.0,\"#0d0887\"],[0.1111111111111111,\"#46039f\"],[0.2222222222222222,\"#7201a8\"],[0.3333333333333333,\"#9c179e\"],[0.4444444444444444,\"#bd3786\"],[0.5555555555555556,\"#d8576b\"],[0.6666666666666666,\"#ed7953\"],[0.7777777777777778,\"#fb9f3a\"],[0.8888888888888888,\"#fdca26\"],[1.0,\"#f0f921\"]],\"diverging\":[[0,\"#8e0152\"],[0.1,\"#c51b7d\"],[0.2,\"#de77ae\"],[0.3,\"#f1b6da\"],[0.4,\"#fde0ef\"],[0.5,\"#f7f7f7\"],[0.6,\"#e6f5d0\"],[0.7,\"#b8e186\"],[0.8,\"#7fbc41\"],[0.9,\"#4d9221\"],[1,\"#276419\"]]},\"xaxis\":{\"gridcolor\":\"#283442\",\"linecolor\":\"#506784\",\"ticks\":\"\",\"title\":{\"standoff\":15},\"zerolinecolor\":\"#283442\",\"automargin\":true,\"zerolinewidth\":2},\"yaxis\":{\"gridcolor\":\"#283442\",\"linecolor\":\"#506784\",\"ticks\":\"\",\"title\":{\"standoff\":15},\"zerolinecolor\":\"#283442\",\"automargin\":true,\"zerolinewidth\":2},\"scene\":{\"xaxis\":{\"backgroundcolor\":\"rgb(17,17,17)\",\"gridcolor\":\"#506784\",\"linecolor\":\"#506784\",\"showbackground\":true,\"ticks\":\"\",\"zerolinecolor\":\"#C8D4E3\",\"gridwidth\":2},\"yaxis\":{\"backgroundcolor\":\"rgb(17,17,17)\",\"gridcolor\":\"#506784\",\"linecolor\":\"#506784\",\"showbackground\":true,\"ticks\":\"\",\"zerolinecolor\":\"#C8D4E3\",\"gridwidth\":2},\"zaxis\":{\"backgroundcolor\":\"rgb(17,17,17)\",\"gridcolor\":\"#506784\",\"linecolor\":\"#506784\",\"showbackground\":true,\"ticks\":\"\",\"zerolinecolor\":\"#C8D4E3\",\"gridwidth\":2}},\"shapedefaults\":{\"line\":{\"color\":\"#f2f5fa\"}},\"annotationdefaults\":{\"arrowcolor\":\"#f2f5fa\",\"arrowhead\":0,\"arrowwidth\":1},\"geo\":{\"bgcolor\":\"rgb(17,17,17)\",\"landcolor\":\"rgb(17,17,17)\",\"subunitcolor\":\"#506784\",\"showland\":true,\"showlakes\":true,\"lakecolor\":\"rgb(17,17,17)\"},\"title\":{\"x\":0.05},\"updatemenudefaults\":{\"bgcolor\":\"#506784\",\"borderwidth\":0},\"sliderdefaults\":{\"bgcolor\":\"#C8D4E3\",\"borderwidth\":1,\"bordercolor\":\"rgb(17,17,17)\",\"tickwidth\":0},\"mapbox\":{\"style\":\"dark\"}}},\"xaxis\":{\"anchor\":\"y\",\"domain\":[0.0,1.0],\"title\":{\"text\":\"Namita Investment Equity\"},\"type\":\"category\"},\"yaxis\":{\"anchor\":\"x\",\"domain\":[0.0,1.0],\"title\":{\"text\":\"Namita Investment Amount\"}},\"legend\":{\"title\":{\"text\":\"Startup Name\"},\"tracegroupgap\":0},\"title\":{\"text\":\"<b>Total equity received by Namita (in %) for investment (in lakhs)</b>\"},\"barmode\":\"relative\"},                        {\"responsive\": true}                    ).then(function(){\n",
       "                            \n",
       "var gd = document.getElementById('d8613f9f-4b24-458b-a471-428c989614a1');\n",
       "var x = new MutationObserver(function (mutations, observer) {{\n",
       "        var display = window.getComputedStyle(gd).display;\n",
       "        if (!display || display === 'none') {{\n",
       "            console.log([gd, 'removed!']);\n",
       "            Plotly.purge(gd);\n",
       "            observer.disconnect();\n",
       "        }}\n",
       "}});\n",
       "\n",
       "// Listen for the removal of the full notebook cells\n",
       "var notebookContainer = gd.closest('#notebook-container');\n",
       "if (notebookContainer) {{\n",
       "    x.observe(notebookContainer, {childList: true});\n",
       "}}\n",
       "\n",
       "// Listen for the clearing of the current output cell\n",
       "var outputEl = gd.closest('.output');\n",
       "if (outputEl) {{\n",
       "    x.observe(outputEl, {childList: true});\n",
       "}}\n",
       "\n",
       "                        })                };                });            </script>        </div>"
      ]
     },
     "metadata": {},
     "output_type": "display_data"
    }
   ],
   "source": [
    "print(shark_tank[shark_tank['Namita Investment Amount']>0]['Industry'].value_counts().sort_values(ascending=False))\n",
    "shark_tank[shark_tank['Namita Investment Amount']>0]['Industry'].value_counts().sort_values(ascending=False).plot.pie(autopct='%1.2f%%')\n",
    "plt.show()\n",
    "\n",
    "tmpdf = shark_tank.loc[shark_tank['Namita Investment Amount']>0] [[\"Startup Name\",\"Namita Investment Amount\",\"Namita Investment Equity\"]].sort_values(by=\"Namita Investment Equity\")\n",
    "fig = px.bar(tmpdf, x=\"Namita Investment Equity\", y='Namita Investment Amount', color=\"Startup Name\", title=\"<b>Total equity received by Namita (in %) for investment (in lakhs)</b>\", text=tmpdf['Namita Investment Amount'].map(int).map(str) + \" lakhs\")\n",
    "fig.update_layout(dict(xaxis = dict(type=\"category\")))\n",
    "fig.show()"
   ]
  },
  {
   "cell_type": "markdown",
   "id": "18cdb0e0",
   "metadata": {
    "papermill": {
     "duration": 0.022429,
     "end_time": "2022-06-29T08:37:10.661925",
     "exception": false,
     "start_time": "2022-06-29T08:37:10.639496",
     "status": "completed"
    },
    "tags": []
   },
   "source": [
    "Namita has more beauty and Fashion industry based startups then food based startups."
   ]
  },
  {
   "cell_type": "code",
   "execution_count": 17,
   "id": "dc23364b",
   "metadata": {
    "execution": {
     "iopub.execute_input": "2022-06-29T08:37:10.709047Z",
     "iopub.status.busy": "2022-06-29T08:37:10.708631Z",
     "iopub.status.idle": "2022-06-29T08:37:11.034558Z",
     "shell.execute_reply": "2022-06-29T08:37:11.033840Z"
    },
    "papermill": {
     "duration": 0.352259,
     "end_time": "2022-06-29T08:37:11.036545",
     "exception": false,
     "start_time": "2022-06-29T08:37:10.684286",
     "status": "completed"
    },
    "tags": []
   },
   "outputs": [
    {
     "name": "stdout",
     "output_type": "stream",
     "text": [
      "Food                   8\n",
      "Beauty/Fashion         4\n",
      "Electrical Vehicles    1\n",
      "Medical                1\n",
      "Manufacturing          1\n",
      "Sports                 1\n",
      "Name: Industry, dtype: int64\n"
     ]
    },
    {
     "data": {
      "image/png": "[encoded data removed]",
      "text/plain": [
       "<Figure size 432x288 with 1 Axes>"
      ]
     },
     "metadata": {},
     "output_type": "display_data"
    },
    {
     "data": {
      "text/html": [
       "<div>                            <div id=\"7e18e698-0934-4c35-932d-55e42a563015\" class=\"plotly-graph-div\" style=\"height:525px; width:100%;\"></div>            <script type=\"text/javascript\">                require([\"plotly\"], function(Plotly) {                    window.PLOTLYENV=window.PLOTLYENV || {};                                    if (document.getElementById(\"7e18e698-0934-4c35-932d-55e42a563015\")) {                    Plotly.newPlot(                        \"7e18e698-0934-4c35-932d-55e42a563015\",                        [{\"alignmentgroup\":\"True\",\"hovertemplate\":\"Startup Name=Sunfox Technologies<br>Vineeta Investment Equity=%{x}<br>Vineeta Investment Amount=%{y}<br>text=%{text}<extra></extra>\",\"legendgroup\":\"Sunfox Technologies\",\"marker\":{\"color\":\"#636efa\",\"pattern\":{\"shape\":\"\"}},\"name\":\"Sunfox Technologies\",\"offsetgroup\":\"Sunfox Technologies\",\"orientation\":\"v\",\"showlegend\":true,\"text\":[\"20 lakhs\"],\"textposition\":\"auto\",\"x\":[1.2],\"xaxis\":\"x\",\"y\":[20.0],\"yaxis\":\"y\",\"type\":\"bar\"},{\"alignmentgroup\":\"True\",\"hovertemplate\":\"Startup Name=Skippi Ice Pops<br>Vineeta Investment Equity=%{x}<br>Vineeta Investment Amount=%{y}<br>text=%{text}<extra></extra>\",\"legendgroup\":\"Skippi Ice Pops\",\"marker\":{\"color\":\"#EF553B\",\"pattern\":{\"shape\":\"\"}},\"name\":\"Skippi Ice Pops\",\"offsetgroup\":\"Skippi Ice Pops\",\"orientation\":\"v\",\"showlegend\":true,\"text\":[\"20 lakhs\"],\"textposition\":\"auto\",\"x\":[3.0],\"xaxis\":\"x\",\"y\":[20.0],\"yaxis\":\"y\",\"type\":\"bar\"},{\"alignmentgroup\":\"True\",\"hovertemplate\":\"Startup Name=Kabaddi Adda<br>Vineeta Investment Equity=%{x}<br>Vineeta Investment Amount=%{y}<br>text=%{text}<extra></extra>\",\"legendgroup\":\"Kabaddi Adda\",\"marker\":{\"color\":\"#00cc96\",\"pattern\":{\"shape\":\"\"}},\"name\":\"Kabaddi Adda\",\"offsetgroup\":\"Kabaddi Adda\",\"orientation\":\"v\",\"showlegend\":true,\"text\":[\"40 lakhs\"],\"textposition\":\"auto\",\"x\":[3.0],\"xaxis\":\"x\",\"y\":[40.0],\"yaxis\":\"y\",\"type\":\"bar\"},{\"alignmentgroup\":\"True\",\"hovertemplate\":\"Startup Name=SneaKare<br>Vineeta Investment Equity=%{x}<br>Vineeta Investment Amount=%{y}<br>text=%{text}<extra></extra>\",\"legendgroup\":\"SneaKare\",\"marker\":{\"color\":\"#ab63fa\",\"pattern\":{\"shape\":\"\"}},\"name\":\"SneaKare\",\"offsetgroup\":\"SneaKare\",\"orientation\":\"v\",\"showlegend\":true,\"text\":[\"7 lakhs\"],\"textposition\":\"auto\",\"x\":[4.0],\"xaxis\":\"x\",\"y\":[7.0],\"yaxis\":\"y\",\"type\":\"bar\"},{\"alignmentgroup\":\"True\",\"hovertemplate\":\"Startup Name=Get-A-Whey<br>Vineeta Investment Equity=%{x}<br>Vineeta Investment Amount=%{y}<br>text=%{text}<extra></extra>\",\"legendgroup\":\"Get-A-Whey\",\"marker\":{\"color\":\"#FFA15A\",\"pattern\":{\"shape\":\"\"}},\"name\":\"Get-A-Whey\",\"offsetgroup\":\"Get-A-Whey\",\"orientation\":\"v\",\"showlegend\":true,\"text\":[\"33 lakhs\"],\"textposition\":\"auto\",\"x\":[5.0],\"xaxis\":\"x\",\"y\":[33.33],\"yaxis\":\"y\",\"type\":\"bar\"},{\"alignmentgroup\":\"True\",\"hovertemplate\":\"Startup Name=Humpy A2<br>Vineeta Investment Equity=%{x}<br>Vineeta Investment Amount=%{y}<br>text=%{text}<extra></extra>\",\"legendgroup\":\"Humpy A2\",\"marker\":{\"color\":\"#19d3f3\",\"pattern\":{\"shape\":\"\"}},\"name\":\"Humpy A2\",\"offsetgroup\":\"Humpy A2\",\"orientation\":\"v\",\"showlegend\":true,\"text\":[\"33 lakhs\"],\"textposition\":\"auto\",\"x\":[5.0],\"xaxis\":\"x\",\"y\":[33.33],\"yaxis\":\"y\",\"type\":\"bar\"},{\"alignmentgroup\":\"True\",\"hovertemplate\":\"Startup Name=Nomad Food Project<br>Vineeta Investment Equity=%{x}<br>Vineeta Investment Amount=%{y}<br>text=%{text}<extra></extra>\",\"legendgroup\":\"Nomad Food Project\",\"marker\":{\"color\":\"#FF6692\",\"pattern\":{\"shape\":\"\"}},\"name\":\"Nomad Food Project\",\"offsetgroup\":\"Nomad Food Project\",\"orientation\":\"v\",\"showlegend\":true,\"text\":[\"10 lakhs\"],\"textposition\":\"auto\",\"x\":[5.0],\"xaxis\":\"x\",\"y\":[10.0],\"yaxis\":\"y\",\"type\":\"bar\"},{\"alignmentgroup\":\"True\",\"hovertemplate\":\"Startup Name=BluePine Foods<br>Vineeta Investment Equity=%{x}<br>Vineeta Investment Amount=%{y}<br>text=%{text}<extra></extra>\",\"legendgroup\":\"BluePine Foods\",\"marker\":{\"color\":\"#B6E880\",\"pattern\":{\"shape\":\"\"}},\"name\":\"BluePine Foods\",\"offsetgroup\":\"BluePine Foods\",\"orientation\":\"v\",\"showlegend\":true,\"text\":[\"25 lakhs\"],\"textposition\":\"auto\",\"x\":[5.33],\"xaxis\":\"x\",\"y\":[25.0],\"yaxis\":\"y\",\"type\":\"bar\"},{\"alignmentgroup\":\"True\",\"hovertemplate\":\"Startup Name=Wakao Foods<br>Vineeta Investment Equity=%{x}<br>Vineeta Investment Amount=%{y}<br>text=%{text}<extra></extra>\",\"legendgroup\":\"Wakao Foods\",\"marker\":{\"color\":\"#FF97FF\",\"pattern\":{\"shape\":\"\"}},\"name\":\"Wakao Foods\",\"offsetgroup\":\"Wakao Foods\",\"orientation\":\"v\",\"showlegend\":true,\"text\":[\"25 lakhs\"],\"textposition\":\"auto\",\"x\":[7.0],\"xaxis\":\"x\",\"y\":[25.0],\"yaxis\":\"y\",\"type\":\"bar\"},{\"alignmentgroup\":\"True\",\"hovertemplate\":\"Startup Name=Jain Shikanji<br>Vineeta Investment Equity=%{x}<br>Vineeta Investment Amount=%{y}<br>text=%{text}<extra></extra>\",\"legendgroup\":\"Jain Shikanji\",\"marker\":{\"color\":\"#FECB52\",\"pattern\":{\"shape\":\"\"}},\"name\":\"Jain Shikanji\",\"offsetgroup\":\"Jain Shikanji\",\"orientation\":\"v\",\"showlegend\":true,\"text\":[\"10 lakhs\"],\"textposition\":\"auto\",\"x\":[7.5],\"xaxis\":\"x\",\"y\":[10.0],\"yaxis\":\"y\",\"type\":\"bar\"},{\"alignmentgroup\":\"True\",\"hovertemplate\":\"Startup Name=Gold Safe Solutions<br>Vineeta Investment Equity=%{x}<br>Vineeta Investment Amount=%{y}<br>text=%{text}<extra></extra>\",\"legendgroup\":\"Gold Safe Solutions\",\"marker\":{\"color\":\"#636efa\",\"pattern\":{\"shape\":\"\"}},\"name\":\"Gold Safe Solutions\",\"offsetgroup\":\"Gold Safe Solutions\",\"orientation\":\"v\",\"showlegend\":true,\"text\":[\"16 lakhs\"],\"textposition\":\"auto\",\"x\":[10.0],\"xaxis\":\"x\",\"y\":[16.66],\"yaxis\":\"y\",\"type\":\"bar\"},{\"alignmentgroup\":\"True\",\"hovertemplate\":\"Startup Name=The Quirky Naari<br>Vineeta Investment Equity=%{x}<br>Vineeta Investment Amount=%{y}<br>text=%{text}<extra></extra>\",\"legendgroup\":\"The Quirky Naari\",\"marker\":{\"color\":\"#EF553B\",\"pattern\":{\"shape\":\"\"}},\"name\":\"The Quirky Naari\",\"offsetgroup\":\"The Quirky Naari\",\"orientation\":\"v\",\"showlegend\":true,\"text\":[\"17 lakhs\"],\"textposition\":\"auto\",\"x\":[12.0],\"xaxis\":\"x\",\"y\":[17.5],\"yaxis\":\"y\",\"type\":\"bar\"},{\"alignmentgroup\":\"True\",\"hovertemplate\":\"Startup Name=Cos IQ<br>Vineeta Investment Equity=%{x}<br>Vineeta Investment Amount=%{y}<br>text=%{text}<extra></extra>\",\"legendgroup\":\"Cos IQ\",\"marker\":{\"color\":\"#00cc96\",\"pattern\":{\"shape\":\"\"}},\"name\":\"Cos IQ\",\"offsetgroup\":\"Cos IQ\",\"orientation\":\"v\",\"showlegend\":true,\"text\":[\"25 lakhs\"],\"textposition\":\"auto\",\"x\":[12.5],\"xaxis\":\"x\",\"y\":[25.0],\"yaxis\":\"y\",\"type\":\"bar\"},{\"alignmentgroup\":\"True\",\"hovertemplate\":\"Startup Name=Heart up my Sleeves<br>Vineeta Investment Equity=%{x}<br>Vineeta Investment Amount=%{y}<br>text=%{text}<extra></extra>\",\"legendgroup\":\"Heart up my Sleeves\",\"marker\":{\"color\":\"#ab63fa\",\"pattern\":{\"shape\":\"\"}},\"name\":\"Heart up my Sleeves\",\"offsetgroup\":\"Heart up my Sleeves\",\"orientation\":\"v\",\"showlegend\":true,\"text\":[\"12 lakhs\"],\"textposition\":\"auto\",\"x\":[15.0],\"xaxis\":\"x\",\"y\":[12.5],\"yaxis\":\"y\",\"type\":\"bar\"},{\"alignmentgroup\":\"True\",\"hovertemplate\":\"Startup Name=NOCD<br>Vineeta Investment Equity=%{x}<br>Vineeta Investment Amount=%{y}<br>text=%{text}<extra></extra>\",\"legendgroup\":\"NOCD\",\"marker\":{\"color\":\"#FFA15A\",\"pattern\":{\"shape\":\"\"}},\"name\":\"NOCD\",\"offsetgroup\":\"NOCD\",\"orientation\":\"v\",\"showlegend\":true,\"text\":[\"20 lakhs\"],\"textposition\":\"auto\",\"x\":[15.0],\"xaxis\":\"x\",\"y\":[20.0],\"yaxis\":\"y\",\"type\":\"bar\"},{\"alignmentgroup\":\"True\",\"hovertemplate\":\"Startup Name=Booz Scooters<br>Vineeta Investment Equity=%{x}<br>Vineeta Investment Amount=%{y}<br>text=%{text}<extra></extra>\",\"legendgroup\":\"Booz Scooters\",\"marker\":{\"color\":\"#19d3f3\",\"pattern\":{\"shape\":\"\"}},\"name\":\"Booz Scooters\",\"offsetgroup\":\"Booz Scooters\",\"orientation\":\"v\",\"showlegend\":true,\"text\":[\"20 lakhs\"],\"textposition\":\"auto\",\"x\":[25.0],\"xaxis\":\"x\",\"y\":[20.0],\"yaxis\":\"y\",\"type\":\"bar\"}],                        {\"template\":{\"data\":{\"histogram2dcontour\":[{\"type\":\"histogram2dcontour\",\"colorbar\":{\"outlinewidth\":0,\"ticks\":\"\"},\"colorscale\":[[0.0,\"#0d0887\"],[0.1111111111111111,\"#46039f\"],[0.2222222222222222,\"#7201a8\"],[0.3333333333333333,\"#9c179e\"],[0.4444444444444444,\"#bd3786\"],[0.5555555555555556,\"#d8576b\"],[0.6666666666666666,\"#ed7953\"],[0.7777777777777778,\"#fb9f3a\"],[0.8888888888888888,\"#fdca26\"],[1.0,\"#f0f921\"]]}],\"choropleth\":[{\"type\":\"choropleth\",\"colorbar\":{\"outlinewidth\":0,\"ticks\":\"\"}}],\"histogram2d\":[{\"type\":\"histogram2d\",\"colorbar\":{\"outlinewidth\":0,\"ticks\":\"\"},\"colorscale\":[[0.0,\"#0d0887\"],[0.1111111111111111,\"#46039f\"],[0.2222222222222222,\"#7201a8\"],[0.3333333333333333,\"#9c179e\"],[0.4444444444444444,\"#bd3786\"],[0.5555555555555556,\"#d8576b\"],[0.6666666666666666,\"#ed7953\"],[0.7777777777777778,\"#fb9f3a\"],[0.8888888888888888,\"#fdca26\"],[1.0,\"#f0f921\"]]}],\"heatmap\":[{\"type\":\"heatmap\",\"colorbar\":{\"outlinewidth\":0,\"ticks\":\"\"},\"colorscale\":[[0.0,\"#0d0887\"],[0.1111111111111111,\"#46039f\"],[0.2222222222222222,\"#7201a8\"],[0.3333333333333333,\"#9c179e\"],[0.4444444444444444,\"#bd3786\"],[0.5555555555555556,\"#d8576b\"],[0.6666666666666666,\"#ed7953\"],[0.7777777777777778,\"#fb9f3a\"],[0.8888888888888888,\"#fdca26\"],[1.0,\"#f0f921\"]]}],\"heatmapgl\":[{\"type\":\"heatmapgl\",\"colorbar\":{\"outlinewidth\":0,\"ticks\":\"\"},\"colorscale\":[[0.0,\"#0d0887\"],[0.1111111111111111,\"#46039f\"],[0.2222222222222222,\"#7201a8\"],[0.3333333333333333,\"#9c179e\"],[0.4444444444444444,\"#bd3786\"],[0.5555555555555556,\"#d8576b\"],[0.6666666666666666,\"#ed7953\"],[0.7777777777777778,\"#fb9f3a\"],[0.8888888888888888,\"#fdca26\"],[1.0,\"#f0f921\"]]}],\"contourcarpet\":[{\"type\":\"contourcarpet\",\"colorbar\":{\"outlinewidth\":0,\"ticks\":\"\"}}],\"contour\":[{\"type\":\"contour\",\"colorbar\":{\"outlinewidth\":0,\"ticks\":\"\"},\"colorscale\":[[0.0,\"#0d0887\"],[0.1111111111111111,\"#46039f\"],[0.2222222222222222,\"#7201a8\"],[0.3333333333333333,\"#9c179e\"],[0.4444444444444444,\"#bd3786\"],[0.5555555555555556,\"#d8576b\"],[0.6666666666666666,\"#ed7953\"],[0.7777777777777778,\"#fb9f3a\"],[0.8888888888888888,\"#fdca26\"],[1.0,\"#f0f921\"]]}],\"surface\":[{\"type\":\"surface\",\"colorbar\":{\"outlinewidth\":0,\"ticks\":\"\"},\"colorscale\":[[0.0,\"#0d0887\"],[0.1111111111111111,\"#46039f\"],[0.2222222222222222,\"#7201a8\"],[0.3333333333333333,\"#9c179e\"],[0.4444444444444444,\"#bd3786\"],[0.5555555555555556,\"#d8576b\"],[0.6666666666666666,\"#ed7953\"],[0.7777777777777778,\"#fb9f3a\"],[0.8888888888888888,\"#fdca26\"],[1.0,\"#f0f921\"]]}],\"mesh3d\":[{\"type\":\"mesh3d\",\"colorbar\":{\"outlinewidth\":0,\"ticks\":\"\"}}],\"scatter\":[{\"marker\":{\"line\":{\"color\":\"#283442\"}},\"type\":\"scatter\"}],\"parcoords\":[{\"type\":\"parcoords\",\"line\":{\"colorbar\":{\"outlinewidth\":0,\"ticks\":\"\"}}}],\"scatterpolargl\":[{\"type\":\"scatterpolargl\",\"marker\":{\"colorbar\":{\"outlinewidth\":0,\"ticks\":\"\"}}}],\"bar\":[{\"error_x\":{\"color\":\"#f2f5fa\"},\"error_y\":{\"color\":\"#f2f5fa\"},\"marker\":{\"line\":{\"color\":\"rgb(17,17,17)\",\"width\":0.5},\"pattern\":{\"fillmode\":\"overlay\",\"size\":10,\"solidity\":0.2}},\"type\":\"bar\"}],\"scattergeo\":[{\"type\":\"scattergeo\",\"marker\":{\"colorbar\":{\"outlinewidth\":0,\"ticks\":\"\"}}}],\"scatterpolar\":[{\"type\":\"scatterpolar\",\"marker\":{\"colorbar\":{\"outlinewidth\":0,\"ticks\":\"\"}}}],\"histogram\":[{\"marker\":{\"pattern\":{\"fillmode\":\"overlay\",\"size\":10,\"solidity\":0.2}},\"type\":\"histogram\"}],\"scattergl\":[{\"marker\":{\"line\":{\"color\":\"#283442\"}},\"type\":\"scattergl\"}],\"scatter3d\":[{\"type\":\"scatter3d\",\"line\":{\"colorbar\":{\"outlinewidth\":0,\"ticks\":\"\"}},\"marker\":{\"colorbar\":{\"outlinewidth\":0,\"ticks\":\"\"}}}],\"scattermapbox\":[{\"type\":\"scattermapbox\",\"marker\":{\"colorbar\":{\"outlinewidth\":0,\"ticks\":\"\"}}}],\"scatterternary\":[{\"type\":\"scatterternary\",\"marker\":{\"colorbar\":{\"outlinewidth\":0,\"ticks\":\"\"}}}],\"scattercarpet\":[{\"type\":\"scattercarpet\",\"marker\":{\"colorbar\":{\"outlinewidth\":0,\"ticks\":\"\"}}}],\"carpet\":[{\"aaxis\":{\"endlinecolor\":\"#A2B1C6\",\"gridcolor\":\"#506784\",\"linecolor\":\"#506784\",\"minorgridcolor\":\"#506784\",\"startlinecolor\":\"#A2B1C6\"},\"baxis\":{\"endlinecolor\":\"#A2B1C6\",\"gridcolor\":\"#506784\",\"linecolor\":\"#506784\",\"minorgridcolor\":\"#506784\",\"startlinecolor\":\"#A2B1C6\"},\"type\":\"carpet\"}],\"table\":[{\"cells\":{\"fill\":{\"color\":\"#506784\"},\"line\":{\"color\":\"rgb(17,17,17)\"}},\"header\":{\"fill\":{\"color\":\"#2a3f5f\"},\"line\":{\"color\":\"rgb(17,17,17)\"}},\"type\":\"table\"}],\"barpolar\":[{\"marker\":{\"line\":{\"color\":\"rgb(17,17,17)\",\"width\":0.5},\"pattern\":{\"fillmode\":\"overlay\",\"size\":10,\"solidity\":0.2}},\"type\":\"barpolar\"}],\"pie\":[{\"automargin\":true,\"type\":\"pie\"}]},\"layout\":{\"autotypenumbers\":\"strict\",\"colorway\":[\"#636efa\",\"#EF553B\",\"#00cc96\",\"#ab63fa\",\"#FFA15A\",\"#19d3f3\",\"#FF6692\",\"#B6E880\",\"#FF97FF\",\"#FECB52\"],\"font\":{\"color\":\"#f2f5fa\"},\"hovermode\":\"closest\",\"hoverlabel\":{\"align\":\"left\"},\"paper_bgcolor\":\"rgb(17,17,17)\",\"plot_bgcolor\":\"rgb(17,17,17)\",\"polar\":{\"bgcolor\":\"rgb(17,17,17)\",\"angularaxis\":{\"gridcolor\":\"#506784\",\"linecolor\":\"#506784\",\"ticks\":\"\"},\"radialaxis\":{\"gridcolor\":\"#506784\",\"linecolor\":\"#506784\",\"ticks\":\"\"}},\"ternary\":{\"bgcolor\":\"rgb(17,17,17)\",\"aaxis\":{\"gridcolor\":\"#506784\",\"linecolor\":\"#506784\",\"ticks\":\"\"},\"baxis\":{\"gridcolor\":\"#506784\",\"linecolor\":\"#506784\",\"ticks\":\"\"},\"caxis\":{\"gridcolor\":\"#506784\",\"linecolor\":\"#506784\",\"ticks\":\"\"}},\"coloraxis\":{\"colorbar\":{\"outlinewidth\":0,\"ticks\":\"\"}},\"colorscale\":{\"sequential\":[[0.0,\"#0d0887\"],[0.1111111111111111,\"#46039f\"],[0.2222222222222222,\"#7201a8\"],[0.3333333333333333,\"#9c179e\"],[0.4444444444444444,\"#bd3786\"],[0.5555555555555556,\"#d8576b\"],[0.6666666666666666,\"#ed7953\"],[0.7777777777777778,\"#fb9f3a\"],[0.8888888888888888,\"#fdca26\"],[1.0,\"#f0f921\"]],\"sequentialminus\":[[0.0,\"#0d0887\"],[0.1111111111111111,\"#46039f\"],[0.2222222222222222,\"#7201a8\"],[0.3333333333333333,\"#9c179e\"],[0.4444444444444444,\"#bd3786\"],[0.5555555555555556,\"#d8576b\"],[0.6666666666666666,\"#ed7953\"],[0.7777777777777778,\"#fb9f3a\"],[0.8888888888888888,\"#fdca26\"],[1.0,\"#f0f921\"]],\"diverging\":[[0,\"#8e0152\"],[0.1,\"#c51b7d\"],[0.2,\"#de77ae\"],[0.3,\"#f1b6da\"],[0.4,\"#fde0ef\"],[0.5,\"#f7f7f7\"],[0.6,\"#e6f5d0\"],[0.7,\"#b8e186\"],[0.8,\"#7fbc41\"],[0.9,\"#4d9221\"],[1,\"#276419\"]]},\"xaxis\":{\"gridcolor\":\"#283442\",\"linecolor\":\"#506784\",\"ticks\":\"\",\"title\":{\"standoff\":15},\"zerolinecolor\":\"#283442\",\"automargin\":true,\"zerolinewidth\":2},\"yaxis\":{\"gridcolor\":\"#283442\",\"linecolor\":\"#506784\",\"ticks\":\"\",\"title\":{\"standoff\":15},\"zerolinecolor\":\"#283442\",\"automargin\":true,\"zerolinewidth\":2},\"scene\":{\"xaxis\":{\"backgroundcolor\":\"rgb(17,17,17)\",\"gridcolor\":\"#506784\",\"linecolor\":\"#506784\",\"showbackground\":true,\"ticks\":\"\",\"zerolinecolor\":\"#C8D4E3\",\"gridwidth\":2},\"yaxis\":{\"backgroundcolor\":\"rgb(17,17,17)\",\"gridcolor\":\"#506784\",\"linecolor\":\"#506784\",\"showbackground\":true,\"ticks\":\"\",\"zerolinecolor\":\"#C8D4E3\",\"gridwidth\":2},\"zaxis\":{\"backgroundcolor\":\"rgb(17,17,17)\",\"gridcolor\":\"#506784\",\"linecolor\":\"#506784\",\"showbackground\":true,\"ticks\":\"\",\"zerolinecolor\":\"#C8D4E3\",\"gridwidth\":2}},\"shapedefaults\":{\"line\":{\"color\":\"#f2f5fa\"}},\"annotationdefaults\":{\"arrowcolor\":\"#f2f5fa\",\"arrowhead\":0,\"arrowwidth\":1},\"geo\":{\"bgcolor\":\"rgb(17,17,17)\",\"landcolor\":\"rgb(17,17,17)\",\"subunitcolor\":\"#506784\",\"showland\":true,\"showlakes\":true,\"lakecolor\":\"rgb(17,17,17)\"},\"title\":{\"x\":0.05},\"updatemenudefaults\":{\"bgcolor\":\"#506784\",\"borderwidth\":0},\"sliderdefaults\":{\"bgcolor\":\"#C8D4E3\",\"borderwidth\":1,\"bordercolor\":\"rgb(17,17,17)\",\"tickwidth\":0},\"mapbox\":{\"style\":\"dark\"}}},\"xaxis\":{\"anchor\":\"y\",\"domain\":[0.0,1.0],\"title\":{\"text\":\"Vineeta Investment Equity\"},\"type\":\"category\"},\"yaxis\":{\"anchor\":\"x\",\"domain\":[0.0,1.0],\"title\":{\"text\":\"Vineeta Investment Amount\"}},\"legend\":{\"title\":{\"text\":\"Startup Name\"},\"tracegroupgap\":0},\"title\":{\"text\":\"<b>Total equity received by Vineeta (in %) for investment (in lakhs)</b>\"},\"barmode\":\"relative\"},                        {\"responsive\": true}                    ).then(function(){\n",
       "                            \n",
       "var gd = document.getElementById('7e18e698-0934-4c35-932d-55e42a563015');\n",
       "var x = new MutationObserver(function (mutations, observer) {{\n",
       "        var display = window.getComputedStyle(gd).display;\n",
       "        if (!display || display === 'none') {{\n",
       "            console.log([gd, 'removed!']);\n",
       "            Plotly.purge(gd);\n",
       "            observer.disconnect();\n",
       "        }}\n",
       "}});\n",
       "\n",
       "// Listen for the removal of the full notebook cells\n",
       "var notebookContainer = gd.closest('#notebook-container');\n",
       "if (notebookContainer) {{\n",
       "    x.observe(notebookContainer, {childList: true});\n",
       "}}\n",
       "\n",
       "// Listen for the clearing of the current output cell\n",
       "var outputEl = gd.closest('.output');\n",
       "if (outputEl) {{\n",
       "    x.observe(outputEl, {childList: true});\n",
       "}}\n",
       "\n",
       "                        })                };                });            </script>        </div>"
      ]
     },
     "metadata": {},
     "output_type": "display_data"
    }
   ],
   "source": [
    "print(shark_tank[shark_tank['Vineeta Investment Amount']>0]['Industry'].value_counts().sort_values(ascending=False))\n",
    "shark_tank[shark_tank['Vineeta Investment Amount']>0]['Industry'].value_counts().sort_values(ascending=False).plot.pie(autopct='%1.2f%%')\n",
    "plt.show()\n",
    "\n",
    "tmpdf = shark_tank.loc[shark_tank['Vineeta Investment Amount']>0] [[\"Startup Name\",\"Vineeta Investment Amount\",\"Vineeta Investment Equity\"]].sort_values(by=\"Vineeta Investment Equity\")\n",
    "fig = px.bar(tmpdf, x=\"Vineeta Investment Equity\", y='Vineeta Investment Amount', color=\"Startup Name\", title=\"<b>Total equity received by Vineeta (in %) for investment (in lakhs)</b>\", text=tmpdf['Vineeta Investment Amount'].map(int).map(str) + \" lakhs\")\n",
    "fig.update_layout(dict(xaxis = dict(type=\"category\")))\n",
    "fig.show()"
   ]
  },
  {
   "cell_type": "markdown",
   "id": "8f144e22",
   "metadata": {
    "papermill": {
     "duration": 0.023458,
     "end_time": "2022-06-29T08:37:11.083489",
     "exception": false,
     "start_time": "2022-06-29T08:37:11.060031",
     "status": "completed"
    },
    "tags": []
   },
   "source": [
    "Vineeta's portfolio has 50% food based industry and 25% beauty/Fashion industry. "
   ]
  },
  {
   "cell_type": "code",
   "execution_count": 18,
   "id": "de031e1c",
   "metadata": {
    "execution": {
     "iopub.execute_input": "2022-06-29T08:37:11.134368Z",
     "iopub.status.busy": "2022-06-29T08:37:11.133540Z",
     "iopub.status.idle": "2022-06-29T08:37:11.565675Z",
     "shell.execute_reply": "2022-06-29T08:37:11.564631Z"
    },
    "papermill": {
     "duration": 0.45989,
     "end_time": "2022-06-29T08:37:11.567938",
     "exception": false,
     "start_time": "2022-06-29T08:37:11.108048",
     "status": "completed"
    },
    "tags": []
   },
   "outputs": [
    {
     "name": "stdout",
     "output_type": "stream",
     "text": [
      "Manufacturing     4\n",
      "Beauty/Fashion    4\n",
      "Food              4\n",
      "Technology        4\n",
      "Medical           3\n",
      "Education         3\n",
      "Hardware          2\n",
      "Services          2\n",
      "Animal/Pets       1\n",
      "Sports            1\n",
      "Name: Industry, dtype: int64\n"
     ]
    },
    {
     "data": {
      "image/png": "[encoded data removed]",
      "text/plain": [
       "<Figure size 432x288 with 1 Axes>"
      ]
     },
     "metadata": {},
     "output_type": "display_data"
    },
    {
     "data": {
      "text/html": [
       "<div>                            <div id=\"8521065b-d1d1-4ff2-b0b7-9680cb1c81f1\" class=\"plotly-graph-div\" style=\"height:525px; width:100%;\"></div>            <script type=\"text/javascript\">                require([\"plotly\"], function(Plotly) {                    window.PLOTLYENV=window.PLOTLYENV || {};                                    if (document.getElementById(\"8521065b-d1d1-4ff2-b0b7-9680cb1c81f1\")) {                    Plotly.newPlot(                        \"8521065b-d1d1-4ff2-b0b7-9680cb1c81f1\",                        [{\"alignmentgroup\":\"True\",\"hovertemplate\":\"Startup Name=Watt Technovations<br>Peyush Investment Equity=%{x}<br>Peyush Investment Amount=%{y}<br>text=%{text}<extra></extra>\",\"legendgroup\":\"Watt Technovations\",\"marker\":{\"color\":\"#636efa\",\"pattern\":{\"shape\":\"\"}},\"name\":\"Watt Technovations\",\"offsetgroup\":\"Watt Technovations\",\"orientation\":\"v\",\"showlegend\":true,\"text\":[\"0 lakhs\"],\"textposition\":\"auto\",\"x\":[1.0],\"xaxis\":\"x\",\"y\":[0.0002525],\"yaxis\":\"y\",\"type\":\"bar\"},{\"alignmentgroup\":\"True\",\"hovertemplate\":\"Startup Name=EventBeep<br>Peyush Investment Equity=%{x}<br>Peyush Investment Amount=%{y}<br>text=%{text}<extra></extra>\",\"legendgroup\":\"EventBeep\",\"marker\":{\"color\":\"#EF553B\",\"pattern\":{\"shape\":\"\"}},\"name\":\"EventBeep\",\"offsetgroup\":\"EventBeep\",\"orientation\":\"v\",\"showlegend\":true,\"text\":[\"10 lakhs\"],\"textposition\":\"auto\",\"x\":[1.0],\"xaxis\":\"x\",\"y\":[10.0],\"yaxis\":\"y\",\"type\":\"bar\"},{\"alignmentgroup\":\"True\",\"hovertemplate\":\"Startup Name=Annie<br>Peyush Investment Equity=%{x}<br>Peyush Investment Amount=%{y}<br>text=%{text}<extra></extra>\",\"legendgroup\":\"Annie\",\"marker\":{\"color\":\"#00cc96\",\"pattern\":{\"shape\":\"\"}},\"name\":\"Annie\",\"offsetgroup\":\"Annie\",\"orientation\":\"v\",\"showlegend\":true,\"text\":[\"35 lakhs\"],\"textposition\":\"auto\",\"x\":[1.0],\"xaxis\":\"x\",\"y\":[35.0],\"yaxis\":\"y\",\"type\":\"bar\"},{\"alignmentgroup\":\"True\",\"hovertemplate\":\"Startup Name=Sunfox Technologies<br>Peyush Investment Equity=%{x}<br>Peyush Investment Amount=%{y}<br>text=%{text}<extra></extra>\",\"legendgroup\":\"Sunfox Technologies\",\"marker\":{\"color\":\"#ab63fa\",\"pattern\":{\"shape\":\"\"}},\"name\":\"Sunfox Technologies\",\"offsetgroup\":\"Sunfox Technologies\",\"orientation\":\"v\",\"showlegend\":true,\"text\":[\"20 lakhs\"],\"textposition\":\"auto\",\"x\":[1.2],\"xaxis\":\"x\",\"y\":[20.0],\"yaxis\":\"y\",\"type\":\"bar\"},{\"alignmentgroup\":\"True\",\"hovertemplate\":\"Startup Name=Hair Originals<br>Peyush Investment Equity=%{x}<br>Peyush Investment Amount=%{y}<br>text=%{text}<extra></extra>\",\"legendgroup\":\"Hair Originals\",\"marker\":{\"color\":\"#FFA15A\",\"pattern\":{\"shape\":\"\"}},\"name\":\"Hair Originals\",\"offsetgroup\":\"Hair Originals\",\"orientation\":\"v\",\"showlegend\":true,\"text\":[\"20 lakhs\"],\"textposition\":\"auto\",\"x\":[1.33],\"xaxis\":\"x\",\"y\":[20.0],\"yaxis\":\"y\",\"type\":\"bar\"},{\"alignmentgroup\":\"True\",\"hovertemplate\":\"Startup Name=Store My Goods<br>Peyush Investment Equity=%{x}<br>Peyush Investment Amount=%{y}<br>text=%{text}<extra></extra>\",\"legendgroup\":\"Store My Goods\",\"marker\":{\"color\":\"#19d3f3\",\"pattern\":{\"shape\":\"\"}},\"name\":\"Store My Goods\",\"offsetgroup\":\"Store My Goods\",\"orientation\":\"v\",\"showlegend\":true,\"text\":[\"25 lakhs\"],\"textposition\":\"auto\",\"x\":[2.0],\"xaxis\":\"x\",\"y\":[25.0],\"yaxis\":\"y\",\"type\":\"bar\"},{\"alignmentgroup\":\"True\",\"hovertemplate\":\"Startup Name=IN A CAN<br>Peyush Investment Equity=%{x}<br>Peyush Investment Amount=%{y}<br>text=%{text}<extra></extra>\",\"legendgroup\":\"IN A CAN\",\"marker\":{\"color\":\"#FF6692\",\"pattern\":{\"shape\":\"\"}},\"name\":\"IN A CAN\",\"offsetgroup\":\"IN A CAN\",\"orientation\":\"v\",\"showlegend\":true,\"text\":[\"20 lakhs\"],\"textposition\":\"auto\",\"x\":[2.0],\"xaxis\":\"x\",\"y\":[20.0],\"yaxis\":\"y\",\"type\":\"bar\"},{\"alignmentgroup\":\"True\",\"hovertemplate\":\"Startup Name=The Yarn Bazaar<br>Peyush Investment Equity=%{x}<br>Peyush Investment Amount=%{y}<br>text=%{text}<extra></extra>\",\"legendgroup\":\"The Yarn Bazaar\",\"marker\":{\"color\":\"#B6E880\",\"pattern\":{\"shape\":\"\"}},\"name\":\"The Yarn Bazaar\",\"offsetgroup\":\"The Yarn Bazaar\",\"orientation\":\"v\",\"showlegend\":true,\"text\":[\"25 lakhs\"],\"textposition\":\"auto\",\"x\":[2.5],\"xaxis\":\"x\",\"y\":[25.0],\"yaxis\":\"y\",\"type\":\"bar\"},{\"alignmentgroup\":\"True\",\"hovertemplate\":\"Startup Name=WeSTOCK<br>Peyush Investment Equity=%{x}<br>Peyush Investment Amount=%{y}<br>text=%{text}<extra></extra>\",\"legendgroup\":\"WeSTOCK\",\"marker\":{\"color\":\"#FF97FF\",\"pattern\":{\"shape\":\"\"}},\"name\":\"WeSTOCK\",\"offsetgroup\":\"WeSTOCK\",\"orientation\":\"v\",\"showlegend\":true,\"text\":[\"15 lakhs\"],\"textposition\":\"auto\",\"x\":[2.5],\"xaxis\":\"x\",\"y\":[15.0],\"yaxis\":\"y\",\"type\":\"bar\"},{\"alignmentgroup\":\"True\",\"hovertemplate\":\"Startup Name=The State Plate<br>Peyush Investment Equity=%{x}<br>Peyush Investment Amount=%{y}<br>text=%{text}<extra></extra>\",\"legendgroup\":\"The State Plate\",\"marker\":{\"color\":\"#FECB52\",\"pattern\":{\"shape\":\"\"}},\"name\":\"The State Plate\",\"offsetgroup\":\"The State Plate\",\"orientation\":\"v\",\"showlegend\":true,\"text\":[\"40 lakhs\"],\"textposition\":\"auto\",\"x\":[3.0],\"xaxis\":\"x\",\"y\":[40.0],\"yaxis\":\"y\",\"type\":\"bar\"},{\"alignmentgroup\":\"True\",\"hovertemplate\":\"Startup Name=Tweek Labs<br>Peyush Investment Equity=%{x}<br>Peyush Investment Amount=%{y}<br>text=%{text}<extra></extra>\",\"legendgroup\":\"Tweek Labs\",\"marker\":{\"color\":\"#636efa\",\"pattern\":{\"shape\":\"\"}},\"name\":\"Tweek Labs\",\"offsetgroup\":\"Tweek Labs\",\"orientation\":\"v\",\"showlegend\":true,\"text\":[\"20 lakhs\"],\"textposition\":\"auto\",\"x\":[3.33],\"xaxis\":\"x\",\"y\":[20.0],\"yaxis\":\"y\",\"type\":\"bar\"},{\"alignmentgroup\":\"True\",\"hovertemplate\":\"Startup Name=Insurance Samadhan<br>Peyush Investment Equity=%{x}<br>Peyush Investment Amount=%{y}<br>text=%{text}<extra></extra>\",\"legendgroup\":\"Insurance Samadhan\",\"marker\":{\"color\":\"#EF553B\",\"pattern\":{\"shape\":\"\"}},\"name\":\"Insurance Samadhan\",\"offsetgroup\":\"Insurance Samadhan\",\"orientation\":\"v\",\"showlegend\":true,\"text\":[\"100 lakhs\"],\"textposition\":\"auto\",\"x\":[4.0],\"xaxis\":\"x\",\"y\":[100.0],\"yaxis\":\"y\",\"type\":\"bar\"},{\"alignmentgroup\":\"True\",\"hovertemplate\":\"Startup Name=Find Your Kicks India<br>Peyush Investment Equity=%{x}<br>Peyush Investment Amount=%{y}<br>text=%{text}<extra></extra>\",\"legendgroup\":\"Find Your Kicks India\",\"marker\":{\"color\":\"#00cc96\",\"pattern\":{\"shape\":\"\"}},\"name\":\"Find Your Kicks India\",\"offsetgroup\":\"Find Your Kicks India\",\"orientation\":\"v\",\"showlegend\":true,\"text\":[\"10 lakhs\"],\"textposition\":\"auto\",\"x\":[5.0],\"xaxis\":\"x\",\"y\":[10.0],\"yaxis\":\"y\",\"type\":\"bar\"},{\"alignmentgroup\":\"True\",\"hovertemplate\":\"Startup Name=Aas Vidyalaya<br>Peyush Investment Equity=%{x}<br>Peyush Investment Amount=%{y}<br>text=%{text}<extra></extra>\",\"legendgroup\":\"Aas Vidyalaya\",\"marker\":{\"color\":\"#ab63fa\",\"pattern\":{\"shape\":\"\"}},\"name\":\"Aas Vidyalaya\",\"offsetgroup\":\"Aas Vidyalaya\",\"orientation\":\"v\",\"showlegend\":true,\"text\":[\"50 lakhs\"],\"textposition\":\"auto\",\"x\":[5.0],\"xaxis\":\"x\",\"y\":[50.0],\"yaxis\":\"y\",\"type\":\"bar\"},{\"alignmentgroup\":\"True\",\"hovertemplate\":\"Startup Name=Proxgy<br>Peyush Investment Equity=%{x}<br>Peyush Investment Amount=%{y}<br>text=%{text}<extra></extra>\",\"legendgroup\":\"Proxgy\",\"marker\":{\"color\":\"#FFA15A\",\"pattern\":{\"shape\":\"\"}},\"name\":\"Proxgy\",\"offsetgroup\":\"Proxgy\",\"orientation\":\"v\",\"showlegend\":true,\"text\":[\"50 lakhs\"],\"textposition\":\"auto\",\"x\":[5.0],\"xaxis\":\"x\",\"y\":[50.0],\"yaxis\":\"y\",\"type\":\"bar\"},{\"alignmentgroup\":\"True\",\"hovertemplate\":\"Startup Name=Ariro<br>Peyush Investment Equity=%{x}<br>Peyush Investment Amount=%{y}<br>text=%{text}<extra></extra>\",\"legendgroup\":\"Ariro\",\"marker\":{\"color\":\"#19d3f3\",\"pattern\":{\"shape\":\"\"}},\"name\":\"Ariro\",\"offsetgroup\":\"Ariro\",\"orientation\":\"v\",\"showlegend\":true,\"text\":[\"25 lakhs\"],\"textposition\":\"auto\",\"x\":[5.0],\"xaxis\":\"x\",\"y\":[25.0],\"yaxis\":\"y\",\"type\":\"bar\"},{\"alignmentgroup\":\"True\",\"hovertemplate\":\"Startup Name=Humpy A2<br>Peyush Investment Equity=%{x}<br>Peyush Investment Amount=%{y}<br>text=%{text}<extra></extra>\",\"legendgroup\":\"Humpy A2\",\"marker\":{\"color\":\"#FF6692\",\"pattern\":{\"shape\":\"\"}},\"name\":\"Humpy A2\",\"offsetgroup\":\"Humpy A2\",\"orientation\":\"v\",\"showlegend\":true,\"text\":[\"33 lakhs\"],\"textposition\":\"auto\",\"x\":[5.0],\"xaxis\":\"x\",\"y\":[33.33],\"yaxis\":\"y\",\"type\":\"bar\"},{\"alignmentgroup\":\"True\",\"hovertemplate\":\"Startup Name=Meatyour<br>Peyush Investment Equity=%{x}<br>Peyush Investment Amount=%{y}<br>text=%{text}<extra></extra>\",\"legendgroup\":\"Meatyour\",\"marker\":{\"color\":\"#B6E880\",\"pattern\":{\"shape\":\"\"}},\"name\":\"Meatyour\",\"offsetgroup\":\"Meatyour\",\"orientation\":\"v\",\"showlegend\":true,\"text\":[\"10 lakhs\"],\"textposition\":\"auto\",\"x\":[6.66],\"xaxis\":\"x\",\"y\":[10.0],\"yaxis\":\"y\",\"type\":\"bar\"},{\"alignmentgroup\":\"True\",\"hovertemplate\":\"Startup Name=Nuutjob<br>Peyush Investment Equity=%{x}<br>Peyush Investment Amount=%{y}<br>text=%{text}<extra></extra>\",\"legendgroup\":\"Nuutjob\",\"marker\":{\"color\":\"#FF97FF\",\"pattern\":{\"shape\":\"\"}},\"name\":\"Nuutjob\",\"offsetgroup\":\"Nuutjob\",\"orientation\":\"v\",\"showlegend\":true,\"text\":[\"8 lakhs\"],\"textposition\":\"auto\",\"x\":[6.66],\"xaxis\":\"x\",\"y\":[8.33],\"yaxis\":\"y\",\"type\":\"bar\"},{\"alignmentgroup\":\"True\",\"hovertemplate\":\"Startup Name=LOKA<br>Peyush Investment Equity=%{x}<br>Peyush Investment Amount=%{y}<br>text=%{text}<extra></extra>\",\"legendgroup\":\"LOKA\",\"marker\":{\"color\":\"#FECB52\",\"pattern\":{\"shape\":\"\"}},\"name\":\"LOKA\",\"offsetgroup\":\"LOKA\",\"orientation\":\"v\",\"showlegend\":true,\"text\":[\"13 lakhs\"],\"textposition\":\"auto\",\"x\":[8.0],\"xaxis\":\"x\",\"y\":[13.33],\"yaxis\":\"y\",\"type\":\"bar\"},{\"alignmentgroup\":\"True\",\"hovertemplate\":\"Startup Name=Carragreen<br>Peyush Investment Equity=%{x}<br>Peyush Investment Amount=%{y}<br>text=%{text}<extra></extra>\",\"legendgroup\":\"Carragreen\",\"marker\":{\"color\":\"#636efa\",\"pattern\":{\"shape\":\"\"}},\"name\":\"Carragreen\",\"offsetgroup\":\"Carragreen\",\"orientation\":\"v\",\"showlegend\":true,\"text\":[\"25 lakhs\"],\"textposition\":\"auto\",\"x\":[10.0],\"xaxis\":\"x\",\"y\":[25.0],\"yaxis\":\"y\",\"type\":\"bar\"},{\"alignmentgroup\":\"True\",\"hovertemplate\":\"Startup Name=Gold Safe Solutions<br>Peyush Investment Equity=%{x}<br>Peyush Investment Amount=%{y}<br>text=%{text}<extra></extra>\",\"legendgroup\":\"Gold Safe Solutions\",\"marker\":{\"color\":\"#EF553B\",\"pattern\":{\"shape\":\"\"}},\"name\":\"Gold Safe Solutions\",\"offsetgroup\":\"Gold Safe Solutions\",\"orientation\":\"v\",\"showlegend\":true,\"text\":[\"16 lakhs\"],\"textposition\":\"auto\",\"x\":[10.0],\"xaxis\":\"x\",\"y\":[16.66],\"yaxis\":\"y\",\"type\":\"bar\"},{\"alignmentgroup\":\"True\",\"hovertemplate\":\"Startup Name=Vivalyf Innovations<br>Peyush Investment Equity=%{x}<br>Peyush Investment Amount=%{y}<br>text=%{text}<extra></extra>\",\"legendgroup\":\"Vivalyf Innovations\",\"marker\":{\"color\":\"#00cc96\",\"pattern\":{\"shape\":\"\"}},\"name\":\"Vivalyf Innovations\",\"offsetgroup\":\"Vivalyf Innovations\",\"orientation\":\"v\",\"showlegend\":true,\"text\":[\"28 lakhs\"],\"textposition\":\"auto\",\"x\":[16.66],\"xaxis\":\"x\",\"y\":[28.0],\"yaxis\":\"y\",\"type\":\"bar\"},{\"alignmentgroup\":\"True\",\"hovertemplate\":\"Startup Name=RoadBounce<br>Peyush Investment Equity=%{x}<br>Peyush Investment Amount=%{y}<br>text=%{text}<extra></extra>\",\"legendgroup\":\"RoadBounce\",\"marker\":{\"color\":\"#ab63fa\",\"pattern\":{\"shape\":\"\"}},\"name\":\"RoadBounce\",\"offsetgroup\":\"RoadBounce\",\"orientation\":\"v\",\"showlegend\":true,\"text\":[\"80 lakhs\"],\"textposition\":\"auto\",\"x\":[20.0],\"xaxis\":\"x\",\"y\":[80.0],\"yaxis\":\"y\",\"type\":\"bar\"},{\"alignmentgroup\":\"True\",\"hovertemplate\":\"Startup Name=PNT<br>Peyush Investment Equity=%{x}<br>Peyush Investment Amount=%{y}<br>text=%{text}<extra></extra>\",\"legendgroup\":\"PNT\",\"marker\":{\"color\":\"#FFA15A\",\"pattern\":{\"shape\":\"\"}},\"name\":\"PNT\",\"offsetgroup\":\"PNT\",\"orientation\":\"v\",\"showlegend\":true,\"text\":[\"25 lakhs\"],\"textposition\":\"auto\",\"x\":[25.0],\"xaxis\":\"x\",\"y\":[25.0],\"yaxis\":\"y\",\"type\":\"bar\"},{\"alignmentgroup\":\"True\",\"hovertemplate\":\"Startup Name=KG Agrotech<br>Peyush Investment Equity=%{x}<br>Peyush Investment Amount=%{y}<br>text=%{text}<extra></extra>\",\"legendgroup\":\"KG Agrotech\",\"marker\":{\"color\":\"#19d3f3\",\"pattern\":{\"shape\":\"\"}},\"name\":\"KG Agrotech\",\"offsetgroup\":\"KG Agrotech\",\"orientation\":\"v\",\"showlegend\":true,\"text\":[\"10 lakhs\"],\"textposition\":\"auto\",\"x\":[40.0],\"xaxis\":\"x\",\"y\":[10.0],\"yaxis\":\"y\",\"type\":\"bar\"},{\"alignmentgroup\":\"True\",\"hovertemplate\":\"Startup Name=Isak Fragrances<br>Peyush Investment Equity=%{x}<br>Peyush Investment Amount=%{y}<br>text=%{text}<extra></extra>\",\"legendgroup\":\"Isak Fragrances\",\"marker\":{\"color\":\"#FF6692\",\"pattern\":{\"shape\":\"\"}},\"name\":\"Isak Fragrances\",\"offsetgroup\":\"Isak Fragrances\",\"orientation\":\"v\",\"showlegend\":true,\"text\":[\"50 lakhs\"],\"textposition\":\"auto\",\"x\":[50.0],\"xaxis\":\"x\",\"y\":[50.0],\"yaxis\":\"y\",\"type\":\"bar\"},{\"alignmentgroup\":\"True\",\"hovertemplate\":\"Startup Name=Sid07 Designs<br>Peyush Investment Equity=%{x}<br>Peyush Investment Amount=%{y}<br>text=%{text}<extra></extra>\",\"legendgroup\":\"Sid07 Designs\",\"marker\":{\"color\":\"#B6E880\",\"pattern\":{\"shape\":\"\"}},\"name\":\"Sid07 Designs\",\"offsetgroup\":\"Sid07 Designs\",\"orientation\":\"v\",\"showlegend\":true,\"text\":[\"25 lakhs\"],\"textposition\":\"auto\",\"x\":[75.0],\"xaxis\":\"x\",\"y\":[25.0],\"yaxis\":\"y\",\"type\":\"bar\"}],                        {\"template\":{\"data\":{\"histogram2dcontour\":[{\"type\":\"histogram2dcontour\",\"colorbar\":{\"outlinewidth\":0,\"ticks\":\"\"},\"colorscale\":[[0.0,\"#0d0887\"],[0.1111111111111111,\"#46039f\"],[0.2222222222222222,\"#7201a8\"],[0.3333333333333333,\"#9c179e\"],[0.4444444444444444,\"#bd3786\"],[0.5555555555555556,\"#d8576b\"],[0.6666666666666666,\"#ed7953\"],[0.7777777777777778,\"#fb9f3a\"],[0.8888888888888888,\"#fdca26\"],[1.0,\"#f0f921\"]]}],\"choropleth\":[{\"type\":\"choropleth\",\"colorbar\":{\"outlinewidth\":0,\"ticks\":\"\"}}],\"histogram2d\":[{\"type\":\"histogram2d\",\"colorbar\":{\"outlinewidth\":0,\"ticks\":\"\"},\"colorscale\":[[0.0,\"#0d0887\"],[0.1111111111111111,\"#46039f\"],[0.2222222222222222,\"#7201a8\"],[0.3333333333333333,\"#9c179e\"],[0.4444444444444444,\"#bd3786\"],[0.5555555555555556,\"#d8576b\"],[0.6666666666666666,\"#ed7953\"],[0.7777777777777778,\"#fb9f3a\"],[0.8888888888888888,\"#fdca26\"],[1.0,\"#f0f921\"]]}],\"heatmap\":[{\"type\":\"heatmap\",\"colorbar\":{\"outlinewidth\":0,\"ticks\":\"\"},\"colorscale\":[[0.0,\"#0d0887\"],[0.1111111111111111,\"#46039f\"],[0.2222222222222222,\"#7201a8\"],[0.3333333333333333,\"#9c179e\"],[0.4444444444444444,\"#bd3786\"],[0.5555555555555556,\"#d8576b\"],[0.6666666666666666,\"#ed7953\"],[0.7777777777777778,\"#fb9f3a\"],[0.8888888888888888,\"#fdca26\"],[1.0,\"#f0f921\"]]}],\"heatmapgl\":[{\"type\":\"heatmapgl\",\"colorbar\":{\"outlinewidth\":0,\"ticks\":\"\"},\"colorscale\":[[0.0,\"#0d0887\"],[0.1111111111111111,\"#46039f\"],[0.2222222222222222,\"#7201a8\"],[0.3333333333333333,\"#9c179e\"],[0.4444444444444444,\"#bd3786\"],[0.5555555555555556,\"#d8576b\"],[0.6666666666666666,\"#ed7953\"],[0.7777777777777778,\"#fb9f3a\"],[0.8888888888888888,\"#fdca26\"],[1.0,\"#f0f921\"]]}],\"contourcarpet\":[{\"type\":\"contourcarpet\",\"colorbar\":{\"outlinewidth\":0,\"ticks\":\"\"}}],\"contour\":[{\"type\":\"contour\",\"colorbar\":{\"outlinewidth\":0,\"ticks\":\"\"},\"colorscale\":[[0.0,\"#0d0887\"],[0.1111111111111111,\"#46039f\"],[0.2222222222222222,\"#7201a8\"],[0.3333333333333333,\"#9c179e\"],[0.4444444444444444,\"#bd3786\"],[0.5555555555555556,\"#d8576b\"],[0.6666666666666666,\"#ed7953\"],[0.7777777777777778,\"#fb9f3a\"],[0.8888888888888888,\"#fdca26\"],[1.0,\"#f0f921\"]]}],\"surface\":[{\"type\":\"surface\",\"colorbar\":{\"outlinewidth\":0,\"ticks\":\"\"},\"colorscale\":[[0.0,\"#0d0887\"],[0.1111111111111111,\"#46039f\"],[0.2222222222222222,\"#7201a8\"],[0.3333333333333333,\"#9c179e\"],[0.4444444444444444,\"#bd3786\"],[0.5555555555555556,\"#d8576b\"],[0.6666666666666666,\"#ed7953\"],[0.7777777777777778,\"#fb9f3a\"],[0.8888888888888888,\"#fdca26\"],[1.0,\"#f0f921\"]]}],\"mesh3d\":[{\"type\":\"mesh3d\",\"colorbar\":{\"outlinewidth\":0,\"ticks\":\"\"}}],\"scatter\":[{\"marker\":{\"line\":{\"color\":\"#283442\"}},\"type\":\"scatter\"}],\"parcoords\":[{\"type\":\"parcoords\",\"line\":{\"colorbar\":{\"outlinewidth\":0,\"ticks\":\"\"}}}],\"scatterpolargl\":[{\"type\":\"scatterpolargl\",\"marker\":{\"colorbar\":{\"outlinewidth\":0,\"ticks\":\"\"}}}],\"bar\":[{\"error_x\":{\"color\":\"#f2f5fa\"},\"error_y\":{\"color\":\"#f2f5fa\"},\"marker\":{\"line\":{\"color\":\"rgb(17,17,17)\",\"width\":0.5},\"pattern\":{\"fillmode\":\"overlay\",\"size\":10,\"solidity\":0.2}},\"type\":\"bar\"}],\"scattergeo\":[{\"type\":\"scattergeo\",\"marker\":{\"colorbar\":{\"outlinewidth\":0,\"ticks\":\"\"}}}],\"scatterpolar\":[{\"type\":\"scatterpolar\",\"marker\":{\"colorbar\":{\"outlinewidth\":0,\"ticks\":\"\"}}}],\"histogram\":[{\"marker\":{\"pattern\":{\"fillmode\":\"overlay\",\"size\":10,\"solidity\":0.2}},\"type\":\"histogram\"}],\"scattergl\":[{\"marker\":{\"line\":{\"color\":\"#283442\"}},\"type\":\"scattergl\"}],\"scatter3d\":[{\"type\":\"scatter3d\",\"line\":{\"colorbar\":{\"outlinewidth\":0,\"ticks\":\"\"}},\"marker\":{\"colorbar\":{\"outlinewidth\":0,\"ticks\":\"\"}}}],\"scattermapbox\":[{\"type\":\"scattermapbox\",\"marker\":{\"colorbar\":{\"outlinewidth\":0,\"ticks\":\"\"}}}],\"scatterternary\":[{\"type\":\"scatterternary\",\"marker\":{\"colorbar\":{\"outlinewidth\":0,\"ticks\":\"\"}}}],\"scattercarpet\":[{\"type\":\"scattercarpet\",\"marker\":{\"colorbar\":{\"outlinewidth\":0,\"ticks\":\"\"}}}],\"carpet\":[{\"aaxis\":{\"endlinecolor\":\"#A2B1C6\",\"gridcolor\":\"#506784\",\"linecolor\":\"#506784\",\"minorgridcolor\":\"#506784\",\"startlinecolor\":\"#A2B1C6\"},\"baxis\":{\"endlinecolor\":\"#A2B1C6\",\"gridcolor\":\"#506784\",\"linecolor\":\"#506784\",\"minorgridcolor\":\"#506784\",\"startlinecolor\":\"#A2B1C6\"},\"type\":\"carpet\"}],\"table\":[{\"cells\":{\"fill\":{\"color\":\"#506784\"},\"line\":{\"color\":\"rgb(17,17,17)\"}},\"header\":{\"fill\":{\"color\":\"#2a3f5f\"},\"line\":{\"color\":\"rgb(17,17,17)\"}},\"type\":\"table\"}],\"barpolar\":[{\"marker\":{\"line\":{\"color\":\"rgb(17,17,17)\",\"width\":0.5},\"pattern\":{\"fillmode\":\"overlay\",\"size\":10,\"solidity\":0.2}},\"type\":\"barpolar\"}],\"pie\":[{\"automargin\":true,\"type\":\"pie\"}]},\"layout\":{\"autotypenumbers\":\"strict\",\"colorway\":[\"#636efa\",\"#EF553B\",\"#00cc96\",\"#ab63fa\",\"#FFA15A\",\"#19d3f3\",\"#FF6692\",\"#B6E880\",\"#FF97FF\",\"#FECB52\"],\"font\":{\"color\":\"#f2f5fa\"},\"hovermode\":\"closest\",\"hoverlabel\":{\"align\":\"left\"},\"paper_bgcolor\":\"rgb(17,17,17)\",\"plot_bgcolor\":\"rgb(17,17,17)\",\"polar\":{\"bgcolor\":\"rgb(17,17,17)\",\"angularaxis\":{\"gridcolor\":\"#506784\",\"linecolor\":\"#506784\",\"ticks\":\"\"},\"radialaxis\":{\"gridcolor\":\"#506784\",\"linecolor\":\"#506784\",\"ticks\":\"\"}},\"ternary\":{\"bgcolor\":\"rgb(17,17,17)\",\"aaxis\":{\"gridcolor\":\"#506784\",\"linecolor\":\"#506784\",\"ticks\":\"\"},\"baxis\":{\"gridcolor\":\"#506784\",\"linecolor\":\"#506784\",\"ticks\":\"\"},\"caxis\":{\"gridcolor\":\"#506784\",\"linecolor\":\"#506784\",\"ticks\":\"\"}},\"coloraxis\":{\"colorbar\":{\"outlinewidth\":0,\"ticks\":\"\"}},\"colorscale\":{\"sequential\":[[0.0,\"#0d0887\"],[0.1111111111111111,\"#46039f\"],[0.2222222222222222,\"#7201a8\"],[0.3333333333333333,\"#9c179e\"],[0.4444444444444444,\"#bd3786\"],[0.5555555555555556,\"#d8576b\"],[0.6666666666666666,\"#ed7953\"],[0.7777777777777778,\"#fb9f3a\"],[0.8888888888888888,\"#fdca26\"],[1.0,\"#f0f921\"]],\"sequentialminus\":[[0.0,\"#0d0887\"],[0.1111111111111111,\"#46039f\"],[0.2222222222222222,\"#7201a8\"],[0.3333333333333333,\"#9c179e\"],[0.4444444444444444,\"#bd3786\"],[0.5555555555555556,\"#d8576b\"],[0.6666666666666666,\"#ed7953\"],[0.7777777777777778,\"#fb9f3a\"],[0.8888888888888888,\"#fdca26\"],[1.0,\"#f0f921\"]],\"diverging\":[[0,\"#8e0152\"],[0.1,\"#c51b7d\"],[0.2,\"#de77ae\"],[0.3,\"#f1b6da\"],[0.4,\"#fde0ef\"],[0.5,\"#f7f7f7\"],[0.6,\"#e6f5d0\"],[0.7,\"#b8e186\"],[0.8,\"#7fbc41\"],[0.9,\"#4d9221\"],[1,\"#276419\"]]},\"xaxis\":{\"gridcolor\":\"#283442\",\"linecolor\":\"#506784\",\"ticks\":\"\",\"title\":{\"standoff\":15},\"zerolinecolor\":\"#283442\",\"automargin\":true,\"zerolinewidth\":2},\"yaxis\":{\"gridcolor\":\"#283442\",\"linecolor\":\"#506784\",\"ticks\":\"\",\"title\":{\"standoff\":15},\"zerolinecolor\":\"#283442\",\"automargin\":true,\"zerolinewidth\":2},\"scene\":{\"xaxis\":{\"backgroundcolor\":\"rgb(17,17,17)\",\"gridcolor\":\"#506784\",\"linecolor\":\"#506784\",\"showbackground\":true,\"ticks\":\"\",\"zerolinecolor\":\"#C8D4E3\",\"gridwidth\":2},\"yaxis\":{\"backgroundcolor\":\"rgb(17,17,17)\",\"gridcolor\":\"#506784\",\"linecolor\":\"#506784\",\"showbackground\":true,\"ticks\":\"\",\"zerolinecolor\":\"#C8D4E3\",\"gridwidth\":2},\"zaxis\":{\"backgroundcolor\":\"rgb(17,17,17)\",\"gridcolor\":\"#506784\",\"linecolor\":\"#506784\",\"showbackground\":true,\"ticks\":\"\",\"zerolinecolor\":\"#C8D4E3\",\"gridwidth\":2}},\"shapedefaults\":{\"line\":{\"color\":\"#f2f5fa\"}},\"annotationdefaults\":{\"arrowcolor\":\"#f2f5fa\",\"arrowhead\":0,\"arrowwidth\":1},\"geo\":{\"bgcolor\":\"rgb(17,17,17)\",\"landcolor\":\"rgb(17,17,17)\",\"subunitcolor\":\"#506784\",\"showland\":true,\"showlakes\":true,\"lakecolor\":\"rgb(17,17,17)\"},\"title\":{\"x\":0.05},\"updatemenudefaults\":{\"bgcolor\":\"#506784\",\"borderwidth\":0},\"sliderdefaults\":{\"bgcolor\":\"#C8D4E3\",\"borderwidth\":1,\"bordercolor\":\"rgb(17,17,17)\",\"tickwidth\":0},\"mapbox\":{\"style\":\"dark\"}}},\"xaxis\":{\"anchor\":\"y\",\"domain\":[0.0,1.0],\"title\":{\"text\":\"Peyush Investment Equity\"},\"type\":\"category\"},\"yaxis\":{\"anchor\":\"x\",\"domain\":[0.0,1.0],\"title\":{\"text\":\"Peyush Investment Amount\"}},\"legend\":{\"title\":{\"text\":\"Startup Name\"},\"tracegroupgap\":0},\"title\":{\"text\":\"<b>Total equity received by Peyush (in %) for investment (in lakhs)</b>\"},\"barmode\":\"relative\"},                        {\"responsive\": true}                    ).then(function(){\n",
       "                            \n",
       "var gd = document.getElementById('8521065b-d1d1-4ff2-b0b7-9680cb1c81f1');\n",
       "var x = new MutationObserver(function (mutations, observer) {{\n",
       "        var display = window.getComputedStyle(gd).display;\n",
       "        if (!display || display === 'none') {{\n",
       "            console.log([gd, 'removed!']);\n",
       "            Plotly.purge(gd);\n",
       "            observer.disconnect();\n",
       "        }}\n",
       "}});\n",
       "\n",
       "// Listen for the removal of the full notebook cells\n",
       "var notebookContainer = gd.closest('#notebook-container');\n",
       "if (notebookContainer) {{\n",
       "    x.observe(notebookContainer, {childList: true});\n",
       "}}\n",
       "\n",
       "// Listen for the clearing of the current output cell\n",
       "var outputEl = gd.closest('.output');\n",
       "if (outputEl) {{\n",
       "    x.observe(outputEl, {childList: true});\n",
       "}}\n",
       "\n",
       "                        })                };                });            </script>        </div>"
      ]
     },
     "metadata": {},
     "output_type": "display_data"
    }
   ],
   "source": [
    "print(shark_tank[shark_tank['Peyush Investment Amount']>0]['Industry'].value_counts().sort_values(ascending=False))\n",
    "shark_tank[shark_tank['Peyush Investment Amount']>0]['Industry'].value_counts().sort_values(ascending=False).plot.pie(autopct='%1.2f%%')\n",
    "plt.show()\n",
    "\n",
    "tmpdf = shark_tank.loc[shark_tank['Peyush Investment Amount']>0] [[\"Startup Name\",\"Peyush Investment Amount\",\"Peyush Investment Equity\"]].sort_values(by=\"Peyush Investment Equity\")\n",
    "fig = px.bar(tmpdf, x=\"Peyush Investment Equity\", y='Peyush Investment Amount', color=\"Startup Name\", title=\"<b>Total equity received by Peyush (in %) for investment (in lakhs)</b>\", text=tmpdf['Peyush Investment Amount'].map(int).map(str) + \" lakhs\")\n",
    "fig.update_layout(dict(xaxis = dict(type=\"category\")))\n",
    "fig.show()"
   ]
  },
  {
   "cell_type": "markdown",
   "id": "ef3971e4",
   "metadata": {
    "papermill": {
     "duration": 0.023475,
     "end_time": "2022-06-29T08:37:11.615748",
     "exception": false,
     "start_time": "2022-06-29T08:37:11.592273",
     "status": "completed"
    },
    "tags": []
   },
   "source": [
    "Peyush has most versatile portfolio than any other sharks, showing almost equal contribution in different industries"
   ]
  },
  {
   "cell_type": "code",
   "execution_count": 19,
   "id": "0a05e0fe",
   "metadata": {
    "execution": {
     "iopub.execute_input": "2022-06-29T08:37:11.665715Z",
     "iopub.status.busy": "2022-06-29T08:37:11.664678Z",
     "iopub.status.idle": "2022-06-29T08:37:12.063563Z",
     "shell.execute_reply": "2022-06-29T08:37:12.062630Z"
    },
    "papermill": {
     "duration": 0.42651,
     "end_time": "2022-06-29T08:37:12.066136",
     "exception": false,
     "start_time": "2022-06-29T08:37:11.639626",
     "status": "completed"
    },
    "tags": []
   },
   "outputs": [
    {
     "name": "stdout",
     "output_type": "stream",
     "text": [
      "Beauty/Fashion         6\n",
      "Food                   6\n",
      "Manufacturing          4\n",
      "Medical                3\n",
      "Electrical Vehicles    1\n",
      "Technology             1\n",
      "Education              1\n",
      "Animal/Pets            1\n",
      "Sports                 1\n",
      "Name: Industry, dtype: int64\n"
     ]
    },
    {
     "data": {
      "image/png": "[encoded data removed]",
      "text/plain": [
       "<Figure size 432x288 with 1 Axes>"
      ]
     },
     "metadata": {},
     "output_type": "display_data"
    },
    {
     "data": {
      "text/html": [
       "<div>                            <div id=\"0c22db11-f86f-4b58-9d3b-1336090d03a9\" class=\"plotly-graph-div\" style=\"height:525px; width:100%;\"></div>            <script type=\"text/javascript\">                require([\"plotly\"], function(Plotly) {                    window.PLOTLYENV=window.PLOTLYENV || {};                                    if (document.getElementById(\"0c22db11-f86f-4b58-9d3b-1336090d03a9\")) {                    Plotly.newPlot(                        \"0c22db11-f86f-4b58-9d3b-1336090d03a9\",                        [{\"alignmentgroup\":\"True\",\"hovertemplate\":\"Startup Name=Revamp Moto<br>Anupam Investment Equity=%{x}<br>Anupam Investment Amount=%{y}<br>text=%{text}<extra></extra>\",\"legendgroup\":\"Revamp Moto\",\"marker\":{\"color\":\"#636efa\",\"pattern\":{\"shape\":\"\"}},\"name\":\"Revamp Moto\",\"offsetgroup\":\"Revamp Moto\",\"orientation\":\"v\",\"showlegend\":true,\"text\":[\"50 lakhs\"],\"textposition\":\"auto\",\"x\":[0.75],\"xaxis\":\"x\",\"y\":[50.0],\"yaxis\":\"y\",\"type\":\"bar\"},{\"alignmentgroup\":\"True\",\"hovertemplate\":\"Startup Name=Watt Technovations<br>Anupam Investment Equity=%{x}<br>Anupam Investment Amount=%{y}<br>text=%{text}<extra></extra>\",\"legendgroup\":\"Watt Technovations\",\"marker\":{\"color\":\"#EF553B\",\"pattern\":{\"shape\":\"\"}},\"name\":\"Watt Technovations\",\"offsetgroup\":\"Watt Technovations\",\"orientation\":\"v\",\"showlegend\":true,\"text\":[\"0 lakhs\"],\"textposition\":\"auto\",\"x\":[1.0],\"xaxis\":\"x\",\"y\":[0.0002525],\"yaxis\":\"y\",\"type\":\"bar\"},{\"alignmentgroup\":\"True\",\"hovertemplate\":\"Startup Name=Annie<br>Anupam Investment Equity=%{x}<br>Anupam Investment Amount=%{y}<br>text=%{text}<extra></extra>\",\"legendgroup\":\"Annie\",\"marker\":{\"color\":\"#00cc96\",\"pattern\":{\"shape\":\"\"}},\"name\":\"Annie\",\"offsetgroup\":\"Annie\",\"orientation\":\"v\",\"showlegend\":true,\"text\":[\"35 lakhs\"],\"textposition\":\"auto\",\"x\":[1.0],\"xaxis\":\"x\",\"y\":[35.0],\"yaxis\":\"y\",\"type\":\"bar\"},{\"alignmentgroup\":\"True\",\"hovertemplate\":\"Startup Name=Sunfox Technologies<br>Anupam Investment Equity=%{x}<br>Anupam Investment Amount=%{y}<br>text=%{text}<extra></extra>\",\"legendgroup\":\"Sunfox Technologies\",\"marker\":{\"color\":\"#ab63fa\",\"pattern\":{\"shape\":\"\"}},\"name\":\"Sunfox Technologies\",\"offsetgroup\":\"Sunfox Technologies\",\"orientation\":\"v\",\"showlegend\":true,\"text\":[\"20 lakhs\"],\"textposition\":\"auto\",\"x\":[1.2],\"xaxis\":\"x\",\"y\":[20.0],\"yaxis\":\"y\",\"type\":\"bar\"},{\"alignmentgroup\":\"True\",\"hovertemplate\":\"Startup Name=Hair Originals<br>Anupam Investment Equity=%{x}<br>Anupam Investment Amount=%{y}<br>text=%{text}<extra></extra>\",\"legendgroup\":\"Hair Originals\",\"marker\":{\"color\":\"#FFA15A\",\"pattern\":{\"shape\":\"\"}},\"name\":\"Hair Originals\",\"offsetgroup\":\"Hair Originals\",\"orientation\":\"v\",\"showlegend\":true,\"text\":[\"20 lakhs\"],\"textposition\":\"auto\",\"x\":[1.33],\"xaxis\":\"x\",\"y\":[20.0],\"yaxis\":\"y\",\"type\":\"bar\"},{\"alignmentgroup\":\"True\",\"hovertemplate\":\"Startup Name=Cocofit<br>Anupam Investment Equity=%{x}<br>Anupam Investment Amount=%{y}<br>text=%{text}<extra></extra>\",\"legendgroup\":\"Cocofit\",\"marker\":{\"color\":\"#19d3f3\",\"pattern\":{\"shape\":\"\"}},\"name\":\"Cocofit\",\"offsetgroup\":\"Cocofit\",\"orientation\":\"v\",\"showlegend\":true,\"text\":[\"0 lakhs\"],\"textposition\":\"auto\",\"x\":[1.666],\"xaxis\":\"x\",\"y\":[0.000016],\"yaxis\":\"y\",\"type\":\"bar\"},{\"alignmentgroup\":\"True\",\"hovertemplate\":\"Startup Name=Bamboo India<br>Anupam Investment Equity=%{x}<br>Anupam Investment Amount=%{y}<br>text=%{text}<extra></extra>\",\"legendgroup\":\"Bamboo India\",\"marker\":{\"color\":\"#FF6692\",\"pattern\":{\"shape\":\"\"}},\"name\":\"Bamboo India\",\"offsetgroup\":\"Bamboo India\",\"orientation\":\"v\",\"showlegend\":true,\"text\":[\"25 lakhs\"],\"textposition\":\"auto\",\"x\":[1.75],\"xaxis\":\"x\",\"y\":[25.0],\"yaxis\":\"y\",\"type\":\"bar\"},{\"alignmentgroup\":\"True\",\"hovertemplate\":\"Startup Name=IN A CAN<br>Anupam Investment Equity=%{x}<br>Anupam Investment Amount=%{y}<br>text=%{text}<extra></extra>\",\"legendgroup\":\"IN A CAN\",\"marker\":{\"color\":\"#B6E880\",\"pattern\":{\"shape\":\"\"}},\"name\":\"IN A CAN\",\"offsetgroup\":\"IN A CAN\",\"orientation\":\"v\",\"showlegend\":true,\"text\":[\"20 lakhs\"],\"textposition\":\"auto\",\"x\":[2.0],\"xaxis\":\"x\",\"y\":[20.0],\"yaxis\":\"y\",\"type\":\"bar\"},{\"alignmentgroup\":\"True\",\"hovertemplate\":\"Startup Name=The Yarn Bazaar<br>Anupam Investment Equity=%{x}<br>Anupam Investment Amount=%{y}<br>text=%{text}<extra></extra>\",\"legendgroup\":\"The Yarn Bazaar\",\"marker\":{\"color\":\"#FF97FF\",\"pattern\":{\"shape\":\"\"}},\"name\":\"The Yarn Bazaar\",\"offsetgroup\":\"The Yarn Bazaar\",\"orientation\":\"v\",\"showlegend\":true,\"text\":[\"25 lakhs\"],\"textposition\":\"auto\",\"x\":[2.5],\"xaxis\":\"x\",\"y\":[25.0],\"yaxis\":\"y\",\"type\":\"bar\"},{\"alignmentgroup\":\"True\",\"hovertemplate\":\"Startup Name=Skippi Ice Pops<br>Anupam Investment Equity=%{x}<br>Anupam Investment Amount=%{y}<br>text=%{text}<extra></extra>\",\"legendgroup\":\"Skippi Ice Pops\",\"marker\":{\"color\":\"#FECB52\",\"pattern\":{\"shape\":\"\"}},\"name\":\"Skippi Ice Pops\",\"offsetgroup\":\"Skippi Ice Pops\",\"orientation\":\"v\",\"showlegend\":true,\"text\":[\"20 lakhs\"],\"textposition\":\"auto\",\"x\":[3.0],\"xaxis\":\"x\",\"y\":[20.0],\"yaxis\":\"y\",\"type\":\"bar\"},{\"alignmentgroup\":\"True\",\"hovertemplate\":\"Startup Name=Tweek Labs<br>Anupam Investment Equity=%{x}<br>Anupam Investment Amount=%{y}<br>text=%{text}<extra></extra>\",\"legendgroup\":\"Tweek Labs\",\"marker\":{\"color\":\"#636efa\",\"pattern\":{\"shape\":\"\"}},\"name\":\"Tweek Labs\",\"offsetgroup\":\"Tweek Labs\",\"orientation\":\"v\",\"showlegend\":true,\"text\":[\"20 lakhs\"],\"textposition\":\"auto\",\"x\":[3.33],\"xaxis\":\"x\",\"y\":[20.0],\"yaxis\":\"y\",\"type\":\"bar\"},{\"alignmentgroup\":\"True\",\"hovertemplate\":\"Startup Name=Find Your Kicks India<br>Anupam Investment Equity=%{x}<br>Anupam Investment Amount=%{y}<br>text=%{text}<extra></extra>\",\"legendgroup\":\"Find Your Kicks India\",\"marker\":{\"color\":\"#EF553B\",\"pattern\":{\"shape\":\"\"}},\"name\":\"Find Your Kicks India\",\"offsetgroup\":\"Find Your Kicks India\",\"orientation\":\"v\",\"showlegend\":true,\"text\":[\"10 lakhs\"],\"textposition\":\"auto\",\"x\":[5.0],\"xaxis\":\"x\",\"y\":[10.0],\"yaxis\":\"y\",\"type\":\"bar\"},{\"alignmentgroup\":\"True\",\"hovertemplate\":\"Startup Name=Let's Try<br>Anupam Investment Equity=%{x}<br>Anupam Investment Amount=%{y}<br>text=%{text}<extra></extra>\",\"legendgroup\":\"Let's Try\",\"marker\":{\"color\":\"#00cc96\",\"pattern\":{\"shape\":\"\"}},\"name\":\"Let's Try\",\"offsetgroup\":\"Let's Try\",\"orientation\":\"v\",\"showlegend\":true,\"text\":[\"22 lakhs\"],\"textposition\":\"auto\",\"x\":[6.0],\"xaxis\":\"x\",\"y\":[22.5],\"yaxis\":\"y\",\"type\":\"bar\"},{\"alignmentgroup\":\"True\",\"hovertemplate\":\"Startup Name=Meatyour<br>Anupam Investment Equity=%{x}<br>Anupam Investment Amount=%{y}<br>text=%{text}<extra></extra>\",\"legendgroup\":\"Meatyour\",\"marker\":{\"color\":\"#ab63fa\",\"pattern\":{\"shape\":\"\"}},\"name\":\"Meatyour\",\"offsetgroup\":\"Meatyour\",\"orientation\":\"v\",\"showlegend\":true,\"text\":[\"10 lakhs\"],\"textposition\":\"auto\",\"x\":[6.66],\"xaxis\":\"x\",\"y\":[10.0],\"yaxis\":\"y\",\"type\":\"bar\"},{\"alignmentgroup\":\"True\",\"hovertemplate\":\"Startup Name=Jain Shikanji<br>Anupam Investment Equity=%{x}<br>Anupam Investment Amount=%{y}<br>text=%{text}<extra></extra>\",\"legendgroup\":\"Jain Shikanji\",\"marker\":{\"color\":\"#FFA15A\",\"pattern\":{\"shape\":\"\"}},\"name\":\"Jain Shikanji\",\"offsetgroup\":\"Jain Shikanji\",\"orientation\":\"v\",\"showlegend\":true,\"text\":[\"10 lakhs\"],\"textposition\":\"auto\",\"x\":[7.5],\"xaxis\":\"x\",\"y\":[10.0],\"yaxis\":\"y\",\"type\":\"bar\"},{\"alignmentgroup\":\"True\",\"hovertemplate\":\"Startup Name=LOKA<br>Anupam Investment Equity=%{x}<br>Anupam Investment Amount=%{y}<br>text=%{text}<extra></extra>\",\"legendgroup\":\"LOKA\",\"marker\":{\"color\":\"#19d3f3\",\"pattern\":{\"shape\":\"\"}},\"name\":\"LOKA\",\"offsetgroup\":\"LOKA\",\"orientation\":\"v\",\"showlegend\":true,\"text\":[\"13 lakhs\"],\"textposition\":\"auto\",\"x\":[8.0],\"xaxis\":\"x\",\"y\":[13.33],\"yaxis\":\"y\",\"type\":\"bar\"},{\"alignmentgroup\":\"True\",\"hovertemplate\":\"Startup Name=Carragreen<br>Anupam Investment Equity=%{x}<br>Anupam Investment Amount=%{y}<br>text=%{text}<extra></extra>\",\"legendgroup\":\"Carragreen\",\"marker\":{\"color\":\"#FF6692\",\"pattern\":{\"shape\":\"\"}},\"name\":\"Carragreen\",\"offsetgroup\":\"Carragreen\",\"orientation\":\"v\",\"showlegend\":true,\"text\":[\"25 lakhs\"],\"textposition\":\"auto\",\"x\":[10.0],\"xaxis\":\"x\",\"y\":[25.0],\"yaxis\":\"y\",\"type\":\"bar\"},{\"alignmentgroup\":\"True\",\"hovertemplate\":\"Startup Name=The Quirky Naari<br>Anupam Investment Equity=%{x}<br>Anupam Investment Amount=%{y}<br>text=%{text}<extra></extra>\",\"legendgroup\":\"The Quirky Naari\",\"marker\":{\"color\":\"#B6E880\",\"pattern\":{\"shape\":\"\"}},\"name\":\"The Quirky Naari\",\"offsetgroup\":\"The Quirky Naari\",\"orientation\":\"v\",\"showlegend\":true,\"text\":[\"17 lakhs\"],\"textposition\":\"auto\",\"x\":[12.0],\"xaxis\":\"x\",\"y\":[17.5],\"yaxis\":\"y\",\"type\":\"bar\"},{\"alignmentgroup\":\"True\",\"hovertemplate\":\"Startup Name=Cos IQ<br>Anupam Investment Equity=%{x}<br>Anupam Investment Amount=%{y}<br>text=%{text}<extra></extra>\",\"legendgroup\":\"Cos IQ\",\"marker\":{\"color\":\"#FF97FF\",\"pattern\":{\"shape\":\"\"}},\"name\":\"Cos IQ\",\"offsetgroup\":\"Cos IQ\",\"orientation\":\"v\",\"showlegend\":true,\"text\":[\"25 lakhs\"],\"textposition\":\"auto\",\"x\":[12.5],\"xaxis\":\"x\",\"y\":[25.0],\"yaxis\":\"y\",\"type\":\"bar\"},{\"alignmentgroup\":\"True\",\"hovertemplate\":\"Startup Name=ARRCOAT Surface Textures<br>Anupam Investment Equity=%{x}<br>Anupam Investment Amount=%{y}<br>text=%{text}<extra></extra>\",\"legendgroup\":\"ARRCOAT Surface Textures\",\"marker\":{\"color\":\"#FECB52\",\"pattern\":{\"shape\":\"\"}},\"name\":\"ARRCOAT Surface Textures\",\"offsetgroup\":\"ARRCOAT Surface Textures\",\"orientation\":\"v\",\"showlegend\":true,\"text\":[\"50 lakhs\"],\"textposition\":\"auto\",\"x\":[15.0],\"xaxis\":\"x\",\"y\":[50.0],\"yaxis\":\"y\",\"type\":\"bar\"},{\"alignmentgroup\":\"True\",\"hovertemplate\":\"Startup Name=PawsIndia<br>Anupam Investment Equity=%{x}<br>Anupam Investment Amount=%{y}<br>text=%{text}<extra></extra>\",\"legendgroup\":\"PawsIndia\",\"marker\":{\"color\":\"#636efa\",\"pattern\":{\"shape\":\"\"}},\"name\":\"PawsIndia\",\"offsetgroup\":\"PawsIndia\",\"orientation\":\"v\",\"showlegend\":true,\"text\":[\"50 lakhs\"],\"textposition\":\"auto\",\"x\":[15.0],\"xaxis\":\"x\",\"y\":[50.0],\"yaxis\":\"y\",\"type\":\"bar\"},{\"alignmentgroup\":\"True\",\"hovertemplate\":\"Startup Name=Heart up my Sleeves<br>Anupam Investment Equity=%{x}<br>Anupam Investment Amount=%{y}<br>text=%{text}<extra></extra>\",\"legendgroup\":\"Heart up my Sleeves\",\"marker\":{\"color\":\"#EF553B\",\"pattern\":{\"shape\":\"\"}},\"name\":\"Heart up my Sleeves\",\"offsetgroup\":\"Heart up my Sleeves\",\"orientation\":\"v\",\"showlegend\":true,\"text\":[\"12 lakhs\"],\"textposition\":\"auto\",\"x\":[15.0],\"xaxis\":\"x\",\"y\":[12.5],\"yaxis\":\"y\",\"type\":\"bar\"},{\"alignmentgroup\":\"True\",\"hovertemplate\":\"Startup Name=Vivalyf Innovations<br>Anupam Investment Equity=%{x}<br>Anupam Investment Amount=%{y}<br>text=%{text}<extra></extra>\",\"legendgroup\":\"Vivalyf Innovations\",\"marker\":{\"color\":\"#00cc96\",\"pattern\":{\"shape\":\"\"}},\"name\":\"Vivalyf Innovations\",\"offsetgroup\":\"Vivalyf Innovations\",\"orientation\":\"v\",\"showlegend\":true,\"text\":[\"28 lakhs\"],\"textposition\":\"auto\",\"x\":[16.66],\"xaxis\":\"x\",\"y\":[28.0],\"yaxis\":\"y\",\"type\":\"bar\"},{\"alignmentgroup\":\"True\",\"hovertemplate\":\"Startup Name=The Sass Bar<br>Anupam Investment Equity=%{x}<br>Anupam Investment Amount=%{y}<br>text=%{text}<extra></extra>\",\"legendgroup\":\"The Sass Bar\",\"marker\":{\"color\":\"#ab63fa\",\"pattern\":{\"shape\":\"\"}},\"name\":\"The Sass Bar\",\"offsetgroup\":\"The Sass Bar\",\"orientation\":\"v\",\"showlegend\":true,\"text\":[\"25 lakhs\"],\"textposition\":\"auto\",\"x\":[17.5],\"xaxis\":\"x\",\"y\":[25.0],\"yaxis\":\"y\",\"type\":\"bar\"}],                        {\"template\":{\"data\":{\"histogram2dcontour\":[{\"type\":\"histogram2dcontour\",\"colorbar\":{\"outlinewidth\":0,\"ticks\":\"\"},\"colorscale\":[[0.0,\"#0d0887\"],[0.1111111111111111,\"#46039f\"],[0.2222222222222222,\"#7201a8\"],[0.3333333333333333,\"#9c179e\"],[0.4444444444444444,\"#bd3786\"],[0.5555555555555556,\"#d8576b\"],[0.6666666666666666,\"#ed7953\"],[0.7777777777777778,\"#fb9f3a\"],[0.8888888888888888,\"#fdca26\"],[1.0,\"#f0f921\"]]}],\"choropleth\":[{\"type\":\"choropleth\",\"colorbar\":{\"outlinewidth\":0,\"ticks\":\"\"}}],\"histogram2d\":[{\"type\":\"histogram2d\",\"colorbar\":{\"outlinewidth\":0,\"ticks\":\"\"},\"colorscale\":[[0.0,\"#0d0887\"],[0.1111111111111111,\"#46039f\"],[0.2222222222222222,\"#7201a8\"],[0.3333333333333333,\"#9c179e\"],[0.4444444444444444,\"#bd3786\"],[0.5555555555555556,\"#d8576b\"],[0.6666666666666666,\"#ed7953\"],[0.7777777777777778,\"#fb9f3a\"],[0.8888888888888888,\"#fdca26\"],[1.0,\"#f0f921\"]]}],\"heatmap\":[{\"type\":\"heatmap\",\"colorbar\":{\"outlinewidth\":0,\"ticks\":\"\"},\"colorscale\":[[0.0,\"#0d0887\"],[0.1111111111111111,\"#46039f\"],[0.2222222222222222,\"#7201a8\"],[0.3333333333333333,\"#9c179e\"],[0.4444444444444444,\"#bd3786\"],[0.5555555555555556,\"#d8576b\"],[0.6666666666666666,\"#ed7953\"],[0.7777777777777778,\"#fb9f3a\"],[0.8888888888888888,\"#fdca26\"],[1.0,\"#f0f921\"]]}],\"heatmapgl\":[{\"type\":\"heatmapgl\",\"colorbar\":{\"outlinewidth\":0,\"ticks\":\"\"},\"colorscale\":[[0.0,\"#0d0887\"],[0.1111111111111111,\"#46039f\"],[0.2222222222222222,\"#7201a8\"],[0.3333333333333333,\"#9c179e\"],[0.4444444444444444,\"#bd3786\"],[0.5555555555555556,\"#d8576b\"],[0.6666666666666666,\"#ed7953\"],[0.7777777777777778,\"#fb9f3a\"],[0.8888888888888888,\"#fdca26\"],[1.0,\"#f0f921\"]]}],\"contourcarpet\":[{\"type\":\"contourcarpet\",\"colorbar\":{\"outlinewidth\":0,\"ticks\":\"\"}}],\"contour\":[{\"type\":\"contour\",\"colorbar\":{\"outlinewidth\":0,\"ticks\":\"\"},\"colorscale\":[[0.0,\"#0d0887\"],[0.1111111111111111,\"#46039f\"],[0.2222222222222222,\"#7201a8\"],[0.3333333333333333,\"#9c179e\"],[0.4444444444444444,\"#bd3786\"],[0.5555555555555556,\"#d8576b\"],[0.6666666666666666,\"#ed7953\"],[0.7777777777777778,\"#fb9f3a\"],[0.8888888888888888,\"#fdca26\"],[1.0,\"#f0f921\"]]}],\"surface\":[{\"type\":\"surface\",\"colorbar\":{\"outlinewidth\":0,\"ticks\":\"\"},\"colorscale\":[[0.0,\"#0d0887\"],[0.1111111111111111,\"#46039f\"],[0.2222222222222222,\"#7201a8\"],[0.3333333333333333,\"#9c179e\"],[0.4444444444444444,\"#bd3786\"],[0.5555555555555556,\"#d8576b\"],[0.6666666666666666,\"#ed7953\"],[0.7777777777777778,\"#fb9f3a\"],[0.8888888888888888,\"#fdca26\"],[1.0,\"#f0f921\"]]}],\"mesh3d\":[{\"type\":\"mesh3d\",\"colorbar\":{\"outlinewidth\":0,\"ticks\":\"\"}}],\"scatter\":[{\"marker\":{\"line\":{\"color\":\"#283442\"}},\"type\":\"scatter\"}],\"parcoords\":[{\"type\":\"parcoords\",\"line\":{\"colorbar\":{\"outlinewidth\":0,\"ticks\":\"\"}}}],\"scatterpolargl\":[{\"type\":\"scatterpolargl\",\"marker\":{\"colorbar\":{\"outlinewidth\":0,\"ticks\":\"\"}}}],\"bar\":[{\"error_x\":{\"color\":\"#f2f5fa\"},\"error_y\":{\"color\":\"#f2f5fa\"},\"marker\":{\"line\":{\"color\":\"rgb(17,17,17)\",\"width\":0.5},\"pattern\":{\"fillmode\":\"overlay\",\"size\":10,\"solidity\":0.2}},\"type\":\"bar\"}],\"scattergeo\":[{\"type\":\"scattergeo\",\"marker\":{\"colorbar\":{\"outlinewidth\":0,\"ticks\":\"\"}}}],\"scatterpolar\":[{\"type\":\"scatterpolar\",\"marker\":{\"colorbar\":{\"outlinewidth\":0,\"ticks\":\"\"}}}],\"histogram\":[{\"marker\":{\"pattern\":{\"fillmode\":\"overlay\",\"size\":10,\"solidity\":0.2}},\"type\":\"histogram\"}],\"scattergl\":[{\"marker\":{\"line\":{\"color\":\"#283442\"}},\"type\":\"scattergl\"}],\"scatter3d\":[{\"type\":\"scatter3d\",\"line\":{\"colorbar\":{\"outlinewidth\":0,\"ticks\":\"\"}},\"marker\":{\"colorbar\":{\"outlinewidth\":0,\"ticks\":\"\"}}}],\"scattermapbox\":[{\"type\":\"scattermapbox\",\"marker\":{\"colorbar\":{\"outlinewidth\":0,\"ticks\":\"\"}}}],\"scatterternary\":[{\"type\":\"scatterternary\",\"marker\":{\"colorbar\":{\"outlinewidth\":0,\"ticks\":\"\"}}}],\"scattercarpet\":[{\"type\":\"scattercarpet\",\"marker\":{\"colorbar\":{\"outlinewidth\":0,\"ticks\":\"\"}}}],\"carpet\":[{\"aaxis\":{\"endlinecolor\":\"#A2B1C6\",\"gridcolor\":\"#506784\",\"linecolor\":\"#506784\",\"minorgridcolor\":\"#506784\",\"startlinecolor\":\"#A2B1C6\"},\"baxis\":{\"endlinecolor\":\"#A2B1C6\",\"gridcolor\":\"#506784\",\"linecolor\":\"#506784\",\"minorgridcolor\":\"#506784\",\"startlinecolor\":\"#A2B1C6\"},\"type\":\"carpet\"}],\"table\":[{\"cells\":{\"fill\":{\"color\":\"#506784\"},\"line\":{\"color\":\"rgb(17,17,17)\"}},\"header\":{\"fill\":{\"color\":\"#2a3f5f\"},\"line\":{\"color\":\"rgb(17,17,17)\"}},\"type\":\"table\"}],\"barpolar\":[{\"marker\":{\"line\":{\"color\":\"rgb(17,17,17)\",\"width\":0.5},\"pattern\":{\"fillmode\":\"overlay\",\"size\":10,\"solidity\":0.2}},\"type\":\"barpolar\"}],\"pie\":[{\"automargin\":true,\"type\":\"pie\"}]},\"layout\":{\"autotypenumbers\":\"strict\",\"colorway\":[\"#636efa\",\"#EF553B\",\"#00cc96\",\"#ab63fa\",\"#FFA15A\",\"#19d3f3\",\"#FF6692\",\"#B6E880\",\"#FF97FF\",\"#FECB52\"],\"font\":{\"color\":\"#f2f5fa\"},\"hovermode\":\"closest\",\"hoverlabel\":{\"align\":\"left\"},\"paper_bgcolor\":\"rgb(17,17,17)\",\"plot_bgcolor\":\"rgb(17,17,17)\",\"polar\":{\"bgcolor\":\"rgb(17,17,17)\",\"angularaxis\":{\"gridcolor\":\"#506784\",\"linecolor\":\"#506784\",\"ticks\":\"\"},\"radialaxis\":{\"gridcolor\":\"#506784\",\"linecolor\":\"#506784\",\"ticks\":\"\"}},\"ternary\":{\"bgcolor\":\"rgb(17,17,17)\",\"aaxis\":{\"gridcolor\":\"#506784\",\"linecolor\":\"#506784\",\"ticks\":\"\"},\"baxis\":{\"gridcolor\":\"#506784\",\"linecolor\":\"#506784\",\"ticks\":\"\"},\"caxis\":{\"gridcolor\":\"#506784\",\"linecolor\":\"#506784\",\"ticks\":\"\"}},\"coloraxis\":{\"colorbar\":{\"outlinewidth\":0,\"ticks\":\"\"}},\"colorscale\":{\"sequential\":[[0.0,\"#0d0887\"],[0.1111111111111111,\"#46039f\"],[0.2222222222222222,\"#7201a8\"],[0.3333333333333333,\"#9c179e\"],[0.4444444444444444,\"#bd3786\"],[0.5555555555555556,\"#d8576b\"],[0.6666666666666666,\"#ed7953\"],[0.7777777777777778,\"#fb9f3a\"],[0.8888888888888888,\"#fdca26\"],[1.0,\"#f0f921\"]],\"sequentialminus\":[[0.0,\"#0d0887\"],[0.1111111111111111,\"#46039f\"],[0.2222222222222222,\"#7201a8\"],[0.3333333333333333,\"#9c179e\"],[0.4444444444444444,\"#bd3786\"],[0.5555555555555556,\"#d8576b\"],[0.6666666666666666,\"#ed7953\"],[0.7777777777777778,\"#fb9f3a\"],[0.8888888888888888,\"#fdca26\"],[1.0,\"#f0f921\"]],\"diverging\":[[0,\"#8e0152\"],[0.1,\"#c51b7d\"],[0.2,\"#de77ae\"],[0.3,\"#f1b6da\"],[0.4,\"#fde0ef\"],[0.5,\"#f7f7f7\"],[0.6,\"#e6f5d0\"],[0.7,\"#b8e186\"],[0.8,\"#7fbc41\"],[0.9,\"#4d9221\"],[1,\"#276419\"]]},\"xaxis\":{\"gridcolor\":\"#283442\",\"linecolor\":\"#506784\",\"ticks\":\"\",\"title\":{\"standoff\":15},\"zerolinecolor\":\"#283442\",\"automargin\":true,\"zerolinewidth\":2},\"yaxis\":{\"gridcolor\":\"#283442\",\"linecolor\":\"#506784\",\"ticks\":\"\",\"title\":{\"standoff\":15},\"zerolinecolor\":\"#283442\",\"automargin\":true,\"zerolinewidth\":2},\"scene\":{\"xaxis\":{\"backgroundcolor\":\"rgb(17,17,17)\",\"gridcolor\":\"#506784\",\"linecolor\":\"#506784\",\"showbackground\":true,\"ticks\":\"\",\"zerolinecolor\":\"#C8D4E3\",\"gridwidth\":2},\"yaxis\":{\"backgroundcolor\":\"rgb(17,17,17)\",\"gridcolor\":\"#506784\",\"linecolor\":\"#506784\",\"showbackground\":true,\"ticks\":\"\",\"zerolinecolor\":\"#C8D4E3\",\"gridwidth\":2},\"zaxis\":{\"backgroundcolor\":\"rgb(17,17,17)\",\"gridcolor\":\"#506784\",\"linecolor\":\"#506784\",\"showbackground\":true,\"ticks\":\"\",\"zerolinecolor\":\"#C8D4E3\",\"gridwidth\":2}},\"shapedefaults\":{\"line\":{\"color\":\"#f2f5fa\"}},\"annotationdefaults\":{\"arrowcolor\":\"#f2f5fa\",\"arrowhead\":0,\"arrowwidth\":1},\"geo\":{\"bgcolor\":\"rgb(17,17,17)\",\"landcolor\":\"rgb(17,17,17)\",\"subunitcolor\":\"#506784\",\"showland\":true,\"showlakes\":true,\"lakecolor\":\"rgb(17,17,17)\"},\"title\":{\"x\":0.05},\"updatemenudefaults\":{\"bgcolor\":\"#506784\",\"borderwidth\":0},\"sliderdefaults\":{\"bgcolor\":\"#C8D4E3\",\"borderwidth\":1,\"bordercolor\":\"rgb(17,17,17)\",\"tickwidth\":0},\"mapbox\":{\"style\":\"dark\"}}},\"xaxis\":{\"anchor\":\"y\",\"domain\":[0.0,1.0],\"title\":{\"text\":\"Anupam Investment Equity\"},\"type\":\"category\"},\"yaxis\":{\"anchor\":\"x\",\"domain\":[0.0,1.0],\"title\":{\"text\":\"Anupam Investment Amount\"}},\"legend\":{\"title\":{\"text\":\"Startup Name\"},\"tracegroupgap\":0},\"title\":{\"text\":\"<b>Total equity received by Anupam (in %) for investment (in lakhs)</b>\"},\"barmode\":\"relative\"},                        {\"responsive\": true}                    ).then(function(){\n",
       "                            \n",
       "var gd = document.getElementById('0c22db11-f86f-4b58-9d3b-1336090d03a9');\n",
       "var x = new MutationObserver(function (mutations, observer) {{\n",
       "        var display = window.getComputedStyle(gd).display;\n",
       "        if (!display || display === 'none') {{\n",
       "            console.log([gd, 'removed!']);\n",
       "            Plotly.purge(gd);\n",
       "            observer.disconnect();\n",
       "        }}\n",
       "}});\n",
       "\n",
       "// Listen for the removal of the full notebook cells\n",
       "var notebookContainer = gd.closest('#notebook-container');\n",
       "if (notebookContainer) {{\n",
       "    x.observe(notebookContainer, {childList: true});\n",
       "}}\n",
       "\n",
       "// Listen for the clearing of the current output cell\n",
       "var outputEl = gd.closest('.output');\n",
       "if (outputEl) {{\n",
       "    x.observe(outputEl, {childList: true});\n",
       "}}\n",
       "\n",
       "                        })                };                });            </script>        </div>"
      ]
     },
     "metadata": {},
     "output_type": "display_data"
    }
   ],
   "source": [
    "print(shark_tank[shark_tank['Anupam Investment Amount']>0]['Industry'].value_counts().sort_values(ascending=False))\n",
    "shark_tank[shark_tank['Anupam Investment Amount']>0]['Industry'].value_counts().sort_values(ascending=False).plot.pie(autopct='%1.2f%%')\n",
    "plt.show()\n",
    "\n",
    "tmpdf = shark_tank.loc[shark_tank['Anupam Investment Amount']>0] [[\"Startup Name\",\"Anupam Investment Amount\",\"Anupam Investment Equity\"]].sort_values(by=\"Anupam Investment Equity\")\n",
    "fig = px.bar(tmpdf, x=\"Anupam Investment Equity\", y='Anupam Investment Amount', color=\"Startup Name\", title=\"<b>Total equity received by Anupam (in %) for investment (in lakhs)</b>\", text=tmpdf['Anupam Investment Amount'].map(int).map(str) + \" lakhs\")\n",
    "fig.update_layout(dict(xaxis = dict(type=\"category\")))\n",
    "fig.show()"
   ]
  },
  {
   "cell_type": "markdown",
   "id": "74494c82",
   "metadata": {
    "papermill": {
     "duration": 0.025807,
     "end_time": "2022-06-29T08:37:12.117895",
     "exception": false,
     "start_time": "2022-06-29T08:37:12.092088",
     "status": "completed"
    },
    "tags": []
   },
   "source": [
    "Anupam's portfolio has equally distributed to food and beauty/fashion based startups."
   ]
  },
  {
   "cell_type": "code",
   "execution_count": 20,
   "id": "ee817f02",
   "metadata": {
    "execution": {
     "iopub.execute_input": "2022-06-29T08:37:12.171132Z",
     "iopub.status.busy": "2022-06-29T08:37:12.170152Z",
     "iopub.status.idle": "2022-06-29T08:37:12.567931Z",
     "shell.execute_reply": "2022-06-29T08:37:12.566897Z"
    },
    "papermill": {
     "duration": 0.426257,
     "end_time": "2022-06-29T08:37:12.570109",
     "exception": false,
     "start_time": "2022-06-29T08:37:12.143852",
     "status": "completed"
    },
    "tags": []
   },
   "outputs": [
    {
     "name": "stdout",
     "output_type": "stream",
     "text": [
      "Food                   11\n",
      "Beauty/Fashion          6\n",
      "Manufacturing           4\n",
      "Education               2\n",
      "Technology              2\n",
      "Medical                 2\n",
      "Electrical Vehicles     1\n",
      "Animal/Pets             1\n",
      "Name: Industry, dtype: int64\n"
     ]
    },
    {
     "data": {
      "image/png": "[encoded data removed]",
      "text/plain": [
       "<Figure size 432x288 with 1 Axes>"
      ]
     },
     "metadata": {},
     "output_type": "display_data"
    },
    {
     "data": {
      "text/html": [
       "<div>                            <div id=\"f9d26a9b-a3b5-465a-82d2-9a0836c0cb5e\" class=\"plotly-graph-div\" style=\"height:525px; width:100%;\"></div>            <script type=\"text/javascript\">                require([\"plotly\"], function(Plotly) {                    window.PLOTLYENV=window.PLOTLYENV || {};                                    if (document.getElementById(\"f9d26a9b-a3b5-465a-82d2-9a0836c0cb5e\")) {                    Plotly.newPlot(                        \"f9d26a9b-a3b5-465a-82d2-9a0836c0cb5e\",                        [{\"alignmentgroup\":\"True\",\"hovertemplate\":\"Startup Name=Revamp Moto<br>Aman Investment Equity=%{x}<br>Aman Investment Amount=%{y}<br>text=%{text}<extra></extra>\",\"legendgroup\":\"Revamp Moto\",\"marker\":{\"color\":\"#636efa\",\"pattern\":{\"shape\":\"\"}},\"name\":\"Revamp Moto\",\"offsetgroup\":\"Revamp Moto\",\"orientation\":\"v\",\"showlegend\":true,\"text\":[\"50 lakhs\"],\"textposition\":\"auto\",\"x\":[0.75],\"xaxis\":\"x\",\"y\":[50.0],\"yaxis\":\"y\",\"type\":\"bar\"},{\"alignmentgroup\":\"True\",\"hovertemplate\":\"Startup Name=EventBeep<br>Aman Investment Equity=%{x}<br>Aman Investment Amount=%{y}<br>text=%{text}<extra></extra>\",\"legendgroup\":\"EventBeep\",\"marker\":{\"color\":\"#EF553B\",\"pattern\":{\"shape\":\"\"}},\"name\":\"EventBeep\",\"offsetgroup\":\"EventBeep\",\"orientation\":\"v\",\"showlegend\":true,\"text\":[\"10 lakhs\"],\"textposition\":\"auto\",\"x\":[1.0],\"xaxis\":\"x\",\"y\":[10.0],\"yaxis\":\"y\",\"type\":\"bar\"},{\"alignmentgroup\":\"True\",\"hovertemplate\":\"Startup Name=Beyond Snack<br>Aman Investment Equity=%{x}<br>Aman Investment Amount=%{y}<br>text=%{text}<extra></extra>\",\"legendgroup\":\"Beyond Snack\",\"marker\":{\"color\":\"#00cc96\",\"pattern\":{\"shape\":\"\"}},\"name\":\"Beyond Snack\",\"offsetgroup\":\"Beyond Snack\",\"orientation\":\"v\",\"showlegend\":true,\"text\":[\"25 lakhs\"],\"textposition\":\"auto\",\"x\":[1.25],\"xaxis\":\"x\",\"y\":[25.0],\"yaxis\":\"y\",\"type\":\"bar\"},{\"alignmentgroup\":\"True\",\"hovertemplate\":\"Startup Name=Cocofit<br>Aman Investment Equity=%{x}<br>Aman Investment Amount=%{y}<br>text=%{text}<extra></extra>\",\"legendgroup\":\"Cocofit\",\"marker\":{\"color\":\"#ab63fa\",\"pattern\":{\"shape\":\"\"}},\"name\":\"Cocofit\",\"offsetgroup\":\"Cocofit\",\"orientation\":\"v\",\"showlegend\":true,\"text\":[\"0 lakhs\"],\"textposition\":\"auto\",\"x\":[1.666],\"xaxis\":\"x\",\"y\":[0.000016],\"yaxis\":\"y\",\"type\":\"bar\"},{\"alignmentgroup\":\"True\",\"hovertemplate\":\"Startup Name=GrowFitter<br>Aman Investment Equity=%{x}<br>Aman Investment Amount=%{y}<br>text=%{text}<extra></extra>\",\"legendgroup\":\"GrowFitter\",\"marker\":{\"color\":\"#FFA15A\",\"pattern\":{\"shape\":\"\"}},\"name\":\"GrowFitter\",\"offsetgroup\":\"GrowFitter\",\"orientation\":\"v\",\"showlegend\":true,\"text\":[\"50 lakhs\"],\"textposition\":\"auto\",\"x\":[2.0],\"xaxis\":\"x\",\"y\":[50.0],\"yaxis\":\"y\",\"type\":\"bar\"},{\"alignmentgroup\":\"True\",\"hovertemplate\":\"Startup Name=Raising Superstars<br>Aman Investment Equity=%{x}<br>Aman Investment Amount=%{y}<br>text=%{text}<extra></extra>\",\"legendgroup\":\"Raising Superstars\",\"marker\":{\"color\":\"#19d3f3\",\"pattern\":{\"shape\":\"\"}},\"name\":\"Raising Superstars\",\"offsetgroup\":\"Raising Superstars\",\"orientation\":\"v\",\"showlegend\":true,\"text\":[\"50 lakhs\"],\"textposition\":\"auto\",\"x\":[2.0],\"xaxis\":\"x\",\"y\":[50.0],\"yaxis\":\"y\",\"type\":\"bar\"},{\"alignmentgroup\":\"True\",\"hovertemplate\":\"Startup Name=IN A CAN<br>Aman Investment Equity=%{x}<br>Aman Investment Amount=%{y}<br>text=%{text}<extra></extra>\",\"legendgroup\":\"IN A CAN\",\"marker\":{\"color\":\"#FF6692\",\"pattern\":{\"shape\":\"\"}},\"name\":\"IN A CAN\",\"offsetgroup\":\"IN A CAN\",\"orientation\":\"v\",\"showlegend\":true,\"text\":[\"20 lakhs\"],\"textposition\":\"auto\",\"x\":[2.0],\"xaxis\":\"x\",\"y\":[20.0],\"yaxis\":\"y\",\"type\":\"bar\"},{\"alignmentgroup\":\"True\",\"hovertemplate\":\"Startup Name=The Yarn Bazaar<br>Aman Investment Equity=%{x}<br>Aman Investment Amount=%{y}<br>text=%{text}<extra></extra>\",\"legendgroup\":\"The Yarn Bazaar\",\"marker\":{\"color\":\"#B6E880\",\"pattern\":{\"shape\":\"\"}},\"name\":\"The Yarn Bazaar\",\"offsetgroup\":\"The Yarn Bazaar\",\"orientation\":\"v\",\"showlegend\":true,\"text\":[\"25 lakhs\"],\"textposition\":\"auto\",\"x\":[2.5],\"xaxis\":\"x\",\"y\":[25.0],\"yaxis\":\"y\",\"type\":\"bar\"},{\"alignmentgroup\":\"True\",\"hovertemplate\":\"Startup Name=WeSTOCK<br>Aman Investment Equity=%{x}<br>Aman Investment Amount=%{y}<br>text=%{text}<extra></extra>\",\"legendgroup\":\"WeSTOCK\",\"marker\":{\"color\":\"#FF97FF\",\"pattern\":{\"shape\":\"\"}},\"name\":\"WeSTOCK\",\"offsetgroup\":\"WeSTOCK\",\"orientation\":\"v\",\"showlegend\":true,\"text\":[\"15 lakhs\"],\"textposition\":\"auto\",\"x\":[2.5],\"xaxis\":\"x\",\"y\":[15.0],\"yaxis\":\"y\",\"type\":\"bar\"},{\"alignmentgroup\":\"True\",\"hovertemplate\":\"Startup Name=AyuRythm<br>Aman Investment Equity=%{x}<br>Aman Investment Amount=%{y}<br>text=%{text}<extra></extra>\",\"legendgroup\":\"AyuRythm\",\"marker\":{\"color\":\"#FECB52\",\"pattern\":{\"shape\":\"\"}},\"name\":\"AyuRythm\",\"offsetgroup\":\"AyuRythm\",\"orientation\":\"v\",\"showlegend\":true,\"text\":[\"75 lakhs\"],\"textposition\":\"auto\",\"x\":[2.68],\"xaxis\":\"x\",\"y\":[75.0],\"yaxis\":\"y\",\"type\":\"bar\"},{\"alignmentgroup\":\"True\",\"hovertemplate\":\"Startup Name=Skippi Ice Pops<br>Aman Investment Equity=%{x}<br>Aman Investment Amount=%{y}<br>text=%{text}<extra></extra>\",\"legendgroup\":\"Skippi Ice Pops\",\"marker\":{\"color\":\"#636efa\",\"pattern\":{\"shape\":\"\"}},\"name\":\"Skippi Ice Pops\",\"offsetgroup\":\"Skippi Ice Pops\",\"orientation\":\"v\",\"showlegend\":true,\"text\":[\"20 lakhs\"],\"textposition\":\"auto\",\"x\":[3.0],\"xaxis\":\"x\",\"y\":[20.0],\"yaxis\":\"y\",\"type\":\"bar\"},{\"alignmentgroup\":\"True\",\"hovertemplate\":\"Startup Name=The Renal Project<br>Aman Investment Equity=%{x}<br>Aman Investment Amount=%{y}<br>text=%{text}<extra></extra>\",\"legendgroup\":\"The Renal Project\",\"marker\":{\"color\":\"#EF553B\",\"pattern\":{\"shape\":\"\"}},\"name\":\"The Renal Project\",\"offsetgroup\":\"The Renal Project\",\"orientation\":\"v\",\"showlegend\":true,\"text\":[\"50 lakhs\"],\"textposition\":\"auto\",\"x\":[3.0],\"xaxis\":\"x\",\"y\":[50.0],\"yaxis\":\"y\",\"type\":\"bar\"},{\"alignmentgroup\":\"True\",\"hovertemplate\":\"Startup Name=Altor<br>Aman Investment Equity=%{x}<br>Aman Investment Amount=%{y}<br>text=%{text}<extra></extra>\",\"legendgroup\":\"Altor\",\"marker\":{\"color\":\"#00cc96\",\"pattern\":{\"shape\":\"\"}},\"name\":\"Altor\",\"offsetgroup\":\"Altor\",\"orientation\":\"v\",\"showlegend\":true,\"text\":[\"25 lakhs\"],\"textposition\":\"auto\",\"x\":[3.5],\"xaxis\":\"x\",\"y\":[25.0],\"yaxis\":\"y\",\"type\":\"bar\"},{\"alignmentgroup\":\"True\",\"hovertemplate\":\"Startup Name=Bummer<br>Aman Investment Equity=%{x}<br>Aman Investment Amount=%{y}<br>text=%{text}<extra></extra>\",\"legendgroup\":\"Bummer\",\"marker\":{\"color\":\"#ab63fa\",\"pattern\":{\"shape\":\"\"}},\"name\":\"Bummer\",\"offsetgroup\":\"Bummer\",\"orientation\":\"v\",\"showlegend\":true,\"text\":[\"37 lakhs\"],\"textposition\":\"auto\",\"x\":[3.75],\"xaxis\":\"x\",\"y\":[37.5],\"yaxis\":\"y\",\"type\":\"bar\"},{\"alignmentgroup\":\"True\",\"hovertemplate\":\"Startup Name=SneaKare<br>Aman Investment Equity=%{x}<br>Aman Investment Amount=%{y}<br>text=%{text}<extra></extra>\",\"legendgroup\":\"SneaKare\",\"marker\":{\"color\":\"#FFA15A\",\"pattern\":{\"shape\":\"\"}},\"name\":\"SneaKare\",\"offsetgroup\":\"SneaKare\",\"orientation\":\"v\",\"showlegend\":true,\"text\":[\"7 lakhs\"],\"textposition\":\"auto\",\"x\":[4.0],\"xaxis\":\"x\",\"y\":[7.0],\"yaxis\":\"y\",\"type\":\"bar\"},{\"alignmentgroup\":\"True\",\"hovertemplate\":\"Startup Name=Find Your Kicks India<br>Aman Investment Equity=%{x}<br>Aman Investment Amount=%{y}<br>text=%{text}<extra></extra>\",\"legendgroup\":\"Find Your Kicks India\",\"marker\":{\"color\":\"#19d3f3\",\"pattern\":{\"shape\":\"\"}},\"name\":\"Find Your Kicks India\",\"offsetgroup\":\"Find Your Kicks India\",\"orientation\":\"v\",\"showlegend\":true,\"text\":[\"10 lakhs\"],\"textposition\":\"auto\",\"x\":[5.0],\"xaxis\":\"x\",\"y\":[10.0],\"yaxis\":\"y\",\"type\":\"bar\"},{\"alignmentgroup\":\"True\",\"hovertemplate\":\"Startup Name=Get-A-Whey<br>Aman Investment Equity=%{x}<br>Aman Investment Amount=%{y}<br>text=%{text}<extra></extra>\",\"legendgroup\":\"Get-A-Whey\",\"marker\":{\"color\":\"#FF6692\",\"pattern\":{\"shape\":\"\"}},\"name\":\"Get-A-Whey\",\"offsetgroup\":\"Get-A-Whey\",\"orientation\":\"v\",\"showlegend\":true,\"text\":[\"33 lakhs\"],\"textposition\":\"auto\",\"x\":[5.0],\"xaxis\":\"x\",\"y\":[33.33],\"yaxis\":\"y\",\"type\":\"bar\"},{\"alignmentgroup\":\"True\",\"hovertemplate\":\"Startup Name=Ariro<br>Aman Investment Equity=%{x}<br>Aman Investment Amount=%{y}<br>text=%{text}<extra></extra>\",\"legendgroup\":\"Ariro\",\"marker\":{\"color\":\"#B6E880\",\"pattern\":{\"shape\":\"\"}},\"name\":\"Ariro\",\"offsetgroup\":\"Ariro\",\"orientation\":\"v\",\"showlegend\":true,\"text\":[\"25 lakhs\"],\"textposition\":\"auto\",\"x\":[5.0],\"xaxis\":\"x\",\"y\":[25.0],\"yaxis\":\"y\",\"type\":\"bar\"},{\"alignmentgroup\":\"True\",\"hovertemplate\":\"Startup Name=BluePine Foods<br>Aman Investment Equity=%{x}<br>Aman Investment Amount=%{y}<br>text=%{text}<extra></extra>\",\"legendgroup\":\"BluePine Foods\",\"marker\":{\"color\":\"#FF97FF\",\"pattern\":{\"shape\":\"\"}},\"name\":\"BluePine Foods\",\"offsetgroup\":\"BluePine Foods\",\"orientation\":\"v\",\"showlegend\":true,\"text\":[\"25 lakhs\"],\"textposition\":\"auto\",\"x\":[5.33],\"xaxis\":\"x\",\"y\":[25.0],\"yaxis\":\"y\",\"type\":\"bar\"},{\"alignmentgroup\":\"True\",\"hovertemplate\":\"Startup Name=Let's Try<br>Aman Investment Equity=%{x}<br>Aman Investment Amount=%{y}<br>text=%{text}<extra></extra>\",\"legendgroup\":\"Let's Try\",\"marker\":{\"color\":\"#FECB52\",\"pattern\":{\"shape\":\"\"}},\"name\":\"Let's Try\",\"offsetgroup\":\"Let's Try\",\"orientation\":\"v\",\"showlegend\":true,\"text\":[\"22 lakhs\"],\"textposition\":\"auto\",\"x\":[6.0],\"xaxis\":\"x\",\"y\":[22.5],\"yaxis\":\"y\",\"type\":\"bar\"},{\"alignmentgroup\":\"True\",\"hovertemplate\":\"Startup Name=Peeschute<br>Aman Investment Equity=%{x}<br>Aman Investment Amount=%{y}<br>text=%{text}<extra></extra>\",\"legendgroup\":\"Peeschute\",\"marker\":{\"color\":\"#636efa\",\"pattern\":{\"shape\":\"\"}},\"name\":\"Peeschute\",\"offsetgroup\":\"Peeschute\",\"orientation\":\"v\",\"showlegend\":true,\"text\":[\"75 lakhs\"],\"textposition\":\"auto\",\"x\":[6.0],\"xaxis\":\"x\",\"y\":[75.0],\"yaxis\":\"y\",\"type\":\"bar\"},{\"alignmentgroup\":\"True\",\"hovertemplate\":\"Startup Name=Meatyour<br>Aman Investment Equity=%{x}<br>Aman Investment Amount=%{y}<br>text=%{text}<extra></extra>\",\"legendgroup\":\"Meatyour\",\"marker\":{\"color\":\"#EF553B\",\"pattern\":{\"shape\":\"\"}},\"name\":\"Meatyour\",\"offsetgroup\":\"Meatyour\",\"orientation\":\"v\",\"showlegend\":true,\"text\":[\"10 lakhs\"],\"textposition\":\"auto\",\"x\":[6.66],\"xaxis\":\"x\",\"y\":[10.0],\"yaxis\":\"y\",\"type\":\"bar\"},{\"alignmentgroup\":\"True\",\"hovertemplate\":\"Startup Name=Nuutjob<br>Aman Investment Equity=%{x}<br>Aman Investment Amount=%{y}<br>text=%{text}<extra></extra>\",\"legendgroup\":\"Nuutjob\",\"marker\":{\"color\":\"#00cc96\",\"pattern\":{\"shape\":\"\"}},\"name\":\"Nuutjob\",\"offsetgroup\":\"Nuutjob\",\"orientation\":\"v\",\"showlegend\":true,\"text\":[\"8 lakhs\"],\"textposition\":\"auto\",\"x\":[6.66],\"xaxis\":\"x\",\"y\":[8.33],\"yaxis\":\"y\",\"type\":\"bar\"},{\"alignmentgroup\":\"True\",\"hovertemplate\":\"Startup Name=Beyond Water<br>Aman Investment Equity=%{x}<br>Aman Investment Amount=%{y}<br>text=%{text}<extra></extra>\",\"legendgroup\":\"Beyond Water\",\"marker\":{\"color\":\"#ab63fa\",\"pattern\":{\"shape\":\"\"}},\"name\":\"Beyond Water\",\"offsetgroup\":\"Beyond Water\",\"orientation\":\"v\",\"showlegend\":true,\"text\":[\"37 lakhs\"],\"textposition\":\"auto\",\"x\":[7.5],\"xaxis\":\"x\",\"y\":[37.5],\"yaxis\":\"y\",\"type\":\"bar\"},{\"alignmentgroup\":\"True\",\"hovertemplate\":\"Startup Name=Jain Shikanji<br>Aman Investment Equity=%{x}<br>Aman Investment Amount=%{y}<br>text=%{text}<extra></extra>\",\"legendgroup\":\"Jain Shikanji\",\"marker\":{\"color\":\"#FFA15A\",\"pattern\":{\"shape\":\"\"}},\"name\":\"Jain Shikanji\",\"offsetgroup\":\"Jain Shikanji\",\"orientation\":\"v\",\"showlegend\":true,\"text\":[\"10 lakhs\"],\"textposition\":\"auto\",\"x\":[7.5],\"xaxis\":\"x\",\"y\":[10.0],\"yaxis\":\"y\",\"type\":\"bar\"},{\"alignmentgroup\":\"True\",\"hovertemplate\":\"Startup Name=LOKA<br>Aman Investment Equity=%{x}<br>Aman Investment Amount=%{y}<br>text=%{text}<extra></extra>\",\"legendgroup\":\"LOKA\",\"marker\":{\"color\":\"#19d3f3\",\"pattern\":{\"shape\":\"\"}},\"name\":\"LOKA\",\"offsetgroup\":\"LOKA\",\"orientation\":\"v\",\"showlegend\":true,\"text\":[\"13 lakhs\"],\"textposition\":\"auto\",\"x\":[8.0],\"xaxis\":\"x\",\"y\":[13.33],\"yaxis\":\"y\",\"type\":\"bar\"},{\"alignmentgroup\":\"True\",\"hovertemplate\":\"Startup Name=Farda<br>Aman Investment Equity=%{x}<br>Aman Investment Amount=%{y}<br>text=%{text}<extra></extra>\",\"legendgroup\":\"Farda\",\"marker\":{\"color\":\"#FF6692\",\"pattern\":{\"shape\":\"\"}},\"name\":\"Farda\",\"offsetgroup\":\"Farda\",\"orientation\":\"v\",\"showlegend\":true,\"text\":[\"15 lakhs\"],\"textposition\":\"auto\",\"x\":[10.0],\"xaxis\":\"x\",\"y\":[15.0],\"yaxis\":\"y\",\"type\":\"bar\"},{\"alignmentgroup\":\"True\",\"hovertemplate\":\"Startup Name=Namhya Foods<br>Aman Investment Equity=%{x}<br>Aman Investment Amount=%{y}<br>text=%{text}<extra></extra>\",\"legendgroup\":\"Namhya Foods\",\"marker\":{\"color\":\"#B6E880\",\"pattern\":{\"shape\":\"\"}},\"name\":\"Namhya Foods\",\"offsetgroup\":\"Namhya Foods\",\"orientation\":\"v\",\"showlegend\":true,\"text\":[\"50 lakhs\"],\"textposition\":\"auto\",\"x\":[10.0],\"xaxis\":\"x\",\"y\":[50.0],\"yaxis\":\"y\",\"type\":\"bar\"},{\"alignmentgroup\":\"True\",\"hovertemplate\":\"Startup Name=Hammer Lifestyle<br>Aman Investment Equity=%{x}<br>Aman Investment Amount=%{y}<br>text=%{text}<extra></extra>\",\"legendgroup\":\"Hammer Lifestyle\",\"marker\":{\"color\":\"#FF97FF\",\"pattern\":{\"shape\":\"\"}},\"name\":\"Hammer Lifestyle\",\"offsetgroup\":\"Hammer Lifestyle\",\"orientation\":\"v\",\"showlegend\":true,\"text\":[\"100 lakhs\"],\"textposition\":\"auto\",\"x\":[40.0],\"xaxis\":\"x\",\"y\":[100.0],\"yaxis\":\"y\",\"type\":\"bar\"}],                        {\"template\":{\"data\":{\"histogram2dcontour\":[{\"type\":\"histogram2dcontour\",\"colorbar\":{\"outlinewidth\":0,\"ticks\":\"\"},\"colorscale\":[[0.0,\"#0d0887\"],[0.1111111111111111,\"#46039f\"],[0.2222222222222222,\"#7201a8\"],[0.3333333333333333,\"#9c179e\"],[0.4444444444444444,\"#bd3786\"],[0.5555555555555556,\"#d8576b\"],[0.6666666666666666,\"#ed7953\"],[0.7777777777777778,\"#fb9f3a\"],[0.8888888888888888,\"#fdca26\"],[1.0,\"#f0f921\"]]}],\"choropleth\":[{\"type\":\"choropleth\",\"colorbar\":{\"outlinewidth\":0,\"ticks\":\"\"}}],\"histogram2d\":[{\"type\":\"histogram2d\",\"colorbar\":{\"outlinewidth\":0,\"ticks\":\"\"},\"colorscale\":[[0.0,\"#0d0887\"],[0.1111111111111111,\"#46039f\"],[0.2222222222222222,\"#7201a8\"],[0.3333333333333333,\"#9c179e\"],[0.4444444444444444,\"#bd3786\"],[0.5555555555555556,\"#d8576b\"],[0.6666666666666666,\"#ed7953\"],[0.7777777777777778,\"#fb9f3a\"],[0.8888888888888888,\"#fdca26\"],[1.0,\"#f0f921\"]]}],\"heatmap\":[{\"type\":\"heatmap\",\"colorbar\":{\"outlinewidth\":0,\"ticks\":\"\"},\"colorscale\":[[0.0,\"#0d0887\"],[0.1111111111111111,\"#46039f\"],[0.2222222222222222,\"#7201a8\"],[0.3333333333333333,\"#9c179e\"],[0.4444444444444444,\"#bd3786\"],[0.5555555555555556,\"#d8576b\"],[0.6666666666666666,\"#ed7953\"],[0.7777777777777778,\"#fb9f3a\"],[0.8888888888888888,\"#fdca26\"],[1.0,\"#f0f921\"]]}],\"heatmapgl\":[{\"type\":\"heatmapgl\",\"colorbar\":{\"outlinewidth\":0,\"ticks\":\"\"},\"colorscale\":[[0.0,\"#0d0887\"],[0.1111111111111111,\"#46039f\"],[0.2222222222222222,\"#7201a8\"],[0.3333333333333333,\"#9c179e\"],[0.4444444444444444,\"#bd3786\"],[0.5555555555555556,\"#d8576b\"],[0.6666666666666666,\"#ed7953\"],[0.7777777777777778,\"#fb9f3a\"],[0.8888888888888888,\"#fdca26\"],[1.0,\"#f0f921\"]]}],\"contourcarpet\":[{\"type\":\"contourcarpet\",\"colorbar\":{\"outlinewidth\":0,\"ticks\":\"\"}}],\"contour\":[{\"type\":\"contour\",\"colorbar\":{\"outlinewidth\":0,\"ticks\":\"\"},\"colorscale\":[[0.0,\"#0d0887\"],[0.1111111111111111,\"#46039f\"],[0.2222222222222222,\"#7201a8\"],[0.3333333333333333,\"#9c179e\"],[0.4444444444444444,\"#bd3786\"],[0.5555555555555556,\"#d8576b\"],[0.6666666666666666,\"#ed7953\"],[0.7777777777777778,\"#fb9f3a\"],[0.8888888888888888,\"#fdca26\"],[1.0,\"#f0f921\"]]}],\"surface\":[{\"type\":\"surface\",\"colorbar\":{\"outlinewidth\":0,\"ticks\":\"\"},\"colorscale\":[[0.0,\"#0d0887\"],[0.1111111111111111,\"#46039f\"],[0.2222222222222222,\"#7201a8\"],[0.3333333333333333,\"#9c179e\"],[0.4444444444444444,\"#bd3786\"],[0.5555555555555556,\"#d8576b\"],[0.6666666666666666,\"#ed7953\"],[0.7777777777777778,\"#fb9f3a\"],[0.8888888888888888,\"#fdca26\"],[1.0,\"#f0f921\"]]}],\"mesh3d\":[{\"type\":\"mesh3d\",\"colorbar\":{\"outlinewidth\":0,\"ticks\":\"\"}}],\"scatter\":[{\"marker\":{\"line\":{\"color\":\"#283442\"}},\"type\":\"scatter\"}],\"parcoords\":[{\"type\":\"parcoords\",\"line\":{\"colorbar\":{\"outlinewidth\":0,\"ticks\":\"\"}}}],\"scatterpolargl\":[{\"type\":\"scatterpolargl\",\"marker\":{\"colorbar\":{\"outlinewidth\":0,\"ticks\":\"\"}}}],\"bar\":[{\"error_x\":{\"color\":\"#f2f5fa\"},\"error_y\":{\"color\":\"#f2f5fa\"},\"marker\":{\"line\":{\"color\":\"rgb(17,17,17)\",\"width\":0.5},\"pattern\":{\"fillmode\":\"overlay\",\"size\":10,\"solidity\":0.2}},\"type\":\"bar\"}],\"scattergeo\":[{\"type\":\"scattergeo\",\"marker\":{\"colorbar\":{\"outlinewidth\":0,\"ticks\":\"\"}}}],\"scatterpolar\":[{\"type\":\"scatterpolar\",\"marker\":{\"colorbar\":{\"outlinewidth\":0,\"ticks\":\"\"}}}],\"histogram\":[{\"marker\":{\"pattern\":{\"fillmode\":\"overlay\",\"size\":10,\"solidity\":0.2}},\"type\":\"histogram\"}],\"scattergl\":[{\"marker\":{\"line\":{\"color\":\"#283442\"}},\"type\":\"scattergl\"}],\"scatter3d\":[{\"type\":\"scatter3d\",\"line\":{\"colorbar\":{\"outlinewidth\":0,\"ticks\":\"\"}},\"marker\":{\"colorbar\":{\"outlinewidth\":0,\"ticks\":\"\"}}}],\"scattermapbox\":[{\"type\":\"scattermapbox\",\"marker\":{\"colorbar\":{\"outlinewidth\":0,\"ticks\":\"\"}}}],\"scatterternary\":[{\"type\":\"scatterternary\",\"marker\":{\"colorbar\":{\"outlinewidth\":0,\"ticks\":\"\"}}}],\"scattercarpet\":[{\"type\":\"scattercarpet\",\"marker\":{\"colorbar\":{\"outlinewidth\":0,\"ticks\":\"\"}}}],\"carpet\":[{\"aaxis\":{\"endlinecolor\":\"#A2B1C6\",\"gridcolor\":\"#506784\",\"linecolor\":\"#506784\",\"minorgridcolor\":\"#506784\",\"startlinecolor\":\"#A2B1C6\"},\"baxis\":{\"endlinecolor\":\"#A2B1C6\",\"gridcolor\":\"#506784\",\"linecolor\":\"#506784\",\"minorgridcolor\":\"#506784\",\"startlinecolor\":\"#A2B1C6\"},\"type\":\"carpet\"}],\"table\":[{\"cells\":{\"fill\":{\"color\":\"#506784\"},\"line\":{\"color\":\"rgb(17,17,17)\"}},\"header\":{\"fill\":{\"color\":\"#2a3f5f\"},\"line\":{\"color\":\"rgb(17,17,17)\"}},\"type\":\"table\"}],\"barpolar\":[{\"marker\":{\"line\":{\"color\":\"rgb(17,17,17)\",\"width\":0.5},\"pattern\":{\"fillmode\":\"overlay\",\"size\":10,\"solidity\":0.2}},\"type\":\"barpolar\"}],\"pie\":[{\"automargin\":true,\"type\":\"pie\"}]},\"layout\":{\"autotypenumbers\":\"strict\",\"colorway\":[\"#636efa\",\"#EF553B\",\"#00cc96\",\"#ab63fa\",\"#FFA15A\",\"#19d3f3\",\"#FF6692\",\"#B6E880\",\"#FF97FF\",\"#FECB52\"],\"font\":{\"color\":\"#f2f5fa\"},\"hovermode\":\"closest\",\"hoverlabel\":{\"align\":\"left\"},\"paper_bgcolor\":\"rgb(17,17,17)\",\"plot_bgcolor\":\"rgb(17,17,17)\",\"polar\":{\"bgcolor\":\"rgb(17,17,17)\",\"angularaxis\":{\"gridcolor\":\"#506784\",\"linecolor\":\"#506784\",\"ticks\":\"\"},\"radialaxis\":{\"gridcolor\":\"#506784\",\"linecolor\":\"#506784\",\"ticks\":\"\"}},\"ternary\":{\"bgcolor\":\"rgb(17,17,17)\",\"aaxis\":{\"gridcolor\":\"#506784\",\"linecolor\":\"#506784\",\"ticks\":\"\"},\"baxis\":{\"gridcolor\":\"#506784\",\"linecolor\":\"#506784\",\"ticks\":\"\"},\"caxis\":{\"gridcolor\":\"#506784\",\"linecolor\":\"#506784\",\"ticks\":\"\"}},\"coloraxis\":{\"colorbar\":{\"outlinewidth\":0,\"ticks\":\"\"}},\"colorscale\":{\"sequential\":[[0.0,\"#0d0887\"],[0.1111111111111111,\"#46039f\"],[0.2222222222222222,\"#7201a8\"],[0.3333333333333333,\"#9c179e\"],[0.4444444444444444,\"#bd3786\"],[0.5555555555555556,\"#d8576b\"],[0.6666666666666666,\"#ed7953\"],[0.7777777777777778,\"#fb9f3a\"],[0.8888888888888888,\"#fdca26\"],[1.0,\"#f0f921\"]],\"sequentialminus\":[[0.0,\"#0d0887\"],[0.1111111111111111,\"#46039f\"],[0.2222222222222222,\"#7201a8\"],[0.3333333333333333,\"#9c179e\"],[0.4444444444444444,\"#bd3786\"],[0.5555555555555556,\"#d8576b\"],[0.6666666666666666,\"#ed7953\"],[0.7777777777777778,\"#fb9f3a\"],[0.8888888888888888,\"#fdca26\"],[1.0,\"#f0f921\"]],\"diverging\":[[0,\"#8e0152\"],[0.1,\"#c51b7d\"],[0.2,\"#de77ae\"],[0.3,\"#f1b6da\"],[0.4,\"#fde0ef\"],[0.5,\"#f7f7f7\"],[0.6,\"#e6f5d0\"],[0.7,\"#b8e186\"],[0.8,\"#7fbc41\"],[0.9,\"#4d9221\"],[1,\"#276419\"]]},\"xaxis\":{\"gridcolor\":\"#283442\",\"linecolor\":\"#506784\",\"ticks\":\"\",\"title\":{\"standoff\":15},\"zerolinecolor\":\"#283442\",\"automargin\":true,\"zerolinewidth\":2},\"yaxis\":{\"gridcolor\":\"#283442\",\"linecolor\":\"#506784\",\"ticks\":\"\",\"title\":{\"standoff\":15},\"zerolinecolor\":\"#283442\",\"automargin\":true,\"zerolinewidth\":2},\"scene\":{\"xaxis\":{\"backgroundcolor\":\"rgb(17,17,17)\",\"gridcolor\":\"#506784\",\"linecolor\":\"#506784\",\"showbackground\":true,\"ticks\":\"\",\"zerolinecolor\":\"#C8D4E3\",\"gridwidth\":2},\"yaxis\":{\"backgroundcolor\":\"rgb(17,17,17)\",\"gridcolor\":\"#506784\",\"linecolor\":\"#506784\",\"showbackground\":true,\"ticks\":\"\",\"zerolinecolor\":\"#C8D4E3\",\"gridwidth\":2},\"zaxis\":{\"backgroundcolor\":\"rgb(17,17,17)\",\"gridcolor\":\"#506784\",\"linecolor\":\"#506784\",\"showbackground\":true,\"ticks\":\"\",\"zerolinecolor\":\"#C8D4E3\",\"gridwidth\":2}},\"shapedefaults\":{\"line\":{\"color\":\"#f2f5fa\"}},\"annotationdefaults\":{\"arrowcolor\":\"#f2f5fa\",\"arrowhead\":0,\"arrowwidth\":1},\"geo\":{\"bgcolor\":\"rgb(17,17,17)\",\"landcolor\":\"rgb(17,17,17)\",\"subunitcolor\":\"#506784\",\"showland\":true,\"showlakes\":true,\"lakecolor\":\"rgb(17,17,17)\"},\"title\":{\"x\":0.05},\"updatemenudefaults\":{\"bgcolor\":\"#506784\",\"borderwidth\":0},\"sliderdefaults\":{\"bgcolor\":\"#C8D4E3\",\"borderwidth\":1,\"bordercolor\":\"rgb(17,17,17)\",\"tickwidth\":0},\"mapbox\":{\"style\":\"dark\"}}},\"xaxis\":{\"anchor\":\"y\",\"domain\":[0.0,1.0],\"title\":{\"text\":\"Aman Investment Equity\"},\"type\":\"category\"},\"yaxis\":{\"anchor\":\"x\",\"domain\":[0.0,1.0],\"title\":{\"text\":\"Aman Investment Amount\"}},\"legend\":{\"title\":{\"text\":\"Startup Name\"},\"tracegroupgap\":0},\"title\":{\"text\":\"<b>Total equity received by Aman (in %) for investment (in lakhs)</b>\"},\"barmode\":\"relative\"},                        {\"responsive\": true}                    ).then(function(){\n",
       "                            \n",
       "var gd = document.getElementById('f9d26a9b-a3b5-465a-82d2-9a0836c0cb5e');\n",
       "var x = new MutationObserver(function (mutations, observer) {{\n",
       "        var display = window.getComputedStyle(gd).display;\n",
       "        if (!display || display === 'none') {{\n",
       "            console.log([gd, 'removed!']);\n",
       "            Plotly.purge(gd);\n",
       "            observer.disconnect();\n",
       "        }}\n",
       "}});\n",
       "\n",
       "// Listen for the removal of the full notebook cells\n",
       "var notebookContainer = gd.closest('#notebook-container');\n",
       "if (notebookContainer) {{\n",
       "    x.observe(notebookContainer, {childList: true});\n",
       "}}\n",
       "\n",
       "// Listen for the clearing of the current output cell\n",
       "var outputEl = gd.closest('.output');\n",
       "if (outputEl) {{\n",
       "    x.observe(outputEl, {childList: true});\n",
       "}}\n",
       "\n",
       "                        })                };                });            </script>        </div>"
      ]
     },
     "metadata": {},
     "output_type": "display_data"
    }
   ],
   "source": [
    "print(shark_tank[shark_tank['Aman Investment Amount']>0]['Industry'].value_counts().sort_values(ascending=False))\n",
    "shark_tank[shark_tank['Aman Investment Amount']>0]['Industry'].value_counts().sort_values(ascending=False).plot.pie(autopct='%1.2f%%')\n",
    "plt.show()\n",
    "\n",
    "tmpdf = shark_tank.loc[shark_tank['Aman Investment Amount']>0] [[\"Startup Name\",\"Aman Investment Amount\",\"Aman Investment Equity\"]].sort_values(by=\"Aman Investment Equity\")\n",
    "fig = px.bar(tmpdf, x=\"Aman Investment Equity\", y='Aman Investment Amount', color=\"Startup Name\", title=\"<b>Total equity received by Aman (in %) for investment (in lakhs)</b>\", text=tmpdf['Aman Investment Amount'].map(int).map(str) + \" lakhs\")\n",
    "fig.update_layout(dict(xaxis = dict(type=\"category\")))\n",
    "fig.show()"
   ]
  },
  {
   "cell_type": "markdown",
   "id": "de9da595",
   "metadata": {
    "papermill": {
     "duration": 0.025969,
     "end_time": "2022-06-29T08:37:12.623083",
     "exception": false,
     "start_time": "2022-06-29T08:37:12.597114",
     "status": "completed"
    },
    "tags": []
   },
   "source": [
    "Aman has more food and beauty based startups and the remaining is distributed among different industries"
   ]
  },
  {
   "cell_type": "code",
   "execution_count": 21,
   "id": "3434a3db",
   "metadata": {
    "execution": {
     "iopub.execute_input": "2022-06-29T08:37:12.676763Z",
     "iopub.status.busy": "2022-06-29T08:37:12.676330Z",
     "iopub.status.idle": "2022-06-29T08:37:12.899894Z",
     "shell.execute_reply": "2022-06-29T08:37:12.898896Z"
    },
    "papermill": {
     "duration": 0.253097,
     "end_time": "2022-06-29T08:37:12.902164",
     "exception": false,
     "start_time": "2022-06-29T08:37:12.649067",
     "status": "completed"
    },
    "tags": []
   },
   "outputs": [
    {
     "name": "stdout",
     "output_type": "stream",
     "text": [
      "Food              3\n",
      "Medical           2\n",
      "Beauty/Fashion    1\n",
      "Manufacturing     1\n",
      "Name: Industry, dtype: int64\n"
     ]
    },
    {
     "data": {
      "image/png": "[encoded data removed]",
      "text/plain": [
       "<Figure size 432x288 with 1 Axes>"
      ]
     },
     "metadata": {},
     "output_type": "display_data"
    },
    {
     "data": {
      "text/html": [
       "<div>                            <div id=\"787c27c7-d7c0-45b8-86c4-815df0eb9880\" class=\"plotly-graph-div\" style=\"height:525px; width:100%;\"></div>            <script type=\"text/javascript\">                require([\"plotly\"], function(Plotly) {                    window.PLOTLYENV=window.PLOTLYENV || {};                                    if (document.getElementById(\"787c27c7-d7c0-45b8-86c4-815df0eb9880\")) {                    Plotly.newPlot(                        \"787c27c7-d7c0-45b8-86c4-815df0eb9880\",                        [{\"alignmentgroup\":\"True\",\"hovertemplate\":\"Startup Name=Watt Technovations<br>Ghazal Investment Equity=%{x}<br>Ghazal Investment Amount=%{y}<br>text=%{text}<extra></extra>\",\"legendgroup\":\"Watt Technovations\",\"marker\":{\"color\":\"#636efa\",\"pattern\":{\"shape\":\"\"}},\"name\":\"Watt Technovations\",\"offsetgroup\":\"Watt Technovations\",\"orientation\":\"v\",\"showlegend\":true,\"text\":[\"0 lakhs\"],\"textposition\":\"auto\",\"x\":[1.0],\"xaxis\":\"x\",\"y\":[0.0002525],\"yaxis\":\"y\",\"type\":\"bar\"},{\"alignmentgroup\":\"True\",\"hovertemplate\":\"Startup Name=Sunfox Technologies<br>Ghazal Investment Equity=%{x}<br>Ghazal Investment Amount=%{y}<br>text=%{text}<extra></extra>\",\"legendgroup\":\"Sunfox Technologies\",\"marker\":{\"color\":\"#EF553B\",\"pattern\":{\"shape\":\"\"}},\"name\":\"Sunfox Technologies\",\"offsetgroup\":\"Sunfox Technologies\",\"orientation\":\"v\",\"showlegend\":true,\"text\":[\"20 lakhs\"],\"textposition\":\"auto\",\"x\":[1.2],\"xaxis\":\"x\",\"y\":[20.0],\"yaxis\":\"y\",\"type\":\"bar\"},{\"alignmentgroup\":\"True\",\"hovertemplate\":\"Startup Name=Humpy A2<br>Ghazal Investment Equity=%{x}<br>Ghazal Investment Amount=%{y}<br>text=%{text}<extra></extra>\",\"legendgroup\":\"Humpy A2\",\"marker\":{\"color\":\"#00cc96\",\"pattern\":{\"shape\":\"\"}},\"name\":\"Humpy A2\",\"offsetgroup\":\"Humpy A2\",\"orientation\":\"v\",\"showlegend\":true,\"text\":[\"33 lakhs\"],\"textposition\":\"auto\",\"x\":[5.0],\"xaxis\":\"x\",\"y\":[33.33],\"yaxis\":\"y\",\"type\":\"bar\"},{\"alignmentgroup\":\"True\",\"hovertemplate\":\"Startup Name=Nomad Food Project<br>Ghazal Investment Equity=%{x}<br>Ghazal Investment Amount=%{y}<br>text=%{text}<extra></extra>\",\"legendgroup\":\"Nomad Food Project\",\"marker\":{\"color\":\"#ab63fa\",\"pattern\":{\"shape\":\"\"}},\"name\":\"Nomad Food Project\",\"offsetgroup\":\"Nomad Food Project\",\"orientation\":\"v\",\"showlegend\":true,\"text\":[\"10 lakhs\"],\"textposition\":\"auto\",\"x\":[5.0],\"xaxis\":\"x\",\"y\":[10.0],\"yaxis\":\"y\",\"type\":\"bar\"},{\"alignmentgroup\":\"True\",\"hovertemplate\":\"Startup Name=Wakao Foods<br>Ghazal Investment Equity=%{x}<br>Ghazal Investment Amount=%{y}<br>text=%{text}<extra></extra>\",\"legendgroup\":\"Wakao Foods\",\"marker\":{\"color\":\"#FFA15A\",\"pattern\":{\"shape\":\"\"}},\"name\":\"Wakao Foods\",\"offsetgroup\":\"Wakao Foods\",\"orientation\":\"v\",\"showlegend\":true,\"text\":[\"25 lakhs\"],\"textposition\":\"auto\",\"x\":[7.0],\"xaxis\":\"x\",\"y\":[25.0],\"yaxis\":\"y\",\"type\":\"bar\"},{\"alignmentgroup\":\"True\",\"hovertemplate\":\"Startup Name=Gold Safe Solutions<br>Ghazal Investment Equity=%{x}<br>Ghazal Investment Amount=%{y}<br>text=%{text}<extra></extra>\",\"legendgroup\":\"Gold Safe Solutions\",\"marker\":{\"color\":\"#19d3f3\",\"pattern\":{\"shape\":\"\"}},\"name\":\"Gold Safe Solutions\",\"offsetgroup\":\"Gold Safe Solutions\",\"orientation\":\"v\",\"showlegend\":true,\"text\":[\"16 lakhs\"],\"textposition\":\"auto\",\"x\":[10.0],\"xaxis\":\"x\",\"y\":[16.66],\"yaxis\":\"y\",\"type\":\"bar\"},{\"alignmentgroup\":\"True\",\"hovertemplate\":\"Startup Name=The Sass Bar<br>Ghazal Investment Equity=%{x}<br>Ghazal Investment Amount=%{y}<br>text=%{text}<extra></extra>\",\"legendgroup\":\"The Sass Bar\",\"marker\":{\"color\":\"#FF6692\",\"pattern\":{\"shape\":\"\"}},\"name\":\"The Sass Bar\",\"offsetgroup\":\"The Sass Bar\",\"orientation\":\"v\",\"showlegend\":true,\"text\":[\"25 lakhs\"],\"textposition\":\"auto\",\"x\":[17.5],\"xaxis\":\"x\",\"y\":[25.0],\"yaxis\":\"y\",\"type\":\"bar\"}],                        {\"template\":{\"data\":{\"histogram2dcontour\":[{\"type\":\"histogram2dcontour\",\"colorbar\":{\"outlinewidth\":0,\"ticks\":\"\"},\"colorscale\":[[0.0,\"#0d0887\"],[0.1111111111111111,\"#46039f\"],[0.2222222222222222,\"#7201a8\"],[0.3333333333333333,\"#9c179e\"],[0.4444444444444444,\"#bd3786\"],[0.5555555555555556,\"#d8576b\"],[0.6666666666666666,\"#ed7953\"],[0.7777777777777778,\"#fb9f3a\"],[0.8888888888888888,\"#fdca26\"],[1.0,\"#f0f921\"]]}],\"choropleth\":[{\"type\":\"choropleth\",\"colorbar\":{\"outlinewidth\":0,\"ticks\":\"\"}}],\"histogram2d\":[{\"type\":\"histogram2d\",\"colorbar\":{\"outlinewidth\":0,\"ticks\":\"\"},\"colorscale\":[[0.0,\"#0d0887\"],[0.1111111111111111,\"#46039f\"],[0.2222222222222222,\"#7201a8\"],[0.3333333333333333,\"#9c179e\"],[0.4444444444444444,\"#bd3786\"],[0.5555555555555556,\"#d8576b\"],[0.6666666666666666,\"#ed7953\"],[0.7777777777777778,\"#fb9f3a\"],[0.8888888888888888,\"#fdca26\"],[1.0,\"#f0f921\"]]}],\"heatmap\":[{\"type\":\"heatmap\",\"colorbar\":{\"outlinewidth\":0,\"ticks\":\"\"},\"colorscale\":[[0.0,\"#0d0887\"],[0.1111111111111111,\"#46039f\"],[0.2222222222222222,\"#7201a8\"],[0.3333333333333333,\"#9c179e\"],[0.4444444444444444,\"#bd3786\"],[0.5555555555555556,\"#d8576b\"],[0.6666666666666666,\"#ed7953\"],[0.7777777777777778,\"#fb9f3a\"],[0.8888888888888888,\"#fdca26\"],[1.0,\"#f0f921\"]]}],\"heatmapgl\":[{\"type\":\"heatmapgl\",\"colorbar\":{\"outlinewidth\":0,\"ticks\":\"\"},\"colorscale\":[[0.0,\"#0d0887\"],[0.1111111111111111,\"#46039f\"],[0.2222222222222222,\"#7201a8\"],[0.3333333333333333,\"#9c179e\"],[0.4444444444444444,\"#bd3786\"],[0.5555555555555556,\"#d8576b\"],[0.6666666666666666,\"#ed7953\"],[0.7777777777777778,\"#fb9f3a\"],[0.8888888888888888,\"#fdca26\"],[1.0,\"#f0f921\"]]}],\"contourcarpet\":[{\"type\":\"contourcarpet\",\"colorbar\":{\"outlinewidth\":0,\"ticks\":\"\"}}],\"contour\":[{\"type\":\"contour\",\"colorbar\":{\"outlinewidth\":0,\"ticks\":\"\"},\"colorscale\":[[0.0,\"#0d0887\"],[0.1111111111111111,\"#46039f\"],[0.2222222222222222,\"#7201a8\"],[0.3333333333333333,\"#9c179e\"],[0.4444444444444444,\"#bd3786\"],[0.5555555555555556,\"#d8576b\"],[0.6666666666666666,\"#ed7953\"],[0.7777777777777778,\"#fb9f3a\"],[0.8888888888888888,\"#fdca26\"],[1.0,\"#f0f921\"]]}],\"surface\":[{\"type\":\"surface\",\"colorbar\":{\"outlinewidth\":0,\"ticks\":\"\"},\"colorscale\":[[0.0,\"#0d0887\"],[0.1111111111111111,\"#46039f\"],[0.2222222222222222,\"#7201a8\"],[0.3333333333333333,\"#9c179e\"],[0.4444444444444444,\"#bd3786\"],[0.5555555555555556,\"#d8576b\"],[0.6666666666666666,\"#ed7953\"],[0.7777777777777778,\"#fb9f3a\"],[0.8888888888888888,\"#fdca26\"],[1.0,\"#f0f921\"]]}],\"mesh3d\":[{\"type\":\"mesh3d\",\"colorbar\":{\"outlinewidth\":0,\"ticks\":\"\"}}],\"scatter\":[{\"marker\":{\"line\":{\"color\":\"#283442\"}},\"type\":\"scatter\"}],\"parcoords\":[{\"type\":\"parcoords\",\"line\":{\"colorbar\":{\"outlinewidth\":0,\"ticks\":\"\"}}}],\"scatterpolargl\":[{\"type\":\"scatterpolargl\",\"marker\":{\"colorbar\":{\"outlinewidth\":0,\"ticks\":\"\"}}}],\"bar\":[{\"error_x\":{\"color\":\"#f2f5fa\"},\"error_y\":{\"color\":\"#f2f5fa\"},\"marker\":{\"line\":{\"color\":\"rgb(17,17,17)\",\"width\":0.5},\"pattern\":{\"fillmode\":\"overlay\",\"size\":10,\"solidity\":0.2}},\"type\":\"bar\"}],\"scattergeo\":[{\"type\":\"scattergeo\",\"marker\":{\"colorbar\":{\"outlinewidth\":0,\"ticks\":\"\"}}}],\"scatterpolar\":[{\"type\":\"scatterpolar\",\"marker\":{\"colorbar\":{\"outlinewidth\":0,\"ticks\":\"\"}}}],\"histogram\":[{\"marker\":{\"pattern\":{\"fillmode\":\"overlay\",\"size\":10,\"solidity\":0.2}},\"type\":\"histogram\"}],\"scattergl\":[{\"marker\":{\"line\":{\"color\":\"#283442\"}},\"type\":\"scattergl\"}],\"scatter3d\":[{\"type\":\"scatter3d\",\"line\":{\"colorbar\":{\"outlinewidth\":0,\"ticks\":\"\"}},\"marker\":{\"colorbar\":{\"outlinewidth\":0,\"ticks\":\"\"}}}],\"scattermapbox\":[{\"type\":\"scattermapbox\",\"marker\":{\"colorbar\":{\"outlinewidth\":0,\"ticks\":\"\"}}}],\"scatterternary\":[{\"type\":\"scatterternary\",\"marker\":{\"colorbar\":{\"outlinewidth\":0,\"ticks\":\"\"}}}],\"scattercarpet\":[{\"type\":\"scattercarpet\",\"marker\":{\"colorbar\":{\"outlinewidth\":0,\"ticks\":\"\"}}}],\"carpet\":[{\"aaxis\":{\"endlinecolor\":\"#A2B1C6\",\"gridcolor\":\"#506784\",\"linecolor\":\"#506784\",\"minorgridcolor\":\"#506784\",\"startlinecolor\":\"#A2B1C6\"},\"baxis\":{\"endlinecolor\":\"#A2B1C6\",\"gridcolor\":\"#506784\",\"linecolor\":\"#506784\",\"minorgridcolor\":\"#506784\",\"startlinecolor\":\"#A2B1C6\"},\"type\":\"carpet\"}],\"table\":[{\"cells\":{\"fill\":{\"color\":\"#506784\"},\"line\":{\"color\":\"rgb(17,17,17)\"}},\"header\":{\"fill\":{\"color\":\"#2a3f5f\"},\"line\":{\"color\":\"rgb(17,17,17)\"}},\"type\":\"table\"}],\"barpolar\":[{\"marker\":{\"line\":{\"color\":\"rgb(17,17,17)\",\"width\":0.5},\"pattern\":{\"fillmode\":\"overlay\",\"size\":10,\"solidity\":0.2}},\"type\":\"barpolar\"}],\"pie\":[{\"automargin\":true,\"type\":\"pie\"}]},\"layout\":{\"autotypenumbers\":\"strict\",\"colorway\":[\"#636efa\",\"#EF553B\",\"#00cc96\",\"#ab63fa\",\"#FFA15A\",\"#19d3f3\",\"#FF6692\",\"#B6E880\",\"#FF97FF\",\"#FECB52\"],\"font\":{\"color\":\"#f2f5fa\"},\"hovermode\":\"closest\",\"hoverlabel\":{\"align\":\"left\"},\"paper_bgcolor\":\"rgb(17,17,17)\",\"plot_bgcolor\":\"rgb(17,17,17)\",\"polar\":{\"bgcolor\":\"rgb(17,17,17)\",\"angularaxis\":{\"gridcolor\":\"#506784\",\"linecolor\":\"#506784\",\"ticks\":\"\"},\"radialaxis\":{\"gridcolor\":\"#506784\",\"linecolor\":\"#506784\",\"ticks\":\"\"}},\"ternary\":{\"bgcolor\":\"rgb(17,17,17)\",\"aaxis\":{\"gridcolor\":\"#506784\",\"linecolor\":\"#506784\",\"ticks\":\"\"},\"baxis\":{\"gridcolor\":\"#506784\",\"linecolor\":\"#506784\",\"ticks\":\"\"},\"caxis\":{\"gridcolor\":\"#506784\",\"linecolor\":\"#506784\",\"ticks\":\"\"}},\"coloraxis\":{\"colorbar\":{\"outlinewidth\":0,\"ticks\":\"\"}},\"colorscale\":{\"sequential\":[[0.0,\"#0d0887\"],[0.1111111111111111,\"#46039f\"],[0.2222222222222222,\"#7201a8\"],[0.3333333333333333,\"#9c179e\"],[0.4444444444444444,\"#bd3786\"],[0.5555555555555556,\"#d8576b\"],[0.6666666666666666,\"#ed7953\"],[0.7777777777777778,\"#fb9f3a\"],[0.8888888888888888,\"#fdca26\"],[1.0,\"#f0f921\"]],\"sequentialminus\":[[0.0,\"#0d0887\"],[0.1111111111111111,\"#46039f\"],[0.2222222222222222,\"#7201a8\"],[0.3333333333333333,\"#9c179e\"],[0.4444444444444444,\"#bd3786\"],[0.5555555555555556,\"#d8576b\"],[0.6666666666666666,\"#ed7953\"],[0.7777777777777778,\"#fb9f3a\"],[0.8888888888888888,\"#fdca26\"],[1.0,\"#f0f921\"]],\"diverging\":[[0,\"#8e0152\"],[0.1,\"#c51b7d\"],[0.2,\"#de77ae\"],[0.3,\"#f1b6da\"],[0.4,\"#fde0ef\"],[0.5,\"#f7f7f7\"],[0.6,\"#e6f5d0\"],[0.7,\"#b8e186\"],[0.8,\"#7fbc41\"],[0.9,\"#4d9221\"],[1,\"#276419\"]]},\"xaxis\":{\"gridcolor\":\"#283442\",\"linecolor\":\"#506784\",\"ticks\":\"\",\"title\":{\"standoff\":15},\"zerolinecolor\":\"#283442\",\"automargin\":true,\"zerolinewidth\":2},\"yaxis\":{\"gridcolor\":\"#283442\",\"linecolor\":\"#506784\",\"ticks\":\"\",\"title\":{\"standoff\":15},\"zerolinecolor\":\"#283442\",\"automargin\":true,\"zerolinewidth\":2},\"scene\":{\"xaxis\":{\"backgroundcolor\":\"rgb(17,17,17)\",\"gridcolor\":\"#506784\",\"linecolor\":\"#506784\",\"showbackground\":true,\"ticks\":\"\",\"zerolinecolor\":\"#C8D4E3\",\"gridwidth\":2},\"yaxis\":{\"backgroundcolor\":\"rgb(17,17,17)\",\"gridcolor\":\"#506784\",\"linecolor\":\"#506784\",\"showbackground\":true,\"ticks\":\"\",\"zerolinecolor\":\"#C8D4E3\",\"gridwidth\":2},\"zaxis\":{\"backgroundcolor\":\"rgb(17,17,17)\",\"gridcolor\":\"#506784\",\"linecolor\":\"#506784\",\"showbackground\":true,\"ticks\":\"\",\"zerolinecolor\":\"#C8D4E3\",\"gridwidth\":2}},\"shapedefaults\":{\"line\":{\"color\":\"#f2f5fa\"}},\"annotationdefaults\":{\"arrowcolor\":\"#f2f5fa\",\"arrowhead\":0,\"arrowwidth\":1},\"geo\":{\"bgcolor\":\"rgb(17,17,17)\",\"landcolor\":\"rgb(17,17,17)\",\"subunitcolor\":\"#506784\",\"showland\":true,\"showlakes\":true,\"lakecolor\":\"rgb(17,17,17)\"},\"title\":{\"x\":0.05},\"updatemenudefaults\":{\"bgcolor\":\"#506784\",\"borderwidth\":0},\"sliderdefaults\":{\"bgcolor\":\"#C8D4E3\",\"borderwidth\":1,\"bordercolor\":\"rgb(17,17,17)\",\"tickwidth\":0},\"mapbox\":{\"style\":\"dark\"}}},\"xaxis\":{\"anchor\":\"y\",\"domain\":[0.0,1.0],\"title\":{\"text\":\"Ghazal Investment Equity\"},\"type\":\"category\"},\"yaxis\":{\"anchor\":\"x\",\"domain\":[0.0,1.0],\"title\":{\"text\":\"Ghazal Investment Amount\"}},\"legend\":{\"title\":{\"text\":\"Startup Name\"},\"tracegroupgap\":0},\"title\":{\"text\":\"<b>Total equity received by Ghazal (in %) for investment (in lakhs)</b>\"},\"barmode\":\"relative\"},                        {\"responsive\": true}                    ).then(function(){\n",
       "                            \n",
       "var gd = document.getElementById('787c27c7-d7c0-45b8-86c4-815df0eb9880');\n",
       "var x = new MutationObserver(function (mutations, observer) {{\n",
       "        var display = window.getComputedStyle(gd).display;\n",
       "        if (!display || display === 'none') {{\n",
       "            console.log([gd, 'removed!']);\n",
       "            Plotly.purge(gd);\n",
       "            observer.disconnect();\n",
       "        }}\n",
       "}});\n",
       "\n",
       "// Listen for the removal of the full notebook cells\n",
       "var notebookContainer = gd.closest('#notebook-container');\n",
       "if (notebookContainer) {{\n",
       "    x.observe(notebookContainer, {childList: true});\n",
       "}}\n",
       "\n",
       "// Listen for the clearing of the current output cell\n",
       "var outputEl = gd.closest('.output');\n",
       "if (outputEl) {{\n",
       "    x.observe(outputEl, {childList: true});\n",
       "}}\n",
       "\n",
       "                        })                };                });            </script>        </div>"
      ]
     },
     "metadata": {},
     "output_type": "display_data"
    }
   ],
   "source": [
    "print(shark_tank[shark_tank['Ghazal Investment Amount']>0]['Industry'].value_counts().sort_values(ascending=False))\n",
    "shark_tank[shark_tank['Ghazal Investment Amount']>0]['Industry'].value_counts().sort_values(ascending=False).plot.pie(autopct='%1.2f%%')\n",
    "plt.show()\n",
    "\n",
    "tmpdf = shark_tank.loc[shark_tank['Ghazal Investment Amount']>0] [[\"Startup Name\",\"Ghazal Investment Amount\",\"Ghazal Investment Equity\"]].sort_values(by=\"Ghazal Investment Equity\")\n",
    "fig = px.bar(tmpdf, x=\"Ghazal Investment Equity\", y='Ghazal Investment Amount', color=\"Startup Name\", title=\"<b>Total equity received by Ghazal (in %) for investment (in lakhs)</b>\", text=tmpdf['Ghazal Investment Amount'].map(int).map(str) + \" lakhs\")\n",
    "fig.update_layout(dict(xaxis = dict(type=\"category\")))\n",
    "fig.show()"
   ]
  },
  {
   "cell_type": "markdown",
   "id": "974ab2dd",
   "metadata": {
    "papermill": {
     "duration": 0.026277,
     "end_time": "2022-06-29T08:37:12.955331",
     "exception": false,
     "start_time": "2022-06-29T08:37:12.929054",
     "status": "completed"
    },
    "tags": []
   },
   "source": [
    "Ghazal's portfolio is not so complex like the other sharks, clean and more saturated."
   ]
  },
  {
   "cell_type": "markdown",
   "id": "ef253e8e",
   "metadata": {
    "papermill": {
     "duration": 0.026545,
     "end_time": "2022-06-29T08:37:13.008810",
     "exception": false,
     "start_time": "2022-06-29T08:37:12.982265",
     "status": "completed"
    },
    "tags": []
   },
   "source": [
    "## Total Amount Asked by the Pitchers\n"
   ]
  },
  {
   "cell_type": "code",
   "execution_count": 22,
   "id": "2d5ac429",
   "metadata": {
    "execution": {
     "iopub.execute_input": "2022-06-29T08:37:13.064384Z",
     "iopub.status.busy": "2022-06-29T08:37:13.064001Z",
     "iopub.status.idle": "2022-06-29T08:37:13.211105Z",
     "shell.execute_reply": "2022-06-29T08:37:13.208868Z"
    },
    "papermill": {
     "duration": 0.181222,
     "end_time": "2022-06-29T08:37:13.216759",
     "exception": false,
     "start_time": "2022-06-29T08:37:13.035537",
     "status": "completed"
    },
    "tags": []
   },
   "outputs": [
    {
     "name": "stdout",
     "output_type": "stream",
     "text": [
      "1.0    33%\n",
      "2.0    31%\n",
      "3.0    22%\n",
      "4.0     7%\n",
      "5.0     6%\n",
      "Name: Number of sharks in deal, dtype: object\n",
      "The deals where more than or equals to 5 sharks are involved\n",
      "             Startup Name  Total Deal Amount  Total Deal Equity\n",
      "15        Skippi Ice Pops              100.0               15.0\n",
      "49  Find Your Kicks India               50.0               25.0\n",
      "63               IN A CAN              100.0               10.0\n",
      "79    Sunfox Technologies              100.0                6.0\n"
     ]
    },
    {
     "data": {
      "image/png": "[encoded data removed]",
      "text/plain": [
       "<Figure size 432x288 with 1 Axes>"
      ]
     },
     "metadata": {
      "needs_background": "light"
     },
     "output_type": "display_data"
    }
   ],
   "source": [
    "print(round(shark_tank['Number of sharks in deal'].value_counts(normalize=True)*100).astype(str).str.replace('.0', '%'))\n",
    "sns.countplot(data = shark_tank, x = 'Number of sharks in deal')\n",
    "print('The deals where more than or equals to 5 sharks are involved')\n",
    "print(shark_tank.loc[shark_tank['Number of sharks in deal'] >= 5][[\"Startup Name\",\"Total Deal Amount\",\"Total Deal Equity\"]])"
   ]
  },
  {
   "cell_type": "markdown",
   "id": "0c77f2da",
   "metadata": {
    "papermill": {
     "duration": 0.027192,
     "end_time": "2022-06-29T08:37:13.271291",
     "exception": false,
     "start_time": "2022-06-29T08:37:13.244099",
     "status": "completed"
    },
    "tags": []
   },
   "source": [
    "## Total Amount Asked by the Pitchers\n"
   ]
  },
  {
   "cell_type": "code",
   "execution_count": 23,
   "id": "49647281",
   "metadata": {
    "execution": {
     "iopub.execute_input": "2022-06-29T08:37:13.368827Z",
     "iopub.status.busy": "2022-06-29T08:37:13.367756Z",
     "iopub.status.idle": "2022-06-29T08:37:13.457058Z",
     "shell.execute_reply": "2022-06-29T08:37:13.455986Z"
    },
    "papermill": {
     "duration": 0.121564,
     "end_time": "2022-06-29T08:37:13.459318",
     "exception": false,
     "start_time": "2022-06-29T08:37:13.337754",
     "status": "completed"
    },
    "tags": []
   },
   "outputs": [
    {
     "name": "stdout",
     "output_type": "stream",
     "text": [
      "₹378.23 crores\n"
     ]
    }
   ],
   "source": [
    "print(format_currency(shark_tank['Original Ask Amount'].sum()/100,'INR',locale='en_IN').replace('.00',''),'crores')"
   ]
  },
  {
   "cell_type": "markdown",
   "id": "70d83a0b",
   "metadata": {
    "papermill": {
     "duration": 0.028256,
     "end_time": "2022-06-29T08:37:13.516157",
     "exception": false,
     "start_time": "2022-06-29T08:37:13.487901",
     "status": "completed"
    },
    "tags": []
   },
   "source": [
    "## Total Amount Invested by the sharks\n"
   ]
  },
  {
   "cell_type": "code",
   "execution_count": 24,
   "id": "516aa7ff",
   "metadata": {
    "execution": {
     "iopub.execute_input": "2022-06-29T08:37:13.573772Z",
     "iopub.status.busy": "2022-06-29T08:37:13.572888Z",
     "iopub.status.idle": "2022-06-29T08:37:13.579324Z",
     "shell.execute_reply": "2022-06-29T08:37:13.578365Z"
    },
    "papermill": {
     "duration": 0.037821,
     "end_time": "2022-06-29T08:37:13.581823",
     "exception": false,
     "start_time": "2022-06-29T08:37:13.544002",
     "status": "completed"
    },
    "tags": []
   },
   "outputs": [
    {
     "name": "stdout",
     "output_type": "stream",
     "text": [
      "₹39.03 crores\n"
     ]
    }
   ],
   "source": [
    "print(format_currency(shark_tank['Total Deal Amount'].sum()/100,'INR',locale='en_IN').replace('.00',''),'crores')"
   ]
  },
  {
   "cell_type": "code",
   "execution_count": 25,
   "id": "8105b668",
   "metadata": {
    "execution": {
     "iopub.execute_input": "2022-06-29T08:37:13.639656Z",
     "iopub.status.busy": "2022-06-29T08:37:13.639185Z",
     "iopub.status.idle": "2022-06-29T08:37:13.830534Z",
     "shell.execute_reply": "2022-06-29T08:37:13.829477Z"
    },
    "papermill": {
     "duration": 0.223144,
     "end_time": "2022-06-29T08:37:13.832994",
     "exception": false,
     "start_time": "2022-06-29T08:37:13.609850",
     "status": "completed"
    },
    "tags": []
   },
   "outputs": [
    {
     "data": {
      "image/png": "[encoded data removed]",
      "text/plain": [
       "<Figure size 720x288 with 1 Axes>"
      ]
     },
     "metadata": {
      "needs_background": "light"
     },
     "output_type": "display_data"
    }
   ],
   "source": [
    "Amount = [shark_tank['Ashneer Investment Amount'].sum(), shark_tank['Namita Investment Amount'].sum(), shark_tank['Anupam Investment Amount'].sum(), shark_tank['Vineeta Investment Amount'].sum(),\n",
    "    shark_tank['Aman Investment Amount'].sum(), shark_tank['Peyush Investment Amount'].sum(), shark_tank['Ghazal Investment Amount'].sum()]\n",
    "name=['Ashneer','Namita','Anupam','Vineeta','Aman','Peyush','Ghazal']\n",
    "df = {'Name':name, 'Total Amount':Amount }\n",
    "plt.figure(figsize=(10,4))\n",
    "plt.bar(df['Name'], df['Total Amount'])\n",
    "plt.xticks(fontsize=15)\n",
    "plt.ylabel(\"Total Investment Amount (in lakhs)\",fontsize=15)\n",
    "for index,d in enumerate(Amount):\n",
    "    plt.text(x=index, y =d+2, s=f\"{round(d,2)}\", ha = 'center', fontdict=dict(fontsize=12))\n",
    "plt.title(\"Total Investment Amount by Sharks\", fontsize=15)\n",
    "plt.show()"
   ]
  },
  {
   "cell_type": "markdown",
   "id": "96ccfbed",
   "metadata": {
    "papermill": {
     "duration": 0.027759,
     "end_time": "2022-06-29T08:37:13.889494",
     "exception": false,
     "start_time": "2022-06-29T08:37:13.861735",
     "status": "completed"
    },
    "tags": []
   },
   "source": [
    "## Total Amount Lent by the Sharks"
   ]
  },
  {
   "cell_type": "code",
   "execution_count": 26,
   "id": "003d2d32",
   "metadata": {
    "execution": {
     "iopub.execute_input": "2022-06-29T08:37:13.946669Z",
     "iopub.status.busy": "2022-06-29T08:37:13.946230Z",
     "iopub.status.idle": "2022-06-29T08:37:13.952251Z",
     "shell.execute_reply": "2022-06-29T08:37:13.951506Z"
    },
    "papermill": {
     "duration": 0.037185,
     "end_time": "2022-06-29T08:37:13.954520",
     "exception": false,
     "start_time": "2022-06-29T08:37:13.917335",
     "status": "completed"
    },
    "tags": []
   },
   "outputs": [
    {
     "name": "stdout",
     "output_type": "stream",
     "text": [
      "₹3.51 crores\n"
     ]
    }
   ],
   "source": [
    "print(format_currency(shark_tank['Total Deal Debt'].sum()/100,'INR',locale='en_IN').replace('.00',''),'crores')"
   ]
  },
  {
   "cell_type": "code",
   "execution_count": 27,
   "id": "9f0d5be2",
   "metadata": {
    "execution": {
     "iopub.execute_input": "2022-06-29T08:37:14.012981Z",
     "iopub.status.busy": "2022-06-29T08:37:14.012078Z",
     "iopub.status.idle": "2022-06-29T08:37:14.439692Z",
     "shell.execute_reply": "2022-06-29T08:37:14.438376Z"
    },
    "papermill": {
     "duration": 0.45976,
     "end_time": "2022-06-29T08:37:14.442606",
     "exception": false,
     "start_time": "2022-06-29T08:37:13.982846",
     "status": "completed"
    },
    "tags": []
   },
   "outputs": [
    {
     "data": {
      "image/png": "[encoded data removed]",
      "text/plain": [
       "<Figure size 720x288 with 1 Axes>"
      ]
     },
     "metadata": {
      "needs_background": "light"
     },
     "output_type": "display_data"
    }
   ],
   "source": [
    "Amount = [shark_tank['Ashneer Debt Amount'].sum(), shark_tank['Namita Debt Amount'].sum(), shark_tank['Anupam Debt Amount'].sum(), shark_tank['Vineeta Debt Amount'].sum(),\n",
    "    shark_tank['Aman Debt Amount'].sum(), shark_tank['Peyush Debt Amount'].sum(), shark_tank['Ghazal Debt Amount'].sum()]\n",
    "name=['Ashneer','Namita','Anupam','Vineeta','Aman','Peyush','Ghazal']\n",
    "df = {'Name':name, 'Total Amount':Amount }\n",
    "plt.figure(figsize=(10,4))\n",
    "plt.bar(df['Name'], df['Total Amount'])\n",
    "plt.xticks(fontsize=15)\n",
    "plt.ylabel(\"Total Debt Amount (in lakhs)\",fontsize=15)\n",
    "for index,d in enumerate(Amount):\n",
    "    plt.text(x=index, y =d+2, s=f\"{round(d,2)}\", ha = 'center', fontdict=dict(fontsize=12))\n",
    "plt.title(\"Total Debt Amount by Sharks\", fontsize=15)\n",
    "plt.show()"
   ]
  },
  {
   "cell_type": "markdown",
   "id": "0fd72f21",
   "metadata": {
    "papermill": {
     "duration": 0.029109,
     "end_time": "2022-06-29T08:37:14.507809",
     "exception": false,
     "start_time": "2022-06-29T08:37:14.478700",
     "status": "completed"
    },
    "tags": []
   },
   "source": [
    "## Portfolio's of Different sharks\n"
   ]
  },
  {
   "cell_type": "code",
   "execution_count": 28,
   "id": "ceb80846",
   "metadata": {
    "execution": {
     "iopub.execute_input": "2022-06-29T08:37:14.567619Z",
     "iopub.status.busy": "2022-06-29T08:37:14.567187Z",
     "iopub.status.idle": "2022-06-29T08:37:14.585258Z",
     "shell.execute_reply": "2022-06-29T08:37:14.584067Z"
    },
    "papermill": {
     "duration": 0.051891,
     "end_time": "2022-06-29T08:37:14.588705",
     "exception": false,
     "start_time": "2022-06-29T08:37:14.536814",
     "status": "completed"
    },
    "tags": []
   },
   "outputs": [
    {
     "name": "stdout",
     "output_type": "stream",
     "text": [
      "Peyush Bansal's total investments 28\n",
      "Investment amount by Peyush 7.9 crores\n",
      "\n",
      "Equity received by Peyush 317.84 % in different companies\n",
      "\n",
      "Debt/loan amount by Peyush 1.17 crores\n",
      "\n",
      "--------------------------------------------------------------------------------\n",
      "    index           Startup Name        Industry  Peyush Investment Amount\n",
      "0      22    Vivalyf Innovations         Medical                 28.000000\n",
      "1      25                  Ariro   Manufacturing                 25.000000\n",
      "2      27                Nuutjob  Beauty/Fashion                  8.330000\n",
      "3      28               Meatyour            Food                 10.000000\n",
      "4      29              EventBeep       Education                 10.000000\n",
      "5      35                   LOKA      Technology                 13.330000\n",
      "6      36                  Annie       Education                 35.000000\n",
      "7      37             Carragreen   Manufacturing                 25.000000\n",
      "8      38        The Yarn Bazaar   Manufacturing                 25.000000\n",
      "9      43                    PNT      Technology                 25.000000\n",
      "10     49  Find Your Kicks India  Beauty/Fashion                 10.000000\n",
      "11     50          Aas Vidyalaya       Education                 50.000000\n",
      "12     52             RoadBounce      Technology                 80.000000\n",
      "13     58                WeSTOCK     Animal/Pets                 15.000000\n",
      "14     61        The State Plate            Food                 40.000000\n",
      "15     63               IN A CAN            Food                 20.000000\n",
      "16     65          Sid07 Designs        Hardware                 25.000000\n",
      "17     67         Hair Originals  Beauty/Fashion                 20.000000\n",
      "18     76            KG Agrotech        Hardware                 10.000000\n",
      "19     79    Sunfox Technologies         Medical                 20.000000\n",
      "20     81        Isak Fragrances  Beauty/Fashion                 50.000000\n",
      "21     85     Watt Technovations         Medical                  0.000253\n",
      "22     87     Insurance Samadhan        Services                100.000000\n",
      "23     88               Humpy A2            Food                 33.330000\n",
      "24     90    Gold Safe Solutions   Manufacturing                 16.660000\n",
      "25    108             Tweek Labs          Sports                 20.000000\n",
      "26    109                 Proxgy      Technology                 50.000000\n",
      "27    119         Store My Goods        Services                 25.000000\n"
     ]
    }
   ],
   "source": [
    "print(\"Peyush Bansal's total investments\", shark_tank[shark_tank['Peyush Investment Amount']>0][['Peyush Investment Amount']].count().to_string()[-2:])\n",
    "print(\"Investment amount by Peyush\", round(shark_tank['Peyush Investment Amount'].sum()/100, 2), \"crores\\n\")\n",
    "print(\"Equity received by Peyush\", round(shark_tank['Peyush Investment Equity'].sum(), 2), \"% in different companies\\n\")\n",
    "print(\"Debt/loan amount by Peyush\", round(shark_tank['Peyush Debt Amount'].sum()/100, 2), \"crores\\n\")\n",
    "print('-'*80)\n",
    "print(shark_tank.loc[shark_tank['Peyush Investment Amount']>0][[\"Startup Name\",\"Industry\",\"Peyush Investment Amount\"]].reset_index())"
   ]
  },
  {
   "cell_type": "code",
   "execution_count": 29,
   "id": "41126aa8",
   "metadata": {
    "execution": {
     "iopub.execute_input": "2022-06-29T08:37:14.649115Z",
     "iopub.status.busy": "2022-06-29T08:37:14.648493Z",
     "iopub.status.idle": "2022-06-29T08:37:14.665055Z",
     "shell.execute_reply": "2022-06-29T08:37:14.664174Z"
    },
    "papermill": {
     "duration": 0.050341,
     "end_time": "2022-06-29T08:37:14.668112",
     "exception": false,
     "start_time": "2022-06-29T08:37:14.617771",
     "status": "completed"
    },
    "tags": []
   },
   "outputs": [
    {
     "name": "stdout",
     "output_type": "stream",
     "text": [
      "Aman Gupta's total investments 29\n",
      "Investment amount by Aman 8.94 crores\n",
      "\n",
      "Equity received by Aman 164.25 % in different companies\n",
      "\n",
      "Debt/loan amount by Aman 0.5 crores\n",
      "\n",
      "--------------------------------------------------------------------------------\n",
      "    index           Startup Name             Industry  Aman Investment Amount\n",
      "0       0         BluePine Foods                 Food               25.000000\n",
      "1       7              Peeschute       Beauty/Fashion               75.000000\n",
      "2      11                 Bummer       Beauty/Fashion               37.500000\n",
      "3      12            Revamp Moto  Electrical Vehicles               50.000000\n",
      "4      15        Skippi Ice Pops                 Food               20.000000\n",
      "5      18     Raising Superstars            Education               50.000000\n",
      "6      21           Beyond Snack                 Food               25.000000\n",
      "7      24                  Altor        Manufacturing               25.000000\n",
      "8      25                  Ariro        Manufacturing               25.000000\n",
      "9      27                Nuutjob       Beauty/Fashion                8.330000\n",
      "10     28               Meatyour                 Food               10.000000\n",
      "11     29              EventBeep            Education               10.000000\n",
      "12     32                  Farda       Beauty/Fashion               15.000000\n",
      "13     35                   LOKA           Technology               13.330000\n",
      "14     38        The Yarn Bazaar        Manufacturing               25.000000\n",
      "15     39      The Renal Project              Medical               50.000000\n",
      "16     42       Hammer Lifestyle        Manufacturing              100.000000\n",
      "17     44                Cocofit                 Food                0.000016\n",
      "18     47           Beyond Water                 Food               37.500000\n",
      "19     48              Let's Try                 Food               22.500000\n",
      "20     49  Find Your Kicks India       Beauty/Fashion               10.000000\n",
      "21     58                WeSTOCK          Animal/Pets               15.000000\n",
      "22     63               IN A CAN                 Food               20.000000\n",
      "23     64             Get-A-Whey                 Food               33.330000\n",
      "24     71           Namhya Foods                 Food               50.000000\n",
      "25    100               AyuRythm              Medical               75.000000\n",
      "26    104             GrowFitter           Technology               50.000000\n",
      "27    114          Jain Shikanji                 Food               10.000000\n",
      "28    117               SneaKare       Beauty/Fashion                7.000000\n"
     ]
    }
   ],
   "source": [
    "print(\"Aman Gupta's total investments\", shark_tank[shark_tank['Aman Investment Amount']>0][['Aman Investment Amount']].count().to_string()[-2:])\n",
    "print(\"Investment amount by Aman\", round(shark_tank['Aman Investment Amount'].sum()/100, 2), \"crores\\n\")\n",
    "print(\"Equity received by Aman\", round(shark_tank['Aman Investment Equity'].sum(), 2), \"% in different companies\\n\")\n",
    "print(\"Debt/loan amount by Aman\", round(shark_tank['Aman Debt Amount'].sum()/100, 2), \"crores\\n\")\n",
    "print('-'*80)\n",
    "print(shark_tank.loc[shark_tank['Aman Investment Amount']>0][[\"Startup Name\",\"Industry\",\"Aman Investment Amount\"]].reset_index())"
   ]
  },
  {
   "cell_type": "code",
   "execution_count": 30,
   "id": "6cd2e725",
   "metadata": {
    "execution": {
     "iopub.execute_input": "2022-06-29T08:37:14.729238Z",
     "iopub.status.busy": "2022-06-29T08:37:14.728618Z",
     "iopub.status.idle": "2022-06-29T08:37:14.743289Z",
     "shell.execute_reply": "2022-06-29T08:37:14.742278Z"
    },
    "papermill": {
     "duration": 0.047644,
     "end_time": "2022-06-29T08:37:14.746179",
     "exception": false,
     "start_time": "2022-06-29T08:37:14.698535",
     "status": "completed"
    },
    "tags": []
   },
   "outputs": [
    {
     "name": "stdout",
     "output_type": "stream",
     "text": [
      "Ghazal Alagh's total investments  7\n",
      "Investment amount by Ghazal 1.3 crores\n",
      "\n",
      "Equity received by Ghazal 46.7 % in different companies\n",
      "\n",
      "Debt/loan amount by Ghazal 0.0 crores\n",
      "\n",
      "--------------------------------------------------------------------------------\n",
      "            Startup Name        Industry  Ghazal Investment Amount\n",
      "75          The Sass Bar  Beauty/Fashion                 25.000000\n",
      "79   Sunfox Technologies         Medical                 20.000000\n",
      "85    Watt Technovations         Medical                  0.000253\n",
      "88              Humpy A2            Food                 33.330000\n",
      "90   Gold Safe Solutions   Manufacturing                 16.660000\n",
      "91           Wakao Foods            Food                 25.000000\n",
      "110   Nomad Food Project            Food                 10.000000\n"
     ]
    }
   ],
   "source": [
    "print(\"Ghazal Alagh's total investments\", shark_tank[shark_tank['Ghazal Investment Amount']>0][['Ghazal Investment Amount']].count().to_string()[-2:])\n",
    "print(\"Investment amount by Ghazal\", round(shark_tank['Ghazal Investment Amount'].sum()/100, 2), \"crores\\n\")\n",
    "print(\"Equity received by Ghazal\", round(shark_tank['Ghazal Investment Equity'].sum(), 2), \"% in different companies\\n\")\n",
    "print(\"Debt/loan amount by Ghazal\", round(shark_tank['Ghazal Debt Amount'].sum()/100, 2), \"crores\\n\")\n",
    "print('-'*80)\n",
    "print(shark_tank.loc[shark_tank['Ghazal Investment Amount']>0][[\"Startup Name\",\"Industry\",\"Ghazal Investment Amount\"]])"
   ]
  },
  {
   "cell_type": "code",
   "execution_count": 31,
   "id": "afd33577",
   "metadata": {
    "execution": {
     "iopub.execute_input": "2022-06-29T08:37:14.807728Z",
     "iopub.status.busy": "2022-06-29T08:37:14.807115Z",
     "iopub.status.idle": "2022-06-29T08:37:14.824815Z",
     "shell.execute_reply": "2022-06-29T08:37:14.824049Z"
    },
    "papermill": {
     "duration": 0.051966,
     "end_time": "2022-06-29T08:37:14.828564",
     "exception": false,
     "start_time": "2022-06-29T08:37:14.776598",
     "status": "completed"
    },
    "tags": []
   },
   "outputs": [
    {
     "name": "stdout",
     "output_type": "stream",
     "text": [
      "Ashneer Grover's total investments 21\n",
      "Investment amount by Ashneer 5.39 crores\n",
      "\n",
      "Equity received by Ashneer 93.24 % in different companies\n",
      "\n",
      "Debt/loan amount by Ashneer 1.14 crores\n",
      "\n",
      "--------------------------------------------------------------------------------\n",
      "              Startup Name             Industry  Ashneer Investment Amount\n",
      "0           BluePine Foods                 Food                      25.00\n",
      "1            Booz Scooters  Electrical Vehicles                      20.00\n",
      "3               Tagz Foods                 Food                      70.00\n",
      "15         Skippi Ice Pops                 Food                      20.00\n",
      "18      Raising Superstars            Education                      50.00\n",
      "21            Beyond Snack                 Food                      25.00\n",
      "23           Motion Breeze  Electrical Vehicles                      30.00\n",
      "29               EventBeep            Education                      10.00\n",
      "38         The Yarn Bazaar        Manufacturing                      25.00\n",
      "45            Bamboo India        Manufacturing                      25.00\n",
      "49   Find Your Kicks India       Beauty/Fashion                      10.00\n",
      "50           Aas Vidyalaya            Education                      50.00\n",
      "55                    Otua  Electrical Vehicles                       1.00\n",
      "58                 WeSTOCK          Animal/Pets                      15.00\n",
      "63                IN A CAN                 Food                      20.00\n",
      "64              Get-A-Whey                 Food                      33.33\n",
      "67          Hair Originals       Beauty/Fashion                      20.00\n",
      "108             Tweek Labs               Sports                      20.00\n",
      "109                 Proxgy           Technology                      50.00\n",
      "110     Nomad Food Project                 Food                      10.00\n",
      "114          Jain Shikanji                 Food                      10.00\n"
     ]
    }
   ],
   "source": [
    "print(\"Ashneer Grover's total investments\", shark_tank[shark_tank['Ashneer Investment Amount']>0][['Ashneer Investment Amount']].count().to_string()[-2:])\n",
    "print(\"Investment amount by Ashneer\", round(shark_tank['Ashneer Investment Amount'].sum()/100, 2), \"crores\\n\")\n",
    "print(\"Equity received by Ashneer\", round(shark_tank['Ashneer Investment Equity'].sum(), 2), \"% in different companies\\n\")\n",
    "print(\"Debt/loan amount by Ashneer\", round(shark_tank['Ashneer Debt Amount'].sum()/100, 2), \"crores\\n\")\n",
    "print('-'*80)\n",
    "print(shark_tank.loc[shark_tank['Ashneer Investment Amount']>0][[\"Startup Name\",\"Industry\",\"Ashneer Investment Amount\"]])"
   ]
  },
  {
   "cell_type": "code",
   "execution_count": 32,
   "id": "b50c2dae",
   "metadata": {
    "execution": {
     "iopub.execute_input": "2022-06-29T08:37:14.891807Z",
     "iopub.status.busy": "2022-06-29T08:37:14.891211Z",
     "iopub.status.idle": "2022-06-29T08:37:14.908757Z",
     "shell.execute_reply": "2022-06-29T08:37:14.907297Z"
    },
    "papermill": {
     "duration": 0.05059,
     "end_time": "2022-06-29T08:37:14.911012",
     "exception": false,
     "start_time": "2022-06-29T08:37:14.860422",
     "status": "completed"
    },
    "tags": []
   },
   "outputs": [
    {
     "name": "stdout",
     "output_type": "stream",
     "text": [
      "Namita Thapar's Total Investments 24\n",
      "Investment amount by Namita 6.8 crores\n",
      "\n",
      "Equity received by Namita 140.78 % in different companies\n",
      "\n",
      "Debt/loan amount by Namita 0.25 crores\n",
      "\n",
      "--------------------------------------------------------------------------------\n",
      "              Startup Name        Industry  Namita Investment Amount\n",
      "11                  Bummer  Beauty/Fashion                 37.500000\n",
      "15         Skippi Ice Pops            Food                 20.000000\n",
      "16            Menstrupedia       Education                 50.000000\n",
      "24                   Altor   Manufacturing                 25.000000\n",
      "27                 Nuutjob  Beauty/Fashion                  8.330000\n",
      "32                   Farda  Beauty/Fashion                 15.000000\n",
      "33                    Auli  Beauty/Fashion                 75.000000\n",
      "36                   Annie       Education                 35.000000\n",
      "39       The Renal Project         Medical                 50.000000\n",
      "44                 Cocofit            Food                  0.000016\n",
      "47            Beyond Water            Food                 37.500000\n",
      "49   Find Your Kicks India  Beauty/Fashion                 10.000000\n",
      "50           Aas Vidyalaya       Education                 50.000000\n",
      "58                 WeSTOCK     Animal/Pets                 15.000000\n",
      "63                IN A CAN            Food                 20.000000\n",
      "79     Sunfox Technologies         Medical                 20.000000\n",
      "83             Rare Planet   Manufacturing                 65.000000\n",
      "85      Watt Technovations         Medical                  0.000253\n",
      "91             Wakao Foods            Food                 25.000000\n",
      "95            Kabaddi Adda          Sports                 40.000000\n",
      "106    Colour Me Mad - CMM  Beauty/Fashion                 40.000000\n",
      "110     Nomad Food Project            Food                 10.000000\n",
      "117               SneaKare  Beauty/Fashion                  7.000000\n",
      "119         Store My Goods        Services                 25.000000\n"
     ]
    }
   ],
   "source": [
    "print(\"Namita Thapar's Total Investments\", shark_tank[shark_tank['Namita Investment Amount']>0][['Namita Investment Amount']].count().to_string()[-2:])\n",
    "print(\"Investment amount by Namita\", round(shark_tank['Namita Investment Amount'].sum()/100, 2), \"crores\\n\")\n",
    "print(\"Equity received by Namita\", round(shark_tank['Namita Investment Equity'].sum(), 2), \"% in different companies\\n\")\n",
    "print(\"Debt/loan amount by Namita\", round(shark_tank['Namita Debt Amount'].sum()/100, 2), \"crores\\n\")\n",
    "print('-'*80)\n",
    "print(shark_tank.loc[shark_tank['Namita Investment Amount']>0][[\"Startup Name\",\"Industry\",\"Namita Investment Amount\"]])"
   ]
  },
  {
   "cell_type": "code",
   "execution_count": 33,
   "id": "81ee64d0",
   "metadata": {
    "execution": {
     "iopub.execute_input": "2022-06-29T08:37:14.972015Z",
     "iopub.status.busy": "2022-06-29T08:37:14.971116Z",
     "iopub.status.idle": "2022-06-29T08:37:14.988656Z",
     "shell.execute_reply": "2022-06-29T08:37:14.987590Z"
    },
    "papermill": {
     "duration": 0.052163,
     "end_time": "2022-06-29T08:37:14.992369",
     "exception": false,
     "start_time": "2022-06-29T08:37:14.940206",
     "status": "completed"
    },
    "tags": []
   },
   "outputs": [
    {
     "name": "stdout",
     "output_type": "stream",
     "text": [
      "Anupam Mittal's total investments 24\n",
      "Investment amount by Anupam 5.34 crores\n",
      "\n",
      "Equity received by Anupam 166.35 % in different companies\n",
      "\n",
      "Debt/loan amount by Anupam 0.15 crores\n",
      "\n",
      "--------------------------------------------------------------------------------\n",
      "                 Startup Name             Industry  Anupam Investment Amount\n",
      "2         Heart up my Sleeves       Beauty/Fashion                 12.500000\n",
      "9                      Cos IQ       Beauty/Fashion                 25.000000\n",
      "12                Revamp Moto  Electrical Vehicles                 50.000000\n",
      "15            Skippi Ice Pops                 Food                 20.000000\n",
      "22        Vivalyf Innovations              Medical                 28.000000\n",
      "28                   Meatyour                 Food                 10.000000\n",
      "31   ARRCOAT Surface Textures        Manufacturing                 50.000000\n",
      "35                       LOKA           Technology                 13.330000\n",
      "36                      Annie            Education                 35.000000\n",
      "37                 Carragreen        Manufacturing                 25.000000\n",
      "38            The Yarn Bazaar        Manufacturing                 25.000000\n",
      "44                    Cocofit                 Food                  0.000016\n",
      "45               Bamboo India        Manufacturing                 25.000000\n",
      "48                  Let's Try                 Food                 22.500000\n",
      "49      Find Your Kicks India       Beauty/Fashion                 10.000000\n",
      "63                   IN A CAN                 Food                 20.000000\n",
      "66           The Quirky Naari       Beauty/Fashion                 17.500000\n",
      "67             Hair Originals       Beauty/Fashion                 20.000000\n",
      "75               The Sass Bar       Beauty/Fashion                 25.000000\n",
      "78                  PawsIndia          Animal/Pets                 50.000000\n",
      "79        Sunfox Technologies              Medical                 20.000000\n",
      "85         Watt Technovations              Medical                  0.000253\n",
      "108                Tweek Labs               Sports                 20.000000\n",
      "114             Jain Shikanji                 Food                 10.000000\n"
     ]
    }
   ],
   "source": [
    "print(\"Anupam Mittal's total investments\", shark_tank[shark_tank['Anupam Investment Amount']>0][['Anupam Investment Amount']].count().to_string()[-2:])\n",
    "print(\"Investment amount by Anupam\", round(shark_tank['Anupam Investment Amount'].sum()/100, 2), \"crores\\n\")\n",
    "print(\"Equity received by Anupam\", round(shark_tank['Anupam Investment Equity'].sum(), 2), \"% in different companies\\n\")\n",
    "print(\"Debt/loan amount by Anupam\", round(shark_tank['Anupam Debt Amount'].sum()/100, 2), \"crores\\n\")\n",
    "print('-'*80)\n",
    "print(shark_tank.loc[shark_tank['Anupam Investment Amount']>0][[\"Startup Name\",\"Industry\",\"Anupam Investment Amount\"]])"
   ]
  },
  {
   "cell_type": "code",
   "execution_count": 34,
   "id": "c84fba5d",
   "metadata": {
    "execution": {
     "iopub.execute_input": "2022-06-29T08:37:15.054819Z",
     "iopub.status.busy": "2022-06-29T08:37:15.054024Z",
     "iopub.status.idle": "2022-06-29T08:37:15.071192Z",
     "shell.execute_reply": "2022-06-29T08:37:15.069385Z"
    },
    "papermill": {
     "duration": 0.051577,
     "end_time": "2022-06-29T08:37:15.074547",
     "exception": false,
     "start_time": "2022-06-29T08:37:15.022970",
     "status": "completed"
    },
    "tags": []
   },
   "outputs": [
    {
     "name": "stdout",
     "output_type": "stream",
     "text": [
      "Vineeta Singh's total investments 16\n",
      "Investment amount by Vineeta 3.35 crores\n",
      "\n",
      "Equity received by Vineeta 135.53 % in different companies\n",
      "\n",
      "Debt/loan amount by Vineeta 0.3 crores\n",
      "\n",
      "--------------------------------------------------------------------------------\n",
      "            Startup Name             Industry  Vineeta Investment Amount\n",
      "0         BluePine Foods                 Food                      25.00\n",
      "1          Booz Scooters  Electrical Vehicles                      20.00\n",
      "2    Heart up my Sleeves       Beauty/Fashion                      12.50\n",
      "8                   NOCD                 Food                      20.00\n",
      "9                 Cos IQ       Beauty/Fashion                      25.00\n",
      "15       Skippi Ice Pops                 Food                      20.00\n",
      "64            Get-A-Whey                 Food                      33.33\n",
      "66      The Quirky Naari       Beauty/Fashion                      17.50\n",
      "79   Sunfox Technologies              Medical                      20.00\n",
      "88              Humpy A2                 Food                      33.33\n",
      "90   Gold Safe Solutions        Manufacturing                      16.66\n",
      "91           Wakao Foods                 Food                      25.00\n",
      "95          Kabaddi Adda               Sports                      40.00\n",
      "110   Nomad Food Project                 Food                      10.00\n",
      "114        Jain Shikanji                 Food                      10.00\n",
      "117             SneaKare       Beauty/Fashion                       7.00\n"
     ]
    }
   ],
   "source": [
    "print(\"Vineeta Singh's total investments\", shark_tank[shark_tank['Vineeta Investment Amount']>0][['Vineeta Investment Amount']].count().to_string()[-2:])\n",
    "print(\"Investment amount by Vineeta\", round(shark_tank['Vineeta Investment Amount'].sum()/100, 2), \"crores\\n\")\n",
    "print(\"Equity received by Vineeta\", round(shark_tank['Vineeta Investment Equity'].sum(), 2), \"% in different companies\\n\")\n",
    "print(\"Debt/loan amount by Vineeta\", round(shark_tank['Vineeta Debt Amount'].sum()/100, 2), \"crores\\n\")\n",
    "print('-'*80)\n",
    "print(shark_tank.loc[shark_tank['Vineeta Investment Amount']>0][[\"Startup Name\",\"Industry\",\"Vineeta Investment Amount\"]])"
   ]
  },
  {
   "cell_type": "markdown",
   "id": "862b833b",
   "metadata": {
    "papermill": {
     "duration": 0.029767,
     "end_time": "2022-06-29T08:37:15.134847",
     "exception": false,
     "start_time": "2022-06-29T08:37:15.105080",
     "status": "completed"
    },
    "tags": []
   },
   "source": [
    "## Top investments as per Loan Amount"
   ]
  },
  {
   "cell_type": "code",
   "execution_count": 35,
   "id": "34e5a0a5",
   "metadata": {
    "execution": {
     "iopub.execute_input": "2022-06-29T08:37:15.195835Z",
     "iopub.status.busy": "2022-06-29T08:37:15.195406Z",
     "iopub.status.idle": "2022-06-29T08:37:15.340562Z",
     "shell.execute_reply": "2022-06-29T08:37:15.339019Z"
    },
    "papermill": {
     "duration": 0.17941,
     "end_time": "2022-06-29T08:37:15.343878",
     "exception": false,
     "start_time": "2022-06-29T08:37:15.164468",
     "status": "completed"
    },
    "tags": []
   },
   "outputs": [
    {
     "name": "stdout",
     "output_type": "stream",
     "text": [
      "Startup Name\n",
      "Otua               99.0\n",
      "Namhya Foods       50.0\n",
      "Store My Goods     50.0\n",
      "Bamboo India       30.0\n",
      "NOCD               30.0\n",
      "PNT                25.0\n",
      "The State Plate    25.0\n",
      "Sid07 Designs      22.0\n",
      "KG Agrotech        20.0\n",
      "Name: Total Deal Debt, dtype: float64\n"
     ]
    },
    {
     "data": {
      "text/html": [
       "<div>                            <div id=\"4f31b08a-b0c7-47da-8986-f51a52eb863b\" class=\"plotly-graph-div\" style=\"height:525px; width:100%;\"></div>            <script type=\"text/javascript\">                require([\"plotly\"], function(Plotly) {                    window.PLOTLYENV=window.PLOTLYENV || {};                                    if (document.getElementById(\"4f31b08a-b0c7-47da-8986-f51a52eb863b\")) {                    Plotly.newPlot(                        \"4f31b08a-b0c7-47da-8986-f51a52eb863b\",                        [{\"alignmentgroup\":\"True\",\"hovertemplate\":\"Startup Name=%{x}<br>Total Deal Debt=%{text}<extra></extra>\",\"legendgroup\":\"Otua\",\"marker\":{\"color\":\"#636efa\",\"pattern\":{\"shape\":\"\"}},\"name\":\"Otua\",\"offsetgroup\":\"Otua\",\"orientation\":\"v\",\"showlegend\":true,\"text\":[99.0],\"textposition\":\"auto\",\"x\":[\"Otua\"],\"xaxis\":\"x\",\"y\":[99.0],\"yaxis\":\"y\",\"type\":\"bar\"},{\"alignmentgroup\":\"True\",\"hovertemplate\":\"Startup Name=%{x}<br>Total Deal Debt=%{text}<extra></extra>\",\"legendgroup\":\"Namhya Foods\",\"marker\":{\"color\":\"#EF553B\",\"pattern\":{\"shape\":\"\"}},\"name\":\"Namhya Foods\",\"offsetgroup\":\"Namhya Foods\",\"orientation\":\"v\",\"showlegend\":true,\"text\":[50.0],\"textposition\":\"auto\",\"x\":[\"Namhya Foods\"],\"xaxis\":\"x\",\"y\":[50.0],\"yaxis\":\"y\",\"type\":\"bar\"},{\"alignmentgroup\":\"True\",\"hovertemplate\":\"Startup Name=%{x}<br>Total Deal Debt=%{text}<extra></extra>\",\"legendgroup\":\"Store My Goods\",\"marker\":{\"color\":\"#00cc96\",\"pattern\":{\"shape\":\"\"}},\"name\":\"Store My Goods\",\"offsetgroup\":\"Store My Goods\",\"orientation\":\"v\",\"showlegend\":true,\"text\":[50.0],\"textposition\":\"auto\",\"x\":[\"Store My Goods\"],\"xaxis\":\"x\",\"y\":[50.0],\"yaxis\":\"y\",\"type\":\"bar\"},{\"alignmentgroup\":\"True\",\"hovertemplate\":\"Startup Name=%{x}<br>Total Deal Debt=%{text}<extra></extra>\",\"legendgroup\":\"NOCD\",\"marker\":{\"color\":\"#ab63fa\",\"pattern\":{\"shape\":\"\"}},\"name\":\"NOCD\",\"offsetgroup\":\"NOCD\",\"orientation\":\"v\",\"showlegend\":true,\"text\":[30.0],\"textposition\":\"auto\",\"x\":[\"NOCD\"],\"xaxis\":\"x\",\"y\":[30.0],\"yaxis\":\"y\",\"type\":\"bar\"},{\"alignmentgroup\":\"True\",\"hovertemplate\":\"Startup Name=%{x}<br>Total Deal Debt=%{text}<extra></extra>\",\"legendgroup\":\"Bamboo India\",\"marker\":{\"color\":\"#FFA15A\",\"pattern\":{\"shape\":\"\"}},\"name\":\"Bamboo India\",\"offsetgroup\":\"Bamboo India\",\"orientation\":\"v\",\"showlegend\":true,\"text\":[30.0],\"textposition\":\"auto\",\"x\":[\"Bamboo India\"],\"xaxis\":\"x\",\"y\":[30.0],\"yaxis\":\"y\",\"type\":\"bar\"},{\"alignmentgroup\":\"True\",\"hovertemplate\":\"Startup Name=%{x}<br>Total Deal Debt=%{text}<extra></extra>\",\"legendgroup\":\"PNT\",\"marker\":{\"color\":\"#19d3f3\",\"pattern\":{\"shape\":\"\"}},\"name\":\"PNT\",\"offsetgroup\":\"PNT\",\"orientation\":\"v\",\"showlegend\":true,\"text\":[25.0],\"textposition\":\"auto\",\"x\":[\"PNT\"],\"xaxis\":\"x\",\"y\":[25.0],\"yaxis\":\"y\",\"type\":\"bar\"},{\"alignmentgroup\":\"True\",\"hovertemplate\":\"Startup Name=%{x}<br>Total Deal Debt=%{text}<extra></extra>\",\"legendgroup\":\"The State Plate\",\"marker\":{\"color\":\"#FF6692\",\"pattern\":{\"shape\":\"\"}},\"name\":\"The State Plate\",\"offsetgroup\":\"The State Plate\",\"orientation\":\"v\",\"showlegend\":true,\"text\":[25.0],\"textposition\":\"auto\",\"x\":[\"The State Plate\"],\"xaxis\":\"x\",\"y\":[25.0],\"yaxis\":\"y\",\"type\":\"bar\"},{\"alignmentgroup\":\"True\",\"hovertemplate\":\"Startup Name=%{x}<br>Total Deal Debt=%{text}<extra></extra>\",\"legendgroup\":\"Sid07 Designs\",\"marker\":{\"color\":\"#B6E880\",\"pattern\":{\"shape\":\"\"}},\"name\":\"Sid07 Designs\",\"offsetgroup\":\"Sid07 Designs\",\"orientation\":\"v\",\"showlegend\":true,\"text\":[22.0],\"textposition\":\"auto\",\"x\":[\"Sid07 Designs\"],\"xaxis\":\"x\",\"y\":[22.0],\"yaxis\":\"y\",\"type\":\"bar\"},{\"alignmentgroup\":\"True\",\"hovertemplate\":\"Startup Name=%{x}<br>Total Deal Debt=%{text}<extra></extra>\",\"legendgroup\":\"KG Agrotech\",\"marker\":{\"color\":\"#FF97FF\",\"pattern\":{\"shape\":\"\"}},\"name\":\"KG Agrotech\",\"offsetgroup\":\"KG Agrotech\",\"orientation\":\"v\",\"showlegend\":true,\"text\":[20.0],\"textposition\":\"auto\",\"x\":[\"KG Agrotech\"],\"xaxis\":\"x\",\"y\":[20.0],\"yaxis\":\"y\",\"type\":\"bar\"},{\"alignmentgroup\":\"True\",\"hovertemplate\":\"Startup Name=%{x}<br>Total Deal Debt=%{text}<extra></extra>\",\"legendgroup\":\"BluePine Foods\",\"marker\":{\"color\":\"#FECB52\",\"pattern\":{\"shape\":\"\"}},\"name\":\"BluePine Foods\",\"offsetgroup\":\"BluePine Foods\",\"orientation\":\"v\",\"showlegend\":true,\"text\":[null],\"textposition\":\"auto\",\"x\":[\"BluePine Foods\"],\"xaxis\":\"x\",\"y\":[null],\"yaxis\":\"y\",\"type\":\"bar\"},{\"alignmentgroup\":\"True\",\"hovertemplate\":\"Startup Name=%{x}<br>Total Deal Debt=%{text}<extra></extra>\",\"legendgroup\":\"Booz Scooters\",\"marker\":{\"color\":\"#636efa\",\"pattern\":{\"shape\":\"\"}},\"name\":\"Booz Scooters\",\"offsetgroup\":\"Booz Scooters\",\"orientation\":\"v\",\"showlegend\":true,\"text\":[null],\"textposition\":\"auto\",\"x\":[\"Booz Scooters\"],\"xaxis\":\"x\",\"y\":[null],\"yaxis\":\"y\",\"type\":\"bar\"},{\"alignmentgroup\":\"True\",\"hovertemplate\":\"Startup Name=%{x}<br>Total Deal Debt=%{text}<extra></extra>\",\"legendgroup\":\"Heart up my Sleeves\",\"marker\":{\"color\":\"#EF553B\",\"pattern\":{\"shape\":\"\"}},\"name\":\"Heart up my Sleeves\",\"offsetgroup\":\"Heart up my Sleeves\",\"orientation\":\"v\",\"showlegend\":true,\"text\":[null],\"textposition\":\"auto\",\"x\":[\"Heart up my Sleeves\"],\"xaxis\":\"x\",\"y\":[null],\"yaxis\":\"y\",\"type\":\"bar\"},{\"alignmentgroup\":\"True\",\"hovertemplate\":\"Startup Name=%{x}<br>Total Deal Debt=%{text}<extra></extra>\",\"legendgroup\":\"Tagz Foods\",\"marker\":{\"color\":\"#00cc96\",\"pattern\":{\"shape\":\"\"}},\"name\":\"Tagz Foods\",\"offsetgroup\":\"Tagz Foods\",\"orientation\":\"v\",\"showlegend\":true,\"text\":[null],\"textposition\":\"auto\",\"x\":[\"Tagz Foods\"],\"xaxis\":\"x\",\"y\":[null],\"yaxis\":\"y\",\"type\":\"bar\"},{\"alignmentgroup\":\"True\",\"hovertemplate\":\"Startup Name=%{x}<br>Total Deal Debt=%{text}<extra></extra>\",\"legendgroup\":\"Head and Heart\",\"marker\":{\"color\":\"#ab63fa\",\"pattern\":{\"shape\":\"\"}},\"name\":\"Head and Heart\",\"offsetgroup\":\"Head and Heart\",\"orientation\":\"v\",\"showlegend\":true,\"text\":[null],\"textposition\":\"auto\",\"x\":[\"Head and Heart\"],\"xaxis\":\"x\",\"y\":[null],\"yaxis\":\"y\",\"type\":\"bar\"},{\"alignmentgroup\":\"True\",\"hovertemplate\":\"Startup Name=%{x}<br>Total Deal Debt=%{text}<extra></extra>\",\"legendgroup\":\"Agri tourism\",\"marker\":{\"color\":\"#FFA15A\",\"pattern\":{\"shape\":\"\"}},\"name\":\"Agri tourism\",\"offsetgroup\":\"Agri tourism\",\"orientation\":\"v\",\"showlegend\":true,\"text\":[null],\"textposition\":\"auto\",\"x\":[\"Agri tourism\"],\"xaxis\":\"x\",\"y\":[null],\"yaxis\":\"y\",\"type\":\"bar\"}],                        {\"template\":{\"data\":{\"histogram2dcontour\":[{\"type\":\"histogram2dcontour\",\"colorbar\":{\"outlinewidth\":0,\"ticks\":\"\"},\"colorscale\":[[0.0,\"#0d0887\"],[0.1111111111111111,\"#46039f\"],[0.2222222222222222,\"#7201a8\"],[0.3333333333333333,\"#9c179e\"],[0.4444444444444444,\"#bd3786\"],[0.5555555555555556,\"#d8576b\"],[0.6666666666666666,\"#ed7953\"],[0.7777777777777778,\"#fb9f3a\"],[0.8888888888888888,\"#fdca26\"],[1.0,\"#f0f921\"]]}],\"choropleth\":[{\"type\":\"choropleth\",\"colorbar\":{\"outlinewidth\":0,\"ticks\":\"\"}}],\"histogram2d\":[{\"type\":\"histogram2d\",\"colorbar\":{\"outlinewidth\":0,\"ticks\":\"\"},\"colorscale\":[[0.0,\"#0d0887\"],[0.1111111111111111,\"#46039f\"],[0.2222222222222222,\"#7201a8\"],[0.3333333333333333,\"#9c179e\"],[0.4444444444444444,\"#bd3786\"],[0.5555555555555556,\"#d8576b\"],[0.6666666666666666,\"#ed7953\"],[0.7777777777777778,\"#fb9f3a\"],[0.8888888888888888,\"#fdca26\"],[1.0,\"#f0f921\"]]}],\"heatmap\":[{\"type\":\"heatmap\",\"colorbar\":{\"outlinewidth\":0,\"ticks\":\"\"},\"colorscale\":[[0.0,\"#0d0887\"],[0.1111111111111111,\"#46039f\"],[0.2222222222222222,\"#7201a8\"],[0.3333333333333333,\"#9c179e\"],[0.4444444444444444,\"#bd3786\"],[0.5555555555555556,\"#d8576b\"],[0.6666666666666666,\"#ed7953\"],[0.7777777777777778,\"#fb9f3a\"],[0.8888888888888888,\"#fdca26\"],[1.0,\"#f0f921\"]]}],\"heatmapgl\":[{\"type\":\"heatmapgl\",\"colorbar\":{\"outlinewidth\":0,\"ticks\":\"\"},\"colorscale\":[[0.0,\"#0d0887\"],[0.1111111111111111,\"#46039f\"],[0.2222222222222222,\"#7201a8\"],[0.3333333333333333,\"#9c179e\"],[0.4444444444444444,\"#bd3786\"],[0.5555555555555556,\"#d8576b\"],[0.6666666666666666,\"#ed7953\"],[0.7777777777777778,\"#fb9f3a\"],[0.8888888888888888,\"#fdca26\"],[1.0,\"#f0f921\"]]}],\"contourcarpet\":[{\"type\":\"contourcarpet\",\"colorbar\":{\"outlinewidth\":0,\"ticks\":\"\"}}],\"contour\":[{\"type\":\"contour\",\"colorbar\":{\"outlinewidth\":0,\"ticks\":\"\"},\"colorscale\":[[0.0,\"#0d0887\"],[0.1111111111111111,\"#46039f\"],[0.2222222222222222,\"#7201a8\"],[0.3333333333333333,\"#9c179e\"],[0.4444444444444444,\"#bd3786\"],[0.5555555555555556,\"#d8576b\"],[0.6666666666666666,\"#ed7953\"],[0.7777777777777778,\"#fb9f3a\"],[0.8888888888888888,\"#fdca26\"],[1.0,\"#f0f921\"]]}],\"surface\":[{\"type\":\"surface\",\"colorbar\":{\"outlinewidth\":0,\"ticks\":\"\"},\"colorscale\":[[0.0,\"#0d0887\"],[0.1111111111111111,\"#46039f\"],[0.2222222222222222,\"#7201a8\"],[0.3333333333333333,\"#9c179e\"],[0.4444444444444444,\"#bd3786\"],[0.5555555555555556,\"#d8576b\"],[0.6666666666666666,\"#ed7953\"],[0.7777777777777778,\"#fb9f3a\"],[0.8888888888888888,\"#fdca26\"],[1.0,\"#f0f921\"]]}],\"mesh3d\":[{\"type\":\"mesh3d\",\"colorbar\":{\"outlinewidth\":0,\"ticks\":\"\"}}],\"scatter\":[{\"marker\":{\"line\":{\"color\":\"#283442\"}},\"type\":\"scatter\"}],\"parcoords\":[{\"type\":\"parcoords\",\"line\":{\"colorbar\":{\"outlinewidth\":0,\"ticks\":\"\"}}}],\"scatterpolargl\":[{\"type\":\"scatterpolargl\",\"marker\":{\"colorbar\":{\"outlinewidth\":0,\"ticks\":\"\"}}}],\"bar\":[{\"error_x\":{\"color\":\"#f2f5fa\"},\"error_y\":{\"color\":\"#f2f5fa\"},\"marker\":{\"line\":{\"color\":\"rgb(17,17,17)\",\"width\":0.5},\"pattern\":{\"fillmode\":\"overlay\",\"size\":10,\"solidity\":0.2}},\"type\":\"bar\"}],\"scattergeo\":[{\"type\":\"scattergeo\",\"marker\":{\"colorbar\":{\"outlinewidth\":0,\"ticks\":\"\"}}}],\"scatterpolar\":[{\"type\":\"scatterpolar\",\"marker\":{\"colorbar\":{\"outlinewidth\":0,\"ticks\":\"\"}}}],\"histogram\":[{\"marker\":{\"pattern\":{\"fillmode\":\"overlay\",\"size\":10,\"solidity\":0.2}},\"type\":\"histogram\"}],\"scattergl\":[{\"marker\":{\"line\":{\"color\":\"#283442\"}},\"type\":\"scattergl\"}],\"scatter3d\":[{\"type\":\"scatter3d\",\"line\":{\"colorbar\":{\"outlinewidth\":0,\"ticks\":\"\"}},\"marker\":{\"colorbar\":{\"outlinewidth\":0,\"ticks\":\"\"}}}],\"scattermapbox\":[{\"type\":\"scattermapbox\",\"marker\":{\"colorbar\":{\"outlinewidth\":0,\"ticks\":\"\"}}}],\"scatterternary\":[{\"type\":\"scatterternary\",\"marker\":{\"colorbar\":{\"outlinewidth\":0,\"ticks\":\"\"}}}],\"scattercarpet\":[{\"type\":\"scattercarpet\",\"marker\":{\"colorbar\":{\"outlinewidth\":0,\"ticks\":\"\"}}}],\"carpet\":[{\"aaxis\":{\"endlinecolor\":\"#A2B1C6\",\"gridcolor\":\"#506784\",\"linecolor\":\"#506784\",\"minorgridcolor\":\"#506784\",\"startlinecolor\":\"#A2B1C6\"},\"baxis\":{\"endlinecolor\":\"#A2B1C6\",\"gridcolor\":\"#506784\",\"linecolor\":\"#506784\",\"minorgridcolor\":\"#506784\",\"startlinecolor\":\"#A2B1C6\"},\"type\":\"carpet\"}],\"table\":[{\"cells\":{\"fill\":{\"color\":\"#506784\"},\"line\":{\"color\":\"rgb(17,17,17)\"}},\"header\":{\"fill\":{\"color\":\"#2a3f5f\"},\"line\":{\"color\":\"rgb(17,17,17)\"}},\"type\":\"table\"}],\"barpolar\":[{\"marker\":{\"line\":{\"color\":\"rgb(17,17,17)\",\"width\":0.5},\"pattern\":{\"fillmode\":\"overlay\",\"size\":10,\"solidity\":0.2}},\"type\":\"barpolar\"}],\"pie\":[{\"automargin\":true,\"type\":\"pie\"}]},\"layout\":{\"autotypenumbers\":\"strict\",\"colorway\":[\"#636efa\",\"#EF553B\",\"#00cc96\",\"#ab63fa\",\"#FFA15A\",\"#19d3f3\",\"#FF6692\",\"#B6E880\",\"#FF97FF\",\"#FECB52\"],\"font\":{\"color\":\"#f2f5fa\"},\"hovermode\":\"closest\",\"hoverlabel\":{\"align\":\"left\"},\"paper_bgcolor\":\"rgb(17,17,17)\",\"plot_bgcolor\":\"rgb(17,17,17)\",\"polar\":{\"bgcolor\":\"rgb(17,17,17)\",\"angularaxis\":{\"gridcolor\":\"#506784\",\"linecolor\":\"#506784\",\"ticks\":\"\"},\"radialaxis\":{\"gridcolor\":\"#506784\",\"linecolor\":\"#506784\",\"ticks\":\"\"}},\"ternary\":{\"bgcolor\":\"rgb(17,17,17)\",\"aaxis\":{\"gridcolor\":\"#506784\",\"linecolor\":\"#506784\",\"ticks\":\"\"},\"baxis\":{\"gridcolor\":\"#506784\",\"linecolor\":\"#506784\",\"ticks\":\"\"},\"caxis\":{\"gridcolor\":\"#506784\",\"linecolor\":\"#506784\",\"ticks\":\"\"}},\"coloraxis\":{\"colorbar\":{\"outlinewidth\":0,\"ticks\":\"\"}},\"colorscale\":{\"sequential\":[[0.0,\"#0d0887\"],[0.1111111111111111,\"#46039f\"],[0.2222222222222222,\"#7201a8\"],[0.3333333333333333,\"#9c179e\"],[0.4444444444444444,\"#bd3786\"],[0.5555555555555556,\"#d8576b\"],[0.6666666666666666,\"#ed7953\"],[0.7777777777777778,\"#fb9f3a\"],[0.8888888888888888,\"#fdca26\"],[1.0,\"#f0f921\"]],\"sequentialminus\":[[0.0,\"#0d0887\"],[0.1111111111111111,\"#46039f\"],[0.2222222222222222,\"#7201a8\"],[0.3333333333333333,\"#9c179e\"],[0.4444444444444444,\"#bd3786\"],[0.5555555555555556,\"#d8576b\"],[0.6666666666666666,\"#ed7953\"],[0.7777777777777778,\"#fb9f3a\"],[0.8888888888888888,\"#fdca26\"],[1.0,\"#f0f921\"]],\"diverging\":[[0,\"#8e0152\"],[0.1,\"#c51b7d\"],[0.2,\"#de77ae\"],[0.3,\"#f1b6da\"],[0.4,\"#fde0ef\"],[0.5,\"#f7f7f7\"],[0.6,\"#e6f5d0\"],[0.7,\"#b8e186\"],[0.8,\"#7fbc41\"],[0.9,\"#4d9221\"],[1,\"#276419\"]]},\"xaxis\":{\"gridcolor\":\"#283442\",\"linecolor\":\"#506784\",\"ticks\":\"\",\"title\":{\"standoff\":15},\"zerolinecolor\":\"#283442\",\"automargin\":true,\"zerolinewidth\":2},\"yaxis\":{\"gridcolor\":\"#283442\",\"linecolor\":\"#506784\",\"ticks\":\"\",\"title\":{\"standoff\":15},\"zerolinecolor\":\"#283442\",\"automargin\":true,\"zerolinewidth\":2},\"scene\":{\"xaxis\":{\"backgroundcolor\":\"rgb(17,17,17)\",\"gridcolor\":\"#506784\",\"linecolor\":\"#506784\",\"showbackground\":true,\"ticks\":\"\",\"zerolinecolor\":\"#C8D4E3\",\"gridwidth\":2},\"yaxis\":{\"backgroundcolor\":\"rgb(17,17,17)\",\"gridcolor\":\"#506784\",\"linecolor\":\"#506784\",\"showbackground\":true,\"ticks\":\"\",\"zerolinecolor\":\"#C8D4E3\",\"gridwidth\":2},\"zaxis\":{\"backgroundcolor\":\"rgb(17,17,17)\",\"gridcolor\":\"#506784\",\"linecolor\":\"#506784\",\"showbackground\":true,\"ticks\":\"\",\"zerolinecolor\":\"#C8D4E3\",\"gridwidth\":2}},\"shapedefaults\":{\"line\":{\"color\":\"#f2f5fa\"}},\"annotationdefaults\":{\"arrowcolor\":\"#f2f5fa\",\"arrowhead\":0,\"arrowwidth\":1},\"geo\":{\"bgcolor\":\"rgb(17,17,17)\",\"landcolor\":\"rgb(17,17,17)\",\"subunitcolor\":\"#506784\",\"showland\":true,\"showlakes\":true,\"lakecolor\":\"rgb(17,17,17)\"},\"title\":{\"x\":0.05},\"updatemenudefaults\":{\"bgcolor\":\"#506784\",\"borderwidth\":0},\"sliderdefaults\":{\"bgcolor\":\"#C8D4E3\",\"borderwidth\":1,\"bordercolor\":\"rgb(17,17,17)\",\"tickwidth\":0},\"mapbox\":{\"style\":\"dark\"}}},\"xaxis\":{\"anchor\":\"y\",\"domain\":[0.0,1.0],\"title\":{\"text\":\"Startup Name\"},\"categoryorder\":\"array\",\"categoryarray\":[\"Otua\",\"Namhya Foods\",\"Store My Goods\",\"NOCD\",\"Bamboo India\",\"PNT\",\"The State Plate\",\"Sid07 Designs\",\"KG Agrotech\",\"BluePine Foods\",\"Booz Scooters\",\"Heart up my Sleeves\",\"Tagz Foods\",\"Head and Heart\",\"Agri tourism\"]},\"yaxis\":{\"anchor\":\"x\",\"domain\":[0.0,1.0],\"title\":{\"text\":\"Total Deal Debt\"}},\"legend\":{\"title\":{\"text\":\"Startup Name\"},\"tracegroupgap\":0},\"title\":{\"text\":\"Highest Investment as per loan amount\"},\"barmode\":\"relative\"},                        {\"responsive\": true}                    ).then(function(){\n",
       "                            \n",
       "var gd = document.getElementById('4f31b08a-b0c7-47da-8986-f51a52eb863b');\n",
       "var x = new MutationObserver(function (mutations, observer) {{\n",
       "        var display = window.getComputedStyle(gd).display;\n",
       "        if (!display || display === 'none') {{\n",
       "            console.log([gd, 'removed!']);\n",
       "            Plotly.purge(gd);\n",
       "            observer.disconnect();\n",
       "        }}\n",
       "}});\n",
       "\n",
       "// Listen for the removal of the full notebook cells\n",
       "var notebookContainer = gd.closest('#notebook-container');\n",
       "if (notebookContainer) {{\n",
       "    x.observe(notebookContainer, {childList: true});\n",
       "}}\n",
       "\n",
       "// Listen for the clearing of the current output cell\n",
       "var outputEl = gd.closest('.output');\n",
       "if (outputEl) {{\n",
       "    x.observe(outputEl, {childList: true});\n",
       "}}\n",
       "\n",
       "                        })                };                });            </script>        </div>"
      ]
     },
     "metadata": {},
     "output_type": "display_data"
    }
   ],
   "source": [
    "print(shark_tank.groupby('Startup Name')['Total Deal Debt'].max().nlargest(15))\n",
    "df1 = shark_tank.sort_values('Total Deal Debt', ascending=False)[0:15]\n",
    "fig = px.bar(df1, x=\"Startup Name\", y='Total Deal Debt', color=\"Startup Name\", title=\"Highest Investment as per loan amount\", text=df1['Total Deal Debt'])\n",
    "fig.show()"
   ]
  },
  {
   "cell_type": "markdown",
   "id": "3e3c8309",
   "metadata": {
    "papermill": {
     "duration": 0.029539,
     "end_time": "2022-06-29T08:37:15.404792",
     "exception": false,
     "start_time": "2022-06-29T08:37:15.375253",
     "status": "completed"
    },
    "tags": []
   },
   "source": [
    "## Total Equity Received By Sharks"
   ]
  },
  {
   "cell_type": "code",
   "execution_count": 36,
   "id": "b640c46d",
   "metadata": {
    "execution": {
     "iopub.execute_input": "2022-06-29T08:37:15.467007Z",
     "iopub.status.busy": "2022-06-29T08:37:15.466599Z",
     "iopub.status.idle": "2022-06-29T08:37:15.707709Z",
     "shell.execute_reply": "2022-06-29T08:37:15.706893Z"
    },
    "papermill": {
     "duration": 0.274794,
     "end_time": "2022-06-29T08:37:15.709700",
     "exception": false,
     "start_time": "2022-06-29T08:37:15.434906",
     "status": "completed"
    },
    "tags": []
   },
   "outputs": [
    {
     "data": {
      "image/png": "[encoded data removed]",
      "text/plain": [
       "<Figure size 720x288 with 1 Axes>"
      ]
     },
     "metadata": {
      "needs_background": "light"
     },
     "output_type": "display_data"
    }
   ],
   "source": [
    "Equity = [shark_tank['Ashneer Investment Equity'].sum(), shark_tank['Namita Investment Equity'].sum(), shark_tank['Anupam Investment Equity'].sum(), shark_tank['Vineeta Investment Equity'].sum(),\n",
    "    shark_tank['Aman Investment Equity'].sum(), shark_tank['Peyush Investment Equity'].sum(), shark_tank['Ghazal Investment Equity'].sum()]\n",
    "df = {'Name':name, 'Total Equity':Equity }\n",
    "plt.figure(figsize=(10,4))\n",
    "plt.bar(df['Name'], df['Total Equity'])\n",
    "plt.xticks(fontsize=15)\n",
    "plt.ylabel(\"Total Equity (in %)\",fontsize=14)\n",
    "for index,d in enumerate(Equity):\n",
    "    plt.text(x=index, y =d+2, s=f\"{round(d,2)}\", ha = 'center', fontdict=dict(fontsize=12))\n",
    "plt.title(\"Total Equity received by Sharks\", fontsize=15)\n",
    "plt.show()"
   ]
  },
  {
   "cell_type": "markdown",
   "id": "3019cb9b",
   "metadata": {
    "papermill": {
     "duration": 0.030119,
     "end_time": "2022-06-29T08:37:15.770419",
     "exception": false,
     "start_time": "2022-06-29T08:37:15.740300",
     "status": "completed"
    },
    "tags": []
   },
   "source": [
    "## Companies who got the same valuation as they requested"
   ]
  },
  {
   "cell_type": "code",
   "execution_count": 37,
   "id": "8f12d149",
   "metadata": {
    "execution": {
     "iopub.execute_input": "2022-06-29T08:37:15.834356Z",
     "iopub.status.busy": "2022-06-29T08:37:15.833693Z",
     "iopub.status.idle": "2022-06-29T08:37:15.845968Z",
     "shell.execute_reply": "2022-06-29T08:37:15.845113Z"
    },
    "papermill": {
     "duration": 0.046814,
     "end_time": "2022-06-29T08:37:15.848015",
     "exception": false,
     "start_time": "2022-06-29T08:37:15.801201",
     "status": "completed"
    },
    "tags": []
   },
   "outputs": [
    {
     "data": {
      "text/html": [
       "<div>\n",
       "<style scoped>\n",
       "    .dataframe tbody tr th:only-of-type {\n",
       "        vertical-align: middle;\n",
       "    }\n",
       "\n",
       "    .dataframe tbody tr th {\n",
       "        vertical-align: top;\n",
       "    }\n",
       "\n",
       "    .dataframe thead th {\n",
       "        text-align: right;\n",
       "    }\n",
       "</style>\n",
       "<table border=\"1\" class=\"dataframe\">\n",
       "  <thead>\n",
       "    <tr style=\"text-align: right;\">\n",
       "      <th></th>\n",
       "      <th>Startup Name</th>\n",
       "      <th>Valuation Requested</th>\n",
       "      <th>Valuation Offered</th>\n",
       "    </tr>\n",
       "  </thead>\n",
       "  <tbody>\n",
       "    <tr>\n",
       "      <th>21</th>\n",
       "      <td>Beyond Snack</td>\n",
       "      <td>2000</td>\n",
       "      <td>2000.0</td>\n",
       "    </tr>\n",
       "    <tr>\n",
       "      <th>44</th>\n",
       "      <td>Cocofit</td>\n",
       "      <td>0</td>\n",
       "      <td>0.0</td>\n",
       "    </tr>\n",
       "    <tr>\n",
       "      <th>85</th>\n",
       "      <td>Watt Technovations</td>\n",
       "      <td>0</td>\n",
       "      <td>0.0</td>\n",
       "    </tr>\n",
       "  </tbody>\n",
       "</table>\n",
       "</div>"
      ],
      "text/plain": [
       "          Startup Name  Valuation Requested  Valuation Offered\n",
       "21        Beyond Snack                 2000             2000.0\n",
       "44             Cocofit                    0                0.0\n",
       "85  Watt Technovations                    0                0.0"
      ]
     },
     "execution_count": 37,
     "metadata": {},
     "output_type": "execute_result"
    }
   ],
   "source": [
    "shark_tank.loc[shark_tank['Valuation Requested'] == shark_tank[\"Valuation Offered\"]][[\"Startup Name\",\"Valuation Requested\",\"Valuation Offered\"]]"
   ]
  },
  {
   "cell_type": "markdown",
   "id": "886d9e38",
   "metadata": {
    "papermill": {
     "duration": 0.030527,
     "end_time": "2022-06-29T08:37:15.909637",
     "exception": false,
     "start_time": "2022-06-29T08:37:15.879110",
     "status": "completed"
    },
    "tags": []
   },
   "source": [
    "## Some companies were on pre-revenue or didn't had any revenue (as of pitching day)"
   ]
  },
  {
   "cell_type": "code",
   "execution_count": 38,
   "id": "48c9257a",
   "metadata": {
    "execution": {
     "iopub.execute_input": "2022-06-29T08:37:15.973273Z",
     "iopub.status.busy": "2022-06-29T08:37:15.972892Z",
     "iopub.status.idle": "2022-06-29T08:37:15.979401Z",
     "shell.execute_reply": "2022-06-29T08:37:15.978663Z"
    },
    "papermill": {
     "duration": 0.041574,
     "end_time": "2022-06-29T08:37:15.982213",
     "exception": false,
     "start_time": "2022-06-29T08:37:15.940639",
     "status": "completed"
    },
    "tags": []
   },
   "outputs": [
    {
     "name": "stdout",
     "output_type": "stream",
     "text": [
      "23        Motion Breeze\n",
      "41      Good Good Piggy\n",
      "82     Julaa Automation\n",
      "97             Scholify\n",
      "99           Sabjikothi\n",
      "113             On2Cook\n",
      "Name: Startup Name, dtype: object\n"
     ]
    }
   ],
   "source": [
    "df2 = shark_tank.loc[shark_tank['Yearly Revenue'] == 0]\n",
    "print(df2['Startup Name'])"
   ]
  },
  {
   "cell_type": "markdown",
   "id": "4c074149",
   "metadata": {
    "papermill": {
     "duration": 0.030122,
     "end_time": "2022-06-29T08:37:16.042775",
     "exception": false,
     "start_time": "2022-06-29T08:37:16.012653",
     "status": "completed"
    },
    "tags": []
   },
   "source": []
  },
  {
   "cell_type": "markdown",
   "id": "504fe5ca",
   "metadata": {
    "papermill": {
     "duration": 0.030911,
     "end_time": "2022-06-29T08:37:16.104310",
     "exception": false,
     "start_time": "2022-06-29T08:37:16.073399",
     "status": "completed"
    },
    "tags": []
   },
   "source": []
  },
  {
   "cell_type": "markdown",
   "id": "8899f71c",
   "metadata": {
    "papermill": {
     "duration": 0.03028,
     "end_time": "2022-06-29T08:37:16.166066",
     "exception": false,
     "start_time": "2022-06-29T08:37:16.135786",
     "status": "completed"
    },
    "tags": []
   },
   "source": []
  },
  {
   "cell_type": "markdown",
   "id": "38eaaaa6",
   "metadata": {
    "papermill": {
     "duration": 0.030093,
     "end_time": "2022-06-29T08:37:16.230513",
     "exception": false,
     "start_time": "2022-06-29T08:37:16.200420",
     "status": "completed"
    },
    "tags": []
   },
   "source": []
  },
  {
   "cell_type": "markdown",
   "id": "362da412",
   "metadata": {
    "papermill": {
     "duration": 0.030022,
     "end_time": "2022-06-29T08:37:16.291502",
     "exception": false,
     "start_time": "2022-06-29T08:37:16.261480",
     "status": "completed"
    },
    "tags": []
   },
   "source": []
  }
 ],
 "metadata": {
  "kernelspec": {
   "display_name": "Python 3",
   "language": "python",
   "name": "python3"
  },
  "language_info": {
   "codemirror_mode": {
    "name": "ipython",
    "version": 3
   },
   "file_extension": ".py",
   "mimetype": "text/x-python",
   "name": "python",
   "nbconvert_exporter": "python",
   "pygments_lexer": "ipython3",
   "version": "3.7.12"
  },
  "papermill": {
   "default_parameters": {},
   "duration": 24.005018,
   "end_time": "2022-06-29T08:37:17.143675",
   "environment_variables": {},
   "exception": null,
   "input_path": "__notebook__.ipynb",
   "output_path": "__notebook__.ipynb",
   "parameters": {},
   "start_time": "2022-06-29T08:36:53.138657",
   "version": "2.3.4"
  }
 },
 "nbformat": 4,
 "nbformat_minor": 5
}
